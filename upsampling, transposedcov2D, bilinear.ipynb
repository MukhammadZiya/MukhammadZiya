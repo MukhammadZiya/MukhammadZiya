{
 "cells": [
  {
   "cell_type": "code",
   "execution_count": 39,
   "id": "ae297ff6",
   "metadata": {},
   "outputs": [
    {
     "data": {
      "text/plain": [
       "torch.Size([1, 1024, 28, 28])"
      ]
     },
     "execution_count": 39,
     "metadata": {},
     "output_type": "execute_result"
    }
   ],
   "source": [
    "import torch\n",
    "in_chs, out_chs, ks = 1, 64, 3, \n",
    "conv_1 = torch.nn.Conv2d(in_channels = in_chs, out_channels = out_chs, kernel_size = ks)\n",
    "conv_2 = torch.nn.Conv2d(in_channels = out_chs, out_channels = out_chs, kernel_size = ks)\n",
    "conv_3 = torch.nn.Conv2d(in_channels = out_chs, out_channels = out_chs*2, kernel_size = ks)\n",
    "conv_4 = torch.nn.Conv2d(in_channels = out_chs*2, out_channels = out_chs*2, kernel_size = ks)\n",
    "conv_5 = torch.nn.Conv2d(in_channels = out_chs*2, out_channels = out_chs*4, kernel_size = ks)\n",
    "conv_6 = torch.nn.Conv2d(in_channels = out_chs*4, out_channels = out_chs*4, kernel_size = ks)\n",
    "conv_7 = torch.nn.Conv2d(in_channels = out_chs*4, out_channels = out_chs*8, kernel_size = ks)\n",
    "conv_8 = torch.nn.Conv2d(in_channels = out_chs*8, out_channels = out_chs*8, kernel_size = ks)\n",
    "conv_9 = torch.nn.Conv2d(in_channels = out_chs*8, out_channels = out_chs*16, kernel_size = ks)\n",
    "conv_10 = torch.nn.Conv2d(in_channels = out_chs*16, out_channels = out_chs*16, kernel_size = ks)\n",
    "\n",
    "mp = torch.nn.MaxPool2d(2, 2)\n",
    "\n",
    "mp = torch.nn.MaxPool2d(2, 2)\n",
    "inp = torch.rand(1, 1, 572, 572)\n",
    "conv_10(conv_9(mp(conv_8(conv_7(mp(conv_6(conv_5(mp(conv_4(conv_3(mp(conv_2(conv_1(inp)))))))))))))).shape"
   ]
  },
  {
   "cell_type": "code",
   "execution_count": 59,
   "id": "1ffd69aa",
   "metadata": {
    "scrolled": true
   },
   "outputs": [
    {
     "data": {
      "text/plain": [
       "torch.Size([1, 3, 20, 20])"
      ]
     },
     "execution_count": 59,
     "metadata": {},
     "output_type": "execute_result"
    }
   ],
   "source": [
    "inp = torch.rand(1, 1, 10, 10)\n",
    "tr_conv = torch.nn.ConvTranspose2d(in_channels = 1, out_channels = 1, kernel_size = 2, stride = 2)\n",
    "nearest = torch.nn.Upsample(scale_factor = 2, mode = \"bilinear\")\n",
    "# tr_conv(inp).shape\n",
    "nearest(inp).shape"
   ]
  },
  {
   "cell_type": "code",
   "execution_count": null,
   "id": "824560e1",
   "metadata": {},
   "outputs": [],
   "source": []
  },
  {
   "cell_type": "code",
   "execution_count": null,
   "id": "0511f49b",
   "metadata": {},
   "outputs": [],
   "source": []
  }
 ],
 "metadata": {
  "kernelspec": {
   "display_name": "my_env",
   "language": "python",
   "name": "my_env"
  },
  "language_info": {
   "codemirror_mode": {
    "name": "ipython",
    "version": 3
   },
   "file_extension": ".py",
   "mimetype": "text/x-python",
   "name": "python",
   "nbconvert_exporter": "python",
   "pygments_lexer": "ipython3",
   "version": "3.9.18"
  }
 },
 "nbformat": 4,
 "nbformat_minor": 5
}
