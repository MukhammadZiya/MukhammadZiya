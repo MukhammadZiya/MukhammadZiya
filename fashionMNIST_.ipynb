{
  "cells": [
    {
      "cell_type": "code",
      "execution_count": 1,
      "metadata": {
        "id": "uxcE1tFTG7Ts"
      },
      "outputs": [],
      "source": [
        "import torch\n",
        "\n",
        "from torchvision.datasets import FashionMNIST"
      ]
    },
    {
      "cell_type": "code",
      "execution_count": 2,
      "metadata": {
        "id": "8WJVpY1IHClR",
        "colab": {
          "base_uri": "https://localhost:8080/"
        },
        "outputId": "ce62f4f5-17d8-49cb-e0e0-f0312eb63785"
      },
      "outputs": [
        {
          "output_type": "stream",
          "name": "stdout",
          "text": [
            "Downloading http://fashion-mnist.s3-website.eu-central-1.amazonaws.com/train-images-idx3-ubyte.gz\n",
            "Downloading http://fashion-mnist.s3-website.eu-central-1.amazonaws.com/train-images-idx3-ubyte.gz to data/FashionMNIST/raw/train-images-idx3-ubyte.gz\n"
          ]
        },
        {
          "output_type": "stream",
          "name": "stderr",
          "text": [
            "100%|██████████| 26421880/26421880 [00:02<00:00, 13099839.92it/s]\n"
          ]
        },
        {
          "output_type": "stream",
          "name": "stdout",
          "text": [
            "Extracting data/FashionMNIST/raw/train-images-idx3-ubyte.gz to data/FashionMNIST/raw\n",
            "\n",
            "Downloading http://fashion-mnist.s3-website.eu-central-1.amazonaws.com/train-labels-idx1-ubyte.gz\n",
            "Downloading http://fashion-mnist.s3-website.eu-central-1.amazonaws.com/train-labels-idx1-ubyte.gz to data/FashionMNIST/raw/train-labels-idx1-ubyte.gz\n"
          ]
        },
        {
          "output_type": "stream",
          "name": "stderr",
          "text": [
            "100%|██████████| 29515/29515 [00:00<00:00, 212796.29it/s]\n"
          ]
        },
        {
          "output_type": "stream",
          "name": "stdout",
          "text": [
            "Extracting data/FashionMNIST/raw/train-labels-idx1-ubyte.gz to data/FashionMNIST/raw\n",
            "\n",
            "Downloading http://fashion-mnist.s3-website.eu-central-1.amazonaws.com/t10k-images-idx3-ubyte.gz\n",
            "Downloading http://fashion-mnist.s3-website.eu-central-1.amazonaws.com/t10k-images-idx3-ubyte.gz to data/FashionMNIST/raw/t10k-images-idx3-ubyte.gz\n"
          ]
        },
        {
          "output_type": "stream",
          "name": "stderr",
          "text": [
            "100%|██████████| 4422102/4422102 [00:01<00:00, 3823448.43it/s]\n"
          ]
        },
        {
          "output_type": "stream",
          "name": "stdout",
          "text": [
            "Extracting data/FashionMNIST/raw/t10k-images-idx3-ubyte.gz to data/FashionMNIST/raw\n",
            "\n",
            "Downloading http://fashion-mnist.s3-website.eu-central-1.amazonaws.com/t10k-labels-idx1-ubyte.gz\n",
            "Downloading http://fashion-mnist.s3-website.eu-central-1.amazonaws.com/t10k-labels-idx1-ubyte.gz to data/FashionMNIST/raw/t10k-labels-idx1-ubyte.gz\n"
          ]
        },
        {
          "output_type": "stream",
          "name": "stderr",
          "text": [
            "100%|██████████| 5148/5148 [00:00<00:00, 15726348.87it/s]\n"
          ]
        },
        {
          "output_type": "stream",
          "name": "stdout",
          "text": [
            "Extracting data/FashionMNIST/raw/t10k-labels-idx1-ubyte.gz to data/FashionMNIST/raw\n",
            "\n"
          ]
        }
      ],
      "source": [
        "ds = FashionMNIST (root = \"data\", train = True, download =True)\n",
        "test_ds =  FashionMNIST ( root = \"data\", train = False, download = True)\n",
        "classes = ['T-shirt/top ' , '1: Trouser',  'Pullover', 'Dress', 'Coat', 'Sandal', 'Shirt', 'Sneaker', 'Bag', 'Ankle boot']"
      ]
    },
    {
      "cell_type": "code",
      "execution_count": 3,
      "metadata": {
        "colab": {
          "base_uri": "https://localhost:8080/"
        },
        "id": "xxi1HpAoHOdX",
        "outputId": "b0cfd28f-4226-4b12-f427-b078b3ccb35d"
      },
      "outputs": [
        {
          "output_type": "stream",
          "name": "stdout",
          "text": [
            " Train datasetda 60000ta rasm bor.\n",
            " Test datasetda 10000ta rasm bor.\n",
            " FashionMNIST datasetida 10ta nom bor.\n"
          ]
        }
      ],
      "source": [
        "print(f\" Train datasetda {len(ds)}ta rasm bor.\")\n",
        "print(f\" Test datasetda {len(test_ds)}ta rasm bor.\")\n",
        "print(f\" FashionMNIST datasetida {len(classes)}ta nom bor.\")"
      ]
    },
    {
      "cell_type": "code",
      "execution_count": 4,
      "metadata": {
        "colab": {
          "base_uri": "https://localhost:8080/"
        },
        "id": "veZWrAf8I9f7",
        "outputId": "ef8af96f-ccc4-4fe8-fd71-e2aa1b424bda"
      },
      "outputs": [
        {
          "output_type": "execute_result",
          "data": {
            "text/plain": [
              "2"
            ]
          },
          "metadata": {},
          "execution_count": 4
        }
      ],
      "source": [
        "data = ds[20000]\n",
        "len(data)"
      ]
    },
    {
      "cell_type": "code",
      "execution_count": 5,
      "metadata": {
        "colab": {
          "base_uri": "https://localhost:8080/"
        },
        "id": "Al5bCT5NV4d5",
        "outputId": "fbb574f4-2cb0-4dde-e056-23f10767f5f9"
      },
      "outputs": [
        {
          "output_type": "execute_result",
          "data": {
            "text/plain": [
              "PIL.Image.Image"
            ]
          },
          "metadata": {},
          "execution_count": 5
        }
      ],
      "source": [
        "type(data[0])\n"
      ]
    },
    {
      "cell_type": "code",
      "execution_count": 6,
      "metadata": {
        "colab": {
          "base_uri": "https://localhost:8080/"
        },
        "id": "cLbxm7MsV5ZH",
        "outputId": "109c17d7-086e-4345-a126-de8c3bd0fd8d"
      },
      "outputs": [
        {
          "output_type": "execute_result",
          "data": {
            "text/plain": [
              "int"
            ]
          },
          "metadata": {},
          "execution_count": 6
        }
      ],
      "source": [
        "type(data[1])"
      ]
    },
    {
      "cell_type": "code",
      "execution_count": 7,
      "metadata": {
        "colab": {
          "base_uri": "https://localhost:8080/"
        },
        "id": "9wUn8_1oV76e",
        "outputId": "e6a4702f-1240-4304-e20b-94ddae3f95ba"
      },
      "outputs": [
        {
          "output_type": "stream",
          "name": "stdout",
          "text": [
            "(28, 28)\n",
            "7\n"
          ]
        }
      ],
      "source": [
        "rasm, raqam = data [0], data[1]\n",
        "print(rasm.size)\n",
        "print(raqam)"
      ]
    },
    {
      "cell_type": "code",
      "execution_count": 8,
      "metadata": {
        "colab": {
          "base_uri": "https://localhost:8080/",
          "height": 45
        },
        "id": "0hzVRUutWBcn",
        "outputId": "1909ba2b-addd-4be4-dd2a-712d2bedb7ae"
      },
      "outputs": [
        {
          "output_type": "display_data",
          "data": {
            "text/plain": [
              "<PIL.Image.Image image mode=L size=28x28>"
            ],
            "image/png": "[encoded data removed]"
          },
          "metadata": {}
        }
      ],
      "source": [
        "display(rasm)"
      ]
    },
    {
      "cell_type": "code",
      "execution_count": 9,
      "metadata": {
        "colab": {
          "base_uri": "https://localhost:8080/"
        },
        "id": "_XOsyPU_Wg8I",
        "outputId": "41e364ef-33d0-4abc-abf7-ab3f1119f135"
      },
      "outputs": [
        {
          "output_type": "execute_result",
          "data": {
            "text/plain": [
              "array([[  0,   0,   0,   0,   0,   0,   0,   0,   0,   0,   0,   0,   0,\n",
              "          0,   0,   0,   0,   0,   0,   0,   0,   0,   0,   0,   0,   0,\n",
              "          0,   0],\n",
              "       [  0,   0,   0,   0,   0,   0,   0,   0,   0,   0,   0,   0,   0,\n",
              "          0,   0,   0,   0,   0,   0,   0,   0,   0,   0,   0,   0,   0,\n",
              "          0,   0],\n",
              "       [  0,   0,   0,   0,   0,   0,   0,   0,   0,   0,   0,   0,   0,\n",
              "          0,   0,   0,   0,   0,   0,   0,   0,   0,   0,   0,   0,   0,\n",
              "          0,   0],\n",
              "       [  0,   0,   0,   0,   0,   0,   0,   0,   0,   0,   0,   0,   0,\n",
              "          0,   0,   0,   0,   0,   0,   0,   0,   0,   0,   0,   0,   0,\n",
              "          0,   0],\n",
              "       [  0,   0,   0,   0,   0,   0,   0,   0,   0,   0,   0,   0,   0,\n",
              "          0,   0,   0,   0,   0,   0,   0,   0,   0,   0,   0,   0,   0,\n",
              "          0,   0],\n",
              "       [  0,   0,   0,   0,   0,   0,   0,   0,   0,   0,   0,   0,   0,\n",
              "          0,   0,   0,   0,   0,   0,   0,   0,   0,   0,   0,   0,   0,\n",
              "          0,   0],\n",
              "       [  0,   0,   0,   0,   0,   0,   0,   0,   0,   0,   0,   0,   0,\n",
              "          0,   0,   0,   0,   0,   0,   0,   0,   0,   0,   0,   0,   0,\n",
              "          0,   0],\n",
              "       [  0,   0,   0,   0,   0,   0,   0,   0,   0,   0,   0,   0,   0,\n",
              "          0,   0,   0,   0,   0,   0,   0,   0,   0,   0,   0,   0,   0,\n",
              "          0,   0],\n",
              "       [  0,   0,   0,   0,   0,   0,   0,   0,   0,   0,   0,   0,   0,\n",
              "          0,   0,   0,   0,   0,   0,   0,   0,   0,   0,   0,   0,   0,\n",
              "          0,   0],\n",
              "       [  0,   0,   0,   0,   0,   0,   0,   0,   0,   0,   0,   3,   0,\n",
              "          0,  36,  67,  56,   0,   0,   3,   0,   0,   0,   0,   0,   0,\n",
              "         40,  27],\n",
              "       [  0,   0,   0,   0,   0,   0,   0,   0,   2,   0,   0,   0,   0,\n",
              "        160, 255, 217, 255,  94,   0,   0,   0,   1,   4,   0,   0,   0,\n",
              "         65,  38],\n",
              "       [  0,   0,   0,   0,   0,   0,   1,   0,   0,   0,   0, 150, 236,\n",
              "        215, 200, 195, 197, 251, 198,  41,   0,   0,   0,   0,   0,  63,\n",
              "        236,  26],\n",
              "       [  0,   2,   1,   0,   0,   0,   0,   0,  66, 167, 242, 216, 204,\n",
              "        190, 191, 201, 199, 197, 213, 255, 196, 122,  96, 122, 186, 206,\n",
              "        227,  63],\n",
              "       [  0,   0,   0,   0,   0,   0,  41, 178, 224, 213, 199, 192, 193,\n",
              "        191, 192, 199, 206, 205, 203, 206, 214, 225, 226, 224, 219, 204,\n",
              "        217, 126],\n",
              "       [  0,  74, 134, 146, 166, 191, 204, 200, 193, 190, 193, 196, 193,\n",
              "        202, 204, 207, 205, 200, 203, 205, 202, 201, 199, 198, 200, 197,\n",
              "        221, 132],\n",
              "       [ 12, 164, 214, 217, 220, 216, 215, 209, 211, 208, 207, 205, 207,\n",
              "        209, 206, 206, 206, 206, 208, 207, 208, 206, 206, 207, 207, 203,\n",
              "        226, 150],\n",
              "       [ 28,   2,   0,  16,  43,  82, 119, 134, 169, 185, 206, 219, 223,\n",
              "        228, 233, 238, 242, 241, 238, 235, 237, 237, 236, 233, 228, 216,\n",
              "        246, 104],\n",
              "       [ 33,  56,  43,  19,   0,   0,   0,   0,   0,   0,   0,   0,   0,\n",
              "          0,   8,  16,  13,  18,  21,  13,  11,  15,  20,  20,  22,  21,\n",
              "         60,  37],\n",
              "       [  0,   1,  13,  41,  75,  81,  68,  67,  57,  47,  38,  38,  32,\n",
              "         35,  38,  35,  37,  41,  37,  36,  38,  40,  47,  53,  61,  79,\n",
              "        114,  63],\n",
              "       [  0,   0,   0,   0,   1,  15,  31,  56,  66,  68,  82,  90,  81,\n",
              "         71,  62,  46,  34,  33,  38,  45,  46,  43,  30,  19,  14,  17,\n",
              "         22,   0],\n",
              "       [  0,   0,   0,   0,   0,   0,   0,   0,   0,   0,   0,   0,   0,\n",
              "          0,   0,   0,   0,   0,   0,   0,   0,   0,   0,   0,   0,   0,\n",
              "          0,   0],\n",
              "       [  0,   0,   0,   0,   0,   0,   0,   0,   0,   0,   0,   0,   0,\n",
              "          0,   0,   0,   0,   0,   0,   0,   0,   0,   0,   0,   0,   0,\n",
              "          0,   0],\n",
              "       [  0,   0,   0,   0,   0,   0,   0,   0,   0,   0,   0,   0,   0,\n",
              "          0,   0,   0,   0,   0,   0,   0,   0,   0,   0,   0,   0,   0,\n",
              "          0,   0],\n",
              "       [  0,   0,   0,   0,   0,   0,   0,   0,   0,   0,   0,   0,   0,\n",
              "          0,   0,   0,   0,   0,   0,   0,   0,   0,   0,   0,   0,   0,\n",
              "          0,   0],\n",
              "       [  0,   0,   0,   0,   0,   0,   0,   0,   0,   0,   0,   0,   0,\n",
              "          0,   0,   0,   0,   0,   0,   0,   0,   0,   0,   0,   0,   0,\n",
              "          0,   0],\n",
              "       [  0,   0,   0,   0,   0,   0,   0,   0,   0,   0,   0,   0,   0,\n",
              "          0,   0,   0,   0,   0,   0,   0,   0,   0,   0,   0,   0,   0,\n",
              "          0,   0],\n",
              "       [  0,   0,   0,   0,   0,   0,   0,   0,   0,   0,   0,   0,   0,\n",
              "          0,   0,   0,   0,   0,   0,   0,   0,   0,   0,   0,   0,   0,\n",
              "          0,   0],\n",
              "       [  0,   0,   0,   0,   0,   0,   0,   0,   0,   0,   0,   0,   0,\n",
              "          0,   0,   0,   0,   0,   0,   0,   0,   0,   0,   0,   0,   0,\n",
              "          0,   0]], dtype=uint8)"
            ]
          },
          "metadata": {},
          "execution_count": 9
        }
      ],
      "source": [
        "import numpy as np\n",
        "rasm_array = np.array(rasm)\n",
        "rasm_array"
      ]
    },
    {
      "cell_type": "code",
      "execution_count": 10,
      "metadata": {
        "colab": {
          "base_uri": "https://localhost:8080/"
        },
        "id": "XosIqgN9XW9T",
        "outputId": "f735a825-62df-4207-ad46-46621d38dd6f"
      },
      "outputs": [
        {
          "output_type": "stream",
          "name": "stdout",
          "text": [
            "Requirement already satisfied: pandas in /usr/local/lib/python3.10/dist-packages (1.5.3)\n",
            "Requirement already satisfied: python-dateutil>=2.8.1 in /usr/local/lib/python3.10/dist-packages (from pandas) (2.8.2)\n",
            "Requirement already satisfied: pytz>=2020.1 in /usr/local/lib/python3.10/dist-packages (from pandas) (2023.3.post1)\n",
            "Requirement already satisfied: numpy>=1.21.0 in /usr/local/lib/python3.10/dist-packages (from pandas) (1.23.5)\n",
            "Requirement already satisfied: six>=1.5 in /usr/local/lib/python3.10/dist-packages (from python-dateutil>=2.8.1->pandas) (1.16.0)\n",
            "Requirement already satisfied: torch in /usr/local/lib/python3.10/dist-packages (2.1.0+cu118)\n",
            "Requirement already satisfied: filelock in /usr/local/lib/python3.10/dist-packages (from torch) (3.12.4)\n",
            "Requirement already satisfied: typing-extensions in /usr/local/lib/python3.10/dist-packages (from torch) (4.5.0)\n",
            "Requirement already satisfied: sympy in /usr/local/lib/python3.10/dist-packages (from torch) (1.12)\n",
            "Requirement already satisfied: networkx in /usr/local/lib/python3.10/dist-packages (from torch) (3.2)\n",
            "Requirement already satisfied: jinja2 in /usr/local/lib/python3.10/dist-packages (from torch) (3.1.2)\n",
            "Requirement already satisfied: fsspec in /usr/local/lib/python3.10/dist-packages (from torch) (2023.6.0)\n",
            "Requirement already satisfied: triton==2.1.0 in /usr/local/lib/python3.10/dist-packages (from torch) (2.1.0)\n",
            "Requirement already satisfied: MarkupSafe>=2.0 in /usr/local/lib/python3.10/dist-packages (from jinja2->torch) (2.1.3)\n",
            "Requirement already satisfied: mpmath>=0.19 in /usr/local/lib/python3.10/dist-packages (from sympy->torch) (1.3.0)\n"
          ]
        }
      ],
      "source": [
        "!pip install pandas\n",
        "!pip install torch\n"
      ]
    },
    {
      "cell_type": "code",
      "execution_count": 11,
      "metadata": {
        "colab": {
          "base_uri": "https://localhost:8080/"
        },
        "id": "P13--bFyX9Lq",
        "outputId": "7449ac74-8aca-4364-a601-887100da49d6"
      },
      "outputs": [
        {
          "output_type": "stream",
          "name": "stdout",
          "text": [
            "Requirement already satisfied: matplotlib in /usr/local/lib/python3.10/dist-packages (3.7.1)\n",
            "Requirement already satisfied: contourpy>=1.0.1 in /usr/local/lib/python3.10/dist-packages (from matplotlib) (1.1.1)\n",
            "Requirement already satisfied: cycler>=0.10 in /usr/local/lib/python3.10/dist-packages (from matplotlib) (0.12.1)\n",
            "Requirement already satisfied: fonttools>=4.22.0 in /usr/local/lib/python3.10/dist-packages (from matplotlib) (4.43.1)\n",
            "Requirement already satisfied: kiwisolver>=1.0.1 in /usr/local/lib/python3.10/dist-packages (from matplotlib) (1.4.5)\n",
            "Requirement already satisfied: numpy>=1.20 in /usr/local/lib/python3.10/dist-packages (from matplotlib) (1.23.5)\n",
            "Requirement already satisfied: packaging>=20.0 in /usr/local/lib/python3.10/dist-packages (from matplotlib) (23.2)\n",
            "Requirement already satisfied: pillow>=6.2.0 in /usr/local/lib/python3.10/dist-packages (from matplotlib) (9.4.0)\n",
            "Requirement already satisfied: pyparsing>=2.3.1 in /usr/local/lib/python3.10/dist-packages (from matplotlib) (3.1.1)\n",
            "Requirement already satisfied: python-dateutil>=2.7 in /usr/local/lib/python3.10/dist-packages (from matplotlib) (2.8.2)\n",
            "Requirement already satisfied: six>=1.5 in /usr/local/lib/python3.10/dist-packages (from python-dateutil>=2.7->matplotlib) (1.16.0)\n"
          ]
        }
      ],
      "source": [
        "!pip install matplotlib"
      ]
    },
    {
      "cell_type": "code",
      "execution_count": 12,
      "metadata": {
        "colab": {
          "base_uri": "https://localhost:8080/",
          "height": 448
        },
        "id": "R1s8H381WsdH",
        "outputId": "f13d367b-d659-4561-e6d0-7e50d457a844"
      },
      "outputs": [
        {
          "output_type": "execute_result",
          "data": {
            "text/plain": [
              "<matplotlib.image.AxesImage at 0x7919ba97aef0>"
            ]
          },
          "metadata": {},
          "execution_count": 12
        },
        {
          "output_type": "display_data",
          "data": {
            "text/plain": [
              "<Figure size 640x480 with 1 Axes>"
            ],
            "image/png": "[encoded data removed]"
          },
          "metadata": {}
        }
      ],
      "source": [
        "from  matplotlib import pyplot as plt\n",
        "plt.imshow(rasm, cmap =\"gray\")"
      ]
    },
    {
      "cell_type": "code",
      "execution_count": 13,
      "metadata": {
        "id": "8N-KImxZY0Bm"
      },
      "outputs": [],
      "source": [
        "from torchvision import transforms as tfs\n",
        "tr_ts = tfs.Compose([tfs.Resize((28,28)),\n",
        "    tfs.Grayscale(num_output_channels=3),\n",
        "                          tfs.ToTensor(),\n",
        "                          tfs.Normalize (0.5, 0.5, 0.5)])\n",
        "\n",
        "test_ts = tr_ts = tfs.Compose([tfs.Resize((28,28)),\n",
        "    tfs.Grayscale(num_output_channels=3),\n",
        "                          tfs.ToTensor(),\n",
        "                          tfs.Normalize (0.5, 0.5, 0.5)])\n",
        "\n",
        "ds = FashionMNIST (root =\"data\", train = True, transform = tr_ts, download = True)\n",
        "test_ds = FashionMNIST (root = \"data\", train = False, transform = test_ts, download = True)\n",
        "classes = ['T-shirt/top ' , '1: Trouser',  'Pullover', 'Dress', 'Coat', 'Sandal', 'Shirt', 'Sneaker', 'Bag', 'Ankle boot']"
      ]
    },
    {
      "cell_type": "code",
      "execution_count": 14,
      "metadata": {
        "colab": {
          "base_uri": "https://localhost:8080/"
        },
        "id": "q3Ph6tqcfG-T",
        "outputId": "4b7ba66b-a3e2-4e38-96fe-eebb100d2080"
      },
      "outputs": [
        {
          "output_type": "execute_result",
          "data": {
            "text/plain": [
              "tensor([-1.0000, -0.9922, -0.9765, -0.9686, -0.9059, -0.8902, -0.8588, -0.7961,\n",
              "        -0.7647, -0.7569, -0.7020, -0.6627, -0.6471, -0.6314, -0.6235, -0.6078,\n",
              "        -0.6000, -0.5765, -0.5451, -0.5216, -0.4824, -0.4510, -0.4353, -0.4275,\n",
              "        -0.4196, -0.4039, -0.3725, -0.3490, -0.3333, -0.3176, -0.3098, -0.2941,\n",
              "        -0.2863, -0.2706, -0.2471, -0.2392, -0.2235, -0.2157, -0.2078, -0.2000,\n",
              "        -0.1922, -0.1765, -0.1686, -0.1608, -0.1529, -0.1451, -0.1294, -0.1216,\n",
              "        -0.1137, -0.1059, -0.0902, -0.0824, -0.0745, -0.0667, -0.0588, -0.0431,\n",
              "        -0.0353, -0.0275, -0.0196, -0.0118,  0.0039,  0.0118,  0.0196,  0.0275,\n",
              "         0.0353,  0.0510,  0.0588,  0.0667,  0.0745,  0.0824,  0.0980,  0.1059,\n",
              "         0.1137,  0.1216,  0.1373,  0.1451,  0.1529,  0.1608,  0.1686,  0.1843,\n",
              "         0.1922,  0.2000,  0.2078,  0.2157,  0.2314,  0.2392,  0.2471,  0.2549,\n",
              "         0.2627,  0.2784,  0.2863,  0.2941,  0.3020,  0.3098,  0.3333,  0.3412,\n",
              "         0.3490,  0.3647,  0.3725,  0.3804,  0.3961,  0.4196,  0.4275,  0.4353,\n",
              "         0.4588,  0.4667,  0.4745,  0.4824,  0.4902,  0.5059,  0.5137,  0.5294,\n",
              "         0.5373,  0.5608,  0.6471,  0.6549,  0.6863,  0.6941,  0.7882,  0.8745,\n",
              "         0.9686,  1.0000])"
            ]
          },
          "metadata": {},
          "execution_count": 14
        }
      ],
      "source": [
        "data = ds[3000]\n",
        "rasm , raqam = data[0], data[1]\n",
        "torch.unique(rasm)"
      ]
    },
    {
      "cell_type": "code",
      "execution_count": 15,
      "metadata": {
        "id": "gqlQ6-KefSWG"
      },
      "outputs": [],
      "source": [
        "import random\n",
        "\n",
        "def tensor_2_im(t, t_type = \"rgb\"):\n",
        "\n",
        "    gray_tfs = tfs.Compose([tfs.Normalize(mean = [ 0.], std = [1/0.5]), tfs.Normalize(mean = [-0.5], std = [1])])\n",
        "    # rgb_tfs = tfs.Compose([tfs.Normalize(mean = [ 0., 0., 0. ], std = [ 1/0.229, 1/0.224, 1/0.225 ]), tfs.Normalize(mean = [ -0.485, -0.456, -0.406 ], std = [ 1., 1., 1. ])])\n",
        "    rgb_tfs = tfs.Compose([tfs.Normalize(mean = [ 0., 0., 0. ], std = [ 1/0.5, 1/0.5, 1/0.5 ]), tfs.Normalize(mean = [ -0.5, -0.5, -0.5 ], std = [ 1., 1., 1. ])])\n",
        "\n",
        "    invTrans = gray_tfs if t_type == \"gray\" else rgb_tfs\n",
        "\n",
        "    return (invTrans(t) * 255).detach().squeeze().cpu().permute(1,2,0).numpy().astype(np.uint8) if t_type == \"gray\" else (invTrans(t) * 255).detach().cpu().permute(1,2,0).numpy().astype(np.uint8)\n",
        "\n",
        "\n",
        "def visualize(data, rasmlar_soni, qatorlar, cmap = None, klass_nomlari = None):\n",
        "\n",
        "    assert cmap in [\"rgb\", \"gray\"], \"Rasmni oq-qora yoki rangli ekanini aniqlashtirib bering!\"\n",
        "    if cmap == \"rgb\": cmap = \"viridis\"\n",
        "\n",
        "    plt.figure(figsize = (20, 10))\n",
        "    indekslar = [random.randint(0, len(data) - 1) for _ in range(rasmlar_soni)]\n",
        "    for idx, indeks in enumerate(indekslar):\n",
        "\n",
        "        im, gt = data[indeks]\n",
        "        # Start plot\n",
        "        plt.subplot(qatorlar, rasmlar_soni // qatorlar, idx + 1)\n",
        "        if cmap:\n",
        "            plt.imshow(tensor_2_im(im, cmap), cmap=cmap)\n",
        "        else:\n",
        "            plt.imshow(tensor_2_im(im))\n",
        "        plt.axis('off')\n",
        "        if klass_nomlari is not None:\n",
        "            plt.title (klass_nomlari[gt])\n",
        "        else:\n",
        "            plt.title(f\"GT -> {gt}\")"
      ]
    },
    {
      "cell_type": "code",
      "execution_count": 16,
      "metadata": {
        "colab": {
          "base_uri": "https://localhost:8080/",
          "height": 578
        },
        "id": "22DrdcB3fZ6j",
        "outputId": "9a3bfab2-c0d3-45d5-80a6-989d37ff4bff"
      },
      "outputs": [
        {
          "output_type": "display_data",
          "data": {
            "text/plain": [
              "<Figure size 2000x1000 with 24 Axes>"
            ],
            "image/png": "[encoded data removed]"
          },
          "metadata": {}
        }
      ],
      "source": [
        "visualize (data = ds, rasmlar_soni =24, qatorlar = 4, cmap = \"gray\", klass_nomlari = classes)"
      ]
    },
    {
      "cell_type": "code",
      "execution_count": 17,
      "metadata": {
        "colab": {
          "base_uri": "https://localhost:8080/"
        },
        "id": "DjfHcjAfgPHJ",
        "outputId": "6e2d2395-db7a-470e-f6f4-cf154af5df9c"
      },
      "outputs": [
        {
          "output_type": "stream",
          "name": "stdout",
          "text": [
            "Train datasetda 42000 ta batch bor.\n",
            "Validation datasetda 18000 ta batch bor.\n",
            "Train datasetda 10000 ta batch bor.\n"
          ]
        }
      ],
      "source": [
        "from torch.utils.data import random_split, DataLoader\n",
        "\n",
        "tr_length = int(len(ds) * 0.7)\n",
        "tr_ds , val_ds = random_split(dataset=ds, lengths= [tr_length, len(ds) - tr_length])\n",
        "print(f\"Train datasetda {len(tr_ds)} ta batch bor.\")\n",
        "print(f\"Validation datasetda {len(val_ds)} ta batch bor.\")\n",
        "print(f\"Train datasetda {len(test_ds)} ta batch bor.\")"
      ]
    },
    {
      "cell_type": "code",
      "execution_count": 18,
      "metadata": {
        "colab": {
          "base_uri": "https://localhost:8080/"
        },
        "id": "esw8HbA9hzlQ",
        "outputId": "bcc5e512-1c1b-4ce9-abd8-c92bb9ef6a91"
      },
      "outputs": [
        {
          "output_type": "stream",
          "name": "stdout",
          "text": [
            "Train dataloader 329ta batch bor.\n",
            "Validation dataloaderda 141ta batch bor.\n",
            "Test dataloaderda 79ta batch bor.\n"
          ]
        },
        {
          "output_type": "stream",
          "name": "stderr",
          "text": [
            "/usr/local/lib/python3.10/dist-packages/torch/utils/data/dataloader.py:557: UserWarning: This DataLoader will create 4 worker processes in total. Our suggested max number of worker in current system is 2, which is smaller than what this DataLoader is going to create. Please be aware that excessive worker creation might get DataLoader running slow or even freeze, lower the worker number to avoid potential slowness/freeze if necessary.\n",
            "  warnings.warn(_create_warning_msg(\n"
          ]
        }
      ],
      "source": [
        "bs = 128\n",
        "tr_dl = DataLoader(dataset =tr_ds, batch_size = bs, shuffle =True, num_workers = 4, drop_last= False)\n",
        "val_dl = DataLoader (dataset = val_ds, batch_size =bs, shuffle =False, num_workers = 4)\n",
        "test_dl = DataLoader (dataset = test_ds, batch_size = bs, shuffle =False, num_workers = 4)\n",
        "print(f\"Train dataloader {len(tr_dl)}ta batch bor.\")\n",
        "print(f\"Validation dataloaderda {len(val_dl)}ta batch bor.\")\n",
        "print(f\"Test dataloaderda {len(test_dl)}ta batch bor.\")"
      ]
    },
    {
      "cell_type": "code",
      "execution_count": 19,
      "metadata": {
        "colab": {
          "base_uri": "https://localhost:8080/",
          "height": 696,
          "referenced_widgets": [
            "e48a4a8c5f774837a76fb59c9c567861",
            "0385cd85d8e947a2ba3c267370ec995c",
            "10b107540f9d41faa937d4e7f07e6609",
            "f9dff10344a6431f969d9d4f0b53d8ec",
            "56e1e72714be4e108fa5c732f90eca84",
            "f489d0680bc94830b3c17b79864ed2e5",
            "549626bc40ff4e39aad22f9bf06812ef",
            "09e0d364f75c446593aa0b17984ac95f",
            "23fd3c276bc84d02aef9a456c682e667",
            "a3ea9bf501744cc4a9726035e6976d8b",
            "bae7eeb51f6247838ae12270da5f47d0"
          ]
        },
        "id": "79LjA7sPmyS6",
        "outputId": "9378d63b-793a-4897-8320-e94ef3550e5a"
      },
      "outputs": [
        {
          "output_type": "stream",
          "name": "stdout",
          "text": [
            "Collecting timm\n",
            "  Downloading timm-0.9.10-py3-none-any.whl (2.2 MB)\n",
            "\u001b[2K     \u001b[90m━━━━━━━━━━━━━━━━━━━━━━━━━━━━━━━━━━━━━━━━\u001b[0m \u001b[32m2.2/2.2 MB\u001b[0m \u001b[31m10.3 MB/s\u001b[0m eta \u001b[36m0:00:00\u001b[0m\n",
            "\u001b[?25hRequirement already satisfied: torch>=1.7 in /usr/local/lib/python3.10/dist-packages (from timm) (2.1.0+cu118)\n",
            "Requirement already satisfied: torchvision in /usr/local/lib/python3.10/dist-packages (from timm) (0.16.0+cu118)\n",
            "Requirement already satisfied: pyyaml in /usr/local/lib/python3.10/dist-packages (from timm) (6.0.1)\n",
            "Collecting huggingface-hub (from timm)\n",
            "  Downloading huggingface_hub-0.18.0-py3-none-any.whl (301 kB)\n",
            "\u001b[2K     \u001b[90m━━━━━━━━━━━━━━━━━━━━━━━━━━━━━━━━━━━━━━━━\u001b[0m \u001b[32m302.0/302.0 kB\u001b[0m \u001b[31m18.7 MB/s\u001b[0m eta \u001b[36m0:00:00\u001b[0m\n",
            "\u001b[?25hCollecting safetensors (from timm)\n",
            "  Downloading safetensors-0.4.0-cp310-cp310-manylinux_2_17_x86_64.manylinux2014_x86_64.whl (1.3 MB)\n",
            "\u001b[2K     \u001b[90m━━━━━━━━━━━━━━━━━━━━━━━━━━━━━━━━━━━━━━━━\u001b[0m \u001b[32m1.3/1.3 MB\u001b[0m \u001b[31m21.2 MB/s\u001b[0m eta \u001b[36m0:00:00\u001b[0m\n",
            "\u001b[?25hRequirement already satisfied: filelock in /usr/local/lib/python3.10/dist-packages (from torch>=1.7->timm) (3.12.4)\n",
            "Requirement already satisfied: typing-extensions in /usr/local/lib/python3.10/dist-packages (from torch>=1.7->timm) (4.5.0)\n",
            "Requirement already satisfied: sympy in /usr/local/lib/python3.10/dist-packages (from torch>=1.7->timm) (1.12)\n",
            "Requirement already satisfied: networkx in /usr/local/lib/python3.10/dist-packages (from torch>=1.7->timm) (3.2)\n",
            "Requirement already satisfied: jinja2 in /usr/local/lib/python3.10/dist-packages (from torch>=1.7->timm) (3.1.2)\n",
            "Requirement already satisfied: fsspec in /usr/local/lib/python3.10/dist-packages (from torch>=1.7->timm) (2023.6.0)\n",
            "Requirement already satisfied: triton==2.1.0 in /usr/local/lib/python3.10/dist-packages (from torch>=1.7->timm) (2.1.0)\n",
            "Requirement already satisfied: requests in /usr/local/lib/python3.10/dist-packages (from huggingface-hub->timm) (2.31.0)\n",
            "Requirement already satisfied: tqdm>=4.42.1 in /usr/local/lib/python3.10/dist-packages (from huggingface-hub->timm) (4.66.1)\n",
            "Requirement already satisfied: packaging>=20.9 in /usr/local/lib/python3.10/dist-packages (from huggingface-hub->timm) (23.2)\n",
            "Requirement already satisfied: numpy in /usr/local/lib/python3.10/dist-packages (from torchvision->timm) (1.23.5)\n",
            "Requirement already satisfied: pillow!=8.3.*,>=5.3.0 in /usr/local/lib/python3.10/dist-packages (from torchvision->timm) (9.4.0)\n",
            "Requirement already satisfied: MarkupSafe>=2.0 in /usr/local/lib/python3.10/dist-packages (from jinja2->torch>=1.7->timm) (2.1.3)\n",
            "Requirement already satisfied: charset-normalizer<4,>=2 in /usr/local/lib/python3.10/dist-packages (from requests->huggingface-hub->timm) (3.3.1)\n",
            "Requirement already satisfied: idna<4,>=2.5 in /usr/local/lib/python3.10/dist-packages (from requests->huggingface-hub->timm) (3.4)\n",
            "Requirement already satisfied: urllib3<3,>=1.21.1 in /usr/local/lib/python3.10/dist-packages (from requests->huggingface-hub->timm) (2.0.7)\n",
            "Requirement already satisfied: certifi>=2017.4.17 in /usr/local/lib/python3.10/dist-packages (from requests->huggingface-hub->timm) (2023.7.22)\n",
            "Requirement already satisfied: mpmath>=0.19 in /usr/local/lib/python3.10/dist-packages (from sympy->torch>=1.7->timm) (1.3.0)\n",
            "Installing collected packages: safetensors, huggingface-hub, timm\n",
            "Successfully installed huggingface-hub-0.18.0 safetensors-0.4.0 timm-0.9.10\n"
          ]
        },
        {
          "output_type": "display_data",
          "data": {
            "text/plain": [
              "model.safetensors:   0%|          | 0.00/39.2M [00:00<?, ?B/s]"
            ],
            "application/vnd.jupyter.widget-view+json": {
              "version_major": 2,
              "version_minor": 0,
              "model_id": "e48a4a8c5f774837a76fb59c9c567861"
            }
          },
          "metadata": {}
        },
        {
          "output_type": "execute_result",
          "data": {
            "text/plain": [
              "tensor([[ 4.9495, -8.0686, -0.6593, -3.3146, -0.1385, -7.4340,  3.0108, -0.2685,\n",
              "         -6.5502,  5.6447]], grad_fn=<AddmmBackward0>)"
            ]
          },
          "metadata": {},
          "execution_count": 19
        }
      ],
      "source": [
        "!pip install timm\n",
        "import timm , torch\n",
        "\n",
        "model = timm.create_model(model_name = \"rexnet_150\", pretrained = True, num_classes = len(classes))\n",
        "inp = torch.rand (1, 3, 28, 28)\n",
        "model.eval()\n",
        "model(inp)"
      ]
    },
    {
      "cell_type": "code",
      "execution_count": 20,
      "metadata": {
        "id": "6pov9Zn8nIod"
      },
      "outputs": [],
      "source": [
        "epochs = 2\n",
        "device = \"cpu\"\n",
        "model.to(device)\n",
        "model.train()\n",
        "loss_fn = torch.nn.CrossEntropyLoss()\n",
        "optimizer = torch.optim.Adam(params = model.parameters(), lr = 0.001)"
      ]
    },
    {
      "cell_type": "code",
      "execution_count": 21,
      "metadata": {
        "colab": {
          "base_uri": "https://localhost:8080/"
        },
        "id": "N8BstPoVnmx6",
        "outputId": "ef7344ef-7342-47b6-8742-ba18b37f09d0"
      },
      "outputs": [
        {
          "output_type": "stream",
          "name": "stdout",
          "text": [
            " 1 - epoch jarayonlari boshlandi\n"
          ]
        },
        {
          "output_type": "stream",
          "name": "stderr",
          "text": [
            "/usr/local/lib/python3.10/dist-packages/torch/utils/data/dataloader.py:557: UserWarning: This DataLoader will create 4 worker processes in total. Our suggested max number of worker in current system is 2, which is smaller than what this DataLoader is going to create. Please be aware that excessive worker creation might get DataLoader running slow or even freeze, lower the worker number to avoid potential slowness/freeze if necessary.\n",
            "  warnings.warn(_create_warning_msg(\n",
            "329it [15:48,  2.88s/it]"
          ]
        },
        {
          "output_type": "stream",
          "name": "stdout",
          "text": [
            " 2 - epoch jarayonlari boshlandi\n"
          ]
        },
        {
          "output_type": "stream",
          "name": "stderr",
          "text": [
            "\n",
            "329it [15:20,  2.80s/it]"
          ]
        },
        {
          "output_type": "stream",
          "name": "stdout",
          "text": [
            "\n",
            " ~~~~~~~~~~~~~~~~~~~~~~~~~~~~~~~~~~~~~~~~~~~~~~~~~~~~~~~~~~~~~~~~~~~~~~~~~~~~~~\n",
            "\n",
            "2- epoch train jarayoni natijalari :\n",
            " 2- epochdagi train loss     -> 0.308\n",
            " 2- epochdagi train accuracy     -> 0.896\n"
          ]
        },
        {
          "output_type": "stream",
          "name": "stderr",
          "text": [
            "\n",
            "141it [00:52,  2.69it/s]"
          ]
        },
        {
          "output_type": "stream",
          "name": "stdout",
          "text": [
            "\n",
            " ~~~~~~~~~~~~~~~~~~~~~~~~~~~~~~~~~~~~~~~~~~~~~~~~~~~~~~~~~~~~~~~~~~~~~~~~~~~~~~~~~~~~~\n",
            "\n",
            "2- epoch validation jarayoni natijalari :\n",
            " 2- epochdagi validation loss     -> 0.273\n",
            " 2- epochdagi validation accuracy     -> 0.907\n"
          ]
        },
        {
          "output_type": "stream",
          "name": "stderr",
          "text": [
            "\n"
          ]
        }
      ],
      "source": [
        "from tqdm import tqdm\n",
        "import os\n",
        "\n",
        "best_acc = 0\n",
        "prefix = \"FashionMNIST\"\n",
        "\n",
        "\n",
        "for epoch in range  (epochs):\n",
        "\n",
        "    model.train()\n",
        "    print(f\" {epoch + 1} - epoch jarayonlari boshlandi\")\n",
        "\n",
        "\n",
        "    epoch_loss, epoch_acc, total = 0, 0, 0\n",
        "\n",
        "\n",
        "    for i, batch in tqdm (enumerate(tr_dl)):\n",
        "      rasm, gts = batch\n",
        "      rasm, gts = rasm.to(device), gts.to(device)\n",
        "      total += rasm.shape[0]\n",
        "\n",
        "      preds = model (rasm)\n",
        "      loss = loss_fn(preds , gts)\n",
        "      pred_cls = torch.argmax(preds.data, dim = 1)\n",
        "      epoch_acc += (pred_cls == gts).sum().item()\n",
        "      epoch_loss += loss.item()\n",
        "\n",
        "      optimizer.zero_grad()\n",
        "      loss.backward()\n",
        "      optimizer.step()\n",
        "\n",
        "\n",
        "print(\"\\n ~~~~~~~~~~~~~~~~~~~~~~~~~~~~~~~~~~~~~~~~~~~~~~~~~~~~~~~~~~~~~~~~~~~~~~~~~~~~~~\\n\")\n",
        "print(f\"{epoch +1 }- epoch train jarayoni natijalari :\")\n",
        "print(f\" {epoch +1}- epochdagi train loss     -> {(epoch_loss / len(tr_dl)):.3f}\")\n",
        "print(f\" {epoch +1}- epochdagi train accuracy     -> {(epoch_acc / total):.3f}\")\n",
        "\n",
        "\n",
        "\n",
        "model.eval()\n",
        "with torch.no_grad():\n",
        "   val_epoch_loss, val_epoch_acc, val_total = 0,0,0\n",
        "\n",
        "   for ids, batch in tqdm(enumerate(val_dl)):\n",
        "      rasm, gts = batch\n",
        "      rasm, gts = rasm.to(device), gts.to(device)\n",
        "      val_total += rasm.shape[0]\n",
        "\n",
        "\n",
        "      preds = model (rasm)\n",
        "      loss = loss_fn(preds, gts )\n",
        "      pred_cls = torch.argmax(preds.data, dim = 1)\n",
        "\n",
        "\n",
        "      val_epoch_acc += (pred_cls == gts).sum().item()\n",
        "      val_epoch_loss += loss.item()\n",
        "\n",
        "      val_acc = val_epoch_acc / val_total\n",
        "\n",
        "print(\"\\n ~~~~~~~~~~~~~~~~~~~~~~~~~~~~~~~~~~~~~~~~~~~~~~~~~~~~~~~~~~~~~~~~~~~~~~~~~~~~~~~~~~~~~\\n\")\n",
        "print(f\"{epoch +1 }- epoch validation jarayoni natijalari :\")\n",
        "print(f\" {epoch +1}- epochdagi validation loss     -> {(val_epoch_loss / len(val_dl)):.3f}\")\n",
        "print(f\" {epoch +1}- epochdagi validation accuracy     -> {(val_acc):.3f}\")\n",
        "\n",
        "\n",
        "if val_acc > best_acc:\n",
        "          os.makedirs(\"modellar\", exist_ok=True)\n",
        "          best_acc = val_acc\n",
        "          torch.save(model.state_dict(), f\"modellar/{prefix}_best_model.pth\")\n",
        "\n",
        "\n",
        "\n",
        "\n",
        "\n",
        "\n",
        "\n",
        "\n",
        "\n",
        "\n",
        "\n",
        "\n",
        "\n"
      ]
    },
    {
      "cell_type": "code",
      "execution_count": 22,
      "metadata": {
        "colab": {
          "base_uri": "https://localhost:8080/"
        },
        "id": "z4Yo0v4WogU5",
        "outputId": "29ab2801-66a8-4b3d-e107-44ab3893f198"
      },
      "outputs": [
        {
          "output_type": "stream",
          "name": "stdout",
          "text": [
            "128\n"
          ]
        }
      ],
      "source": [
        "rasm, gts = next(iter(test_dl))\n",
        "\n",
        "\n",
        "model.eval ()\n",
        "preds = []\n",
        "images = []\n",
        "lbls = []\n",
        "\n",
        "for rasm, gt in zip(rasm, gts):\n",
        "  rasm, gt = rasm.to(device), gt.to(device)\n",
        "  pred = model(rasm.unsqueeze(0))\n",
        "  pred_class = torch.argmax(pred, dim =1)\n",
        "  images.append(rasm)\n",
        "  lbls.append(gt)\n",
        "  preds.append(pred_class)\n",
        "print(len(preds))"
      ]
    },
    {
      "cell_type": "code",
      "execution_count": 23,
      "metadata": {
        "id": "qTqYqRnYyGgX"
      },
      "outputs": [],
      "source": [
        "import matplotlib.pyplot as plt\n"
      ]
    },
    {
      "cell_type": "code",
      "execution_count": 24,
      "metadata": {
        "id": "Vnq3BZCLyJ0s"
      },
      "outputs": [],
      "source": [
        "import random\n",
        "\n",
        "def tensor_2_im(t, t_type = \"rgb\"):\n",
        "\n",
        "    gray_tfs = tfs.Compose([tfs.Normalize(mean = [ 0.], std = [1/0.5]), tfs.Normalize(mean = [-0.5], std = [1])])\n",
        "    # rgb_tfs = tfs.Compose([tfs.Normalize(mean = [ 0., 0., 0. ], std = [ 1/0.229, 1/0.224, 1/0.225 ]), tfs.Normalize(mean = [ -0.485, -0.456, -0.406 ], std = [ 1., 1., 1. ])])\n",
        "    rgb_tfs = tfs.Compose([tfs.Normalize(mean = [ 0., 0., 0. ], std = [ 1/0.5, 1/0.5, 1/0.5 ]), tfs.Normalize(mean = [ -0.5, -0.5, -0.5 ], std = [ 1., 1., 1. ])])\n",
        "\n",
        "    invTrans = gray_tfs if t_type == \"gray\" else rgb_tfs\n",
        "\n",
        "    return (invTrans(t) * 255).detach().squeeze().cpu().permute(1,2,0).numpy().astype(np.uint8) if t_type == \"gray\" else (invTrans(t) * 255).detach().cpu().permute(1,2,0).numpy().astype(np.uint8)\n",
        "\n",
        "\n",
        "def visualize(data, rasmlar_soni, qatorlar, cmap = None, klass_nomlari = None):\n",
        "\n",
        "    assert cmap in [ \"gray\"]\n",
        "    if cmap == \"rgb\": cmap = \"viridis\"\n",
        "\n",
        "    plt.figure(figsize = (20, 10))\n",
        "    indekslar = [random.randint(0, len(data) - 1) for _ in range(rasmlar_soni)]\n",
        "    for idx, indeks in enumerate(indekslar):\n",
        "\n",
        "        im, gt = data[indeks]\n",
        "        # Start plot\n",
        "        plt.subplot(qatorlar, rasmlar_soni // qatorlar, idx + 1)\n",
        "        if cmap:\n",
        "            plt.imshow(tensor_2_im(im, cmap), cmap=cmap)\n",
        "        else:\n",
        "            plt.imshow(tensor_2_im(im))\n",
        "        plt.axis('off')\n",
        "        if klass_nomlari is not None:\n",
        "            plt.title (klass_nomlari[gt])\n",
        "        else:\n",
        "            plt.title(f\"GT -> {gt}\")"
      ]
    },
    {
      "cell_type": "code",
      "execution_count": 26,
      "metadata": {
        "colab": {
          "base_uri": "https://localhost:8080/"
        },
        "id": "SbLeBL80yXla",
        "outputId": "fa451cea-82b4-4ce4-8090-2e5b526fa30e"
      },
      "outputs": [
        {
          "output_type": "execute_result",
          "data": {
            "text/plain": [
              "torch.Size([3, 28, 28])"
            ]
          },
          "metadata": {},
          "execution_count": 26
        }
      ],
      "source": [
        "from PIL import Image\n",
        "\n",
        "rasm = Image.open(\"t-shirt.jpg\")\n",
        "test_ts = tfs.Compose([tfs.Resize((28,28)),\n",
        "    tfs.Grayscale(num_output_channels=3),\n",
        "                       tfs.ToTensor(),\n",
        "                       tfs.Normalize(0.5, 0.5)])\n",
        "tensor_im = test_ts(rasm)\n",
        "tensor_im.shape"
      ]
    },
    {
      "cell_type": "code",
      "execution_count": 27,
      "metadata": {
        "colab": {
          "base_uri": "https://localhost:8080/",
          "height": 446
        },
        "id": "W4KIQ1bry1_t",
        "outputId": "35cc0e73-9149-4bc0-c594-f79f6e2fa816"
      },
      "outputs": [
        {
          "output_type": "execute_result",
          "data": {
            "text/plain": [
              "Text(0.5, 1.0, 'T-shirt/top ')"
            ]
          },
          "metadata": {},
          "execution_count": 27
        },
        {
          "output_type": "display_data",
          "data": {
            "text/plain": [
              "<Figure size 640x480 with 1 Axes>"
            ],
            "image/png": "[encoded data removed]"
          },
          "metadata": {}
        }
      ],
      "source": [
        "pred = model(tensor_im.unsqueeze(dim=0))\n",
        "pred_class = torch.argmax(pred, dim = 1)\n",
        "plt.imshow(tensor_2_im(tensor_im, t_type= \"rgb\"))\n",
        "plt.axis('off')\n",
        "plt.title  (classes[pred_class.item()])"
      ]
    },
    {
      "cell_type": "code",
      "execution_count": null,
      "metadata": {
        "id": "ZsFb8EQuzEDn"
      },
      "outputs": [],
      "source": []
    }
  ],
  "metadata": {
    "colab": {
      "provenance": []
    },
    "kernelspec": {
      "display_name": "Python 3",
      "name": "python3"
    },
    "language_info": {
      "name": "python"
    },
    "widgets": {
      "application/vnd.jupyter.widget-state+json": {
        "e48a4a8c5f774837a76fb59c9c567861": {
          "model_module": "@jupyter-widgets/controls",
          "model_name": "HBoxModel",
          "model_module_version": "1.5.0",
          "state": {
            "_dom_classes": [],
            "_model_module": "@jupyter-widgets/controls",
            "_model_module_version": "1.5.0",
            "_model_name": "HBoxModel",
            "_view_count": null,
            "_view_module": "@jupyter-widgets/controls",
            "_view_module_version": "1.5.0",
            "_view_name": "HBoxView",
            "box_style": "",
            "children": [
              "IPY_MODEL_0385cd85d8e947a2ba3c267370ec995c",
              "IPY_MODEL_10b107540f9d41faa937d4e7f07e6609",
              "IPY_MODEL_f9dff10344a6431f969d9d4f0b53d8ec"
            ],
            "layout": "IPY_MODEL_56e1e72714be4e108fa5c732f90eca84"
          }
        },
        "0385cd85d8e947a2ba3c267370ec995c": {
          "model_module": "@jupyter-widgets/controls",
          "model_name": "HTMLModel",
          "model_module_version": "1.5.0",
          "state": {
            "_dom_classes": [],
            "_model_module": "@jupyter-widgets/controls",
            "_model_module_version": "1.5.0",
            "_model_name": "HTMLModel",
            "_view_count": null,
            "_view_module": "@jupyter-widgets/controls",
            "_view_module_version": "1.5.0",
            "_view_name": "HTMLView",
            "description": "",
            "description_tooltip": null,
            "layout": "IPY_MODEL_f489d0680bc94830b3c17b79864ed2e5",
            "placeholder": "​",
            "style": "IPY_MODEL_549626bc40ff4e39aad22f9bf06812ef",
            "value": "model.safetensors: 100%"
          }
        },
        "10b107540f9d41faa937d4e7f07e6609": {
          "model_module": "@jupyter-widgets/controls",
          "model_name": "FloatProgressModel",
          "model_module_version": "1.5.0",
          "state": {
            "_dom_classes": [],
            "_model_module": "@jupyter-widgets/controls",
            "_model_module_version": "1.5.0",
            "_model_name": "FloatProgressModel",
            "_view_count": null,
            "_view_module": "@jupyter-widgets/controls",
            "_view_module_version": "1.5.0",
            "_view_name": "ProgressView",
            "bar_style": "success",
            "description": "",
            "description_tooltip": null,
            "layout": "IPY_MODEL_09e0d364f75c446593aa0b17984ac95f",
            "max": 39203258,
            "min": 0,
            "orientation": "horizontal",
            "style": "IPY_MODEL_23fd3c276bc84d02aef9a456c682e667",
            "value": 39203258
          }
        },
        "f9dff10344a6431f969d9d4f0b53d8ec": {
          "model_module": "@jupyter-widgets/controls",
          "model_name": "HTMLModel",
          "model_module_version": "1.5.0",
          "state": {
            "_dom_classes": [],
            "_model_module": "@jupyter-widgets/controls",
            "_model_module_version": "1.5.0",
            "_model_name": "HTMLModel",
            "_view_count": null,
            "_view_module": "@jupyter-widgets/controls",
            "_view_module_version": "1.5.0",
            "_view_name": "HTMLView",
            "description": "",
            "description_tooltip": null,
            "layout": "IPY_MODEL_a3ea9bf501744cc4a9726035e6976d8b",
            "placeholder": "​",
            "style": "IPY_MODEL_bae7eeb51f6247838ae12270da5f47d0",
            "value": " 39.2M/39.2M [00:00&lt;00:00, 61.4MB/s]"
          }
        },
        "56e1e72714be4e108fa5c732f90eca84": {
          "model_module": "@jupyter-widgets/base",
          "model_name": "LayoutModel",
          "model_module_version": "1.2.0",
          "state": {
            "_model_module": "@jupyter-widgets/base",
            "_model_module_version": "1.2.0",
            "_model_name": "LayoutModel",
            "_view_count": null,
            "_view_module": "@jupyter-widgets/base",
            "_view_module_version": "1.2.0",
            "_view_name": "LayoutView",
            "align_content": null,
            "align_items": null,
            "align_self": null,
            "border": null,
            "bottom": null,
            "display": null,
            "flex": null,
            "flex_flow": null,
            "grid_area": null,
            "grid_auto_columns": null,
            "grid_auto_flow": null,
            "grid_auto_rows": null,
            "grid_column": null,
            "grid_gap": null,
            "grid_row": null,
            "grid_template_areas": null,
            "grid_template_columns": null,
            "grid_template_rows": null,
            "height": null,
            "justify_content": null,
            "justify_items": null,
            "left": null,
            "margin": null,
            "max_height": null,
            "max_width": null,
            "min_height": null,
            "min_width": null,
            "object_fit": null,
            "object_position": null,
            "order": null,
            "overflow": null,
            "overflow_x": null,
            "overflow_y": null,
            "padding": null,
            "right": null,
            "top": null,
            "visibility": null,
            "width": null
          }
        },
        "f489d0680bc94830b3c17b79864ed2e5": {
          "model_module": "@jupyter-widgets/base",
          "model_name": "LayoutModel",
          "model_module_version": "1.2.0",
          "state": {
            "_model_module": "@jupyter-widgets/base",
            "_model_module_version": "1.2.0",
            "_model_name": "LayoutModel",
            "_view_count": null,
            "_view_module": "@jupyter-widgets/base",
            "_view_module_version": "1.2.0",
            "_view_name": "LayoutView",
            "align_content": null,
            "align_items": null,
            "align_self": null,
            "border": null,
            "bottom": null,
            "display": null,
            "flex": null,
            "flex_flow": null,
            "grid_area": null,
            "grid_auto_columns": null,
            "grid_auto_flow": null,
            "grid_auto_rows": null,
            "grid_column": null,
            "grid_gap": null,
            "grid_row": null,
            "grid_template_areas": null,
            "grid_template_columns": null,
            "grid_template_rows": null,
            "height": null,
            "justify_content": null,
            "justify_items": null,
            "left": null,
            "margin": null,
            "max_height": null,
            "max_width": null,
            "min_height": null,
            "min_width": null,
            "object_fit": null,
            "object_position": null,
            "order": null,
            "overflow": null,
            "overflow_x": null,
            "overflow_y": null,
            "padding": null,
            "right": null,
            "top": null,
            "visibility": null,
            "width": null
          }
        },
        "549626bc40ff4e39aad22f9bf06812ef": {
          "model_module": "@jupyter-widgets/controls",
          "model_name": "DescriptionStyleModel",
          "model_module_version": "1.5.0",
          "state": {
            "_model_module": "@jupyter-widgets/controls",
            "_model_module_version": "1.5.0",
            "_model_name": "DescriptionStyleModel",
            "_view_count": null,
            "_view_module": "@jupyter-widgets/base",
            "_view_module_version": "1.2.0",
            "_view_name": "StyleView",
            "description_width": ""
          }
        },
        "09e0d364f75c446593aa0b17984ac95f": {
          "model_module": "@jupyter-widgets/base",
          "model_name": "LayoutModel",
          "model_module_version": "1.2.0",
          "state": {
            "_model_module": "@jupyter-widgets/base",
            "_model_module_version": "1.2.0",
            "_model_name": "LayoutModel",
            "_view_count": null,
            "_view_module": "@jupyter-widgets/base",
            "_view_module_version": "1.2.0",
            "_view_name": "LayoutView",
            "align_content": null,
            "align_items": null,
            "align_self": null,
            "border": null,
            "bottom": null,
            "display": null,
            "flex": null,
            "flex_flow": null,
            "grid_area": null,
            "grid_auto_columns": null,
            "grid_auto_flow": null,
            "grid_auto_rows": null,
            "grid_column": null,
            "grid_gap": null,
            "grid_row": null,
            "grid_template_areas": null,
            "grid_template_columns": null,
            "grid_template_rows": null,
            "height": null,
            "justify_content": null,
            "justify_items": null,
            "left": null,
            "margin": null,
            "max_height": null,
            "max_width": null,
            "min_height": null,
            "min_width": null,
            "object_fit": null,
            "object_position": null,
            "order": null,
            "overflow": null,
            "overflow_x": null,
            "overflow_y": null,
            "padding": null,
            "right": null,
            "top": null,
            "visibility": null,
            "width": null
          }
        },
        "23fd3c276bc84d02aef9a456c682e667": {
          "model_module": "@jupyter-widgets/controls",
          "model_name": "ProgressStyleModel",
          "model_module_version": "1.5.0",
          "state": {
            "_model_module": "@jupyter-widgets/controls",
            "_model_module_version": "1.5.0",
            "_model_name": "ProgressStyleModel",
            "_view_count": null,
            "_view_module": "@jupyter-widgets/base",
            "_view_module_version": "1.2.0",
            "_view_name": "StyleView",
            "bar_color": null,
            "description_width": ""
          }
        },
        "a3ea9bf501744cc4a9726035e6976d8b": {
          "model_module": "@jupyter-widgets/base",
          "model_name": "LayoutModel",
          "model_module_version": "1.2.0",
          "state": {
            "_model_module": "@jupyter-widgets/base",
            "_model_module_version": "1.2.0",
            "_model_name": "LayoutModel",
            "_view_count": null,
            "_view_module": "@jupyter-widgets/base",
            "_view_module_version": "1.2.0",
            "_view_name": "LayoutView",
            "align_content": null,
            "align_items": null,
            "align_self": null,
            "border": null,
            "bottom": null,
            "display": null,
            "flex": null,
            "flex_flow": null,
            "grid_area": null,
            "grid_auto_columns": null,
            "grid_auto_flow": null,
            "grid_auto_rows": null,
            "grid_column": null,
            "grid_gap": null,
            "grid_row": null,
            "grid_template_areas": null,
            "grid_template_columns": null,
            "grid_template_rows": null,
            "height": null,
            "justify_content": null,
            "justify_items": null,
            "left": null,
            "margin": null,
            "max_height": null,
            "max_width": null,
            "min_height": null,
            "min_width": null,
            "object_fit": null,
            "object_position": null,
            "order": null,
            "overflow": null,
            "overflow_x": null,
            "overflow_y": null,
            "padding": null,
            "right": null,
            "top": null,
            "visibility": null,
            "width": null
          }
        },
        "bae7eeb51f6247838ae12270da5f47d0": {
          "model_module": "@jupyter-widgets/controls",
          "model_name": "DescriptionStyleModel",
          "model_module_version": "1.5.0",
          "state": {
            "_model_module": "@jupyter-widgets/controls",
            "_model_module_version": "1.5.0",
            "_model_name": "DescriptionStyleModel",
            "_view_count": null,
            "_view_module": "@jupyter-widgets/base",
            "_view_module_version": "1.2.0",
            "_view_name": "StyleView",
            "description_width": ""
          }
        }
      }
    }
  },
  "nbformat": 4,
  "nbformat_minor": 0
}