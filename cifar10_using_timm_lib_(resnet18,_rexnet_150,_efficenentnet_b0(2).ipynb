{
  "cells": [
    {
      "cell_type": "code",
      "execution_count": 1,
      "metadata": {
        "id": "bjKKYbQMcjKV"
      },
      "outputs": [],
      "source": [
        "import torch\n",
        "from torchvision.datasets import CIFAR10"
      ]
    },
    {
      "cell_type": "code",
      "execution_count": 2,
      "metadata": {
        "colab": {
          "base_uri": "https://localhost:8080/"
        },
        "id": "FyJmGVyHcpuD",
        "outputId": "d8c0a4fe-22a1-4b8c-b96a-106fddfe621b"
      },
      "outputs": [
        {
          "output_type": "stream",
          "name": "stdout",
          "text": [
            "Files already downloaded and verified\n",
            "Files already downloaded and verified\n"
          ]
        }
      ],
      "source": [
        "ds = CIFAR10 (root = \"data\", train =True, download =True)\n",
        "test_ds = CIFAR10 (root= \"data\", train=False, download= True)\n",
        "classes = ['plane', 'car', 'bird', 'cat',\n",
        "           'deer', 'dog', 'frog', 'horse', 'ship', 'truck']"
      ]
    },
    {
      "cell_type": "code",
      "execution_count": 3,
      "metadata": {
        "colab": {
          "base_uri": "https://localhost:8080/"
        },
        "id": "zzikDQxYcwwc",
        "outputId": "768e0a14-6ca1-48c2-a979-0b0f26fe8dba"
      },
      "outputs": [
        {
          "output_type": "stream",
          "name": "stdout",
          "text": [
            " Train datasetda 50000ta rasm bor.\n",
            " Test datasetda 10000ta rasm bor.\n",
            " CIFAR10 datasetida 10ta nom bor.\n"
          ]
        }
      ],
      "source": [
        "print(f\" Train datasetda {len(ds)}ta rasm bor.\")\n",
        "print(f\" Test datasetda {len(test_ds)}ta rasm bor.\")\n",
        "print(f\" CIFAR10 datasetida {len(classes)}ta nom bor.\")\n"
      ]
    },
    {
      "cell_type": "code",
      "execution_count": 4,
      "metadata": {
        "colab": {
          "base_uri": "https://localhost:8080/"
        },
        "id": "wOrWE-4TdIXU",
        "outputId": "8446e8d9-6c70-475e-d3e8-e2cb1b61dad9"
      },
      "outputs": [
        {
          "output_type": "execute_result",
          "data": {
            "text/plain": [
              "2"
            ]
          },
          "metadata": {},
          "execution_count": 4
        }
      ],
      "source": [
        "data = ds[20000]\n",
        "len(data)"
      ]
    },
    {
      "cell_type": "code",
      "execution_count": 5,
      "metadata": {
        "colab": {
          "base_uri": "https://localhost:8080/"
        },
        "id": "NWFg7o-ZdK3b",
        "outputId": "c04e923e-47e2-4c93-f288-3f9cf03d144d"
      },
      "outputs": [
        {
          "output_type": "execute_result",
          "data": {
            "text/plain": [
              "PIL.Image.Image"
            ]
          },
          "metadata": {},
          "execution_count": 5
        }
      ],
      "source": [
        "type(data[0])"
      ]
    },
    {
      "cell_type": "code",
      "execution_count": 6,
      "metadata": {
        "colab": {
          "base_uri": "https://localhost:8080/"
        },
        "id": "u8GDSx22dL8e",
        "outputId": "0a5d5a50-4fff-4a7f-dfb1-0874226e7503"
      },
      "outputs": [
        {
          "output_type": "execute_result",
          "data": {
            "text/plain": [
              "int"
            ]
          },
          "metadata": {},
          "execution_count": 6
        }
      ],
      "source": [
        "type(data[1])"
      ]
    },
    {
      "cell_type": "code",
      "execution_count": 7,
      "metadata": {
        "colab": {
          "base_uri": "https://localhost:8080/"
        },
        "id": "cULrth73dM63",
        "outputId": "b7f298da-7a42-4dc5-ac53-b43b84d699ac"
      },
      "outputs": [
        {
          "output_type": "stream",
          "name": "stdout",
          "text": [
            "(32, 32)\n",
            "8\n"
          ]
        }
      ],
      "source": [
        "rasm, raqam = data[0], data[1]\n",
        "print(rasm.size)\n",
        "print(raqam)"
      ]
    },
    {
      "cell_type": "code",
      "execution_count": 8,
      "metadata": {
        "colab": {
          "base_uri": "https://localhost:8080/",
          "height": 49
        },
        "id": "dd4r6ljwdPBf",
        "outputId": "95713a22-a3ce-4922-918a-3b0efa67179b"
      },
      "outputs": [
        {
          "output_type": "display_data",
          "data": {
            "text/plain": [
              "<PIL.Image.Image image mode=RGB size=32x32>"
            ],
            "image/png": "[encoded data removed]"
          },
          "metadata": {}
        }
      ],
      "source": [
        "display(rasm)"
      ]
    },
    {
      "cell_type": "code",
      "execution_count": 9,
      "metadata": {
        "colab": {
          "base_uri": "https://localhost:8080/"
        },
        "id": "5oaduOtndd-U",
        "outputId": "3439f704-2024-46a2-8458-e530b8609d0e"
      },
      "outputs": [
        {
          "output_type": "execute_result",
          "data": {
            "text/plain": [
              "array([[[ 26,  23,  32],\n",
              "        [ 17,  14,  25],\n",
              "        [ 13,   9,  24],\n",
              "        ...,\n",
              "        [ 15,  14,  28],\n",
              "        [ 24,  24,  37],\n",
              "        [ 22,  21,  34]],\n",
              "\n",
              "       [[ 20,  17,  26],\n",
              "        [ 13,  10,  22],\n",
              "        [ 13,   9,  24],\n",
              "        ...,\n",
              "        [ 19,  17,  35],\n",
              "        [ 21,  20,  35],\n",
              "        [ 29,  29,  39]],\n",
              "\n",
              "       [[ 14,  11,  20],\n",
              "        [ 13,  10,  21],\n",
              "        [ 13,   9,  23],\n",
              "        ...,\n",
              "        [ 17,  16,  32],\n",
              "        [ 25,  24,  38],\n",
              "        [ 31,  31,  42]],\n",
              "\n",
              "       ...,\n",
              "\n",
              "       [[ 90, 109, 137],\n",
              "        [ 34,  64,  95],\n",
              "        [ 28,  54,  90],\n",
              "        ...,\n",
              "        [ 23,  20,  37],\n",
              "        [ 16,  13,  30],\n",
              "        [  9,   6,  23]],\n",
              "\n",
              "       [[ 79, 105, 141],\n",
              "        [ 58,  96, 139],\n",
              "        [ 32,  68, 110],\n",
              "        ...,\n",
              "        [ 14,  11,  28],\n",
              "        [ 16,  13,  30],\n",
              "        [ 10,   7,  24]],\n",
              "\n",
              "       [[128, 157, 196],\n",
              "        [ 58,  93, 149],\n",
              "        [ 25,  60, 106],\n",
              "        ...,\n",
              "        [ 13,  10,  27],\n",
              "        [ 12,   9,  26],\n",
              "        [ 13,  10,  27]]], dtype=uint8)"
            ]
          },
          "metadata": {},
          "execution_count": 9
        }
      ],
      "source": [
        "import numpy as np\n",
        "rasm_array = np.array(rasm)\n",
        "rasm_array"
      ]
    },
    {
      "cell_type": "code",
      "execution_count": 10,
      "metadata": {
        "colab": {
          "base_uri": "https://localhost:8080/",
          "height": 448
        },
        "id": "3Rdx6hUYdfZV",
        "outputId": "486c18f0-c54a-4cf1-842f-603f2bdc71d2"
      },
      "outputs": [
        {
          "output_type": "execute_result",
          "data": {
            "text/plain": [
              "<matplotlib.image.AxesImage at 0x7eb25ecd0e80>"
            ]
          },
          "metadata": {},
          "execution_count": 10
        },
        {
          "output_type": "display_data",
          "data": {
            "text/plain": [
              "<Figure size 640x480 with 1 Axes>"
            ],
            "image/png": "[encoded data removed]"
          },
          "metadata": {}
        }
      ],
      "source": [
        "from matplotlib import pyplot as plt\n",
        "plt.imshow(rasm, cmap = \"gray\" )"
      ]
    },
    {
      "cell_type": "code",
      "execution_count": 11,
      "metadata": {
        "colab": {
          "base_uri": "https://localhost:8080/"
        },
        "id": "_57wMzGgdmkw",
        "outputId": "e3922483-b2ad-4f96-940d-47f759d86e48"
      },
      "outputs": [
        {
          "output_type": "stream",
          "name": "stdout",
          "text": [
            "Files already downloaded and verified\n",
            "Files already downloaded and verified\n"
          ]
        }
      ],
      "source": [
        "from torchvision import transforms as tfs\n",
        "tr_ts = tfs.Compose([tfs.ToTensor(),\n",
        "  tfs.Normalize(0.5, 0.5, 0.5)])\n",
        "\n",
        "\n",
        "\n",
        "test_ts = tfs.Compose([tfs.ToTensor(),\n",
        "                       tfs.Normalize(0.5, 0.5, 0.5)])\n",
        "\n",
        "\n",
        "ds = CIFAR10 (root=\"data\", train= True, transform= tr_ts, download = True)\n",
        "test_ds = CIFAR10(root= \"data\", train= False, transform= test_ts, download=True)\n",
        "\n",
        "classes = ['plane', 'car', 'bird', 'cat',\n",
        "           'deer', 'dog', 'frog', 'horse', 'ship', 'truck']\n"
      ]
    },
    {
      "cell_type": "code",
      "execution_count": 12,
      "metadata": {
        "colab": {
          "base_uri": "https://localhost:8080/"
        },
        "id": "ymFWS8m2dvzD",
        "outputId": "de563e0d-2dd1-41ff-846a-fd780b253814"
      },
      "outputs": [
        {
          "output_type": "execute_result",
          "data": {
            "text/plain": [
              "tensor([-1.0000, -0.9922, -0.9843, -0.9765, -0.9686, -0.9608, -0.9529, -0.9451,\n",
              "        -0.9373, -0.9294, -0.9216, -0.9137, -0.9059, -0.8980, -0.8902, -0.8824,\n",
              "        -0.8745, -0.8667, -0.8588, -0.8510, -0.8431, -0.8353, -0.8275, -0.8196,\n",
              "        -0.8118, -0.8039, -0.7961, -0.7882, -0.7804, -0.7725, -0.7647, -0.7569,\n",
              "        -0.7490, -0.7412, -0.7333, -0.7255, -0.7176, -0.7098, -0.7020, -0.6941,\n",
              "        -0.6863, -0.6784, -0.6706, -0.6627, -0.6549, -0.6471, -0.6392, -0.6314,\n",
              "        -0.6235, -0.6157, -0.6078, -0.6000, -0.5922, -0.5843, -0.5765, -0.5686,\n",
              "        -0.5608, -0.5529, -0.5451, -0.5373, -0.5294, -0.5216, -0.5137, -0.5059,\n",
              "        -0.4980, -0.4902, -0.4824, -0.4745, -0.4667, -0.4588, -0.4510, -0.4431,\n",
              "        -0.4353, -0.4275, -0.4196, -0.4118, -0.4039, -0.3961, -0.3882, -0.3804,\n",
              "        -0.3725, -0.3647, -0.3569, -0.3490, -0.3412, -0.3333, -0.3255, -0.3176,\n",
              "        -0.3098, -0.3020, -0.2941, -0.2863, -0.2784, -0.2706, -0.2627, -0.2549,\n",
              "        -0.2471, -0.2392, -0.2314, -0.2235, -0.2157, -0.2078, -0.2000, -0.1922,\n",
              "        -0.1843, -0.1765, -0.1686, -0.1608, -0.1529, -0.1451, -0.1373, -0.1294,\n",
              "        -0.1216, -0.1137, -0.1059, -0.0980, -0.0902, -0.0824, -0.0745, -0.0667,\n",
              "        -0.0588, -0.0510, -0.0431, -0.0353, -0.0275, -0.0196, -0.0118, -0.0039,\n",
              "         0.0039,  0.0118,  0.0196,  0.0275,  0.0353,  0.0431,  0.0510,  0.0588,\n",
              "         0.0667,  0.0745,  0.0824,  0.0902,  0.0980,  0.1059,  0.1137,  0.1216,\n",
              "         0.1294,  0.1373,  0.1451,  0.1529,  0.1608,  0.1686,  0.1765,  0.1843,\n",
              "         0.1922,  0.2000,  0.2078,  0.2157,  0.2235,  0.2314,  0.2392,  0.2549,\n",
              "         0.2627,  0.2706,  0.2784,  0.2863,  0.2941,  0.3098,  0.3176,  0.3333,\n",
              "         0.3412,  0.3490,  0.3569,  0.3647,  0.3725,  0.3804,  0.3882,  0.3961,\n",
              "         0.4039,  0.4118,  0.4196,  0.4275,  0.4510,  0.4588,  0.4745,  0.4902,\n",
              "         0.5059,  0.5216,  0.5294])"
            ]
          },
          "metadata": {},
          "execution_count": 12
        }
      ],
      "source": [
        "data = ds[5000]\n",
        "rasm, raqam = data[0], data[1]\n",
        "torch.unique(rasm)"
      ]
    },
    {
      "cell_type": "code",
      "execution_count": 13,
      "metadata": {
        "id": "OOF749l_BTc6"
      },
      "outputs": [],
      "source": [
        "import random\n",
        "\n",
        "def tensor_2_im(t, t_type = \"rgb\"):\n",
        "\n",
        "    gray_tfs = tfs.Compose([tfs.Normalize(mean = [ 0.], std = [1/0.5]), tfs.Normalize(mean = [-0.5], std = [1])])\n",
        "    # rgb_tfs = tfs.Compose([tfs.Normalize(mean = [ 0., 0., 0. ], std = [ 1/0.229, 1/0.224, 1/0.225 ]), tfs.Normalize(mean = [ -0.485, -0.456, -0.406 ], std = [ 1., 1., 1. ])])\n",
        "    rgb_tfs = tfs.Compose([tfs.Normalize(mean = [ 0., 0., 0. ], std = [ 1/0.5, 1/0.5, 1/0.5 ]), tfs.Normalize(mean = [ -0.5, -0.5, -0.5 ], std = [ 1., 1., 1. ])])\n",
        "\n",
        "    invTrans = gray_tfs if t_type == \"gray\" else rgb_tfs\n",
        "\n",
        "    return (invTrans(t) * 255).detach().squeeze().cpu().permute(1,2,0).numpy().astype(np.uint8) if t_type == \"gray\" else (invTrans(t) * 255).detach().cpu().permute(1,2,0).numpy().astype(np.uint8)\n",
        "\n",
        "\n",
        "def visualize(data, rasmlar_soni, qatorlar, cmap = None, klass_nomlari = None):\n",
        "\n",
        "    assert cmap in [\"rgb\", \"gray\"], \"Rasmni oq-qora yoki rangli ekanini aniqlashtirib bering!\"\n",
        "    if cmap == \"rgb\": cmap = \"viridis\"\n",
        "\n",
        "    plt.figure(figsize = (20, 10))\n",
        "    indekslar = [random.randint(0, len(data) - 1) for _ in range(rasmlar_soni)]\n",
        "    for idx, indeks in enumerate(indekslar):\n",
        "\n",
        "        im, gt = data[indeks]\n",
        "        # Start plot\n",
        "        plt.subplot(qatorlar, rasmlar_soni // qatorlar, idx + 1)\n",
        "        if cmap:\n",
        "            plt.imshow(tensor_2_im(im, cmap), cmap=cmap)\n",
        "        else:\n",
        "            plt.imshow(tensor_2_im(im))\n",
        "        plt.axis('off')\n",
        "        if klass_nomlari is not None:\n",
        "            plt.title (klass_nomlari[gt])\n",
        "        else:\n",
        "            plt.title(f\"GT -> {gt}\")"
      ]
    },
    {
      "cell_type": "code",
      "execution_count": 14,
      "metadata": {
        "colab": {
          "base_uri": "https://localhost:8080/",
          "height": 829
        },
        "id": "LiMx7QV1dxIt",
        "outputId": "51545a78-7847-4c3d-9d2a-821c046b623d"
      },
      "outputs": [
        {
          "output_type": "display_data",
          "data": {
            "text/plain": [
              "<Figure size 2000x1000 with 30 Axes>"
            ],
            "image/png": "[encoded data removed]"
          },
          "metadata": {}
        }
      ],
      "source": [
        "visualize(data = ds, rasmlar_soni = 30, qatorlar = 5, cmap = 'rgb', klass_nomlari = classes)"
      ]
    },
    {
      "cell_type": "code",
      "execution_count": 15,
      "metadata": {
        "colab": {
          "base_uri": "https://localhost:8080/"
        },
        "id": "x0VdSoxSd1hm",
        "outputId": "39913281-b44e-4998-ae7e-fc6d132318e4"
      },
      "outputs": [
        {
          "output_type": "stream",
          "name": "stdout",
          "text": [
            "Train datasetda 40000 ta batch bor.\n",
            "Validation datasetda 10000 ta batch bor.\n",
            "Train datasetda 10000 ta batch bor.\n"
          ]
        }
      ],
      "source": [
        "from torch.utils.data import random_split, DataLoader\n",
        "\n",
        "tr_length = int(len(ds) * 0.8 )\n",
        "tr_ds, val_ds = random_split(dataset= ds, lengths = [tr_length, len(ds) - tr_length])\n",
        "print(f\"Train datasetda {len(tr_ds)} ta batch bor.\")\n",
        "print(f\"Validation datasetda {len(val_ds)} ta batch bor.\")\n",
        "print(f\"Train datasetda {len(test_ds)} ta batch bor.\")"
      ]
    },
    {
      "cell_type": "code",
      "execution_count": 21,
      "metadata": {
        "colab": {
          "base_uri": "https://localhost:8080/"
        },
        "id": "cNX7Z31ud7IL",
        "outputId": "965c7895-2a9f-4f77-a7b1-c2222ae69e01"
      },
      "outputs": [
        {
          "output_type": "stream",
          "name": "stdout",
          "text": [
            "Train dataloader 313ta batch bor.\n",
            "Validation dataloaderda 79ta batch bor.\n",
            "Test dataloaderda 79ta batch bor.\n"
          ]
        },
        {
          "output_type": "stream",
          "name": "stderr",
          "text": [
            "/usr/local/lib/python3.10/dist-packages/torch/utils/data/dataloader.py:557: UserWarning: This DataLoader will create 4 worker processes in total. Our suggested max number of worker in current system is 2, which is smaller than what this DataLoader is going to create. Please be aware that excessive worker creation might get DataLoader running slow or even freeze, lower the worker number to avoid potential slowness/freeze if necessary.\n",
            "  warnings.warn(_create_warning_msg(\n"
          ]
        }
      ],
      "source": [
        "bs = 128\n",
        "tr_dl = DataLoader(dataset = tr_ds, batch_size = bs, shuffle = True, num_workers = 4, drop_last = False) # cpu lar soni\n",
        "val_dl = DataLoader(dataset = val_ds, batch_size = bs, shuffle = False, num_workers = 4)\n",
        "test_dl = DataLoader(dataset = test_ds, batch_size = bs, shuffle = False, num_workers = 4)\n",
        "print(f\"Train dataloader {len(tr_dl)}ta batch bor.\")\n",
        "print(f\"Validation dataloaderda {len(val_dl)}ta batch bor.\")\n",
        "print(f\"Test dataloaderda {len(test_dl)}ta batch bor.\")"
      ]
    },
    {
      "cell_type": "code",
      "execution_count": 22,
      "metadata": {
        "colab": {
          "base_uri": "https://localhost:8080/"
        },
        "id": "1RtCqZvmd_HT",
        "outputId": "3978ef11-2403-4d08-9e88-f412409ed65d"
      },
      "outputs": [
        {
          "output_type": "stream",
          "name": "stdout",
          "text": [
            "torch.Size([1, 32, 4, 4])\n"
          ]
        },
        {
          "output_type": "execute_result",
          "data": {
            "text/plain": [
              "torch.Size([1, 10])"
            ]
          },
          "metadata": {},
          "execution_count": 22
        }
      ],
      "source": [
        "import torch\n",
        "from torch import nn\n",
        "\n",
        "\n",
        "class Model(nn.Module):\n",
        "\n",
        "\n",
        "\n",
        "    def __init__(self, in_chs, out_chs,in_fs, ks,s, p, n_cls) :\n",
        "        super().__init__()\n",
        "\n",
        "        self.conv_1 = nn.Conv2d(in_channels=in_chs, out_channels = out_chs, kernel_size=ks, stride= s, padding = p)\n",
        "        self.conv_2 = nn.Conv2d(in_channels=out_chs, out_channels = out_chs*2, kernel_size=ks, stride= s, padding = p)\n",
        "        self.conv_3 = nn.Conv2d(in_channels=out_chs*2, out_channels = out_chs*4, kernel_size=ks, stride= s, padding = p)\n",
        "\n",
        "        self.linear_1 = nn.Linear(in_features=in_fs, out_features= in_fs // 2)\n",
        "        self.linear_2 = nn.Linear(in_features=in_fs //2 , out_features= n_cls)\n",
        "        self.act = nn.ReLU()\n",
        "        self.mp = nn.MaxPool2d(kernel_size =2, stride = 2)\n",
        "\n",
        "\n",
        "    def forward(self, inp):\n",
        "\n",
        "      out = self.conv_1(inp)\n",
        "      out = self.act(out)\n",
        "      out = self.mp(out)\n",
        "\n",
        "      out = self.conv_2(out)\n",
        "      out = self.act(out)\n",
        "      out = self.mp(out)\n",
        "\n",
        "      out = self.conv_3(out)\n",
        "      out = self.act(out)\n",
        "      out = self.mp(out)\n",
        "\n",
        "      print(out.shape)\n",
        "\n",
        "      bs= inp.shape[0]\n",
        "      out = out.view(bs, -1)\n",
        "\n",
        "      out= self.linear_1(out)\n",
        "      out = self.act(out)\n",
        "      out = self.linear_2(out)\n",
        "\n",
        "      return out\n",
        "\n",
        "rasm = torch.rand(1, 3, 32, 32)\n",
        "model = Model(in_chs = 3, out_chs=8, in_fs= 512 , ks=3 , s=1, p=1, n_cls=10)\n",
        "model(rasm).shape"
      ]
    },
    {
      "cell_type": "code",
      "execution_count": 41,
      "metadata": {
        "colab": {
          "base_uri": "https://localhost:8080/",
          "height": 529,
          "referenced_widgets": [
            "c396ca3bd974486998463d5df8c3f5a9",
            "060f6232fc47431ca068ce007c0df0cb",
            "630a4902ddae4c2da8f09ee89f6e4a3b",
            "1b2b489a7c434f1ea260c61ce9517c57",
            "9abdae912ee74d5e94c9aea923a6d4da",
            "7711f8383cdc4fbc9e7c3063d82e5208",
            "1db4a12d281745aab4238417efe330cf",
            "b7e2caad04c74bfbb3913978a4d3b4af",
            "70845fc77f0744f38e039ae49ca31085",
            "c817711f99d04a7090b083c179d93c37",
            "2861b740c6084c9eadd1b3a0283360e1"
          ]
        },
        "id": "aUvqVrT_eFCt",
        "outputId": "728ce43d-35ff-4a49-8971-7a08f2e74c02"
      },
      "outputs": [
        {
          "output_type": "stream",
          "name": "stdout",
          "text": [
            "Requirement already satisfied: timm in /usr/local/lib/python3.10/dist-packages (0.9.8)\n",
            "Requirement already satisfied: torch>=1.7 in /usr/local/lib/python3.10/dist-packages (from timm) (2.1.0+cu118)\n",
            "Requirement already satisfied: torchvision in /usr/local/lib/python3.10/dist-packages (from timm) (0.16.0+cu118)\n",
            "Requirement already satisfied: pyyaml in /usr/local/lib/python3.10/dist-packages (from timm) (6.0.1)\n",
            "Requirement already satisfied: huggingface-hub in /usr/local/lib/python3.10/dist-packages (from timm) (0.18.0)\n",
            "Requirement already satisfied: safetensors in /usr/local/lib/python3.10/dist-packages (from timm) (0.4.0)\n",
            "Requirement already satisfied: filelock in /usr/local/lib/python3.10/dist-packages (from torch>=1.7->timm) (3.12.4)\n",
            "Requirement already satisfied: typing-extensions in /usr/local/lib/python3.10/dist-packages (from torch>=1.7->timm) (4.5.0)\n",
            "Requirement already satisfied: sympy in /usr/local/lib/python3.10/dist-packages (from torch>=1.7->timm) (1.12)\n",
            "Requirement already satisfied: networkx in /usr/local/lib/python3.10/dist-packages (from torch>=1.7->timm) (3.2)\n",
            "Requirement already satisfied: jinja2 in /usr/local/lib/python3.10/dist-packages (from torch>=1.7->timm) (3.1.2)\n",
            "Requirement already satisfied: fsspec in /usr/local/lib/python3.10/dist-packages (from torch>=1.7->timm) (2023.6.0)\n",
            "Requirement already satisfied: triton==2.1.0 in /usr/local/lib/python3.10/dist-packages (from torch>=1.7->timm) (2.1.0)\n",
            "Requirement already satisfied: requests in /usr/local/lib/python3.10/dist-packages (from huggingface-hub->timm) (2.31.0)\n",
            "Requirement already satisfied: tqdm>=4.42.1 in /usr/local/lib/python3.10/dist-packages (from huggingface-hub->timm) (4.66.1)\n",
            "Requirement already satisfied: packaging>=20.9 in /usr/local/lib/python3.10/dist-packages (from huggingface-hub->timm) (23.2)\n",
            "Requirement already satisfied: numpy in /usr/local/lib/python3.10/dist-packages (from torchvision->timm) (1.23.5)\n",
            "Requirement already satisfied: pillow!=8.3.*,>=5.3.0 in /usr/local/lib/python3.10/dist-packages (from torchvision->timm) (9.4.0)\n",
            "Requirement already satisfied: MarkupSafe>=2.0 in /usr/local/lib/python3.10/dist-packages (from jinja2->torch>=1.7->timm) (2.1.3)\n",
            "Requirement already satisfied: charset-normalizer<4,>=2 in /usr/local/lib/python3.10/dist-packages (from requests->huggingface-hub->timm) (3.3.1)\n",
            "Requirement already satisfied: idna<4,>=2.5 in /usr/local/lib/python3.10/dist-packages (from requests->huggingface-hub->timm) (3.4)\n",
            "Requirement already satisfied: urllib3<3,>=1.21.1 in /usr/local/lib/python3.10/dist-packages (from requests->huggingface-hub->timm) (2.0.7)\n",
            "Requirement already satisfied: certifi>=2017.4.17 in /usr/local/lib/python3.10/dist-packages (from requests->huggingface-hub->timm) (2023.7.22)\n",
            "Requirement already satisfied: mpmath>=0.19 in /usr/local/lib/python3.10/dist-packages (from sympy->torch>=1.7->timm) (1.3.0)\n"
          ]
        },
        {
          "output_type": "display_data",
          "data": {
            "text/plain": [
              "model.safetensors:   0%|          | 0.00/21.4M [00:00<?, ?B/s]"
            ],
            "application/vnd.jupyter.widget-view+json": {
              "version_major": 2,
              "version_minor": 0,
              "model_id": "c396ca3bd974486998463d5df8c3f5a9"
            }
          },
          "metadata": {}
        },
        {
          "output_type": "execute_result",
          "data": {
            "text/plain": [
              "tensor([[ 2.2023,  2.1718,  1.3650,  0.5380,  1.1599, -1.8643,  1.2635, -1.2103,\n",
              "          0.0513, -0.3296]], grad_fn=<AddmmBackward0>)"
            ]
          },
          "metadata": {},
          "execution_count": 41
        }
      ],
      "source": [
        "!pip install timm\n",
        "import timm , torch\n",
        "\n",
        "model = timm.create_model(model_name = \"efficientnet_b0\", pretrained = True, num_classes = len(classes))\n",
        "inp = torch.rand (1, 3, 32, 32)\n",
        "model.eval()\n",
        "model(inp)"
      ]
    },
    {
      "cell_type": "code",
      "source": [
        "import timm , torch\n",
        "\n",
        "model = timm.create_model(model_name = \"rexnet_150\", pretrained = True, num_classes = len(classes))\n",
        "inp = torch.rand (1, 3, 32, 32)\n",
        "model.eval()\n",
        "model(inp)"
      ],
      "metadata": {
        "id": "gmk2OWiO2CeM",
        "outputId": "df461cea-4991-4925-feb3-20e41ab166a4",
        "colab": {
          "base_uri": "https://localhost:8080/"
        }
      },
      "execution_count": 57,
      "outputs": [
        {
          "output_type": "execute_result",
          "data": {
            "text/plain": [
              "tensor([[ 4.6429,  4.7518, -3.2274, -1.6401,  4.5115,  7.9650,  0.8876, -6.2545,\n",
              "          3.2161,  1.1669]], grad_fn=<AddmmBackward0>)"
            ]
          },
          "metadata": {},
          "execution_count": 57
        }
      ]
    },
    {
      "cell_type": "code",
      "source": [
        "import timm , torch\n",
        "\n",
        "model = timm.create_model(model_name = \"resnet18\", pretrained = True, num_classes = len(classes))\n",
        "inp = torch.rand (1, 3, 32, 32)\n",
        "model.eval()\n",
        "model(inp)"
      ],
      "metadata": {
        "id": "uxHvdHj82Nhg",
        "outputId": "c51cd8cb-b55f-4223-ea08-c47c50ccb948",
        "colab": {
          "base_uri": "https://localhost:8080/",
          "height": 86,
          "referenced_widgets": [
            "3ac3d7c64daa469ab6a418f542662abf",
            "7a565f7c6bee4393b5e19d2a2ffb193a",
            "dd8aa936e77d4e7ea388c81c7015d7e9",
            "c19b444867e54cfbbb56dfc1fc2401c5",
            "ca5cbbdbd262477abcdb42352841ba4f",
            "7c7be5d3e93144bd87e28d43e4c6b945",
            "0e25acde92f940d581761097b435c06e",
            "71d4a824fd964844a78a2482d1c2d195",
            "cbe2d1a9371349489766846233e8ca49",
            "c91e15f89a384761a6bbf73d470bce69",
            "5b03de2f1935456bb16c151657257008"
          ]
        }
      },
      "execution_count": 59,
      "outputs": [
        {
          "output_type": "display_data",
          "data": {
            "text/plain": [
              "model.safetensors:   0%|          | 0.00/46.8M [00:00<?, ?B/s]"
            ],
            "application/vnd.jupyter.widget-view+json": {
              "version_major": 2,
              "version_minor": 0,
              "model_id": "3ac3d7c64daa469ab6a418f542662abf"
            }
          },
          "metadata": {}
        },
        {
          "output_type": "execute_result",
          "data": {
            "text/plain": [
              "tensor([[-0.1779, -0.3486, -0.1549, -0.5319, -0.3685,  0.0594,  0.2732,  0.1245,\n",
              "         -0.1533, -0.5030]], grad_fn=<AddmmBackward0>)"
            ]
          },
          "metadata": {},
          "execution_count": 59
        }
      ]
    },
    {
      "cell_type": "code",
      "execution_count": 42,
      "metadata": {
        "id": "xeGDUBupeIib"
      },
      "outputs": [],
      "source": [
        "epochs = 1\n",
        "device = \"cpu\"\n",
        "model.to(device)\n",
        "model.train()\n",
        "loss_fn = torch.nn.CrossEntropyLoss()\n",
        "optimizer = torch.optim.Adam(params = model.parameters(), lr = 0.001)"
      ]
    },
    {
      "cell_type": "code",
      "execution_count": 43,
      "metadata": {
        "colab": {
          "base_uri": "https://localhost:8080/"
        },
        "id": "nLQgAJn-fFRE",
        "outputId": "f24b5203-5dad-48ee-ac14-ca72e8a040ba"
      },
      "outputs": [
        {
          "output_type": "stream",
          "name": "stdout",
          "text": [
            " 1 - epoch jarayonlari boshlandi\n"
          ]
        },
        {
          "output_type": "stream",
          "name": "stderr",
          "text": [
            "313it [08:15,  1.58s/it]"
          ]
        },
        {
          "output_type": "stream",
          "name": "stdout",
          "text": [
            "\n",
            " ~~~~~~~~~~~~~~~~~~~~~~~~~~~~~~~~~~~~~~~~~~~~~~~~~~~~~~~~~~~~~~~~~~~~~~~~~~~~~~\n",
            "\n",
            "1- epoch train jarayoni natijalari :\n",
            " 1- epochdagi train loss     -> 1.788\n",
            " 1- epochdagi train accuracy     -> 0.489\n"
          ]
        },
        {
          "output_type": "stream",
          "name": "stderr",
          "text": [
            "\n",
            "79it [00:27,  2.86it/s]"
          ]
        },
        {
          "output_type": "stream",
          "name": "stdout",
          "text": [
            "\n",
            " ~~~~~~~~~~~~~~~~~~~~~~~~~~~~~~~~~~~~~~~~~~~~~~~~~~~~~~~~~~~~~~~~~~~~~~~~~~~~~~~~~~~~~\n",
            "\n",
            "1- epoch validation jarayoni natijalari :\n",
            " 1- epochdagi validation loss     -> 1.007\n",
            " 1- epochdagi validation accuracy     -> 0.649\n"
          ]
        },
        {
          "output_type": "stream",
          "name": "stderr",
          "text": [
            "\n"
          ]
        }
      ],
      "source": [
        "from tqdm import tqdm\n",
        "import os\n",
        "\n",
        "best_acc = 0\n",
        "prefix = \"CIFAR10\"\n",
        "\n",
        "\n",
        "\n",
        "\n",
        "for epoch in range (epochs):\n",
        "\n",
        "  model.train()\n",
        "  print(f\" { epoch + 1} - epoch jarayonlari boshlandi\")\n",
        "\n",
        "  epoch_loss, epoch_acc, total = 0, 0, 0\n",
        "\n",
        "  for i , batch in tqdm(enumerate(tr_dl)):\n",
        "    rasm, gts = batch\n",
        "    rasm , gts = rasm.to(device), gts.to(device)\n",
        "    total += rasm.shape[0]\n",
        "\n",
        "\n",
        "    preds = model(rasm)\n",
        "    loss = loss_fn(preds, gts)\n",
        "    pred_cls = torch.argmax(preds.data, dim = 1)\n",
        "    epoch_acc += (pred_cls == gts).sum().item()\n",
        "    epoch_loss += loss.item()\n",
        "\n",
        "    optimizer.zero_grad()\n",
        "    loss.backward()\n",
        "    optimizer.step()\n",
        "\n",
        "  print(\"\\n ~~~~~~~~~~~~~~~~~~~~~~~~~~~~~~~~~~~~~~~~~~~~~~~~~~~~~~~~~~~~~~~~~~~~~~~~~~~~~~\\n\")\n",
        "  print(f\"{epoch +1 }- epoch train jarayoni natijalari :\")\n",
        "  print(f\" {epoch +1}- epochdagi train loss     -> {(epoch_loss / len(tr_dl)):.3f}\")\n",
        "  print(f\" {epoch +1}- epochdagi train accuracy     -> {(epoch_acc / total):.3f}\")\n",
        "\n",
        "\n",
        "\n",
        "  model.eval()\n",
        "  with torch.no_grad():\n",
        "      val_epoch_loss, val_epoch_acc, val_total = 0, 0, 0\n",
        "\n",
        "      for idx, batch in tqdm(enumerate(val_dl)):\n",
        "        rasm, gts = batch\n",
        "        rasm, gts = rasm.to(device),  gts.to(device)\n",
        "        val_total += rasm.shape[0]\n",
        "\n",
        "        preds = model(rasm)\n",
        "        loss = loss_fn(preds, gts)\n",
        "        pred_cls = torch.argmax(preds.data, dim =1)\n",
        "\n",
        "        val_epoch_acc += (pred_cls == gts).sum().item()\n",
        "        val_epoch_loss += loss.item()\n",
        "\n",
        "        val_acc = val_epoch_acc / val_total\n",
        "\n",
        "\n",
        "\n",
        "  print(\"\\n ~~~~~~~~~~~~~~~~~~~~~~~~~~~~~~~~~~~~~~~~~~~~~~~~~~~~~~~~~~~~~~~~~~~~~~~~~~~~~~~~~~~~~\\n\")\n",
        "  print(f\"{epoch +1 }- epoch validation jarayoni natijalari :\")\n",
        "  print(f\" {epoch +1}- epochdagi validation loss     -> {(val_epoch_loss / len(val_dl)):.3f}\")\n",
        "  print(f\" {epoch +1}- epochdagi validation accuracy     -> {(val_acc):.3f}\")\n",
        "\n",
        "\n",
        "  if val_acc > best_acc:\n",
        "          os.makedirs(\"modellar\", exist_ok=True)\n",
        "          best_acc = val_acc\n",
        "          torch.save(model.state_dict(), f\"modellar/{prefix}_best_model.pth\")\n",
        "\n"
      ]
    },
    {
      "cell_type": "code",
      "execution_count": 44,
      "metadata": {
        "id": "8Ao-FCgdfGHp",
        "colab": {
          "base_uri": "https://localhost:8080/"
        },
        "outputId": "c86b5c84-2c0d-4e65-c313-2ba7f55e7aee"
      },
      "outputs": [
        {
          "output_type": "stream",
          "name": "stdout",
          "text": [
            "128\n"
          ]
        }
      ],
      "source": [
        "rasm, gts = next(iter(test_dl))\n",
        "\n",
        "\n",
        "model.eval ()\n",
        "preds = []\n",
        "images = []\n",
        "lbls = []\n",
        "\n",
        "for rasm, gt in zip(rasm, gts):\n",
        "  rasm, gt = rasm.to(device), gt.to(device)\n",
        "  pred = model(rasm.unsqueeze(0))\n",
        "  pred_class = torch.argmax(pred, dim =1)\n",
        "  images.append(rasm)\n",
        "  lbls.append(gt)\n",
        "  preds.append(pred_class)\n",
        "print(len(preds))"
      ]
    },
    {
      "cell_type": "code",
      "execution_count": 46,
      "metadata": {
        "id": "Dj-RpED07jkW",
        "colab": {
          "base_uri": "https://localhost:8080/"
        },
        "outputId": "605da4e5-0694-4017-a855-fdfb74ab2f39"
      },
      "outputs": [
        {
          "output_type": "stream",
          "name": "stdout",
          "text": [
            "Requirement already satisfied: matplotlib in /usr/local/lib/python3.10/dist-packages (3.7.1)\n",
            "Requirement already satisfied: contourpy>=1.0.1 in /usr/local/lib/python3.10/dist-packages (from matplotlib) (1.1.1)\n",
            "Requirement already satisfied: cycler>=0.10 in /usr/local/lib/python3.10/dist-packages (from matplotlib) (0.12.1)\n",
            "Requirement already satisfied: fonttools>=4.22.0 in /usr/local/lib/python3.10/dist-packages (from matplotlib) (4.43.1)\n",
            "Requirement already satisfied: kiwisolver>=1.0.1 in /usr/local/lib/python3.10/dist-packages (from matplotlib) (1.4.5)\n",
            "Requirement already satisfied: numpy>=1.20 in /usr/local/lib/python3.10/dist-packages (from matplotlib) (1.23.5)\n",
            "Requirement already satisfied: packaging>=20.0 in /usr/local/lib/python3.10/dist-packages (from matplotlib) (23.2)\n",
            "Requirement already satisfied: pillow>=6.2.0 in /usr/local/lib/python3.10/dist-packages (from matplotlib) (9.4.0)\n",
            "Requirement already satisfied: pyparsing>=2.3.1 in /usr/local/lib/python3.10/dist-packages (from matplotlib) (3.1.1)\n",
            "Requirement already satisfied: python-dateutil>=2.7 in /usr/local/lib/python3.10/dist-packages (from matplotlib) (2.8.2)\n",
            "Requirement already satisfied: six>=1.5 in /usr/local/lib/python3.10/dist-packages (from python-dateutil>=2.7->matplotlib) (1.16.0)\n"
          ]
        }
      ],
      "source": [
        "!pip install matplotlib\n",
        "import matplotlib.pyplot as plt"
      ]
    },
    {
      "cell_type": "code",
      "execution_count": 47,
      "metadata": {
        "id": "6qNnJt_J7kHS"
      },
      "outputs": [],
      "source": [
        "import matplotlib.pyplot as plt"
      ]
    },
    {
      "cell_type": "code",
      "execution_count": 48,
      "metadata": {
        "id": "DyC7C8hy7oQz"
      },
      "outputs": [],
      "source": [
        "import random\n",
        "\n",
        "def tensor_2_im(t, t_type = \"rgb\"):\n",
        "\n",
        "    gray_tfs = tfs.Compose([tfs.Normalize(mean = [ 0.], std = [1/0.5]), tfs.Normalize(mean = [-0.5], std = [1])])\n",
        "    # rgb_tfs = tfs.Compose([tfs.Normalize(mean = [ 0., 0., 0. ], std = [ 1/0.229, 1/0.224, 1/0.225 ]), tfs.Normalize(mean = [ -0.485, -0.456, -0.406 ], std = [ 1., 1., 1. ])])\n",
        "    rgb_tfs = tfs.Compose([tfs.Normalize(mean = [ 0., 0., 0. ], std = [ 1/0.5, 1/0.5, 1/0.5 ]), tfs.Normalize(mean = [ -0.5, -0.5, -0.5 ], std = [ 1., 1., 1. ])])\n",
        "\n",
        "    invTrans = gray_tfs if t_type == \"gray\" else rgb_tfs\n",
        "\n",
        "    return (invTrans(t) * 255).detach().squeeze().cpu().permute(1,2,0).numpy().astype(np.uint8) if t_type == \"gray\" else (invTrans(t) * 255).detach().cpu().permute(1,2,0).numpy().astype(np.uint8)\n",
        "\n",
        "\n",
        "def visualize(data, rasmlar_soni, qatorlar, cmap = None, klass_nomlari = None):\n",
        "\n",
        "    assert cmap in [\"rgb\", \"gray\"], \"Rasmni oq-qora yoki rangli ekanini aniqlashtirib bering!\"\n",
        "    if cmap == \"rgb\": cmap = \"viridis\"\n",
        "\n",
        "    plt.figure(figsize = (20, 10))\n",
        "    indekslar = [random.randint(0, len(data) - 1) for _ in range(rasmlar_soni)]\n",
        "    for idx, indeks in enumerate(indekslar):\n",
        "\n",
        "        im, gt = data[indeks]\n",
        "        # Start plot\n",
        "        plt.subplot(qatorlar, rasmlar_soni // qatorlar, idx + 1)\n",
        "        if cmap:\n",
        "            plt.imshow(tensor_2_im(im, cmap), cmap=cmap)\n",
        "        else:\n",
        "            plt.imshow(tensor_2_im(im))\n",
        "        plt.axis('off')\n",
        "        if klass_nomlari is not None:\n",
        "            plt.title (klass_nomlari[gt])\n",
        "        else:\n",
        "            plt.title(f\"GT -> {gt}\")"
      ]
    },
    {
      "cell_type": "code",
      "execution_count": 49,
      "metadata": {
        "id": "5D_Fyugl7-N6",
        "colab": {
          "base_uri": "https://localhost:8080/"
        },
        "outputId": "4d700f88-d558-4b84-b1cc-0d4656cec615"
      },
      "outputs": [
        {
          "output_type": "execute_result",
          "data": {
            "text/plain": [
              "torch.Size([3, 32, 32])"
            ]
          },
          "metadata": {},
          "execution_count": 49
        }
      ],
      "source": [
        "from PIL import Image\n",
        "\n",
        "rasm = Image.open(\"33.jpeg\")\n",
        "test_ts = tfs.Compose([tfs.Resize((32,32)),\n",
        "    tfs.Grayscale(num_output_channels=3),\n",
        "                       tfs.ToTensor(),\n",
        "                       tfs.Normalize(0.5, 0.5)])\n",
        "tensor_im = test_ts(rasm)\n",
        "tensor_im.shape"
      ]
    },
    {
      "cell_type": "code",
      "execution_count": 50,
      "metadata": {
        "id": "s8vWwO908Xdc",
        "colab": {
          "base_uri": "https://localhost:8080/",
          "height": 446
        },
        "outputId": "533e4b06-47c1-4538-ee1c-c5493dfab910"
      },
      "outputs": [
        {
          "output_type": "execute_result",
          "data": {
            "text/plain": [
              "Text(0.5, 1.0, 'car')"
            ]
          },
          "metadata": {},
          "execution_count": 50
        },
        {
          "output_type": "display_data",
          "data": {
            "text/plain": [
              "<Figure size 640x480 with 1 Axes>"
            ],
            "image/png": "[encoded data removed]"
          },
          "metadata": {}
        }
      ],
      "source": [
        "pred = model(tensor_im.unsqueeze(dim=0))\n",
        "pred_class = torch.argmax(pred, dim = 1)\n",
        "plt.imshow(tensor_2_im(tensor_im, t_type= \"rgb\"))\n",
        "plt.axis('off')\n",
        "plt.title  (classes[pred_class.item()])"
      ]
    },
    {
      "cell_type": "code",
      "execution_count": null,
      "metadata": {
        "id": "dAQYf_cO8Yv9"
      },
      "outputs": [],
      "source": [
        "print(classes[9])"
      ]
    },
    {
      "cell_type": "code",
      "execution_count": 51,
      "metadata": {
        "id": "qB3HYt5h935M",
        "colab": {
          "base_uri": "https://localhost:8080/"
        },
        "outputId": "e05e625e-9015-4a6c-b260-1ced52b1babe"
      },
      "outputs": [
        {
          "output_type": "execute_result",
          "data": {
            "text/plain": [
              "torch.Size([3, 32, 32])"
            ]
          },
          "metadata": {},
          "execution_count": 51
        }
      ],
      "source": [
        "from PIL import Image\n",
        "\n",
        "rasm = Image.open(\"bird.webp\")\n",
        "test_ts = tfs.Compose([tfs.Resize((32,32)),\n",
        "    tfs.Grayscale(num_output_channels=3),\n",
        "                       tfs.ToTensor(),\n",
        "                       tfs.Normalize(0.5, 0.5)])\n",
        "tensor_im = test_ts(rasm)\n",
        "tensor_im.shape"
      ]
    },
    {
      "cell_type": "code",
      "execution_count": 52,
      "metadata": {
        "id": "McvzgLQx-4VV",
        "colab": {
          "base_uri": "https://localhost:8080/",
          "height": 446
        },
        "outputId": "0ed9e004-d022-4398-d551-d66ca1bf7b5a"
      },
      "outputs": [
        {
          "output_type": "execute_result",
          "data": {
            "text/plain": [
              "Text(0.5, 1.0, 'bird')"
            ]
          },
          "metadata": {},
          "execution_count": 52
        },
        {
          "output_type": "display_data",
          "data": {
            "text/plain": [
              "<Figure size 640x480 with 1 Axes>"
            ],
            "image/png": "[encoded data removed]"
          },
          "metadata": {}
        }
      ],
      "source": [
        "pred = model(tensor_im.unsqueeze(dim=0))\n",
        "pred_class = torch.argmax(pred, dim = 1)\n",
        "plt.imshow(tensor_2_im(tensor_im, t_type= \"grey\"))\n",
        "plt.axis('off')\n",
        "plt.title (classes[pred_class.item()])"
      ]
    },
    {
      "cell_type": "code",
      "execution_count": null,
      "metadata": {
        "id": "n3cvhOwO-_U7"
      },
      "outputs": [],
      "source": [
        "print(classes[2])"
      ]
    },
    {
      "cell_type": "code",
      "execution_count": 53,
      "metadata": {
        "id": "LRVifRCK_A3P",
        "colab": {
          "base_uri": "https://localhost:8080/"
        },
        "outputId": "369d7cd0-6a38-4751-ad17-3bdabd680e71"
      },
      "outputs": [
        {
          "output_type": "execute_result",
          "data": {
            "text/plain": [
              "torch.Size([3, 32, 32])"
            ]
          },
          "metadata": {},
          "execution_count": 53
        }
      ],
      "source": [
        " from PIL import Image\n",
        "\n",
        "rasm = Image.open(\"111 - Copy.jpeg\")\n",
        "test_ts = tfs.Compose([tfs.Resize((32,32)),\n",
        "    tfs.Grayscale(num_output_channels=3),\n",
        "                       tfs.ToTensor(),\n",
        "                       tfs.Normalize(0.5, 0.5)])\n",
        "tensor_im = test_ts(rasm)\n",
        "tensor_im.shape"
      ]
    },
    {
      "cell_type": "code",
      "execution_count": 54,
      "metadata": {
        "id": "f6fARY-sEoan",
        "colab": {
          "base_uri": "https://localhost:8080/",
          "height": 446
        },
        "outputId": "7a2436ea-35e9-4baa-e98c-09f88bba92e9"
      },
      "outputs": [
        {
          "output_type": "execute_result",
          "data": {
            "text/plain": [
              "Text(0.5, 1.0, 'bird')"
            ]
          },
          "metadata": {},
          "execution_count": 54
        },
        {
          "output_type": "display_data",
          "data": {
            "text/plain": [
              "<Figure size 640x480 with 1 Axes>"
            ],
            "image/png": "[encoded data removed]"
          },
          "metadata": {}
        }
      ],
      "source": [
        "pred = model(tensor_im.unsqueeze(dim=0))\n",
        "pred_class = torch.argmax(pred, dim = 1)\n",
        "plt.imshow(tensor_2_im(tensor_im, t_type= \"grey\"))\n",
        "plt.axis('off')\n",
        "plt.title (classes[pred_class.item()])"
      ]
    },
    {
      "cell_type": "code",
      "execution_count": null,
      "metadata": {
        "id": "QqXCyQIjEy0t"
      },
      "outputs": [],
      "source": [
        "print(classes[2])"
      ]
    },
    {
      "cell_type": "code",
      "execution_count": 55,
      "metadata": {
        "id": "2bP3Q9hEE04F",
        "colab": {
          "base_uri": "https://localhost:8080/"
        },
        "outputId": "d0b00727-7612-4b7e-86ca-27210d81bcd5"
      },
      "outputs": [
        {
          "output_type": "execute_result",
          "data": {
            "text/plain": [
              "torch.Size([3, 32, 32])"
            ]
          },
          "metadata": {},
          "execution_count": 55
        }
      ],
      "source": [
        " from PIL import Image\n",
        "\n",
        "rasm = Image.open(\"ship1.jpeg\")\n",
        "test_ts = tfs.Compose([tfs.Resize((32,32)),\n",
        "    tfs.Grayscale(num_output_channels=3),\n",
        "                       tfs.ToTensor(),\n",
        "                       tfs.Normalize(0.5, 0.5)])\n",
        "tensor_im = test_ts(rasm)\n",
        "tensor_im.shape"
      ]
    },
    {
      "cell_type": "code",
      "execution_count": 56,
      "metadata": {
        "id": "W9tDTy4jFECd",
        "colab": {
          "base_uri": "https://localhost:8080/",
          "height": 446
        },
        "outputId": "9f5babca-c7f9-4472-d652-7a32ff90aa15"
      },
      "outputs": [
        {
          "output_type": "execute_result",
          "data": {
            "text/plain": [
              "Text(0.5, 1.0, 'ship')"
            ]
          },
          "metadata": {},
          "execution_count": 56
        },
        {
          "output_type": "display_data",
          "data": {
            "text/plain": [
              "<Figure size 640x480 with 1 Axes>"
            ],
            "image/png": "[encoded data removed]"
          },
          "metadata": {}
        }
      ],
      "source": [
        "pred = model(tensor_im.unsqueeze(dim=0))\n",
        "pred_class = torch.argmax(pred, dim = 1)\n",
        "plt.imshow(tensor_2_im(tensor_im, t_type= \"grey\"))\n",
        "plt.axis('off')\n",
        "plt.title (classes[pred_class.item()])"
      ]
    },
    {
      "cell_type": "code",
      "execution_count": null,
      "metadata": {
        "id": "thf6yl3_FGwm"
      },
      "outputs": [],
      "source": [
        "print(classes[2])"
      ]
    },
    {
      "cell_type": "code",
      "execution_count": null,
      "metadata": {
        "id": "7DyYsn_rFHfy"
      },
      "outputs": [],
      "source": []
    }
  ],
  "metadata": {
    "colab": {
      "provenance": []
    },
    "kernelspec": {
      "display_name": "speed",
      "language": "python",
      "name": "speed"
    },
    "language_info": {
      "codemirror_mode": {
        "name": "ipython",
        "version": 3
      },
      "file_extension": ".py",
      "mimetype": "text/x-python",
      "name": "python",
      "nbconvert_exporter": "python",
      "pygments_lexer": "ipython3",
      "version": "3.10.4"
    },
    "widgets": {
      "application/vnd.jupyter.widget-state+json": {
        "c396ca3bd974486998463d5df8c3f5a9": {
          "model_module": "@jupyter-widgets/controls",
          "model_name": "HBoxModel",
          "model_module_version": "1.5.0",
          "state": {
            "_dom_classes": [],
            "_model_module": "@jupyter-widgets/controls",
            "_model_module_version": "1.5.0",
            "_model_name": "HBoxModel",
            "_view_count": null,
            "_view_module": "@jupyter-widgets/controls",
            "_view_module_version": "1.5.0",
            "_view_name": "HBoxView",
            "box_style": "",
            "children": [
              "IPY_MODEL_060f6232fc47431ca068ce007c0df0cb",
              "IPY_MODEL_630a4902ddae4c2da8f09ee89f6e4a3b",
              "IPY_MODEL_1b2b489a7c434f1ea260c61ce9517c57"
            ],
            "layout": "IPY_MODEL_9abdae912ee74d5e94c9aea923a6d4da"
          }
        },
        "060f6232fc47431ca068ce007c0df0cb": {
          "model_module": "@jupyter-widgets/controls",
          "model_name": "HTMLModel",
          "model_module_version": "1.5.0",
          "state": {
            "_dom_classes": [],
            "_model_module": "@jupyter-widgets/controls",
            "_model_module_version": "1.5.0",
            "_model_name": "HTMLModel",
            "_view_count": null,
            "_view_module": "@jupyter-widgets/controls",
            "_view_module_version": "1.5.0",
            "_view_name": "HTMLView",
            "description": "",
            "description_tooltip": null,
            "layout": "IPY_MODEL_7711f8383cdc4fbc9e7c3063d82e5208",
            "placeholder": "​",
            "style": "IPY_MODEL_1db4a12d281745aab4238417efe330cf",
            "value": "model.safetensors: 100%"
          }
        },
        "630a4902ddae4c2da8f09ee89f6e4a3b": {
          "model_module": "@jupyter-widgets/controls",
          "model_name": "FloatProgressModel",
          "model_module_version": "1.5.0",
          "state": {
            "_dom_classes": [],
            "_model_module": "@jupyter-widgets/controls",
            "_model_module_version": "1.5.0",
            "_model_name": "FloatProgressModel",
            "_view_count": null,
            "_view_module": "@jupyter-widgets/controls",
            "_view_module_version": "1.5.0",
            "_view_name": "ProgressView",
            "bar_style": "success",
            "description": "",
            "description_tooltip": null,
            "layout": "IPY_MODEL_b7e2caad04c74bfbb3913978a4d3b4af",
            "max": 21355344,
            "min": 0,
            "orientation": "horizontal",
            "style": "IPY_MODEL_70845fc77f0744f38e039ae49ca31085",
            "value": 21355344
          }
        },
        "1b2b489a7c434f1ea260c61ce9517c57": {
          "model_module": "@jupyter-widgets/controls",
          "model_name": "HTMLModel",
          "model_module_version": "1.5.0",
          "state": {
            "_dom_classes": [],
            "_model_module": "@jupyter-widgets/controls",
            "_model_module_version": "1.5.0",
            "_model_name": "HTMLModel",
            "_view_count": null,
            "_view_module": "@jupyter-widgets/controls",
            "_view_module_version": "1.5.0",
            "_view_name": "HTMLView",
            "description": "",
            "description_tooltip": null,
            "layout": "IPY_MODEL_c817711f99d04a7090b083c179d93c37",
            "placeholder": "​",
            "style": "IPY_MODEL_2861b740c6084c9eadd1b3a0283360e1",
            "value": " 21.4M/21.4M [00:00&lt;00:00, 36.4MB/s]"
          }
        },
        "9abdae912ee74d5e94c9aea923a6d4da": {
          "model_module": "@jupyter-widgets/base",
          "model_name": "LayoutModel",
          "model_module_version": "1.2.0",
          "state": {
            "_model_module": "@jupyter-widgets/base",
            "_model_module_version": "1.2.0",
            "_model_name": "LayoutModel",
            "_view_count": null,
            "_view_module": "@jupyter-widgets/base",
            "_view_module_version": "1.2.0",
            "_view_name": "LayoutView",
            "align_content": null,
            "align_items": null,
            "align_self": null,
            "border": null,
            "bottom": null,
            "display": null,
            "flex": null,
            "flex_flow": null,
            "grid_area": null,
            "grid_auto_columns": null,
            "grid_auto_flow": null,
            "grid_auto_rows": null,
            "grid_column": null,
            "grid_gap": null,
            "grid_row": null,
            "grid_template_areas": null,
            "grid_template_columns": null,
            "grid_template_rows": null,
            "height": null,
            "justify_content": null,
            "justify_items": null,
            "left": null,
            "margin": null,
            "max_height": null,
            "max_width": null,
            "min_height": null,
            "min_width": null,
            "object_fit": null,
            "object_position": null,
            "order": null,
            "overflow": null,
            "overflow_x": null,
            "overflow_y": null,
            "padding": null,
            "right": null,
            "top": null,
            "visibility": null,
            "width": null
          }
        },
        "7711f8383cdc4fbc9e7c3063d82e5208": {
          "model_module": "@jupyter-widgets/base",
          "model_name": "LayoutModel",
          "model_module_version": "1.2.0",
          "state": {
            "_model_module": "@jupyter-widgets/base",
            "_model_module_version": "1.2.0",
            "_model_name": "LayoutModel",
            "_view_count": null,
            "_view_module": "@jupyter-widgets/base",
            "_view_module_version": "1.2.0",
            "_view_name": "LayoutView",
            "align_content": null,
            "align_items": null,
            "align_self": null,
            "border": null,
            "bottom": null,
            "display": null,
            "flex": null,
            "flex_flow": null,
            "grid_area": null,
            "grid_auto_columns": null,
            "grid_auto_flow": null,
            "grid_auto_rows": null,
            "grid_column": null,
            "grid_gap": null,
            "grid_row": null,
            "grid_template_areas": null,
            "grid_template_columns": null,
            "grid_template_rows": null,
            "height": null,
            "justify_content": null,
            "justify_items": null,
            "left": null,
            "margin": null,
            "max_height": null,
            "max_width": null,
            "min_height": null,
            "min_width": null,
            "object_fit": null,
            "object_position": null,
            "order": null,
            "overflow": null,
            "overflow_x": null,
            "overflow_y": null,
            "padding": null,
            "right": null,
            "top": null,
            "visibility": null,
            "width": null
          }
        },
        "1db4a12d281745aab4238417efe330cf": {
          "model_module": "@jupyter-widgets/controls",
          "model_name": "DescriptionStyleModel",
          "model_module_version": "1.5.0",
          "state": {
            "_model_module": "@jupyter-widgets/controls",
            "_model_module_version": "1.5.0",
            "_model_name": "DescriptionStyleModel",
            "_view_count": null,
            "_view_module": "@jupyter-widgets/base",
            "_view_module_version": "1.2.0",
            "_view_name": "StyleView",
            "description_width": ""
          }
        },
        "b7e2caad04c74bfbb3913978a4d3b4af": {
          "model_module": "@jupyter-widgets/base",
          "model_name": "LayoutModel",
          "model_module_version": "1.2.0",
          "state": {
            "_model_module": "@jupyter-widgets/base",
            "_model_module_version": "1.2.0",
            "_model_name": "LayoutModel",
            "_view_count": null,
            "_view_module": "@jupyter-widgets/base",
            "_view_module_version": "1.2.0",
            "_view_name": "LayoutView",
            "align_content": null,
            "align_items": null,
            "align_self": null,
            "border": null,
            "bottom": null,
            "display": null,
            "flex": null,
            "flex_flow": null,
            "grid_area": null,
            "grid_auto_columns": null,
            "grid_auto_flow": null,
            "grid_auto_rows": null,
            "grid_column": null,
            "grid_gap": null,
            "grid_row": null,
            "grid_template_areas": null,
            "grid_template_columns": null,
            "grid_template_rows": null,
            "height": null,
            "justify_content": null,
            "justify_items": null,
            "left": null,
            "margin": null,
            "max_height": null,
            "max_width": null,
            "min_height": null,
            "min_width": null,
            "object_fit": null,
            "object_position": null,
            "order": null,
            "overflow": null,
            "overflow_x": null,
            "overflow_y": null,
            "padding": null,
            "right": null,
            "top": null,
            "visibility": null,
            "width": null
          }
        },
        "70845fc77f0744f38e039ae49ca31085": {
          "model_module": "@jupyter-widgets/controls",
          "model_name": "ProgressStyleModel",
          "model_module_version": "1.5.0",
          "state": {
            "_model_module": "@jupyter-widgets/controls",
            "_model_module_version": "1.5.0",
            "_model_name": "ProgressStyleModel",
            "_view_count": null,
            "_view_module": "@jupyter-widgets/base",
            "_view_module_version": "1.2.0",
            "_view_name": "StyleView",
            "bar_color": null,
            "description_width": ""
          }
        },
        "c817711f99d04a7090b083c179d93c37": {
          "model_module": "@jupyter-widgets/base",
          "model_name": "LayoutModel",
          "model_module_version": "1.2.0",
          "state": {
            "_model_module": "@jupyter-widgets/base",
            "_model_module_version": "1.2.0",
            "_model_name": "LayoutModel",
            "_view_count": null,
            "_view_module": "@jupyter-widgets/base",
            "_view_module_version": "1.2.0",
            "_view_name": "LayoutView",
            "align_content": null,
            "align_items": null,
            "align_self": null,
            "border": null,
            "bottom": null,
            "display": null,
            "flex": null,
            "flex_flow": null,
            "grid_area": null,
            "grid_auto_columns": null,
            "grid_auto_flow": null,
            "grid_auto_rows": null,
            "grid_column": null,
            "grid_gap": null,
            "grid_row": null,
            "grid_template_areas": null,
            "grid_template_columns": null,
            "grid_template_rows": null,
            "height": null,
            "justify_content": null,
            "justify_items": null,
            "left": null,
            "margin": null,
            "max_height": null,
            "max_width": null,
            "min_height": null,
            "min_width": null,
            "object_fit": null,
            "object_position": null,
            "order": null,
            "overflow": null,
            "overflow_x": null,
            "overflow_y": null,
            "padding": null,
            "right": null,
            "top": null,
            "visibility": null,
            "width": null
          }
        },
        "2861b740c6084c9eadd1b3a0283360e1": {
          "model_module": "@jupyter-widgets/controls",
          "model_name": "DescriptionStyleModel",
          "model_module_version": "1.5.0",
          "state": {
            "_model_module": "@jupyter-widgets/controls",
            "_model_module_version": "1.5.0",
            "_model_name": "DescriptionStyleModel",
            "_view_count": null,
            "_view_module": "@jupyter-widgets/base",
            "_view_module_version": "1.2.0",
            "_view_name": "StyleView",
            "description_width": ""
          }
        },
        "3ac3d7c64daa469ab6a418f542662abf": {
          "model_module": "@jupyter-widgets/controls",
          "model_name": "HBoxModel",
          "model_module_version": "1.5.0",
          "state": {
            "_dom_classes": [],
            "_model_module": "@jupyter-widgets/controls",
            "_model_module_version": "1.5.0",
            "_model_name": "HBoxModel",
            "_view_count": null,
            "_view_module": "@jupyter-widgets/controls",
            "_view_module_version": "1.5.0",
            "_view_name": "HBoxView",
            "box_style": "",
            "children": [
              "IPY_MODEL_7a565f7c6bee4393b5e19d2a2ffb193a",
              "IPY_MODEL_dd8aa936e77d4e7ea388c81c7015d7e9",
              "IPY_MODEL_c19b444867e54cfbbb56dfc1fc2401c5"
            ],
            "layout": "IPY_MODEL_ca5cbbdbd262477abcdb42352841ba4f"
          }
        },
        "7a565f7c6bee4393b5e19d2a2ffb193a": {
          "model_module": "@jupyter-widgets/controls",
          "model_name": "HTMLModel",
          "model_module_version": "1.5.0",
          "state": {
            "_dom_classes": [],
            "_model_module": "@jupyter-widgets/controls",
            "_model_module_version": "1.5.0",
            "_model_name": "HTMLModel",
            "_view_count": null,
            "_view_module": "@jupyter-widgets/controls",
            "_view_module_version": "1.5.0",
            "_view_name": "HTMLView",
            "description": "",
            "description_tooltip": null,
            "layout": "IPY_MODEL_7c7be5d3e93144bd87e28d43e4c6b945",
            "placeholder": "​",
            "style": "IPY_MODEL_0e25acde92f940d581761097b435c06e",
            "value": "model.safetensors: 100%"
          }
        },
        "dd8aa936e77d4e7ea388c81c7015d7e9": {
          "model_module": "@jupyter-widgets/controls",
          "model_name": "FloatProgressModel",
          "model_module_version": "1.5.0",
          "state": {
            "_dom_classes": [],
            "_model_module": "@jupyter-widgets/controls",
            "_model_module_version": "1.5.0",
            "_model_name": "FloatProgressModel",
            "_view_count": null,
            "_view_module": "@jupyter-widgets/controls",
            "_view_module_version": "1.5.0",
            "_view_name": "ProgressView",
            "bar_style": "success",
            "description": "",
            "description_tooltip": null,
            "layout": "IPY_MODEL_71d4a824fd964844a78a2482d1c2d195",
            "max": 46807446,
            "min": 0,
            "orientation": "horizontal",
            "style": "IPY_MODEL_cbe2d1a9371349489766846233e8ca49",
            "value": 46807446
          }
        },
        "c19b444867e54cfbbb56dfc1fc2401c5": {
          "model_module": "@jupyter-widgets/controls",
          "model_name": "HTMLModel",
          "model_module_version": "1.5.0",
          "state": {
            "_dom_classes": [],
            "_model_module": "@jupyter-widgets/controls",
            "_model_module_version": "1.5.0",
            "_model_name": "HTMLModel",
            "_view_count": null,
            "_view_module": "@jupyter-widgets/controls",
            "_view_module_version": "1.5.0",
            "_view_name": "HTMLView",
            "description": "",
            "description_tooltip": null,
            "layout": "IPY_MODEL_c91e15f89a384761a6bbf73d470bce69",
            "placeholder": "​",
            "style": "IPY_MODEL_5b03de2f1935456bb16c151657257008",
            "value": " 46.8M/46.8M [00:00&lt;00:00, 194MB/s]"
          }
        },
        "ca5cbbdbd262477abcdb42352841ba4f": {
          "model_module": "@jupyter-widgets/base",
          "model_name": "LayoutModel",
          "model_module_version": "1.2.0",
          "state": {
            "_model_module": "@jupyter-widgets/base",
            "_model_module_version": "1.2.0",
            "_model_name": "LayoutModel",
            "_view_count": null,
            "_view_module": "@jupyter-widgets/base",
            "_view_module_version": "1.2.0",
            "_view_name": "LayoutView",
            "align_content": null,
            "align_items": null,
            "align_self": null,
            "border": null,
            "bottom": null,
            "display": null,
            "flex": null,
            "flex_flow": null,
            "grid_area": null,
            "grid_auto_columns": null,
            "grid_auto_flow": null,
            "grid_auto_rows": null,
            "grid_column": null,
            "grid_gap": null,
            "grid_row": null,
            "grid_template_areas": null,
            "grid_template_columns": null,
            "grid_template_rows": null,
            "height": null,
            "justify_content": null,
            "justify_items": null,
            "left": null,
            "margin": null,
            "max_height": null,
            "max_width": null,
            "min_height": null,
            "min_width": null,
            "object_fit": null,
            "object_position": null,
            "order": null,
            "overflow": null,
            "overflow_x": null,
            "overflow_y": null,
            "padding": null,
            "right": null,
            "top": null,
            "visibility": null,
            "width": null
          }
        },
        "7c7be5d3e93144bd87e28d43e4c6b945": {
          "model_module": "@jupyter-widgets/base",
          "model_name": "LayoutModel",
          "model_module_version": "1.2.0",
          "state": {
            "_model_module": "@jupyter-widgets/base",
            "_model_module_version": "1.2.0",
            "_model_name": "LayoutModel",
            "_view_count": null,
            "_view_module": "@jupyter-widgets/base",
            "_view_module_version": "1.2.0",
            "_view_name": "LayoutView",
            "align_content": null,
            "align_items": null,
            "align_self": null,
            "border": null,
            "bottom": null,
            "display": null,
            "flex": null,
            "flex_flow": null,
            "grid_area": null,
            "grid_auto_columns": null,
            "grid_auto_flow": null,
            "grid_auto_rows": null,
            "grid_column": null,
            "grid_gap": null,
            "grid_row": null,
            "grid_template_areas": null,
            "grid_template_columns": null,
            "grid_template_rows": null,
            "height": null,
            "justify_content": null,
            "justify_items": null,
            "left": null,
            "margin": null,
            "max_height": null,
            "max_width": null,
            "min_height": null,
            "min_width": null,
            "object_fit": null,
            "object_position": null,
            "order": null,
            "overflow": null,
            "overflow_x": null,
            "overflow_y": null,
            "padding": null,
            "right": null,
            "top": null,
            "visibility": null,
            "width": null
          }
        },
        "0e25acde92f940d581761097b435c06e": {
          "model_module": "@jupyter-widgets/controls",
          "model_name": "DescriptionStyleModel",
          "model_module_version": "1.5.0",
          "state": {
            "_model_module": "@jupyter-widgets/controls",
            "_model_module_version": "1.5.0",
            "_model_name": "DescriptionStyleModel",
            "_view_count": null,
            "_view_module": "@jupyter-widgets/base",
            "_view_module_version": "1.2.0",
            "_view_name": "StyleView",
            "description_width": ""
          }
        },
        "71d4a824fd964844a78a2482d1c2d195": {
          "model_module": "@jupyter-widgets/base",
          "model_name": "LayoutModel",
          "model_module_version": "1.2.0",
          "state": {
            "_model_module": "@jupyter-widgets/base",
            "_model_module_version": "1.2.0",
            "_model_name": "LayoutModel",
            "_view_count": null,
            "_view_module": "@jupyter-widgets/base",
            "_view_module_version": "1.2.0",
            "_view_name": "LayoutView",
            "align_content": null,
            "align_items": null,
            "align_self": null,
            "border": null,
            "bottom": null,
            "display": null,
            "flex": null,
            "flex_flow": null,
            "grid_area": null,
            "grid_auto_columns": null,
            "grid_auto_flow": null,
            "grid_auto_rows": null,
            "grid_column": null,
            "grid_gap": null,
            "grid_row": null,
            "grid_template_areas": null,
            "grid_template_columns": null,
            "grid_template_rows": null,
            "height": null,
            "justify_content": null,
            "justify_items": null,
            "left": null,
            "margin": null,
            "max_height": null,
            "max_width": null,
            "min_height": null,
            "min_width": null,
            "object_fit": null,
            "object_position": null,
            "order": null,
            "overflow": null,
            "overflow_x": null,
            "overflow_y": null,
            "padding": null,
            "right": null,
            "top": null,
            "visibility": null,
            "width": null
          }
        },
        "cbe2d1a9371349489766846233e8ca49": {
          "model_module": "@jupyter-widgets/controls",
          "model_name": "ProgressStyleModel",
          "model_module_version": "1.5.0",
          "state": {
            "_model_module": "@jupyter-widgets/controls",
            "_model_module_version": "1.5.0",
            "_model_name": "ProgressStyleModel",
            "_view_count": null,
            "_view_module": "@jupyter-widgets/base",
            "_view_module_version": "1.2.0",
            "_view_name": "StyleView",
            "bar_color": null,
            "description_width": ""
          }
        },
        "c91e15f89a384761a6bbf73d470bce69": {
          "model_module": "@jupyter-widgets/base",
          "model_name": "LayoutModel",
          "model_module_version": "1.2.0",
          "state": {
            "_model_module": "@jupyter-widgets/base",
            "_model_module_version": "1.2.0",
            "_model_name": "LayoutModel",
            "_view_count": null,
            "_view_module": "@jupyter-widgets/base",
            "_view_module_version": "1.2.0",
            "_view_name": "LayoutView",
            "align_content": null,
            "align_items": null,
            "align_self": null,
            "border": null,
            "bottom": null,
            "display": null,
            "flex": null,
            "flex_flow": null,
            "grid_area": null,
            "grid_auto_columns": null,
            "grid_auto_flow": null,
            "grid_auto_rows": null,
            "grid_column": null,
            "grid_gap": null,
            "grid_row": null,
            "grid_template_areas": null,
            "grid_template_columns": null,
            "grid_template_rows": null,
            "height": null,
            "justify_content": null,
            "justify_items": null,
            "left": null,
            "margin": null,
            "max_height": null,
            "max_width": null,
            "min_height": null,
            "min_width": null,
            "object_fit": null,
            "object_position": null,
            "order": null,
            "overflow": null,
            "overflow_x": null,
            "overflow_y": null,
            "padding": null,
            "right": null,
            "top": null,
            "visibility": null,
            "width": null
          }
        },
        "5b03de2f1935456bb16c151657257008": {
          "model_module": "@jupyter-widgets/controls",
          "model_name": "DescriptionStyleModel",
          "model_module_version": "1.5.0",
          "state": {
            "_model_module": "@jupyter-widgets/controls",
            "_model_module_version": "1.5.0",
            "_model_name": "DescriptionStyleModel",
            "_view_count": null,
            "_view_module": "@jupyter-widgets/base",
            "_view_module_version": "1.2.0",
            "_view_name": "StyleView",
            "description_width": ""
          }
        }
      }
    }
  },
  "nbformat": 4,
  "nbformat_minor": 0
}