{
  "nbformat": 4,
  "nbformat_minor": 0,
  "metadata": {
    "colab": {
      "provenance": []
    },
    "kernelspec": {
      "name": "python3",
      "display_name": "Python 3"
    },
    "language_info": {
      "name": "python"
    }
  },
  "cells": [
    {
      "cell_type": "code",
      "execution_count": 1,
      "metadata": {
        "id": "uxcE1tFTG7Ts"
      },
      "outputs": [],
      "source": [
        "import torch\n",
        "\n",
        "from torchvision.datasets import FashionMNIST"
      ]
    },
    {
      "cell_type": "code",
      "source": [
        "ds = FashionMNIST (root = \"data\", train = True, download =True)\n",
        "test_ds =  FashionMNIST ( root = \"data\", train = False, download = True)\n",
        "classes = ['T-shirt/top ' , '1: Trouser',  'Pullover', 'Dress', 'Coat', 'Sandal', 'Shirt', 'Sneaker', 'Bag', 'Ankle boot']"
      ],
      "metadata": {
        "id": "8WJVpY1IHClR"
      },
      "execution_count": 2,
      "outputs": []
    },
    {
      "cell_type": "code",
      "source": [
        "print(f\" Train datasetda {len(ds)}ta rasm bor.\")\n",
        "print(f\" Test datasetda {len(test_ds)}ta rasm bor.\")\n",
        "print(f\" FashionMNIST datasetida {len(classes)}ta nom bor.\")"
      ],
      "metadata": {
        "colab": {
          "base_uri": "https://localhost:8080/"
        },
        "id": "xxi1HpAoHOdX",
        "outputId": "3aff2537-c4db-4ef8-fbab-8c280619c28b"
      },
      "execution_count": 3,
      "outputs": [
        {
          "output_type": "stream",
          "name": "stdout",
          "text": [
            " Train datasetda 60000ta rasm bor.\n",
            " Test datasetda 10000ta rasm bor.\n",
            " FashionMNIST datasetida 10ta nom bor.\n"
          ]
        }
      ]
    },
    {
      "cell_type": "code",
      "source": [
        "data = ds[20000]\n",
        "len(data)"
      ],
      "metadata": {
        "colab": {
          "base_uri": "https://localhost:8080/"
        },
        "id": "veZWrAf8I9f7",
        "outputId": "ebac45d0-df15-48e4-be10-a894e2dfefda"
      },
      "execution_count": 4,
      "outputs": [
        {
          "output_type": "execute_result",
          "data": {
            "text/plain": [
              "2"
            ]
          },
          "metadata": {},
          "execution_count": 4
        }
      ]
    },
    {
      "cell_type": "code",
      "source": [
        "type(data[0])\n"
      ],
      "metadata": {
        "colab": {
          "base_uri": "https://localhost:8080/"
        },
        "id": "Al5bCT5NV4d5",
        "outputId": "cbab4c39-d7a6-44ca-db5a-1f7f76ea7bc8"
      },
      "execution_count": 5,
      "outputs": [
        {
          "output_type": "execute_result",
          "data": {
            "text/plain": [
              "PIL.Image.Image"
            ]
          },
          "metadata": {},
          "execution_count": 5
        }
      ]
    },
    {
      "cell_type": "code",
      "source": [
        "type(data[1])"
      ],
      "metadata": {
        "colab": {
          "base_uri": "https://localhost:8080/"
        },
        "id": "cLbxm7MsV5ZH",
        "outputId": "91f6f325-6b2e-4613-b584-98d4c232ccd5"
      },
      "execution_count": 6,
      "outputs": [
        {
          "output_type": "execute_result",
          "data": {
            "text/plain": [
              "int"
            ]
          },
          "metadata": {},
          "execution_count": 6
        }
      ]
    },
    {
      "cell_type": "code",
      "source": [
        "rasm, raqam = data [0], data[1]\n",
        "print(rasm.size)\n",
        "print(raqam)"
      ],
      "metadata": {
        "colab": {
          "base_uri": "https://localhost:8080/"
        },
        "id": "9wUn8_1oV76e",
        "outputId": "86be6acc-5065-4176-ac35-ecdeabd74533"
      },
      "execution_count": 7,
      "outputs": [
        {
          "output_type": "stream",
          "name": "stdout",
          "text": [
            "(28, 28)\n",
            "7\n"
          ]
        }
      ]
    },
    {
      "cell_type": "code",
      "source": [
        "display(rasm)"
      ],
      "metadata": {
        "colab": {
          "base_uri": "https://localhost:8080/",
          "height": 45
        },
        "id": "0hzVRUutWBcn",
        "outputId": "b7f12aeb-91df-4501-db8f-aed3ae3b55fe"
      },
      "execution_count": 8,
      "outputs": [
        {
          "output_type": "display_data",
          "data": {
            "text/plain": [
              "<PIL.Image.Image image mode=L size=28x28>"
            ],
            "image/png": "[encoded data removed]"
          },
          "metadata": {}
        }
      ]
    },
    {
      "cell_type": "code",
      "source": [
        "import numpy as np\n",
        "rasm_array = np.array(rasm)\n",
        "rasm_array"
      ],
      "metadata": {
        "colab": {
          "base_uri": "https://localhost:8080/"
        },
        "id": "_XOsyPU_Wg8I",
        "outputId": "aaad103c-73cd-443b-ab44-1a3600568775"
      },
      "execution_count": 9,
      "outputs": [
        {
          "output_type": "execute_result",
          "data": {
            "text/plain": [
              "array([[  0,   0,   0,   0,   0,   0,   0,   0,   0,   0,   0,   0,   0,\n",
              "          0,   0,   0,   0,   0,   0,   0,   0,   0,   0,   0,   0,   0,\n",
              "          0,   0],\n",
              "       [  0,   0,   0,   0,   0,   0,   0,   0,   0,   0,   0,   0,   0,\n",
              "          0,   0,   0,   0,   0,   0,   0,   0,   0,   0,   0,   0,   0,\n",
              "          0,   0],\n",
              "       [  0,   0,   0,   0,   0,   0,   0,   0,   0,   0,   0,   0,   0,\n",
              "          0,   0,   0,   0,   0,   0,   0,   0,   0,   0,   0,   0,   0,\n",
              "          0,   0],\n",
              "       [  0,   0,   0,   0,   0,   0,   0,   0,   0,   0,   0,   0,   0,\n",
              "          0,   0,   0,   0,   0,   0,   0,   0,   0,   0,   0,   0,   0,\n",
              "          0,   0],\n",
              "       [  0,   0,   0,   0,   0,   0,   0,   0,   0,   0,   0,   0,   0,\n",
              "          0,   0,   0,   0,   0,   0,   0,   0,   0,   0,   0,   0,   0,\n",
              "          0,   0],\n",
              "       [  0,   0,   0,   0,   0,   0,   0,   0,   0,   0,   0,   0,   0,\n",
              "          0,   0,   0,   0,   0,   0,   0,   0,   0,   0,   0,   0,   0,\n",
              "          0,   0],\n",
              "       [  0,   0,   0,   0,   0,   0,   0,   0,   0,   0,   0,   0,   0,\n",
              "          0,   0,   0,   0,   0,   0,   0,   0,   0,   0,   0,   0,   0,\n",
              "          0,   0],\n",
              "       [  0,   0,   0,   0,   0,   0,   0,   0,   0,   0,   0,   0,   0,\n",
              "          0,   0,   0,   0,   0,   0,   0,   0,   0,   0,   0,   0,   0,\n",
              "          0,   0],\n",
              "       [  0,   0,   0,   0,   0,   0,   0,   0,   0,   0,   0,   0,   0,\n",
              "          0,   0,   0,   0,   0,   0,   0,   0,   0,   0,   0,   0,   0,\n",
              "          0,   0],\n",
              "       [  0,   0,   0,   0,   0,   0,   0,   0,   0,   0,   0,   3,   0,\n",
              "          0,  36,  67,  56,   0,   0,   3,   0,   0,   0,   0,   0,   0,\n",
              "         40,  27],\n",
              "       [  0,   0,   0,   0,   0,   0,   0,   0,   2,   0,   0,   0,   0,\n",
              "        160, 255, 217, 255,  94,   0,   0,   0,   1,   4,   0,   0,   0,\n",
              "         65,  38],\n",
              "       [  0,   0,   0,   0,   0,   0,   1,   0,   0,   0,   0, 150, 236,\n",
              "        215, 200, 195, 197, 251, 198,  41,   0,   0,   0,   0,   0,  63,\n",
              "        236,  26],\n",
              "       [  0,   2,   1,   0,   0,   0,   0,   0,  66, 167, 242, 216, 204,\n",
              "        190, 191, 201, 199, 197, 213, 255, 196, 122,  96, 122, 186, 206,\n",
              "        227,  63],\n",
              "       [  0,   0,   0,   0,   0,   0,  41, 178, 224, 213, 199, 192, 193,\n",
              "        191, 192, 199, 206, 205, 203, 206, 214, 225, 226, 224, 219, 204,\n",
              "        217, 126],\n",
              "       [  0,  74, 134, 146, 166, 191, 204, 200, 193, 190, 193, 196, 193,\n",
              "        202, 204, 207, 205, 200, 203, 205, 202, 201, 199, 198, 200, 197,\n",
              "        221, 132],\n",
              "       [ 12, 164, 214, 217, 220, 216, 215, 209, 211, 208, 207, 205, 207,\n",
              "        209, 206, 206, 206, 206, 208, 207, 208, 206, 206, 207, 207, 203,\n",
              "        226, 150],\n",
              "       [ 28,   2,   0,  16,  43,  82, 119, 134, 169, 185, 206, 219, 223,\n",
              "        228, 233, 238, 242, 241, 238, 235, 237, 237, 236, 233, 228, 216,\n",
              "        246, 104],\n",
              "       [ 33,  56,  43,  19,   0,   0,   0,   0,   0,   0,   0,   0,   0,\n",
              "          0,   8,  16,  13,  18,  21,  13,  11,  15,  20,  20,  22,  21,\n",
              "         60,  37],\n",
              "       [  0,   1,  13,  41,  75,  81,  68,  67,  57,  47,  38,  38,  32,\n",
              "         35,  38,  35,  37,  41,  37,  36,  38,  40,  47,  53,  61,  79,\n",
              "        114,  63],\n",
              "       [  0,   0,   0,   0,   1,  15,  31,  56,  66,  68,  82,  90,  81,\n",
              "         71,  62,  46,  34,  33,  38,  45,  46,  43,  30,  19,  14,  17,\n",
              "         22,   0],\n",
              "       [  0,   0,   0,   0,   0,   0,   0,   0,   0,   0,   0,   0,   0,\n",
              "          0,   0,   0,   0,   0,   0,   0,   0,   0,   0,   0,   0,   0,\n",
              "          0,   0],\n",
              "       [  0,   0,   0,   0,   0,   0,   0,   0,   0,   0,   0,   0,   0,\n",
              "          0,   0,   0,   0,   0,   0,   0,   0,   0,   0,   0,   0,   0,\n",
              "          0,   0],\n",
              "       [  0,   0,   0,   0,   0,   0,   0,   0,   0,   0,   0,   0,   0,\n",
              "          0,   0,   0,   0,   0,   0,   0,   0,   0,   0,   0,   0,   0,\n",
              "          0,   0],\n",
              "       [  0,   0,   0,   0,   0,   0,   0,   0,   0,   0,   0,   0,   0,\n",
              "          0,   0,   0,   0,   0,   0,   0,   0,   0,   0,   0,   0,   0,\n",
              "          0,   0],\n",
              "       [  0,   0,   0,   0,   0,   0,   0,   0,   0,   0,   0,   0,   0,\n",
              "          0,   0,   0,   0,   0,   0,   0,   0,   0,   0,   0,   0,   0,\n",
              "          0,   0],\n",
              "       [  0,   0,   0,   0,   0,   0,   0,   0,   0,   0,   0,   0,   0,\n",
              "          0,   0,   0,   0,   0,   0,   0,   0,   0,   0,   0,   0,   0,\n",
              "          0,   0],\n",
              "       [  0,   0,   0,   0,   0,   0,   0,   0,   0,   0,   0,   0,   0,\n",
              "          0,   0,   0,   0,   0,   0,   0,   0,   0,   0,   0,   0,   0,\n",
              "          0,   0],\n",
              "       [  0,   0,   0,   0,   0,   0,   0,   0,   0,   0,   0,   0,   0,\n",
              "          0,   0,   0,   0,   0,   0,   0,   0,   0,   0,   0,   0,   0,\n",
              "          0,   0]], dtype=uint8)"
            ]
          },
          "metadata": {},
          "execution_count": 9
        }
      ]
    },
    {
      "cell_type": "code",
      "source": [
        "!pip install pandas\n",
        "!pip install torch\n"
      ],
      "metadata": {
        "colab": {
          "base_uri": "https://localhost:8080/"
        },
        "id": "XosIqgN9XW9T",
        "outputId": "6da663a9-7745-46e6-944f-bc050cb39c9d"
      },
      "execution_count": 10,
      "outputs": [
        {
          "output_type": "stream",
          "name": "stdout",
          "text": [
            "Requirement already satisfied: pandas in /usr/local/lib/python3.10/dist-packages (1.5.3)\n",
            "Requirement already satisfied: python-dateutil>=2.8.1 in /usr/local/lib/python3.10/dist-packages (from pandas) (2.8.2)\n",
            "Requirement already satisfied: pytz>=2020.1 in /usr/local/lib/python3.10/dist-packages (from pandas) (2023.3.post1)\n",
            "Requirement already satisfied: numpy>=1.21.0 in /usr/local/lib/python3.10/dist-packages (from pandas) (1.23.5)\n",
            "Requirement already satisfied: six>=1.5 in /usr/local/lib/python3.10/dist-packages (from python-dateutil>=2.8.1->pandas) (1.16.0)\n",
            "Requirement already satisfied: torch in /usr/local/lib/python3.10/dist-packages (2.1.0+cu118)\n",
            "Requirement already satisfied: filelock in /usr/local/lib/python3.10/dist-packages (from torch) (3.12.4)\n",
            "Requirement already satisfied: typing-extensions in /usr/local/lib/python3.10/dist-packages (from torch) (4.5.0)\n",
            "Requirement already satisfied: sympy in /usr/local/lib/python3.10/dist-packages (from torch) (1.12)\n",
            "Requirement already satisfied: networkx in /usr/local/lib/python3.10/dist-packages (from torch) (3.2)\n",
            "Requirement already satisfied: jinja2 in /usr/local/lib/python3.10/dist-packages (from torch) (3.1.2)\n",
            "Requirement already satisfied: fsspec in /usr/local/lib/python3.10/dist-packages (from torch) (2023.6.0)\n",
            "Requirement already satisfied: triton==2.1.0 in /usr/local/lib/python3.10/dist-packages (from torch) (2.1.0)\n",
            "Requirement already satisfied: MarkupSafe>=2.0 in /usr/local/lib/python3.10/dist-packages (from jinja2->torch) (2.1.3)\n",
            "Requirement already satisfied: mpmath>=0.19 in /usr/local/lib/python3.10/dist-packages (from sympy->torch) (1.3.0)\n"
          ]
        }
      ]
    },
    {
      "cell_type": "code",
      "source": [
        "!pip install matplotlib"
      ],
      "metadata": {
        "colab": {
          "base_uri": "https://localhost:8080/"
        },
        "id": "P13--bFyX9Lq",
        "outputId": "bf0ea268-58c0-4263-c157-0b9d7fe0eed8"
      },
      "execution_count": 11,
      "outputs": [
        {
          "output_type": "stream",
          "name": "stdout",
          "text": [
            "Requirement already satisfied: matplotlib in /usr/local/lib/python3.10/dist-packages (3.7.1)\n",
            "Requirement already satisfied: contourpy>=1.0.1 in /usr/local/lib/python3.10/dist-packages (from matplotlib) (1.1.1)\n",
            "Requirement already satisfied: cycler>=0.10 in /usr/local/lib/python3.10/dist-packages (from matplotlib) (0.12.1)\n",
            "Requirement already satisfied: fonttools>=4.22.0 in /usr/local/lib/python3.10/dist-packages (from matplotlib) (4.43.1)\n",
            "Requirement already satisfied: kiwisolver>=1.0.1 in /usr/local/lib/python3.10/dist-packages (from matplotlib) (1.4.5)\n",
            "Requirement already satisfied: numpy>=1.20 in /usr/local/lib/python3.10/dist-packages (from matplotlib) (1.23.5)\n",
            "Requirement already satisfied: packaging>=20.0 in /usr/local/lib/python3.10/dist-packages (from matplotlib) (23.2)\n",
            "Requirement already satisfied: pillow>=6.2.0 in /usr/local/lib/python3.10/dist-packages (from matplotlib) (9.4.0)\n",
            "Requirement already satisfied: pyparsing>=2.3.1 in /usr/local/lib/python3.10/dist-packages (from matplotlib) (3.1.1)\n",
            "Requirement already satisfied: python-dateutil>=2.7 in /usr/local/lib/python3.10/dist-packages (from matplotlib) (2.8.2)\n",
            "Requirement already satisfied: six>=1.5 in /usr/local/lib/python3.10/dist-packages (from python-dateutil>=2.7->matplotlib) (1.16.0)\n"
          ]
        }
      ]
    },
    {
      "cell_type": "code",
      "source": [
        "from  matplotlib import pyplot as plt\n",
        "plt.imshow(rasm, cmap =\"gray\")"
      ],
      "metadata": {
        "colab": {
          "base_uri": "https://localhost:8080/",
          "height": 448
        },
        "id": "R1s8H381WsdH",
        "outputId": "a15fe087-6cb6-4f49-a7e8-af2bd496d195"
      },
      "execution_count": 12,
      "outputs": [
        {
          "output_type": "execute_result",
          "data": {
            "text/plain": [
              "<matplotlib.image.AxesImage at 0x7caf00b910f0>"
            ]
          },
          "metadata": {},
          "execution_count": 12
        },
        {
          "output_type": "display_data",
          "data": {
            "text/plain": [
              "<Figure size 640x480 with 1 Axes>"
            ],
            "image/png": "[encoded data removed]"
          },
          "metadata": {}
        }
      ]
    },
    {
      "cell_type": "code",
      "source": [
        "from torchvision import transforms as tfs\n",
        "tr_ts = tfs.Compose([tfs.Resize((28,28)),\n",
        "    tfs.Grayscale(num_output_channels=3),\n",
        "                          tfs.ToTensor(),\n",
        "                          tfs.Normalize (0.5, 0.5, 0.5)])\n",
        "\n",
        "test_ts = tr_ts = tfs.Compose([tfs.Resize((28,28)),\n",
        "    tfs.Grayscale(num_output_channels=3),\n",
        "                          tfs.ToTensor(),\n",
        "                          tfs.Normalize (0.5, 0.5, 0.5)])\n",
        "\n",
        "ds = FashionMNIST (root =\"data\", train = True, transform = tr_ts, download = True)\n",
        "test_ds = FashionMNIST (root = \"data\", train = False, transform = test_ts, download = True)\n",
        "classes = ['T-shirt/top ' , '1: Trouser',  'Pullover', 'Dress', 'Coat', 'Sandal', 'Shirt', 'Sneaker', 'Bag', 'Ankle boot']"
      ],
      "metadata": {
        "id": "8N-KImxZY0Bm"
      },
      "execution_count": 13,
      "outputs": []
    },
    {
      "cell_type": "code",
      "source": [
        "data = ds[3000]\n",
        "rasm , raqam = data[0], data[1]\n",
        "torch.unique(rasm)"
      ],
      "metadata": {
        "colab": {
          "base_uri": "https://localhost:8080/"
        },
        "id": "q3Ph6tqcfG-T",
        "outputId": "f95ffa0c-c6e7-4e10-d565-48b5b935b6ec"
      },
      "execution_count": 14,
      "outputs": [
        {
          "output_type": "execute_result",
          "data": {
            "text/plain": [
              "tensor([-1.0000, -0.9922, -0.9765, -0.9686, -0.9059, -0.8902, -0.8588, -0.7961,\n",
              "        -0.7647, -0.7569, -0.7020, -0.6627, -0.6471, -0.6314, -0.6235, -0.6078,\n",
              "        -0.6000, -0.5765, -0.5451, -0.5216, -0.4824, -0.4510, -0.4353, -0.4275,\n",
              "        -0.4196, -0.4039, -0.3725, -0.3490, -0.3333, -0.3176, -0.3098, -0.2941,\n",
              "        -0.2863, -0.2706, -0.2471, -0.2392, -0.2235, -0.2157, -0.2078, -0.2000,\n",
              "        -0.1922, -0.1765, -0.1686, -0.1608, -0.1529, -0.1451, -0.1294, -0.1216,\n",
              "        -0.1137, -0.1059, -0.0902, -0.0824, -0.0745, -0.0667, -0.0588, -0.0431,\n",
              "        -0.0353, -0.0275, -0.0196, -0.0118,  0.0039,  0.0118,  0.0196,  0.0275,\n",
              "         0.0353,  0.0510,  0.0588,  0.0667,  0.0745,  0.0824,  0.0980,  0.1059,\n",
              "         0.1137,  0.1216,  0.1373,  0.1451,  0.1529,  0.1608,  0.1686,  0.1843,\n",
              "         0.1922,  0.2000,  0.2078,  0.2157,  0.2314,  0.2392,  0.2471,  0.2549,\n",
              "         0.2627,  0.2784,  0.2863,  0.2941,  0.3020,  0.3098,  0.3333,  0.3412,\n",
              "         0.3490,  0.3647,  0.3725,  0.3804,  0.3961,  0.4196,  0.4275,  0.4353,\n",
              "         0.4588,  0.4667,  0.4745,  0.4824,  0.4902,  0.5059,  0.5137,  0.5294,\n",
              "         0.5373,  0.5608,  0.6471,  0.6549,  0.6863,  0.6941,  0.7882,  0.8745,\n",
              "         0.9686,  1.0000])"
            ]
          },
          "metadata": {},
          "execution_count": 14
        }
      ]
    },
    {
      "cell_type": "code",
      "source": [
        "import random\n",
        "\n",
        "def tensor_2_im(t, t_type = \"rgb\"):\n",
        "\n",
        "    gray_tfs = tfs.Compose([tfs.Normalize(mean = [ 0.], std = [1/0.5]), tfs.Normalize(mean = [-0.5], std = [1])])\n",
        "    # rgb_tfs = tfs.Compose([tfs.Normalize(mean = [ 0., 0., 0. ], std = [ 1/0.229, 1/0.224, 1/0.225 ]), tfs.Normalize(mean = [ -0.485, -0.456, -0.406 ], std = [ 1., 1., 1. ])])\n",
        "    rgb_tfs = tfs.Compose([tfs.Normalize(mean = [ 0., 0., 0. ], std = [ 1/0.5, 1/0.5, 1/0.5 ]), tfs.Normalize(mean = [ -0.5, -0.5, -0.5 ], std = [ 1., 1., 1. ])])\n",
        "\n",
        "    invTrans = gray_tfs if t_type == \"gray\" else rgb_tfs\n",
        "\n",
        "    return (invTrans(t) * 255).detach().squeeze().cpu().permute(1,2,0).numpy().astype(np.uint8) if t_type == \"gray\" else (invTrans(t) * 255).detach().cpu().permute(1,2,0).numpy().astype(np.uint8)\n",
        "\n",
        "\n",
        "def visualize(data, rasmlar_soni, qatorlar, cmap = None, klass_nomlari = None):\n",
        "\n",
        "    assert cmap in [\"rgb\", \"gray\"], \"Rasmni oq-qora yoki rangli ekanini aniqlashtirib bering!\"\n",
        "    if cmap == \"rgb\": cmap = \"viridis\"\n",
        "\n",
        "    plt.figure(figsize = (20, 10))\n",
        "    indekslar = [random.randint(0, len(data) - 1) for _ in range(rasmlar_soni)]\n",
        "    for idx, indeks in enumerate(indekslar):\n",
        "\n",
        "        im, gt = data[indeks]\n",
        "        # Start plot\n",
        "        plt.subplot(qatorlar, rasmlar_soni // qatorlar, idx + 1)\n",
        "        if cmap:\n",
        "            plt.imshow(tensor_2_im(im, cmap), cmap=cmap)\n",
        "        else:\n",
        "            plt.imshow(tensor_2_im(im))\n",
        "        plt.axis('off')\n",
        "        if klass_nomlari is not None:\n",
        "            plt.title (klass_nomlari[gt])\n",
        "        else:\n",
        "            plt.title(f\"GT -> {gt}\")"
      ],
      "metadata": {
        "id": "gqlQ6-KefSWG"
      },
      "execution_count": 15,
      "outputs": []
    },
    {
      "cell_type": "code",
      "source": [
        "visualize (data = ds, rasmlar_soni =24, qatorlar = 4, cmap = \"gray\", klass_nomlari = classes)"
      ],
      "metadata": {
        "colab": {
          "base_uri": "https://localhost:8080/",
          "height": 829
        },
        "id": "22DrdcB3fZ6j",
        "outputId": "64c03678-bd58-4b73-a9c5-a42db7b0f0ff"
      },
      "execution_count": 16,
      "outputs": [
        {
          "output_type": "display_data",
          "data": {
            "text/plain": [
              "<Figure size 2000x1000 with 24 Axes>"
            ],
            "image/png": "[encoded data removed]"
          },
          "metadata": {}
        }
      ]
    },
    {
      "cell_type": "code",
      "source": [
        "from torch.utils.data import random_split, DataLoader\n",
        "\n",
        "tr_length = int(len(ds) * 0.7)\n",
        "tr_ds , val_ds = random_split(dataset=ds, lengths= [tr_length, len(ds) - tr_length])\n",
        "print(f\"Train datasetda {len(tr_ds)} ta batch bor.\")\n",
        "print(f\"Validation datasetda {len(val_ds)} ta batch bor.\")\n",
        "print(f\"Train datasetda {len(test_ds)} ta batch bor.\")"
      ],
      "metadata": {
        "colab": {
          "base_uri": "https://localhost:8080/"
        },
        "id": "DjfHcjAfgPHJ",
        "outputId": "2a0fe063-8074-4df2-e7a4-4d9157e6203f"
      },
      "execution_count": 17,
      "outputs": [
        {
          "output_type": "stream",
          "name": "stdout",
          "text": [
            "Train datasetda 42000 ta batch bor.\n",
            "Validation datasetda 18000 ta batch bor.\n",
            "Train datasetda 10000 ta batch bor.\n"
          ]
        }
      ]
    },
    {
      "cell_type": "code",
      "source": [
        "bs = 128\n",
        "tr_dl = DataLoader(dataset =tr_ds, batch_size = bs, shuffle =True, num_workers = 4, drop_last= False)\n",
        "val_dl = DataLoader (dataset = val_ds, batch_size =bs, shuffle =False, num_workers = 4)\n",
        "test_dl = DataLoader (dataset = test_ds, batch_size = bs, shuffle =False, num_workers = 4)\n",
        "print(f\"Train dataloader {len(tr_dl)}ta batch bor.\")\n",
        "print(f\"Validation dataloaderda {len(val_dl)}ta batch bor.\")\n",
        "print(f\"Test dataloaderda {len(test_dl)}ta batch bor.\")"
      ],
      "metadata": {
        "colab": {
          "base_uri": "https://localhost:8080/"
        },
        "id": "esw8HbA9hzlQ",
        "outputId": "8a994fcb-642f-403f-d2b2-08b01b85b9d7"
      },
      "execution_count": 18,
      "outputs": [
        {
          "output_type": "stream",
          "name": "stdout",
          "text": [
            "Train dataloader 329ta batch bor.\n",
            "Validation dataloaderda 141ta batch bor.\n",
            "Test dataloaderda 79ta batch bor.\n"
          ]
        },
        {
          "output_type": "stream",
          "name": "stderr",
          "text": [
            "/usr/local/lib/python3.10/dist-packages/torch/utils/data/dataloader.py:557: UserWarning: This DataLoader will create 4 worker processes in total. Our suggested max number of worker in current system is 2, which is smaller than what this DataLoader is going to create. Please be aware that excessive worker creation might get DataLoader running slow or even freeze, lower the worker number to avoid potential slowness/freeze if necessary.\n",
            "  warnings.warn(_create_warning_msg(\n"
          ]
        }
      ]
    },
    {
      "cell_type": "code",
      "source": [
        "import torch\n",
        "from torch import nn\n",
        "\n",
        "\n",
        "class Model(nn.Module):\n",
        "\n",
        "\n",
        "\n",
        "    def __init__(self, in_chs, out_chs,in_fs, ks,s, p, n_cls) :\n",
        "        super().__init__()\n",
        "\n",
        "        self.conv_1 = nn.Conv2d(in_channels=in_chs, out_channels = out_chs, kernel_size=ks, stride= s, padding = p)\n",
        "        self.conv_2 = nn.Conv2d(in_channels=out_chs, out_channels = out_chs*2, kernel_size=ks, stride= s, padding = p)\n",
        "        self.conv_3 = nn.Conv2d(in_channels=out_chs*2, out_channels = out_chs*4, kernel_size=ks, stride= s, padding = p)\n",
        "\n",
        "        self.linear_1 = nn.Linear(in_features=in_fs, out_features= in_fs // 2)\n",
        "        self.linear_2 = nn.Linear(in_features=in_fs //2 , out_features= n_cls)\n",
        "        self.act = nn.ReLU()\n",
        "        self.mp = nn.MaxPool2d(kernel_size =2, stride = 2)\n",
        "\n",
        "\n",
        "    def forward(self, inp):\n",
        "\n",
        "      out = self.conv_1(inp)\n",
        "      out = self.act(out)\n",
        "      out = self.mp(out)\n",
        "\n",
        "      out = self.conv_2(out)\n",
        "      out = self.act(out)\n",
        "      out = self.mp(out)\n",
        "\n",
        "      out = self.conv_3(out)\n",
        "      out = self.act(out)\n",
        "      out = self.mp(out)\n",
        "\n",
        "      print(out.shape)\n",
        "\n",
        "      bs= inp.shape[0]\n",
        "      out = out.view(bs, -1)\n",
        "\n",
        "      out= self.linear_1(out)\n",
        "      out = self.act(out)\n",
        "      out = self.linear_2(out)\n",
        "\n",
        "      return out\n",
        "\n",
        "rasm = torch.rand(1, 3, 28, 28)\n",
        "model = Model(in_chs = 3, out_chs=8, in_fs= 288 , ks=3 , s=1, p=1, n_cls=10)\n",
        "model(rasm).shape"
      ],
      "metadata": {
        "colab": {
          "base_uri": "https://localhost:8080/"
        },
        "id": "XFMT8io5lm_B",
        "outputId": "e6028abe-5b5b-4550-f5dc-25d2eaadab24"
      },
      "execution_count": 19,
      "outputs": [
        {
          "output_type": "stream",
          "name": "stdout",
          "text": [
            "torch.Size([1, 32, 3, 3])\n"
          ]
        },
        {
          "output_type": "execute_result",
          "data": {
            "text/plain": [
              "torch.Size([1, 10])"
            ]
          },
          "metadata": {},
          "execution_count": 19
        }
      ]
    },
    {
      "cell_type": "code",
      "source": [
        "import torch\n",
        "inp = torch.rand ( 1,3 , 28, 28)\n",
        "model.eval()\n",
        "model(inp)"
      ],
      "metadata": {
        "colab": {
          "base_uri": "https://localhost:8080/"
        },
        "id": "79LjA7sPmyS6",
        "outputId": "07841dbe-e740-4b50-aeca-9e7da8dfc49b"
      },
      "execution_count": 20,
      "outputs": [
        {
          "output_type": "stream",
          "name": "stdout",
          "text": [
            "torch.Size([1, 32, 3, 3])\n"
          ]
        },
        {
          "output_type": "execute_result",
          "data": {
            "text/plain": [
              "tensor([[ 0.0777, -0.0758, -0.0063, -0.0308, -0.0296,  0.0219,  0.0459,  0.0421,\n",
              "          0.0980, -0.0201]], grad_fn=<AddmmBackward0>)"
            ]
          },
          "metadata": {},
          "execution_count": 20
        }
      ]
    },
    {
      "cell_type": "code",
      "source": [
        "epochs = 1\n",
        "device = \"cpu\"\n",
        "model.to(device)\n",
        "model.train()\n",
        "loss_fn = torch.nn.CrossEntropyLoss()\n",
        "optimizer = torch.optim.Adam(params = model.parameters(), lr = 0.001)"
      ],
      "metadata": {
        "id": "6pov9Zn8nIod"
      },
      "execution_count": 21,
      "outputs": []
    },
    {
      "cell_type": "code",
      "source": [
        "from tqdm import tqdm\n",
        "import os\n",
        "\n",
        "best_acc = 0\n",
        "prefix = \"FashionMNIST\"\n",
        "\n",
        "\n",
        "for epoch in range  (epochs):\n",
        "\n",
        "    model.train()\n",
        "    print(f\" {epoch + 1} - epoch jarayonlari boshlandi\")\n",
        "\n",
        "\n",
        "    epoch_loss, epoch_acc, total = 0, 0, 0\n",
        "\n",
        "\n",
        "    for i, batch in tqdm (enumerate(tr_dl)):\n",
        "      rasm, gts = batch\n",
        "      rasm, gts = rasm.to(device), gts.to(device)\n",
        "      total += rasm.shape[0]\n",
        "\n",
        "      preds = model (rasm)\n",
        "      loss = loss_fn(preds , gts)\n",
        "      pred_cls = torch.argmax(preds.data, dim = 1)\n",
        "      epoch_acc += (pred_cls == gts).sum().item()\n",
        "      epoch_loss += loss.item()\n",
        "\n",
        "      optimizer.zero_grad()\n",
        "      loss.backward()\n",
        "      optimizer.step()\n",
        "\n",
        "\n",
        "print(\"\\n ~~~~~~~~~~~~~~~~~~~~~~~~~~~~~~~~~~~~~~~~~~~~~~~~~~~~~~~~~~~~~~~~~~~~~~~~~~~~~~\\n\")\n",
        "print(f\"{epoch +1 }- epoch train jarayoni natijalari :\")\n",
        "print(f\" {epoch +1}- epochdagi train loss     -> {(epoch_loss / len(tr_dl)):.3f}\")\n",
        "print(f\" {epoch +1}- epochdagi train accuracy     -> {(epoch_acc / total):.3f}\")\n",
        "\n",
        "\n",
        "\n",
        "model.eval()\n",
        "with torch.no_grad():\n",
        "   val_epoch_loss, val_epoch_acc, val_total = 0,0,0\n",
        "\n",
        "   for ids, batch in tqdm(enumerate(val_dl)):\n",
        "      rasm, gts = batch\n",
        "      rasm, gts = rasm.to(device), gts.to(device)\n",
        "      val_total += rasm.shape[0]\n",
        "\n",
        "\n",
        "      preds = model (rasm)\n",
        "      loss = loss_fn(preds, gts )\n",
        "      pred_cls = torch.argmax(preds.data, dim = 1)\n",
        "\n",
        "\n",
        "      val_epoch_acc += (pred_cls == gts).sum().item()\n",
        "      val_epoch_loss += loss.item()\n",
        "\n",
        "      val_acc = val_epoch_acc / val_total\n",
        "\n",
        "print(\"\\n ~~~~~~~~~~~~~~~~~~~~~~~~~~~~~~~~~~~~~~~~~~~~~~~~~~~~~~~~~~~~~~~~~~~~~~~~~~~~~~~~~~~~~\\n\")\n",
        "print(f\"{epoch +1 }- epoch validation jarayoni natijalari :\")\n",
        "print(f\" {epoch +1}- epochdagi validation loss     -> {(val_epoch_loss / len(val_dl)):.3f}\")\n",
        "print(f\" {epoch +1}- epochdagi validation accuracy     -> {(val_acc):.3f}\")\n",
        "\n",
        "\n",
        "if val_acc > best_acc:\n",
        "          os.makedirs(\"modellar\", exist_ok=True)\n",
        "          best_acc = val_acc\n",
        "          torch.save(model.state_dict(), f\"modellar/{prefix}_best_model.pth\")\n",
        "\n",
        "\n",
        "\n",
        "\n",
        "\n",
        "\n",
        "\n",
        "\n",
        "\n",
        "\n",
        "\n",
        "\n",
        "\n"
      ],
      "metadata": {
        "colab": {
          "base_uri": "https://localhost:8080/"
        },
        "id": "N8BstPoVnmx6",
        "outputId": "84d1ef7d-4a01-400e-be2d-77dd72a16075"
      },
      "execution_count": 22,
      "outputs": [
        {
          "output_type": "stream",
          "name": "stdout",
          "text": [
            " 1 - epoch jarayonlari boshlandi\n"
          ]
        },
        {
          "output_type": "stream",
          "name": "stderr",
          "text": [
            "1it [00:00,  2.32it/s]"
          ]
        },
        {
          "output_type": "stream",
          "name": "stdout",
          "text": [
            "torch.Size([128, 32, 3, 3])\n",
            "torch.Size([128, 32, 3, 3])\n"
          ]
        },
        {
          "output_type": "stream",
          "name": "stderr",
          "text": [
            "5it [00:00,  8.26it/s]"
          ]
        },
        {
          "output_type": "stream",
          "name": "stdout",
          "text": [
            "torch.Size([128, 32, 3, 3])\n",
            "torch.Size([128, 32, 3, 3])\n",
            "torch.Size([128, 32, 3, 3])\n"
          ]
        },
        {
          "output_type": "stream",
          "name": "stderr",
          "text": [
            "\r7it [00:00, 10.05it/s]"
          ]
        },
        {
          "output_type": "stream",
          "name": "stdout",
          "text": [
            "torch.Size([128, 32, 3, 3])\n",
            "torch.Size([128, 32, 3, 3])\n",
            "torch.Size([128, 32, 3, 3])\n"
          ]
        },
        {
          "output_type": "stream",
          "name": "stderr",
          "text": [
            "11it [00:01, 11.33it/s]"
          ]
        },
        {
          "output_type": "stream",
          "name": "stdout",
          "text": [
            "torch.Size([128, 32, 3, 3])\n",
            "torch.Size([128, 32, 3, 3])\n",
            "torch.Size([128, 32, 3, 3])\n"
          ]
        },
        {
          "output_type": "stream",
          "name": "stderr",
          "text": [
            "\r13it [00:01, 11.07it/s]"
          ]
        },
        {
          "output_type": "stream",
          "name": "stdout",
          "text": [
            "torch.Size([128, 32, 3, 3])\n",
            "torch.Size([128, 32, 3, 3])\n"
          ]
        },
        {
          "output_type": "stream",
          "name": "stderr",
          "text": [
            "\r15it [00:01,  9.82it/s]"
          ]
        },
        {
          "output_type": "stream",
          "name": "stdout",
          "text": [
            "torch.Size([128, 32, 3, 3])\n",
            "torch.Size([128, 32, 3, 3])\n"
          ]
        },
        {
          "output_type": "stream",
          "name": "stderr",
          "text": [
            "\r17it [00:01, 10.74it/s]"
          ]
        },
        {
          "output_type": "stream",
          "name": "stdout",
          "text": [
            "torch.Size([128, 32, 3, 3])\n",
            "torch.Size([128, 32, 3, 3])\n"
          ]
        },
        {
          "output_type": "stream",
          "name": "stderr",
          "text": [
            "\r19it [00:02,  9.33it/s]"
          ]
        },
        {
          "output_type": "stream",
          "name": "stdout",
          "text": [
            "torch.Size([128, 32, 3, 3])\n",
            "torch.Size([128, 32, 3, 3])\n"
          ]
        },
        {
          "output_type": "stream",
          "name": "stderr",
          "text": [
            "\r21it [00:02, 10.64it/s]"
          ]
        },
        {
          "output_type": "stream",
          "name": "stdout",
          "text": [
            "torch.Size([128, 32, 3, 3])\n",
            "torch.Size([128, 32, 3, 3])\n",
            "torch.Size([128, 32, 3, 3])\n"
          ]
        },
        {
          "output_type": "stream",
          "name": "stderr",
          "text": [
            "25it [00:02, 11.86it/s]"
          ]
        },
        {
          "output_type": "stream",
          "name": "stdout",
          "text": [
            "torch.Size([128, 32, 3, 3])\n",
            "torch.Size([128, 32, 3, 3])\n",
            "torch.Size([128, 32, 3, 3])\n"
          ]
        },
        {
          "output_type": "stream",
          "name": "stderr",
          "text": [
            "\r27it [00:02, 11.65it/s]"
          ]
        },
        {
          "output_type": "stream",
          "name": "stdout",
          "text": [
            "torch.Size([128, 32, 3, 3])\n",
            "torch.Size([128, 32, 3, 3])\n",
            "torch.Size([128, 32, 3, 3])\n"
          ]
        },
        {
          "output_type": "stream",
          "name": "stderr",
          "text": [
            "31it [00:02, 12.17it/s]"
          ]
        },
        {
          "output_type": "stream",
          "name": "stdout",
          "text": [
            "torch.Size([128, 32, 3, 3])\n",
            "torch.Size([128, 32, 3, 3])\n",
            "torch.Size([128, 32, 3, 3])\n"
          ]
        },
        {
          "output_type": "stream",
          "name": "stderr",
          "text": [
            "\r33it [00:03, 12.71it/s]"
          ]
        },
        {
          "output_type": "stream",
          "name": "stdout",
          "text": [
            "torch.Size([128, 32, 3, 3])\n",
            "torch.Size([128, 32, 3, 3])\n",
            "torch.Size([128, 32, 3, 3])\n",
            "torch.Size([128, 32, 3, 3])\n"
          ]
        },
        {
          "output_type": "stream",
          "name": "stderr",
          "text": [
            "37it [00:03, 11.82it/s]"
          ]
        },
        {
          "output_type": "stream",
          "name": "stdout",
          "text": [
            "torch.Size([128, 32, 3, 3])\n",
            "torch.Size([128, 32, 3, 3])\n"
          ]
        },
        {
          "output_type": "stream",
          "name": "stderr",
          "text": [
            "\r39it [00:03, 10.18it/s]"
          ]
        },
        {
          "output_type": "stream",
          "name": "stdout",
          "text": [
            "torch.Size([128, 32, 3, 3])\n",
            "torch.Size([128, 32, 3, 3])\n",
            "torch.Size([128, 32, 3, 3])\n",
            "torch.Size([128, 32, 3, 3])\n"
          ]
        },
        {
          "output_type": "stream",
          "name": "stderr",
          "text": [
            "43it [00:04,  8.11it/s]"
          ]
        },
        {
          "output_type": "stream",
          "name": "stdout",
          "text": [
            "torch.Size([128, 32, 3, 3])\n",
            "torch.Size([128, 32, 3, 3])\n"
          ]
        },
        {
          "output_type": "stream",
          "name": "stderr",
          "text": [
            "\r44it [00:04,  7.90it/s]"
          ]
        },
        {
          "output_type": "stream",
          "name": "stdout",
          "text": [
            "torch.Size([128, 32, 3, 3])\n",
            "torch.Size([128, 32, 3, 3])\n"
          ]
        },
        {
          "output_type": "stream",
          "name": "stderr",
          "text": [
            "47it [00:04,  7.25it/s]"
          ]
        },
        {
          "output_type": "stream",
          "name": "stdout",
          "text": [
            "torch.Size([128, 32, 3, 3])\n",
            "torch.Size([128, 32, 3, 3])\n"
          ]
        },
        {
          "output_type": "stream",
          "name": "stderr",
          "text": [
            "49it [00:05,  7.11it/s]"
          ]
        },
        {
          "output_type": "stream",
          "name": "stdout",
          "text": [
            "torch.Size([128, 32, 3, 3])\n",
            "torch.Size([128, 32, 3, 3])\n"
          ]
        },
        {
          "output_type": "stream",
          "name": "stderr",
          "text": [
            "51it [00:05,  7.77it/s]"
          ]
        },
        {
          "output_type": "stream",
          "name": "stdout",
          "text": [
            "torch.Size([128, 32, 3, 3])\n",
            "torch.Size([128, 32, 3, 3])\n"
          ]
        },
        {
          "output_type": "stream",
          "name": "stderr",
          "text": [
            "53it [00:05,  8.02it/s]"
          ]
        },
        {
          "output_type": "stream",
          "name": "stdout",
          "text": [
            "torch.Size([128, 32, 3, 3])\n",
            "torch.Size([128, 32, 3, 3])\n"
          ]
        },
        {
          "output_type": "stream",
          "name": "stderr",
          "text": [
            "55it [00:05,  7.84it/s]"
          ]
        },
        {
          "output_type": "stream",
          "name": "stdout",
          "text": [
            "torch.Size([128, 32, 3, 3])\n",
            "torch.Size([128, 32, 3, 3])\n"
          ]
        },
        {
          "output_type": "stream",
          "name": "stderr",
          "text": [
            "\r57it [00:06,  9.79it/s]"
          ]
        },
        {
          "output_type": "stream",
          "name": "stdout",
          "text": [
            "torch.Size([128, 32, 3, 3])\n",
            "torch.Size([128, 32, 3, 3])\n",
            "torch.Size([128, 32, 3, 3])\n",
            "torch.Size([128, 32, 3, 3])\n"
          ]
        },
        {
          "output_type": "stream",
          "name": "stderr",
          "text": [
            "61it [00:06, 11.65it/s]"
          ]
        },
        {
          "output_type": "stream",
          "name": "stdout",
          "text": [
            "torch.Size([128, 32, 3, 3])\n",
            "torch.Size([128, 32, 3, 3])\n",
            "torch.Size([128, 32, 3, 3])\n"
          ]
        },
        {
          "output_type": "stream",
          "name": "stderr",
          "text": [
            "65it [00:06, 12.81it/s]"
          ]
        },
        {
          "output_type": "stream",
          "name": "stdout",
          "text": [
            "torch.Size([128, 32, 3, 3])\n",
            "torch.Size([128, 32, 3, 3])\n",
            "torch.Size([128, 32, 3, 3])\n"
          ]
        },
        {
          "output_type": "stream",
          "name": "stderr",
          "text": [
            "\r67it [00:06, 13.34it/s]"
          ]
        },
        {
          "output_type": "stream",
          "name": "stdout",
          "text": [
            "torch.Size([128, 32, 3, 3])\n",
            "torch.Size([128, 32, 3, 3])\n",
            "torch.Size([128, 32, 3, 3])\n"
          ]
        },
        {
          "output_type": "stream",
          "name": "stderr",
          "text": [
            "71it [00:07, 13.61it/s]"
          ]
        },
        {
          "output_type": "stream",
          "name": "stdout",
          "text": [
            "torch.Size([128, 32, 3, 3])\n",
            "torch.Size([128, 32, 3, 3])\n",
            "torch.Size([128, 32, 3, 3])\n",
            "torch.Size([128, 32, 3, 3])\n"
          ]
        },
        {
          "output_type": "stream",
          "name": "stderr",
          "text": [
            "75it [00:07, 13.34it/s]"
          ]
        },
        {
          "output_type": "stream",
          "name": "stdout",
          "text": [
            "torch.Size([128, 32, 3, 3])\n",
            "torch.Size([128, 32, 3, 3])\n",
            "torch.Size([128, 32, 3, 3])\n"
          ]
        },
        {
          "output_type": "stream",
          "name": "stderr",
          "text": [
            "\r77it [00:07, 13.28it/s]"
          ]
        },
        {
          "output_type": "stream",
          "name": "stdout",
          "text": [
            "torch.Size([128, 32, 3, 3])\n",
            "torch.Size([128, 32, 3, 3])\n",
            "torch.Size([128, 32, 3, 3])\n"
          ]
        },
        {
          "output_type": "stream",
          "name": "stderr",
          "text": [
            "81it [00:07, 13.31it/s]"
          ]
        },
        {
          "output_type": "stream",
          "name": "stdout",
          "text": [
            "torch.Size([128, 32, 3, 3])\n",
            "torch.Size([128, 32, 3, 3])\n",
            "torch.Size([128, 32, 3, 3])\n"
          ]
        },
        {
          "output_type": "stream",
          "name": "stderr",
          "text": [
            "\r83it [00:08, 13.41it/s]"
          ]
        },
        {
          "output_type": "stream",
          "name": "stdout",
          "text": [
            "torch.Size([128, 32, 3, 3])\n",
            "torch.Size([128, 32, 3, 3])\n",
            "torch.Size([128, 32, 3, 3])\n"
          ]
        },
        {
          "output_type": "stream",
          "name": "stderr",
          "text": [
            "87it [00:08, 13.16it/s]"
          ]
        },
        {
          "output_type": "stream",
          "name": "stdout",
          "text": [
            "torch.Size([128, 32, 3, 3])\n",
            "torch.Size([128, 32, 3, 3])\n",
            "torch.Size([128, 32, 3, 3])\n"
          ]
        },
        {
          "output_type": "stream",
          "name": "stderr",
          "text": [
            "\r89it [00:08, 13.52it/s]"
          ]
        },
        {
          "output_type": "stream",
          "name": "stdout",
          "text": [
            "torch.Size([128, 32, 3, 3])\n",
            "torch.Size([128, 32, 3, 3])\n",
            "torch.Size([128, 32, 3, 3])\n",
            "torch.Size([128, 32, 3, 3])\n"
          ]
        },
        {
          "output_type": "stream",
          "name": "stderr",
          "text": [
            "93it [00:08, 13.35it/s]"
          ]
        },
        {
          "output_type": "stream",
          "name": "stdout",
          "text": [
            "torch.Size([128, 32, 3, 3])\n",
            "torch.Size([128, 32, 3, 3])\n",
            "torch.Size([128, 32, 3, 3])\n"
          ]
        },
        {
          "output_type": "stream",
          "name": "stderr",
          "text": [
            "97it [00:09, 13.29it/s]"
          ]
        },
        {
          "output_type": "stream",
          "name": "stdout",
          "text": [
            "torch.Size([128, 32, 3, 3])\n",
            "torch.Size([128, 32, 3, 3])\n",
            "torch.Size([128, 32, 3, 3])\n"
          ]
        },
        {
          "output_type": "stream",
          "name": "stderr",
          "text": [
            "\r99it [00:09, 13.47it/s]"
          ]
        },
        {
          "output_type": "stream",
          "name": "stdout",
          "text": [
            "torch.Size([128, 32, 3, 3])\n",
            "torch.Size([128, 32, 3, 3])\n",
            "torch.Size([128, 32, 3, 3])\n"
          ]
        },
        {
          "output_type": "stream",
          "name": "stderr",
          "text": [
            "103it [00:09, 13.40it/s]"
          ]
        },
        {
          "output_type": "stream",
          "name": "stdout",
          "text": [
            "torch.Size([128, 32, 3, 3])\n",
            "torch.Size([128, 32, 3, 3])\n",
            "torch.Size([128, 32, 3, 3])\n"
          ]
        },
        {
          "output_type": "stream",
          "name": "stderr",
          "text": [
            "\r105it [00:09, 13.29it/s]"
          ]
        },
        {
          "output_type": "stream",
          "name": "stdout",
          "text": [
            "torch.Size([128, 32, 3, 3])\n",
            "torch.Size([128, 32, 3, 3])\n",
            "torch.Size([128, 32, 3, 3])\n",
            "torch.Size([128, 32, 3, 3])\n"
          ]
        },
        {
          "output_type": "stream",
          "name": "stderr",
          "text": [
            "109it [00:09, 12.77it/s]"
          ]
        },
        {
          "output_type": "stream",
          "name": "stdout",
          "text": [
            "torch.Size([128, 32, 3, 3])\n",
            "torch.Size([128, 32, 3, 3])\n",
            "torch.Size([128, 32, 3, 3])\n",
            "torch.Size([128, 32, 3, 3])"
          ]
        },
        {
          "output_type": "stream",
          "name": "stderr",
          "text": [
            "113it [00:10, 13.20it/s]"
          ]
        },
        {
          "output_type": "stream",
          "name": "stdout",
          "text": [
            "\n",
            "torch.Size([128, 32, 3, 3])\n",
            "torch.Size([128, 32, 3, 3])\n"
          ]
        },
        {
          "output_type": "stream",
          "name": "stderr",
          "text": [
            "\r115it [00:10, 13.65it/s]"
          ]
        },
        {
          "output_type": "stream",
          "name": "stdout",
          "text": [
            "torch.Size([128, 32, 3, 3])\n",
            "torch.Size([128, 32, 3, 3])\n",
            "torch.Size([128, 32, 3, 3])\n",
            "torch.Size([128, 32, 3, 3])\n"
          ]
        },
        {
          "output_type": "stream",
          "name": "stderr",
          "text": [
            "119it [00:10, 13.53it/s]"
          ]
        },
        {
          "output_type": "stream",
          "name": "stdout",
          "text": [
            "torch.Size([128, 32, 3, 3])\n",
            "torch.Size([128, 32, 3, 3])\n",
            "torch.Size([128, 32, 3, 3])\n"
          ]
        },
        {
          "output_type": "stream",
          "name": "stderr",
          "text": [
            "123it [00:11, 13.40it/s]"
          ]
        },
        {
          "output_type": "stream",
          "name": "stdout",
          "text": [
            "torch.Size([128, 32, 3, 3])\n",
            "torch.Size([128, 32, 3, 3])\n",
            "torch.Size([128, 32, 3, 3])\n"
          ]
        },
        {
          "output_type": "stream",
          "name": "stderr",
          "text": [
            "\r125it [00:11, 13.01it/s]"
          ]
        },
        {
          "output_type": "stream",
          "name": "stdout",
          "text": [
            "torch.Size([128, 32, 3, 3])\n",
            "torch.Size([128, 32, 3, 3])\n",
            "torch.Size([128, 32, 3, 3])\n"
          ]
        },
        {
          "output_type": "stream",
          "name": "stderr",
          "text": [
            "129it [00:11, 13.41it/s]"
          ]
        },
        {
          "output_type": "stream",
          "name": "stdout",
          "text": [
            "torch.Size([128, 32, 3, 3])\n",
            "torch.Size([128, 32, 3, 3])\n",
            "torch.Size([128, 32, 3, 3])\n"
          ]
        },
        {
          "output_type": "stream",
          "name": "stderr",
          "text": [
            "\r131it [00:11, 13.44it/s]"
          ]
        },
        {
          "output_type": "stream",
          "name": "stdout",
          "text": [
            "torch.Size([128, 32, 3, 3])\n",
            "torch.Size([128, 32, 3, 3])\n",
            "torch.Size([128, 32, 3, 3])\n"
          ]
        },
        {
          "output_type": "stream",
          "name": "stderr",
          "text": [
            "135it [00:11, 13.41it/s]"
          ]
        },
        {
          "output_type": "stream",
          "name": "stdout",
          "text": [
            "torch.Size([128, 32, 3, 3])\n",
            "torch.Size([128, 32, 3, 3])\n",
            "torch.Size([128, 32, 3, 3])\n"
          ]
        },
        {
          "output_type": "stream",
          "name": "stderr",
          "text": [
            "\r137it [00:12, 13.48it/s]"
          ]
        },
        {
          "output_type": "stream",
          "name": "stdout",
          "text": [
            "torch.Size([128, 32, 3, 3])\n",
            "torch.Size([128, 32, 3, 3])\n",
            "torch.Size([128, 32, 3, 3])\n"
          ]
        },
        {
          "output_type": "stream",
          "name": "stderr",
          "text": [
            "141it [00:12, 13.31it/s]"
          ]
        },
        {
          "output_type": "stream",
          "name": "stdout",
          "text": [
            "torch.Size([128, 32, 3, 3])\n",
            "torch.Size([128, 32, 3, 3])\n",
            "torch.Size([128, 32, 3, 3])\n"
          ]
        },
        {
          "output_type": "stream",
          "name": "stderr",
          "text": [
            "\r143it [00:12, 13.05it/s]"
          ]
        },
        {
          "output_type": "stream",
          "name": "stdout",
          "text": [
            "torch.Size([128, 32, 3, 3])\n",
            "torch.Size([128, 32, 3, 3])\n",
            "torch.Size([128, 32, 3, 3])\n"
          ]
        },
        {
          "output_type": "stream",
          "name": "stderr",
          "text": [
            "147it [00:12, 13.47it/s]"
          ]
        },
        {
          "output_type": "stream",
          "name": "stdout",
          "text": [
            "torch.Size([128, 32, 3, 3])\n",
            "torch.Size([128, 32, 3, 3])\n",
            "torch.Size([128, 32, 3, 3])\n"
          ]
        },
        {
          "output_type": "stream",
          "name": "stderr",
          "text": [
            "\r149it [00:12, 13.23it/s]"
          ]
        },
        {
          "output_type": "stream",
          "name": "stdout",
          "text": [
            "torch.Size([128, 32, 3, 3])\n",
            "torch.Size([128, 32, 3, 3])\n",
            "torch.Size([128, 32, 3, 3])\n"
          ]
        },
        {
          "output_type": "stream",
          "name": "stderr",
          "text": [
            "153it [00:13, 14.16it/s]"
          ]
        },
        {
          "output_type": "stream",
          "name": "stdout",
          "text": [
            "torch.Size([128, 32, 3, 3])\n",
            "torch.Size([128, 32, 3, 3])\n",
            "torch.Size([128, 32, 3, 3])\n"
          ]
        },
        {
          "output_type": "stream",
          "name": "stderr",
          "text": [
            "\r155it [00:13, 13.52it/s]"
          ]
        },
        {
          "output_type": "stream",
          "name": "stdout",
          "text": [
            "torch.Size([128, 32, 3, 3])\n",
            "torch.Size([128, 32, 3, 3])\n",
            "torch.Size([128, 32, 3, 3])\n"
          ]
        },
        {
          "output_type": "stream",
          "name": "stderr",
          "text": [
            "159it [00:13, 13.87it/s]"
          ]
        },
        {
          "output_type": "stream",
          "name": "stdout",
          "text": [
            "torch.Size([128, 32, 3, 3])\n",
            "torch.Size([128, 32, 3, 3])\n",
            "torch.Size([128, 32, 3, 3])\n",
            "torch.Size([128, 32, 3, 3])\n"
          ]
        },
        {
          "output_type": "stream",
          "name": "stderr",
          "text": [
            "\r161it [00:13, 13.46it/s]"
          ]
        },
        {
          "output_type": "stream",
          "name": "stdout",
          "text": [
            "torch.Size([128, 32, 3, 3])\n",
            "torch.Size([128, 32, 3, 3])\n",
            "torch.Size([128, 32, 3, 3])\n"
          ]
        },
        {
          "output_type": "stream",
          "name": "stderr",
          "text": [
            "165it [00:14, 13.65it/s]"
          ]
        },
        {
          "output_type": "stream",
          "name": "stdout",
          "text": [
            "torch.Size([128, 32, 3, 3])\n",
            "torch.Size([128, 32, 3, 3])\n",
            "torch.Size([128, 32, 3, 3])\n"
          ]
        },
        {
          "output_type": "stream",
          "name": "stderr",
          "text": [
            "169it [00:14, 13.05it/s]"
          ]
        },
        {
          "output_type": "stream",
          "name": "stdout",
          "text": [
            "torch.Size([128, 32, 3, 3])\n",
            "torch.Size([128, 32, 3, 3])\n",
            "torch.Size([128, 32, 3, 3])\n"
          ]
        },
        {
          "output_type": "stream",
          "name": "stderr",
          "text": [
            "\r171it [00:14, 13.33it/s]"
          ]
        },
        {
          "output_type": "stream",
          "name": "stdout",
          "text": [
            "torch.Size([128, 32, 3, 3])\n",
            "torch.Size([128, 32, 3, 3])\n",
            "torch.Size([128, 32, 3, 3])\n"
          ]
        },
        {
          "output_type": "stream",
          "name": "stderr",
          "text": [
            "175it [00:14, 13.96it/s]"
          ]
        },
        {
          "output_type": "stream",
          "name": "stdout",
          "text": [
            "torch.Size([128, 32, 3, 3])\n",
            "torch.Size([128, 32, 3, 3])\n",
            "torch.Size([128, 32, 3, 3])\n",
            "torch.Size([128, 32, 3, 3])\n"
          ]
        },
        {
          "output_type": "stream",
          "name": "stderr",
          "text": [
            "\r177it [00:15, 13.44it/s]"
          ]
        },
        {
          "output_type": "stream",
          "name": "stdout",
          "text": [
            "torch.Size([128, 32, 3, 3])\n",
            "torch.Size([128, 32, 3, 3])\n",
            "torch.Size([128, 32, 3, 3])\n"
          ]
        },
        {
          "output_type": "stream",
          "name": "stderr",
          "text": [
            "181it [00:15, 13.14it/s]"
          ]
        },
        {
          "output_type": "stream",
          "name": "stdout",
          "text": [
            "torch.Size([128, 32, 3, 3])\n",
            "torch.Size([128, 32, 3, 3])\n",
            "torch.Size([128, 32, 3, 3])\n"
          ]
        },
        {
          "output_type": "stream",
          "name": "stderr",
          "text": [
            "185it [00:15, 13.02it/s]"
          ]
        },
        {
          "output_type": "stream",
          "name": "stdout",
          "text": [
            "torch.Size([128, 32, 3, 3])\n",
            "torch.Size([128, 32, 3, 3])\n",
            "torch.Size([128, 32, 3, 3])\n"
          ]
        },
        {
          "output_type": "stream",
          "name": "stderr",
          "text": [
            "\r187it [00:15, 13.41it/s]"
          ]
        },
        {
          "output_type": "stream",
          "name": "stdout",
          "text": [
            "torch.Size([128, 32, 3, 3])\n",
            "torch.Size([128, 32, 3, 3])\n",
            "torch.Size([128, 32, 3, 3])\n"
          ]
        },
        {
          "output_type": "stream",
          "name": "stderr",
          "text": [
            "\r189it [00:15, 12.73it/s]"
          ]
        },
        {
          "output_type": "stream",
          "name": "stdout",
          "text": [
            "torch.Size([128, 32, 3, 3])\n",
            "torch.Size([128, 32, 3, 3])\n",
            "torch.Size([128, 32, 3, 3])\n"
          ]
        },
        {
          "output_type": "stream",
          "name": "stderr",
          "text": [
            "\r191it [00:16, 11.44it/s]"
          ]
        },
        {
          "output_type": "stream",
          "name": "stdout",
          "text": [
            "torch.Size([128, 32, 3, 3])\n"
          ]
        },
        {
          "output_type": "stream",
          "name": "stderr",
          "text": [
            "\r193it [00:16, 10.42it/s]"
          ]
        },
        {
          "output_type": "stream",
          "name": "stdout",
          "text": [
            "torch.Size([128, 32, 3, 3])\n",
            "torch.Size([128, 32, 3, 3])\n"
          ]
        },
        {
          "output_type": "stream",
          "name": "stderr",
          "text": [
            "196it [00:16,  9.38it/s]"
          ]
        },
        {
          "output_type": "stream",
          "name": "stdout",
          "text": [
            "torch.Size([128, 32, 3, 3])\n",
            "torch.Size([128, 32, 3, 3])\n"
          ]
        },
        {
          "output_type": "stream",
          "name": "stderr",
          "text": [
            "198it [00:17,  8.22it/s]"
          ]
        },
        {
          "output_type": "stream",
          "name": "stdout",
          "text": [
            "torch.Size([128, 32, 3, 3])\n",
            "torch.Size([128, 32, 3, 3])\n"
          ]
        },
        {
          "output_type": "stream",
          "name": "stderr",
          "text": [
            "\r200it [00:17,  9.80it/s]"
          ]
        },
        {
          "output_type": "stream",
          "name": "stdout",
          "text": [
            "torch.Size([128, 32, 3, 3])\n",
            "torch.Size([128, 32, 3, 3])\n",
            "torch.Size([128, 32, 3, 3])\n"
          ]
        },
        {
          "output_type": "stream",
          "name": "stderr",
          "text": [
            "203it [00:17,  7.82it/s]"
          ]
        },
        {
          "output_type": "stream",
          "name": "stdout",
          "text": [
            "torch.Size([128, 32, 3, 3])\n",
            "torch.Size([128, 32, 3, 3])\n"
          ]
        },
        {
          "output_type": "stream",
          "name": "stderr",
          "text": [
            "205it [00:17,  7.56it/s]"
          ]
        },
        {
          "output_type": "stream",
          "name": "stdout",
          "text": [
            "torch.Size([128, 32, 3, 3])\n",
            "torch.Size([128, 32, 3, 3])\n"
          ]
        },
        {
          "output_type": "stream",
          "name": "stderr",
          "text": [
            "\r206it [00:18,  7.25it/s]"
          ]
        },
        {
          "output_type": "stream",
          "name": "stdout",
          "text": [
            "torch.Size([128, 32, 3, 3])\n",
            "torch.Size([128, 32, 3, 3])\n"
          ]
        },
        {
          "output_type": "stream",
          "name": "stderr",
          "text": [
            "209it [00:18,  7.41it/s]"
          ]
        },
        {
          "output_type": "stream",
          "name": "stdout",
          "text": [
            "torch.Size([128, 32, 3, 3])\n",
            "torch.Size([128, 32, 3, 3])\n"
          ]
        },
        {
          "output_type": "stream",
          "name": "stderr",
          "text": [
            "211it [00:18,  7.85it/s]"
          ]
        },
        {
          "output_type": "stream",
          "name": "stdout",
          "text": [
            "torch.Size([128, 32, 3, 3])\n",
            "torch.Size([128, 32, 3, 3])\n",
            "torch.Size([128, 32, 3, 3])\n"
          ]
        },
        {
          "output_type": "stream",
          "name": "stderr",
          "text": [
            "215it [00:19, 11.02it/s]"
          ]
        },
        {
          "output_type": "stream",
          "name": "stdout",
          "text": [
            "torch.Size([128, 32, 3, 3])\n",
            "torch.Size([128, 32, 3, 3])\n",
            "torch.Size([128, 32, 3, 3])\n"
          ]
        },
        {
          "output_type": "stream",
          "name": "stderr",
          "text": [
            "\r217it [00:19, 11.56it/s]"
          ]
        },
        {
          "output_type": "stream",
          "name": "stdout",
          "text": [
            "torch.Size([128, 32, 3, 3])\n",
            "torch.Size([128, 32, 3, 3])\n",
            "torch.Size([128, 32, 3, 3])\n"
          ]
        },
        {
          "output_type": "stream",
          "name": "stderr",
          "text": [
            "221it [00:19, 12.46it/s]"
          ]
        },
        {
          "output_type": "stream",
          "name": "stdout",
          "text": [
            "torch.Size([128, 32, 3, 3])\n",
            "torch.Size([128, 32, 3, 3])\n",
            "torch.Size([128, 32, 3, 3])\n",
            "torch.Size([128, 32, 3, 3])\n"
          ]
        },
        {
          "output_type": "stream",
          "name": "stderr",
          "text": [
            "225it [00:19, 12.86it/s]"
          ]
        },
        {
          "output_type": "stream",
          "name": "stdout",
          "text": [
            "torch.Size([128, 32, 3, 3])\n",
            "torch.Size([128, 32, 3, 3])\n",
            "torch.Size([128, 32, 3, 3])\n"
          ]
        },
        {
          "output_type": "stream",
          "name": "stderr",
          "text": [
            "\r227it [00:19, 12.73it/s]"
          ]
        },
        {
          "output_type": "stream",
          "name": "stdout",
          "text": [
            "torch.Size([128, 32, 3, 3])\n",
            "torch.Size([128, 32, 3, 3])\n",
            "torch.Size([128, 32, 3, 3])\n"
          ]
        },
        {
          "output_type": "stream",
          "name": "stderr",
          "text": [
            "231it [00:20, 12.58it/s]"
          ]
        },
        {
          "output_type": "stream",
          "name": "stdout",
          "text": [
            "torch.Size([128, 32, 3, 3])\n",
            "torch.Size([128, 32, 3, 3])\n",
            "torch.Size([128, 32, 3, 3])\n"
          ]
        },
        {
          "output_type": "stream",
          "name": "stderr",
          "text": [
            "\r233it [00:20, 13.12it/s]"
          ]
        },
        {
          "output_type": "stream",
          "name": "stdout",
          "text": [
            "torch.Size([128, 32, 3, 3])\n",
            "torch.Size([128, 32, 3, 3])\n",
            "torch.Size([128, 32, 3, 3])\n"
          ]
        },
        {
          "output_type": "stream",
          "name": "stderr",
          "text": [
            "237it [00:20, 13.15it/s]"
          ]
        },
        {
          "output_type": "stream",
          "name": "stdout",
          "text": [
            "torch.Size([128, 32, 3, 3])\n",
            "torch.Size([128, 32, 3, 3])\n",
            "torch.Size([128, 32, 3, 3])\n"
          ]
        },
        {
          "output_type": "stream",
          "name": "stderr",
          "text": [
            "\r239it [00:20, 13.64it/s]"
          ]
        },
        {
          "output_type": "stream",
          "name": "stdout",
          "text": [
            "torch.Size([128, 32, 3, 3])\n",
            "torch.Size([128, 32, 3, 3])\n",
            "torch.Size([128, 32, 3, 3])\n"
          ]
        },
        {
          "output_type": "stream",
          "name": "stderr",
          "text": [
            "243it [00:21, 13.10it/s]"
          ]
        },
        {
          "output_type": "stream",
          "name": "stdout",
          "text": [
            "torch.Size([128, 32, 3, 3])\n",
            "torch.Size([128, 32, 3, 3])\n",
            "torch.Size([128, 32, 3, 3])\n"
          ]
        },
        {
          "output_type": "stream",
          "name": "stderr",
          "text": [
            "\r245it [00:21, 13.45it/s]"
          ]
        },
        {
          "output_type": "stream",
          "name": "stdout",
          "text": [
            "torch.Size([128, 32, 3, 3])\n",
            "torch.Size([128, 32, 3, 3])\n",
            "torch.Size([128, 32, 3, 3])\n"
          ]
        },
        {
          "output_type": "stream",
          "name": "stderr",
          "text": [
            "249it [00:21, 13.40it/s]"
          ]
        },
        {
          "output_type": "stream",
          "name": "stdout",
          "text": [
            "torch.Size([128, 32, 3, 3])\n",
            "torch.Size([128, 32, 3, 3])\n",
            "torch.Size([128, 32, 3, 3])\n",
            "torch.Size([128, 32, 3, 3])\n"
          ]
        },
        {
          "output_type": "stream",
          "name": "stderr",
          "text": [
            "253it [00:21, 13.34it/s]"
          ]
        },
        {
          "output_type": "stream",
          "name": "stdout",
          "text": [
            "torch.Size([128, 32, 3, 3])\n",
            "torch.Size([128, 32, 3, 3])\n",
            "torch.Size([128, 32, 3, 3])\n"
          ]
        },
        {
          "output_type": "stream",
          "name": "stderr",
          "text": [
            "\r255it [00:22, 13.11it/s]"
          ]
        },
        {
          "output_type": "stream",
          "name": "stdout",
          "text": [
            "torch.Size([128, 32, 3, 3])\n",
            "torch.Size([128, 32, 3, 3])\n",
            "torch.Size([128, 32, 3, 3])\n"
          ]
        },
        {
          "output_type": "stream",
          "name": "stderr",
          "text": [
            "\r257it [00:22, 11.09it/s]"
          ]
        },
        {
          "output_type": "stream",
          "name": "stdout",
          "text": [
            "torch.Size([128, 32, 3, 3])\n",
            "torch.Size([128, 32, 3, 3])\n",
            "torch.Size([128, 32, 3, 3])\n"
          ]
        },
        {
          "output_type": "stream",
          "name": "stderr",
          "text": [
            "261it [00:22, 11.88it/s]"
          ]
        },
        {
          "output_type": "stream",
          "name": "stdout",
          "text": [
            "torch.Size([128, 32, 3, 3])\n",
            "torch.Size([128, 32, 3, 3])\n",
            "torch.Size([128, 32, 3, 3])\n"
          ]
        },
        {
          "output_type": "stream",
          "name": "stderr",
          "text": [
            "265it [00:22, 12.87it/s]"
          ]
        },
        {
          "output_type": "stream",
          "name": "stdout",
          "text": [
            "torch.Size([128, 32, 3, 3])\n",
            "torch.Size([128, 32, 3, 3])\n",
            "torch.Size([128, 32, 3, 3])\n",
            "torch.Size([128, 32, 3, 3])\n"
          ]
        },
        {
          "output_type": "stream",
          "name": "stderr",
          "text": [
            "269it [00:23, 13.88it/s]"
          ]
        },
        {
          "output_type": "stream",
          "name": "stdout",
          "text": [
            "torch.Size([128, 32, 3, 3])\n",
            "torch.Size([128, 32, 3, 3])\n",
            "torch.Size([128, 32, 3, 3])\n"
          ]
        },
        {
          "output_type": "stream",
          "name": "stderr",
          "text": [
            "\r271it [00:23, 12.87it/s]"
          ]
        },
        {
          "output_type": "stream",
          "name": "stdout",
          "text": [
            "torch.Size([128, 32, 3, 3])\n",
            "torch.Size([128, 32, 3, 3])\n",
            "torch.Size([128, 32, 3, 3])\n"
          ]
        },
        {
          "output_type": "stream",
          "name": "stderr",
          "text": [
            "275it [00:23, 13.07it/s]"
          ]
        },
        {
          "output_type": "stream",
          "name": "stdout",
          "text": [
            "torch.Size([128, 32, 3, 3])\n",
            "torch.Size([128, 32, 3, 3])\n",
            "torch.Size([128, 32, 3, 3])\n"
          ]
        },
        {
          "output_type": "stream",
          "name": "stderr",
          "text": [
            "\r277it [00:23, 13.42it/s]"
          ]
        },
        {
          "output_type": "stream",
          "name": "stdout",
          "text": [
            "torch.Size([128, 32, 3, 3])\n",
            "torch.Size([128, 32, 3, 3])\n",
            "torch.Size([128, 32, 3, 3])\n"
          ]
        },
        {
          "output_type": "stream",
          "name": "stderr",
          "text": [
            "281it [00:24, 13.80it/s]"
          ]
        },
        {
          "output_type": "stream",
          "name": "stdout",
          "text": [
            "torch.Size([128, 32, 3, 3])\n",
            "torch.Size([128, 32, 3, 3])\n",
            "torch.Size([128, 32, 3, 3])\n"
          ]
        },
        {
          "output_type": "stream",
          "name": "stderr",
          "text": [
            "\r283it [00:24, 13.24it/s]"
          ]
        },
        {
          "output_type": "stream",
          "name": "stdout",
          "text": [
            "torch.Size([128, 32, 3, 3])\n",
            "torch.Size([128, 32, 3, 3])\n",
            "torch.Size([128, 32, 3, 3])\n"
          ]
        },
        {
          "output_type": "stream",
          "name": "stderr",
          "text": [
            "\r285it [00:24, 13.36it/s]"
          ]
        },
        {
          "output_type": "stream",
          "name": "stdout",
          "text": [
            "torch.Size([128, 32, 3, 3])\n",
            "torch.Size([128, 32, 3, 3])\n",
            "torch.Size([128, 32, 3, 3])\n"
          ]
        },
        {
          "output_type": "stream",
          "name": "stderr",
          "text": [
            "289it [00:24, 12.88it/s]"
          ]
        },
        {
          "output_type": "stream",
          "name": "stdout",
          "text": [
            "torch.Size([128, 32, 3, 3])\n",
            "torch.Size([128, 32, 3, 3])\n",
            "torch.Size([128, 32, 3, 3])\n"
          ]
        },
        {
          "output_type": "stream",
          "name": "stderr",
          "text": [
            "293it [00:25, 13.17it/s]"
          ]
        },
        {
          "output_type": "stream",
          "name": "stdout",
          "text": [
            "torch.Size([128, 32, 3, 3])\n",
            "torch.Size([128, 32, 3, 3])\n",
            "torch.Size([128, 32, 3, 3])\n"
          ]
        },
        {
          "output_type": "stream",
          "name": "stderr",
          "text": [
            "\r295it [00:25, 13.64it/s]"
          ]
        },
        {
          "output_type": "stream",
          "name": "stdout",
          "text": [
            "torch.Size([128, 32, 3, 3])\n",
            "torch.Size([128, 32, 3, 3])\n",
            "torch.Size([128, 32, 3, 3])\n"
          ]
        },
        {
          "output_type": "stream",
          "name": "stderr",
          "text": [
            "299it [00:25, 13.01it/s]"
          ]
        },
        {
          "output_type": "stream",
          "name": "stdout",
          "text": [
            "torch.Size([128, 32, 3, 3])\n",
            "torch.Size([128, 32, 3, 3])\n",
            "torch.Size([128, 32, 3, 3])\n"
          ]
        },
        {
          "output_type": "stream",
          "name": "stderr",
          "text": [
            "\r301it [00:25, 13.29it/s]"
          ]
        },
        {
          "output_type": "stream",
          "name": "stdout",
          "text": [
            "torch.Size([128, 32, 3, 3])\n",
            "torch.Size([128, 32, 3, 3])\n",
            "torch.Size([128, 32, 3, 3])\n"
          ]
        },
        {
          "output_type": "stream",
          "name": "stderr",
          "text": [
            "305it [00:25, 13.43it/s]"
          ]
        },
        {
          "output_type": "stream",
          "name": "stdout",
          "text": [
            "torch.Size([128, 32, 3, 3])\n",
            "torch.Size([128, 32, 3, 3])\n",
            "torch.Size([128, 32, 3, 3])\n"
          ]
        },
        {
          "output_type": "stream",
          "name": "stderr",
          "text": [
            "\r307it [00:26, 13.72it/s]"
          ]
        },
        {
          "output_type": "stream",
          "name": "stdout",
          "text": [
            "torch.Size([128, 32, 3, 3])\n",
            "torch.Size([128, 32, 3, 3])\n",
            "torch.Size([128, 32, 3, 3])\n"
          ]
        },
        {
          "output_type": "stream",
          "name": "stderr",
          "text": [
            "311it [00:26, 13.36it/s]"
          ]
        },
        {
          "output_type": "stream",
          "name": "stdout",
          "text": [
            "torch.Size([128, 32, 3, 3])\n",
            "torch.Size([128, 32, 3, 3])\n",
            "torch.Size([128, 32, 3, 3])\n"
          ]
        },
        {
          "output_type": "stream",
          "name": "stderr",
          "text": [
            "\r313it [00:26, 13.46it/s]"
          ]
        },
        {
          "output_type": "stream",
          "name": "stdout",
          "text": [
            "torch.Size([128, 32, 3, 3])\n",
            "torch.Size([128, 32, 3, 3])\n",
            "torch.Size([128, 32, 3, 3])\n"
          ]
        },
        {
          "output_type": "stream",
          "name": "stderr",
          "text": [
            "317it [00:26, 12.99it/s]"
          ]
        },
        {
          "output_type": "stream",
          "name": "stdout",
          "text": [
            "torch.Size([128, 32, 3, 3])\n",
            "torch.Size([128, 32, 3, 3])\n",
            "torch.Size([128, 32, 3, 3])\n"
          ]
        },
        {
          "output_type": "stream",
          "name": "stderr",
          "text": [
            "\r319it [00:27, 13.28it/s]"
          ]
        },
        {
          "output_type": "stream",
          "name": "stdout",
          "text": [
            "torch.Size([128, 32, 3, 3])\n",
            "torch.Size([128, 32, 3, 3])\n",
            "torch.Size([128, 32, 3, 3])\n",
            "torch.Size([128, 32, 3, 3])\n"
          ]
        },
        {
          "output_type": "stream",
          "name": "stderr",
          "text": [
            "324it [00:27, 16.61it/s]"
          ]
        },
        {
          "output_type": "stream",
          "name": "stdout",
          "text": [
            "torch.Size([128, 32, 3, 3])\n",
            "torch.Size([128, 32, 3, 3])\n",
            "torch.Size([128, 32, 3, 3])\n",
            "torch.Size([128, 32, 3, 3])\n",
            "torch.Size([128, 32, 3, 3])\n"
          ]
        },
        {
          "output_type": "stream",
          "name": "stderr",
          "text": [
            "329it [00:27, 11.96it/s]"
          ]
        },
        {
          "output_type": "stream",
          "name": "stdout",
          "text": [
            "torch.Size([128, 32, 3, 3])\n",
            "torch.Size([128, 32, 3, 3])\n",
            "torch.Size([16, 32, 3, 3])\n",
            "\n",
            " ~~~~~~~~~~~~~~~~~~~~~~~~~~~~~~~~~~~~~~~~~~~~~~~~~~~~~~~~~~~~~~~~~~~~~~~~~~~~~~\n",
            "\n",
            "1- epoch train jarayoni natijalari :\n",
            " 1- epochdagi train loss     -> 0.754\n",
            " 1- epochdagi train accuracy     -> 0.734\n"
          ]
        },
        {
          "output_type": "stream",
          "name": "stderr",
          "text": [
            "\n",
            "2it [00:00,  5.04it/s]"
          ]
        },
        {
          "output_type": "stream",
          "name": "stdout",
          "text": [
            "torch.Size([128, 32, 3, 3])\n",
            "torch.Size([128, 32, 3, 3])\n",
            "torch.Size([128, 32, 3, 3])\n"
          ]
        },
        {
          "output_type": "stream",
          "name": "stderr",
          "text": [
            "6it [00:00, 10.20it/s]"
          ]
        },
        {
          "output_type": "stream",
          "name": "stdout",
          "text": [
            "torch.Size([128, 32, 3, 3])\n",
            "torch.Size([128, 32, 3, 3])\n",
            "torch.Size([128, 32, 3, 3])\n",
            "torch.Size([128, 32, 3, 3])\n"
          ]
        },
        {
          "output_type": "stream",
          "name": "stderr",
          "text": [
            "10it [00:00, 12.93it/s]"
          ]
        },
        {
          "output_type": "stream",
          "name": "stdout",
          "text": [
            "torch.Size([128, 32, 3, 3])\n",
            "torch.Size([128, 32, 3, 3])\n",
            "torch.Size([128, 32, 3, 3])\n"
          ]
        },
        {
          "output_type": "stream",
          "name": "stderr",
          "text": [
            "\r12it [00:01, 11.85it/s]"
          ]
        },
        {
          "output_type": "stream",
          "name": "stdout",
          "text": [
            "torch.Size([128, 32, 3, 3])\n",
            "torch.Size([128, 32, 3, 3])\n",
            "torch.Size([128, 32, 3, 3])"
          ]
        },
        {
          "output_type": "stream",
          "name": "stderr",
          "text": [
            "\r14it [00:01, 10.57it/s]"
          ]
        },
        {
          "output_type": "stream",
          "name": "stdout",
          "text": [
            "\n",
            "torch.Size([128, 32, 3, 3])\n",
            "torch.Size([128, 32, 3, 3])\n"
          ]
        },
        {
          "output_type": "stream",
          "name": "stderr",
          "text": [
            "18it [00:01, 10.29it/s]"
          ]
        },
        {
          "output_type": "stream",
          "name": "stdout",
          "text": [
            "torch.Size([128, 32, 3, 3])\n",
            "torch.Size([128, 32, 3, 3])\n",
            "torch.Size([128, 32, 3, 3])\n"
          ]
        },
        {
          "output_type": "stream",
          "name": "stderr",
          "text": [
            "\r20it [00:02, 10.14it/s]"
          ]
        },
        {
          "output_type": "stream",
          "name": "stdout",
          "text": [
            "torch.Size([128, 32, 3, 3])\n",
            "torch.Size([128, 32, 3, 3])\n",
            "torch.Size([128, 32, 3, 3])\n"
          ]
        },
        {
          "output_type": "stream",
          "name": "stderr",
          "text": [
            "\r22it [00:02,  9.96it/s]"
          ]
        },
        {
          "output_type": "stream",
          "name": "stdout",
          "text": [
            "torch.Size([128, 32, 3, 3])\n",
            "torch.Size([128, 32, 3, 3])\n"
          ]
        },
        {
          "output_type": "stream",
          "name": "stderr",
          "text": [
            "25it [00:02,  8.87it/s]"
          ]
        },
        {
          "output_type": "stream",
          "name": "stdout",
          "text": [
            "torch.Size([128, 32, 3, 3])\n",
            "torch.Size([128, 32, 3, 3])\n"
          ]
        },
        {
          "output_type": "stream",
          "name": "stderr",
          "text": [
            "27it [00:02,  8.42it/s]"
          ]
        },
        {
          "output_type": "stream",
          "name": "stdout",
          "text": [
            "torch.Size([128, 32, 3, 3])\n",
            "torch.Size([128, 32, 3, 3])\n"
          ]
        },
        {
          "output_type": "stream",
          "name": "stderr",
          "text": [
            "29it [00:03,  8.74it/s]"
          ]
        },
        {
          "output_type": "stream",
          "name": "stdout",
          "text": [
            "torch.Size([128, 32, 3, 3])\n",
            "torch.Size([128, 32, 3, 3])\n"
          ]
        },
        {
          "output_type": "stream",
          "name": "stderr",
          "text": [
            "31it [00:03,  8.58it/s]"
          ]
        },
        {
          "output_type": "stream",
          "name": "stdout",
          "text": [
            "torch.Size([128, 32, 3, 3])\n",
            "torch.Size([128, 32, 3, 3])\n"
          ]
        },
        {
          "output_type": "stream",
          "name": "stderr",
          "text": [
            "33it [00:03,  8.89it/s]"
          ]
        },
        {
          "output_type": "stream",
          "name": "stdout",
          "text": [
            "torch.Size([128, 32, 3, 3])\n",
            "torch.Size([128, 32, 3, 3])\n"
          ]
        },
        {
          "output_type": "stream",
          "name": "stderr",
          "text": [
            "35it [00:03,  8.94it/s]"
          ]
        },
        {
          "output_type": "stream",
          "name": "stdout",
          "text": [
            "torch.Size([128, 32, 3, 3])\n",
            "torch.Size([128, 32, 3, 3])\n",
            "torch.Size([128, 32, 3, 3])\n"
          ]
        },
        {
          "output_type": "stream",
          "name": "stderr",
          "text": [
            "39it [00:04, 12.11it/s]"
          ]
        },
        {
          "output_type": "stream",
          "name": "stdout",
          "text": [
            "torch.Size([128, 32, 3, 3])\n",
            "torch.Size([128, 32, 3, 3])\n",
            "torch.Size([128, 32, 3, 3])\n",
            "torch.Size([128, 32, 3, 3])\n"
          ]
        },
        {
          "output_type": "stream",
          "name": "stderr",
          "text": [
            "44it [00:04, 15.57it/s]"
          ]
        },
        {
          "output_type": "stream",
          "name": "stdout",
          "text": [
            "torch.Size([128, 32, 3, 3])\n",
            "torch.Size([128, 32, 3, 3])\n",
            "torch.Size([128, 32, 3, 3])\n",
            "torch.Size([128, 32, 3, 3])\n"
          ]
        },
        {
          "output_type": "stream",
          "name": "stderr",
          "text": [
            "48it [00:04, 15.77it/s]"
          ]
        },
        {
          "output_type": "stream",
          "name": "stdout",
          "text": [
            "torch.Size([128, 32, 3, 3])\n",
            "torch.Size([128, 32, 3, 3])\n",
            "torch.Size([128, 32, 3, 3])\n",
            "torch.Size([128, 32, 3, 3])\n"
          ]
        },
        {
          "output_type": "stream",
          "name": "stderr",
          "text": [
            "\r50it [00:04, 14.27it/s]"
          ]
        },
        {
          "output_type": "stream",
          "name": "stdout",
          "text": [
            "torch.Size([128, 32, 3, 3])\n",
            "torch.Size([128, 32, 3, 3])\n",
            "torch.Size([128, 32, 3, 3])\n"
          ]
        },
        {
          "output_type": "stream",
          "name": "stderr",
          "text": [
            "55it [00:05, 16.37it/s]"
          ]
        },
        {
          "output_type": "stream",
          "name": "stdout",
          "text": [
            "torch.Size([128, 32, 3, 3])\n",
            "torch.Size([128, 32, 3, 3])\n",
            "torch.Size([128, 32, 3, 3])\n",
            "torch.Size([128, 32, 3, 3])\n"
          ]
        },
        {
          "output_type": "stream",
          "name": "stderr",
          "text": [
            "\r57it [00:05, 16.57it/s]"
          ]
        },
        {
          "output_type": "stream",
          "name": "stdout",
          "text": [
            "torch.Size([128, 32, 3, 3])\n",
            "torch.Size([128, 32, 3, 3])\n",
            "torch.Size([128, 32, 3, 3])\n"
          ]
        },
        {
          "output_type": "stream",
          "name": "stderr",
          "text": [
            "62it [00:05, 15.52it/s]"
          ]
        },
        {
          "output_type": "stream",
          "name": "stdout",
          "text": [
            "torch.Size([128, 32, 3, 3])\n",
            "torch.Size([128, 32, 3, 3])\n",
            "torch.Size([128, 32, 3, 3])\n",
            "torch.Size([128, 32, 3, 3])\n"
          ]
        },
        {
          "output_type": "stream",
          "name": "stderr",
          "text": [
            "\r64it [00:05, 14.87it/s]"
          ]
        },
        {
          "output_type": "stream",
          "name": "stdout",
          "text": [
            "torch.Size([128, 32, 3, 3])\n",
            "torch.Size([128, 32, 3, 3])\n",
            "torch.Size([128, 32, 3, 3])\n",
            "torch.Size([128, 32, 3, 3])\n"
          ]
        },
        {
          "output_type": "stream",
          "name": "stderr",
          "text": [
            "69it [00:05, 16.18it/s]"
          ]
        },
        {
          "output_type": "stream",
          "name": "stdout",
          "text": [
            "torch.Size([128, 32, 3, 3])\n",
            "torch.Size([128, 32, 3, 3])\n",
            "torch.Size([128, 32, 3, 3])\n",
            "torch.Size([128, 32, 3, 3])\n"
          ]
        },
        {
          "output_type": "stream",
          "name": "stderr",
          "text": [
            "73it [00:06, 16.69it/s]"
          ]
        },
        {
          "output_type": "stream",
          "name": "stdout",
          "text": [
            "torch.Size([128, 32, 3, 3])\n",
            "torch.Size([128, 32, 3, 3])\n",
            "torch.Size([128, 32, 3, 3])\n",
            "torch.Size([128, 32, 3, 3])\n"
          ]
        },
        {
          "output_type": "stream",
          "name": "stderr",
          "text": [
            "77it [00:06, 15.83it/s]"
          ]
        },
        {
          "output_type": "stream",
          "name": "stdout",
          "text": [
            "torch.Size([128, 32, 3, 3])\n",
            "torch.Size([128, 32, 3, 3])\n",
            "torch.Size([128, 32, 3, 3])\n",
            "torch.Size([128, 32, 3, 3])\n"
          ]
        },
        {
          "output_type": "stream",
          "name": "stderr",
          "text": [
            "82it [00:06, 16.85it/s]"
          ]
        },
        {
          "output_type": "stream",
          "name": "stdout",
          "text": [
            "torch.Size([128, 32, 3, 3])\n",
            "torch.Size([128, 32, 3, 3])\n",
            "torch.Size([128, 32, 3, 3])\n",
            "torch.Size([128, 32, 3, 3])\n"
          ]
        },
        {
          "output_type": "stream",
          "name": "stderr",
          "text": [
            "86it [00:06, 15.62it/s]"
          ]
        },
        {
          "output_type": "stream",
          "name": "stdout",
          "text": [
            "torch.Size([128, 32, 3, 3])\n",
            "torch.Size([128, 32, 3, 3])\n",
            "torch.Size([128, 32, 3, 3])\n",
            "torch.Size([128, 32, 3, 3])\n"
          ]
        },
        {
          "output_type": "stream",
          "name": "stderr",
          "text": [
            "90it [00:07, 15.83it/s]"
          ]
        },
        {
          "output_type": "stream",
          "name": "stdout",
          "text": [
            "torch.Size([128, 32, 3, 3])\n",
            "torch.Size([128, 32, 3, 3])\n",
            "torch.Size([128, 32, 3, 3])\n",
            "torch.Size([128, 32, 3, 3])\n"
          ]
        },
        {
          "output_type": "stream",
          "name": "stderr",
          "text": [
            "94it [00:07, 15.64it/s]"
          ]
        },
        {
          "output_type": "stream",
          "name": "stdout",
          "text": [
            "torch.Size([128, 32, 3, 3])\n",
            "torch.Size([128, 32, 3, 3])\n",
            "torch.Size([128, 32, 3, 3])\n",
            "torch.Size([128, 32, 3, 3])\n"
          ]
        },
        {
          "output_type": "stream",
          "name": "stderr",
          "text": [
            "98it [00:07, 15.79it/s]"
          ]
        },
        {
          "output_type": "stream",
          "name": "stdout",
          "text": [
            "torch.Size([128, 32, 3, 3])\n",
            "torch.Size([128, 32, 3, 3])\n",
            "torch.Size([128, 32, 3, 3])\n",
            "torch.Size([128, 32, 3, 3])\n"
          ]
        },
        {
          "output_type": "stream",
          "name": "stderr",
          "text": [
            "\r100it [00:07, 16.00it/s]"
          ]
        },
        {
          "output_type": "stream",
          "name": "stdout",
          "text": [
            "torch.Size([128, 32, 3, 3])\n",
            "torch.Size([128, 32, 3, 3])\n",
            "torch.Size([128, 32, 3, 3])\n",
            "torch.Size([128, 32, 3, 3])\n"
          ]
        },
        {
          "output_type": "stream",
          "name": "stderr",
          "text": [
            "105it [00:08, 16.20it/s]"
          ]
        },
        {
          "output_type": "stream",
          "name": "stdout",
          "text": [
            "torch.Size([128, 32, 3, 3])\n",
            "torch.Size([128, 32, 3, 3])\n",
            "torch.Size([128, 32, 3, 3])\n"
          ]
        },
        {
          "output_type": "stream",
          "name": "stderr",
          "text": [
            "109it [00:08, 15.07it/s]"
          ]
        },
        {
          "output_type": "stream",
          "name": "stdout",
          "text": [
            "torch.Size([128, 32, 3, 3])\n",
            "torch.Size([128, 32, 3, 3])\n",
            "torch.Size([128, 32, 3, 3])\n",
            "torch.Size([128, 32, 3, 3])\n"
          ]
        },
        {
          "output_type": "stream",
          "name": "stderr",
          "text": [
            "\r111it [00:08, 15.22it/s]"
          ]
        },
        {
          "output_type": "stream",
          "name": "stdout",
          "text": [
            "torch.Size([128, 32, 3, 3])\n",
            "torch.Size([128, 32, 3, 3])\n",
            "torch.Size([128, 32, 3, 3])\n",
            "torch.Size([128, 32, 3, 3])\n"
          ]
        },
        {
          "output_type": "stream",
          "name": "stderr",
          "text": [
            "116it [00:08, 15.85it/s]"
          ]
        },
        {
          "output_type": "stream",
          "name": "stdout",
          "text": [
            "torch.Size([128, 32, 3, 3])\n",
            "torch.Size([128, 32, 3, 3])\n",
            "torch.Size([128, 32, 3, 3])\n"
          ]
        },
        {
          "output_type": "stream",
          "name": "stderr",
          "text": [
            "120it [00:09, 15.06it/s]"
          ]
        },
        {
          "output_type": "stream",
          "name": "stdout",
          "text": [
            "torch.Size([128, 32, 3, 3])\n",
            "torch.Size([128, 32, 3, 3])\n",
            "torch.Size([128, 32, 3, 3])\n",
            "torch.Size([128, 32, 3, 3])\n"
          ]
        },
        {
          "output_type": "stream",
          "name": "stderr",
          "text": [
            "\r122it [00:09, 16.09it/s]"
          ]
        },
        {
          "output_type": "stream",
          "name": "stdout",
          "text": [
            "torch.Size([128, 32, 3, 3])\n",
            "torch.Size([128, 32, 3, 3])\n",
            "torch.Size([128, 32, 3, 3])\n",
            "torch.Size([128, 32, 3, 3])\n"
          ]
        },
        {
          "output_type": "stream",
          "name": "stderr",
          "text": [
            "126it [00:09, 14.67it/s]"
          ]
        },
        {
          "output_type": "stream",
          "name": "stdout",
          "text": [
            "torch.Size([128, 32, 3, 3])\n",
            "torch.Size([128, 32, 3, 3])\n"
          ]
        },
        {
          "output_type": "stream",
          "name": "stderr",
          "text": [
            "130it [00:09, 15.92it/s]"
          ]
        },
        {
          "output_type": "stream",
          "name": "stdout",
          "text": [
            "torch.Size([128, 32, 3, 3])\n",
            "torch.Size([128, 32, 3, 3])\n",
            "torch.Size([128, 32, 3, 3])\n",
            "torch.Size([128, 32, 3, 3])\n"
          ]
        },
        {
          "output_type": "stream",
          "name": "stderr",
          "text": [
            "135it [00:10, 17.77it/s]"
          ]
        },
        {
          "output_type": "stream",
          "name": "stdout",
          "text": [
            "torch.Size([128, 32, 3, 3])\n",
            "torch.Size([128, 32, 3, 3])\n",
            "torch.Size([128, 32, 3, 3])\n",
            "torch.Size([128, 32, 3, 3])\n",
            "torch.Size([128, 32, 3, 3])\n"
          ]
        },
        {
          "output_type": "stream",
          "name": "stderr",
          "text": [
            "141it [00:10, 13.70it/s]"
          ]
        },
        {
          "output_type": "stream",
          "name": "stdout",
          "text": [
            "torch.Size([128, 32, 3, 3])\n",
            "torch.Size([128, 32, 3, 3])\n",
            "torch.Size([128, 32, 3, 3])\n",
            "torch.Size([128, 32, 3, 3])\n",
            "torch.Size([128, 32, 3, 3])\n",
            "torch.Size([80, 32, 3, 3])\n",
            "\n",
            " ~~~~~~~~~~~~~~~~~~~~~~~~~~~~~~~~~~~~~~~~~~~~~~~~~~~~~~~~~~~~~~~~~~~~~~~~~~~~~~~~~~~~~\n",
            "\n",
            "1- epoch validation jarayoni natijalari :\n",
            " 1- epochdagi validation loss     -> 0.519\n",
            " 1- epochdagi validation accuracy     -> 0.803\n"
          ]
        },
        {
          "output_type": "stream",
          "name": "stderr",
          "text": [
            "\n"
          ]
        }
      ]
    },
    {
      "cell_type": "code",
      "source": [
        "rasm, gts = next(iter(test_dl))\n",
        "\n",
        "\n",
        "model.eval ()\n",
        "preds = []\n",
        "images = []\n",
        "lbls = []\n",
        "\n",
        "for rasm, gt in zip(rasm, gts):\n",
        "  rasm, gt = rasm.to(device), gt.to(device)\n",
        "  pred = model(rasm.unsqueeze(0))\n",
        "  pred_class = torch.argmax(pred, dim =1)\n",
        "  images.append(rasm)\n",
        "  lbls.append(gt)\n",
        "  preds.append(pred_class)\n",
        "print(len(preds))"
      ],
      "metadata": {
        "colab": {
          "base_uri": "https://localhost:8080/"
        },
        "id": "z4Yo0v4WogU5",
        "outputId": "1e5200e2-7ed5-4063-9103-7b6421314f65"
      },
      "execution_count": 23,
      "outputs": [
        {
          "output_type": "stream",
          "name": "stdout",
          "text": [
            "torch.Size([1, 32, 3, 3])\n",
            "torch.Size([1, 32, 3, 3])\n",
            "torch.Size([1, 32, 3, 3])\n",
            "torch.Size([1, 32, 3, 3])\n",
            "torch.Size([1, 32, 3, 3])\n",
            "torch.Size([1, 32, 3, 3])\n",
            "torch.Size([1, 32, 3, 3])\n",
            "torch.Size([1, 32, 3, 3])\n",
            "torch.Size([1, 32, 3, 3])\n",
            "torch.Size([1, 32, 3, 3])\n",
            "torch.Size([1, 32, 3, 3])\n",
            "torch.Size([1, 32, 3, 3])\n",
            "torch.Size([1, 32, 3, 3])\n",
            "torch.Size([1, 32, 3, 3])\n",
            "torch.Size([1, 32, 3, 3])\n",
            "torch.Size([1, 32, 3, 3])\n",
            "torch.Size([1, 32, 3, 3])\n",
            "torch.Size([1, 32, 3, 3])\n",
            "torch.Size([1, 32, 3, 3])\n",
            "torch.Size([1, 32, 3, 3])\n",
            "torch.Size([1, 32, 3, 3])\n",
            "torch.Size([1, 32, 3, 3])\n",
            "torch.Size([1, 32, 3, 3])\n",
            "torch.Size([1, 32, 3, 3])\n",
            "torch.Size([1, 32, 3, 3])\n",
            "torch.Size([1, 32, 3, 3])\n",
            "torch.Size([1, 32, 3, 3])\n",
            "torch.Size([1, 32, 3, 3])\n",
            "torch.Size([1, 32, 3, 3])\n",
            "torch.Size([1, 32, 3, 3])\n",
            "torch.Size([1, 32, 3, 3])\n",
            "torch.Size([1, 32, 3, 3])\n",
            "torch.Size([1, 32, 3, 3])\n",
            "torch.Size([1, 32, 3, 3])\n",
            "torch.Size([1, 32, 3, 3])\n",
            "torch.Size([1, 32, 3, 3])\n",
            "torch.Size([1, 32, 3, 3])\n",
            "torch.Size([1, 32, 3, 3])\n",
            "torch.Size([1, 32, 3, 3])\n",
            "torch.Size([1, 32, 3, 3])\n",
            "torch.Size([1, 32, 3, 3])\n",
            "torch.Size([1, 32, 3, 3])\n",
            "torch.Size([1, 32, 3, 3])\n",
            "torch.Size([1, 32, 3, 3])\n",
            "torch.Size([1, 32, 3, 3])\n",
            "torch.Size([1, 32, 3, 3])\n",
            "torch.Size([1, 32, 3, 3])\n",
            "torch.Size([1, 32, 3, 3])\n",
            "torch.Size([1, 32, 3, 3])\n",
            "torch.Size([1, 32, 3, 3])\n",
            "torch.Size([1, 32, 3, 3])\n",
            "torch.Size([1, 32, 3, 3])\n",
            "torch.Size([1, 32, 3, 3])\n",
            "torch.Size([1, 32, 3, 3])\n",
            "torch.Size([1, 32, 3, 3])\n",
            "torch.Size([1, 32, 3, 3])\n",
            "torch.Size([1, 32, 3, 3])\n",
            "torch.Size([1, 32, 3, 3])\n",
            "torch.Size([1, 32, 3, 3])\n",
            "torch.Size([1, 32, 3, 3])\n",
            "torch.Size([1, 32, 3, 3])\n",
            "torch.Size([1, 32, 3, 3])\n",
            "torch.Size([1, 32, 3, 3])\n",
            "torch.Size([1, 32, 3, 3])\n",
            "torch.Size([1, 32, 3, 3])\n",
            "torch.Size([1, 32, 3, 3])\n",
            "torch.Size([1, 32, 3, 3])\n",
            "torch.Size([1, 32, 3, 3])\n",
            "torch.Size([1, 32, 3, 3])\n",
            "torch.Size([1, 32, 3, 3])\n",
            "torch.Size([1, 32, 3, 3])\n",
            "torch.Size([1, 32, 3, 3])\n",
            "torch.Size([1, 32, 3, 3])\n",
            "torch.Size([1, 32, 3, 3])\n",
            "torch.Size([1, 32, 3, 3])\n",
            "torch.Size([1, 32, 3, 3])\n",
            "torch.Size([1, 32, 3, 3])\n",
            "torch.Size([1, 32, 3, 3])\n",
            "torch.Size([1, 32, 3, 3])\n",
            "torch.Size([1, 32, 3, 3])\n",
            "torch.Size([1, 32, 3, 3])\n",
            "torch.Size([1, 32, 3, 3])\n",
            "torch.Size([1, 32, 3, 3])\n",
            "torch.Size([1, 32, 3, 3])\n",
            "torch.Size([1, 32, 3, 3])\n",
            "torch.Size([1, 32, 3, 3])\n",
            "torch.Size([1, 32, 3, 3])\n",
            "torch.Size([1, 32, 3, 3])\n",
            "torch.Size([1, 32, 3, 3])\n",
            "torch.Size([1, 32, 3, 3])\n",
            "torch.Size([1, 32, 3, 3])\n",
            "torch.Size([1, 32, 3, 3])\n",
            "torch.Size([1, 32, 3, 3])\n",
            "torch.Size([1, 32, 3, 3])\n",
            "torch.Size([1, 32, 3, 3])\n",
            "torch.Size([1, 32, 3, 3])\n",
            "torch.Size([1, 32, 3, 3])\n",
            "torch.Size([1, 32, 3, 3])\n",
            "torch.Size([1, 32, 3, 3])\n",
            "torch.Size([1, 32, 3, 3])\n",
            "torch.Size([1, 32, 3, 3])\n",
            "torch.Size([1, 32, 3, 3])\n",
            "torch.Size([1, 32, 3, 3])\n",
            "torch.Size([1, 32, 3, 3])\n",
            "torch.Size([1, 32, 3, 3])\n",
            "torch.Size([1, 32, 3, 3])\n",
            "torch.Size([1, 32, 3, 3])\n",
            "torch.Size([1, 32, 3, 3])\n",
            "torch.Size([1, 32, 3, 3])\n",
            "torch.Size([1, 32, 3, 3])\n",
            "torch.Size([1, 32, 3, 3])\n",
            "torch.Size([1, 32, 3, 3])\n",
            "torch.Size([1, 32, 3, 3])\n",
            "torch.Size([1, 32, 3, 3])\n",
            "torch.Size([1, 32, 3, 3])\n",
            "torch.Size([1, 32, 3, 3])\n",
            "torch.Size([1, 32, 3, 3])\n",
            "torch.Size([1, 32, 3, 3])\n",
            "torch.Size([1, 32, 3, 3])\n",
            "torch.Size([1, 32, 3, 3])\n",
            "torch.Size([1, 32, 3, 3])\n",
            "torch.Size([1, 32, 3, 3])\n",
            "torch.Size([1, 32, 3, 3])\n",
            "torch.Size([1, 32, 3, 3])\n",
            "torch.Size([1, 32, 3, 3])\n",
            "torch.Size([1, 32, 3, 3])\n",
            "torch.Size([1, 32, 3, 3])\n",
            "torch.Size([1, 32, 3, 3])\n",
            "128\n"
          ]
        }
      ]
    },
    {
      "cell_type": "code",
      "source": [
        "import matplotlib.pyplot as plt\n"
      ],
      "metadata": {
        "id": "qTqYqRnYyGgX"
      },
      "execution_count": 24,
      "outputs": []
    },
    {
      "cell_type": "code",
      "source": [
        "import random\n",
        "\n",
        "def tensor_2_im(t, t_type = \"rgb\"):\n",
        "\n",
        "    gray_tfs = tfs.Compose([tfs.Normalize(mean = [ 0.], std = [1/0.5]), tfs.Normalize(mean = [-0.5], std = [1])])\n",
        "    # rgb_tfs = tfs.Compose([tfs.Normalize(mean = [ 0., 0., 0. ], std = [ 1/0.229, 1/0.224, 1/0.225 ]), tfs.Normalize(mean = [ -0.485, -0.456, -0.406 ], std = [ 1., 1., 1. ])])\n",
        "    rgb_tfs = tfs.Compose([tfs.Normalize(mean = [ 0., 0., 0. ], std = [ 1/0.5, 1/0.5, 1/0.5 ]), tfs.Normalize(mean = [ -0.5, -0.5, -0.5 ], std = [ 1., 1., 1. ])])\n",
        "\n",
        "    invTrans = gray_tfs if t_type == \"gray\" else rgb_tfs\n",
        "\n",
        "    return (invTrans(t) * 255).detach().squeeze().cpu().permute(1,2,0).numpy().astype(np.uint8) if t_type == \"gray\" else (invTrans(t) * 255).detach().cpu().permute(1,2,0).numpy().astype(np.uint8)\n",
        "\n",
        "\n",
        "def visualize(data, rasmlar_soni, qatorlar, cmap = None, klass_nomlari = None):\n",
        "\n",
        "    assert cmap in [ \"gray\"]\n",
        "    if cmap == \"rgb\": cmap = \"viridis\"\n",
        "\n",
        "    plt.figure(figsize = (20, 10))\n",
        "    indekslar = [random.randint(0, len(data) - 1) for _ in range(rasmlar_soni)]\n",
        "    for idx, indeks in enumerate(indekslar):\n",
        "\n",
        "        im, gt = data[indeks]\n",
        "        # Start plot\n",
        "        plt.subplot(qatorlar, rasmlar_soni // qatorlar, idx + 1)\n",
        "        if cmap:\n",
        "            plt.imshow(tensor_2_im(im, cmap), cmap=cmap)\n",
        "        else:\n",
        "            plt.imshow(tensor_2_im(im))\n",
        "        plt.axis('off')\n",
        "        if klass_nomlari is not None:\n",
        "            plt.title (klass_nomlari[gt])\n",
        "        else:\n",
        "            plt.title(f\"GT -> {gt}\")"
      ],
      "metadata": {
        "id": "Vnq3BZCLyJ0s"
      },
      "execution_count": 25,
      "outputs": []
    },
    {
      "cell_type": "code",
      "source": [
        "from PIL import Image\n",
        "\n",
        "rasm = Image.open(\"t-shirt.jpg\")\n",
        "test_ts = tfs.Compose([tfs.Resize((28,28)),\n",
        "    tfs.Grayscale(num_output_channels=3),\n",
        "                       tfs.ToTensor(),\n",
        "                       tfs.Normalize(0.5, 0.5)])\n",
        "tensor_im = test_ts(rasm)\n",
        "tensor_im.shape"
      ],
      "metadata": {
        "colab": {
          "base_uri": "https://localhost:8080/"
        },
        "id": "SbLeBL80yXla",
        "outputId": "bdd7ecf8-59cb-4b3e-d26b-88bc15a7f47c"
      },
      "execution_count": 26,
      "outputs": [
        {
          "output_type": "execute_result",
          "data": {
            "text/plain": [
              "torch.Size([3, 28, 28])"
            ]
          },
          "metadata": {},
          "execution_count": 26
        }
      ]
    },
    {
      "cell_type": "code",
      "source": [
        "pred = model(tensor_im.unsqueeze(dim=0))\n",
        "pred_class = torch.argmax(pred, dim = 1)\n",
        "plt.imshow(tensor_2_im(tensor_im, t_type= \"rgb\"))\n",
        "plt.axis('off')\n",
        "plt.title  (classes[pred_class.item()])"
      ],
      "metadata": {
        "colab": {
          "base_uri": "https://localhost:8080/",
          "height": 465
        },
        "id": "W4KIQ1bry1_t",
        "outputId": "c811d020-ea28-4e8e-8147-e0d23f530ed7"
      },
      "execution_count": 27,
      "outputs": [
        {
          "output_type": "stream",
          "name": "stdout",
          "text": [
            "torch.Size([1, 32, 3, 3])\n"
          ]
        },
        {
          "output_type": "execute_result",
          "data": {
            "text/plain": [
              "Text(0.5, 1.0, 'Bag')"
            ]
          },
          "metadata": {},
          "execution_count": 27
        },
        {
          "output_type": "display_data",
          "data": {
            "text/plain": [
              "<Figure size 640x480 with 1 Axes>"
            ],
            "image/png": "[encoded data removed]"
          },
          "metadata": {}
        }
      ]
    },
    {
      "cell_type": "code",
      "source": [
        "from PIL import Image\n",
        "\n",
        "rasm = Image.open(\"trouser.webp\")\n",
        "test_ts = tfs.Compose([tfs.Resize((28,28)),\n",
        "    tfs.Grayscale(num_output_channels=3),\n",
        "                       tfs.ToTensor(),\n",
        "                       tfs.Normalize(0.5, 0.5)])\n",
        "tensor_im = test_ts(rasm)\n",
        "tensor_im.shape"
      ],
      "metadata": {
        "colab": {
          "base_uri": "https://localhost:8080/"
        },
        "id": "ZsFb8EQuzEDn",
        "outputId": "c2c77051-3f68-4d8a-c8fd-b9e36fabaa8f"
      },
      "execution_count": 28,
      "outputs": [
        {
          "output_type": "execute_result",
          "data": {
            "text/plain": [
              "torch.Size([3, 28, 28])"
            ]
          },
          "metadata": {},
          "execution_count": 28
        }
      ]
    },
    {
      "cell_type": "code",
      "source": [
        "pred = model(tensor_im.unsqueeze(dim=0))\n",
        "pred_class = torch.argmax(pred, dim = 1)\n",
        "plt.imshow(tensor_2_im(tensor_im, t_type= \"rgb\"))\n",
        "plt.axis('off')\n",
        "plt.title  (classes[pred_class.item()])"
      ],
      "metadata": {
        "colab": {
          "base_uri": "https://localhost:8080/",
          "height": 465
        },
        "id": "TrY5h0AHE1oX",
        "outputId": "12a459da-6717-4b81-d514-0d58def42da8"
      },
      "execution_count": 29,
      "outputs": [
        {
          "output_type": "stream",
          "name": "stdout",
          "text": [
            "torch.Size([1, 32, 3, 3])\n"
          ]
        },
        {
          "output_type": "execute_result",
          "data": {
            "text/plain": [
              "Text(0.5, 1.0, 'Bag')"
            ]
          },
          "metadata": {},
          "execution_count": 29
        },
        {
          "output_type": "display_data",
          "data": {
            "text/plain": [
              "<Figure size 640x480 with 1 Axes>"
            ],
            "image/png": "[encoded data removed]"
          },
          "metadata": {}
        }
      ]
    },
    {
      "cell_type": "code",
      "source": [
        "from PIL import Image\n",
        "\n",
        "rasm = Image.open(\"boot1.jpeg\")\n",
        "test_ts = tfs.Compose([tfs.Resize((28,28)),\n",
        "    tfs.Grayscale(num_output_channels=3),\n",
        "                       tfs.ToTensor(),\n",
        "                       tfs.Normalize(0.5, 0.5)])\n",
        "tensor_im = test_ts(rasm)\n",
        "tensor_im.shape"
      ],
      "metadata": {
        "colab": {
          "base_uri": "https://localhost:8080/"
        },
        "id": "_lweXHXCE6LQ",
        "outputId": "8fb8bb2f-a40c-4091-efad-5d6e9e4f3d0f"
      },
      "execution_count": 30,
      "outputs": [
        {
          "output_type": "execute_result",
          "data": {
            "text/plain": [
              "torch.Size([3, 28, 28])"
            ]
          },
          "metadata": {},
          "execution_count": 30
        }
      ]
    },
    {
      "cell_type": "code",
      "source": [
        "pred = model(tensor_im.unsqueeze(dim=0))\n",
        "pred_class = torch.argmax(pred, dim = 1)\n",
        "plt.imshow(tensor_2_im(tensor_im, t_type= \"rgb\"))\n",
        "plt.axis('off')\n",
        "plt.title  (classes[pred_class.item()])"
      ],
      "metadata": {
        "colab": {
          "base_uri": "https://localhost:8080/",
          "height": 465
        },
        "id": "M782hYEqFH8W",
        "outputId": "b3f102e2-71d1-40fe-a70b-862d855ee779"
      },
      "execution_count": 31,
      "outputs": [
        {
          "output_type": "stream",
          "name": "stdout",
          "text": [
            "torch.Size([1, 32, 3, 3])\n"
          ]
        },
        {
          "output_type": "execute_result",
          "data": {
            "text/plain": [
              "Text(0.5, 1.0, 'Bag')"
            ]
          },
          "metadata": {},
          "execution_count": 31
        },
        {
          "output_type": "display_data",
          "data": {
            "text/plain": [
              "<Figure size 640x480 with 1 Axes>"
            ],
            "image/png": "[encoded data removed]"
          },
          "metadata": {}
        }
      ]
    },
    {
      "cell_type": "code",
      "source": [
        "from PIL import Image\n",
        "\n",
        "rasm = Image.open(\"boot.webp\")\n",
        "test_ts = tfs.Compose([tfs.Resize((28,28)),\n",
        "    tfs.Grayscale(num_output_channels=3),\n",
        "                       tfs.ToTensor(),\n",
        "                       tfs.Normalize(0.5, 0.5)])\n"
      ],
      "metadata": {
        "id": "zbcDK1eeFdv4"
      },
      "execution_count": 32,
      "outputs": []
    },
    {
      "cell_type": "code",
      "source": [
        "pred = model(tensor_im.unsqueeze(dim=0))\n",
        "pred_class = torch.argmax(pred, dim = 1)\n",
        "plt.imshow(tensor_2_im(tensor_im, t_type= \"rgb\"))\n",
        "plt.axis('off')\n",
        "plt.title  (classes[pred_class.item()])"
      ],
      "metadata": {
        "colab": {
          "base_uri": "https://localhost:8080/",
          "height": 465
        },
        "id": "IYmilqFVFkHR",
        "outputId": "422f0f6d-0979-4a77-bcd9-b6dd62aa0424"
      },
      "execution_count": 33,
      "outputs": [
        {
          "output_type": "stream",
          "name": "stdout",
          "text": [
            "torch.Size([1, 32, 3, 3])\n"
          ]
        },
        {
          "output_type": "execute_result",
          "data": {
            "text/plain": [
              "Text(0.5, 1.0, 'Bag')"
            ]
          },
          "metadata": {},
          "execution_count": 33
        },
        {
          "output_type": "display_data",
          "data": {
            "text/plain": [
              "<Figure size 640x480 with 1 Axes>"
            ],
            "image/png": "[encoded data removed]"
          },
          "metadata": {}
        }
      ]
    },
    {
      "cell_type": "code",
      "source": [],
      "metadata": {
        "id": "wByoo8qjGjD_"
      },
      "execution_count": 33,
      "outputs": []
    }
  ]
}