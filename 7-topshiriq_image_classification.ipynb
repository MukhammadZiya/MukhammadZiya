{
  "nbformat": 4,
  "nbformat_minor": 0,
  "metadata": {
    "colab": {
      "provenance": []
    },
    "kernelspec": {
      "name": "python3",
      "display_name": "Python 3"
    },
    "language_info": {
      "name": "python"
    },
    "widgets": {
      "application/vnd.jupyter.widget-state+json": {
        "601a2b7436a84ac9b474b01b8abdc036": {
          "model_module": "@jupyter-widgets/controls",
          "model_name": "HBoxModel",
          "model_module_version": "1.5.0",
          "state": {
            "_dom_classes": [],
            "_model_module": "@jupyter-widgets/controls",
            "_model_module_version": "1.5.0",
            "_model_name": "HBoxModel",
            "_view_count": null,
            "_view_module": "@jupyter-widgets/controls",
            "_view_module_version": "1.5.0",
            "_view_name": "HBoxView",
            "box_style": "",
            "children": [
              "IPY_MODEL_757100f98e5145d58b3e5141b760436d",
              "IPY_MODEL_bc3c4981c793465baf0de6946265f5cb",
              "IPY_MODEL_f264d6a52c0e4724a5f1e020b3839df3"
            ],
            "layout": "IPY_MODEL_cc0920b2da6849808ce07ea2cf004ddb"
          }
        },
        "757100f98e5145d58b3e5141b760436d": {
          "model_module": "@jupyter-widgets/controls",
          "model_name": "HTMLModel",
          "model_module_version": "1.5.0",
          "state": {
            "_dom_classes": [],
            "_model_module": "@jupyter-widgets/controls",
            "_model_module_version": "1.5.0",
            "_model_name": "HTMLModel",
            "_view_count": null,
            "_view_module": "@jupyter-widgets/controls",
            "_view_module_version": "1.5.0",
            "_view_name": "HTMLView",
            "description": "",
            "description_tooltip": null,
            "layout": "IPY_MODEL_4b134a537c4a464f815b309cd50c37c5",
            "placeholder": "​",
            "style": "IPY_MODEL_acce0766c3a340478e35aebdce244c16",
            "value": "100%"
          }
        },
        "bc3c4981c793465baf0de6946265f5cb": {
          "model_module": "@jupyter-widgets/controls",
          "model_name": "FloatProgressModel",
          "model_module_version": "1.5.0",
          "state": {
            "_dom_classes": [],
            "_model_module": "@jupyter-widgets/controls",
            "_model_module_version": "1.5.0",
            "_model_name": "FloatProgressModel",
            "_view_count": null,
            "_view_module": "@jupyter-widgets/controls",
            "_view_module_version": "1.5.0",
            "_view_name": "ProgressView",
            "bar_style": "success",
            "description": "",
            "description_tooltip": null,
            "layout": "IPY_MODEL_e0e81177094f4945b3254038734ffcbe",
            "max": 9912422,
            "min": 0,
            "orientation": "horizontal",
            "style": "IPY_MODEL_bcabf729736e4da89224ecb01d8f0bdf",
            "value": 9912422
          }
        },
        "f264d6a52c0e4724a5f1e020b3839df3": {
          "model_module": "@jupyter-widgets/controls",
          "model_name": "HTMLModel",
          "model_module_version": "1.5.0",
          "state": {
            "_dom_classes": [],
            "_model_module": "@jupyter-widgets/controls",
            "_model_module_version": "1.5.0",
            "_model_name": "HTMLModel",
            "_view_count": null,
            "_view_module": "@jupyter-widgets/controls",
            "_view_module_version": "1.5.0",
            "_view_name": "HTMLView",
            "description": "",
            "description_tooltip": null,
            "layout": "IPY_MODEL_b143f0ac7cac464e942568e5908ea3fc",
            "placeholder": "​",
            "style": "IPY_MODEL_fdcb99406c9b4de1a00008692482df8c",
            "value": " 9912422/9912422 [00:00&lt;00:00, 18095125.93it/s]"
          }
        },
        "cc0920b2da6849808ce07ea2cf004ddb": {
          "model_module": "@jupyter-widgets/base",
          "model_name": "LayoutModel",
          "model_module_version": "1.2.0",
          "state": {
            "_model_module": "@jupyter-widgets/base",
            "_model_module_version": "1.2.0",
            "_model_name": "LayoutModel",
            "_view_count": null,
            "_view_module": "@jupyter-widgets/base",
            "_view_module_version": "1.2.0",
            "_view_name": "LayoutView",
            "align_content": null,
            "align_items": null,
            "align_self": null,
            "border": null,
            "bottom": null,
            "display": null,
            "flex": null,
            "flex_flow": null,
            "grid_area": null,
            "grid_auto_columns": null,
            "grid_auto_flow": null,
            "grid_auto_rows": null,
            "grid_column": null,
            "grid_gap": null,
            "grid_row": null,
            "grid_template_areas": null,
            "grid_template_columns": null,
            "grid_template_rows": null,
            "height": null,
            "justify_content": null,
            "justify_items": null,
            "left": null,
            "margin": null,
            "max_height": null,
            "max_width": null,
            "min_height": null,
            "min_width": null,
            "object_fit": null,
            "object_position": null,
            "order": null,
            "overflow": null,
            "overflow_x": null,
            "overflow_y": null,
            "padding": null,
            "right": null,
            "top": null,
            "visibility": null,
            "width": null
          }
        },
        "4b134a537c4a464f815b309cd50c37c5": {
          "model_module": "@jupyter-widgets/base",
          "model_name": "LayoutModel",
          "model_module_version": "1.2.0",
          "state": {
            "_model_module": "@jupyter-widgets/base",
            "_model_module_version": "1.2.0",
            "_model_name": "LayoutModel",
            "_view_count": null,
            "_view_module": "@jupyter-widgets/base",
            "_view_module_version": "1.2.0",
            "_view_name": "LayoutView",
            "align_content": null,
            "align_items": null,
            "align_self": null,
            "border": null,
            "bottom": null,
            "display": null,
            "flex": null,
            "flex_flow": null,
            "grid_area": null,
            "grid_auto_columns": null,
            "grid_auto_flow": null,
            "grid_auto_rows": null,
            "grid_column": null,
            "grid_gap": null,
            "grid_row": null,
            "grid_template_areas": null,
            "grid_template_columns": null,
            "grid_template_rows": null,
            "height": null,
            "justify_content": null,
            "justify_items": null,
            "left": null,
            "margin": null,
            "max_height": null,
            "max_width": null,
            "min_height": null,
            "min_width": null,
            "object_fit": null,
            "object_position": null,
            "order": null,
            "overflow": null,
            "overflow_x": null,
            "overflow_y": null,
            "padding": null,
            "right": null,
            "top": null,
            "visibility": null,
            "width": null
          }
        },
        "acce0766c3a340478e35aebdce244c16": {
          "model_module": "@jupyter-widgets/controls",
          "model_name": "DescriptionStyleModel",
          "model_module_version": "1.5.0",
          "state": {
            "_model_module": "@jupyter-widgets/controls",
            "_model_module_version": "1.5.0",
            "_model_name": "DescriptionStyleModel",
            "_view_count": null,
            "_view_module": "@jupyter-widgets/base",
            "_view_module_version": "1.2.0",
            "_view_name": "StyleView",
            "description_width": ""
          }
        },
        "e0e81177094f4945b3254038734ffcbe": {
          "model_module": "@jupyter-widgets/base",
          "model_name": "LayoutModel",
          "model_module_version": "1.2.0",
          "state": {
            "_model_module": "@jupyter-widgets/base",
            "_model_module_version": "1.2.0",
            "_model_name": "LayoutModel",
            "_view_count": null,
            "_view_module": "@jupyter-widgets/base",
            "_view_module_version": "1.2.0",
            "_view_name": "LayoutView",
            "align_content": null,
            "align_items": null,
            "align_self": null,
            "border": null,
            "bottom": null,
            "display": null,
            "flex": null,
            "flex_flow": null,
            "grid_area": null,
            "grid_auto_columns": null,
            "grid_auto_flow": null,
            "grid_auto_rows": null,
            "grid_column": null,
            "grid_gap": null,
            "grid_row": null,
            "grid_template_areas": null,
            "grid_template_columns": null,
            "grid_template_rows": null,
            "height": null,
            "justify_content": null,
            "justify_items": null,
            "left": null,
            "margin": null,
            "max_height": null,
            "max_width": null,
            "min_height": null,
            "min_width": null,
            "object_fit": null,
            "object_position": null,
            "order": null,
            "overflow": null,
            "overflow_x": null,
            "overflow_y": null,
            "padding": null,
            "right": null,
            "top": null,
            "visibility": null,
            "width": null
          }
        },
        "bcabf729736e4da89224ecb01d8f0bdf": {
          "model_module": "@jupyter-widgets/controls",
          "model_name": "ProgressStyleModel",
          "model_module_version": "1.5.0",
          "state": {
            "_model_module": "@jupyter-widgets/controls",
            "_model_module_version": "1.5.0",
            "_model_name": "ProgressStyleModel",
            "_view_count": null,
            "_view_module": "@jupyter-widgets/base",
            "_view_module_version": "1.2.0",
            "_view_name": "StyleView",
            "bar_color": null,
            "description_width": ""
          }
        },
        "b143f0ac7cac464e942568e5908ea3fc": {
          "model_module": "@jupyter-widgets/base",
          "model_name": "LayoutModel",
          "model_module_version": "1.2.0",
          "state": {
            "_model_module": "@jupyter-widgets/base",
            "_model_module_version": "1.2.0",
            "_model_name": "LayoutModel",
            "_view_count": null,
            "_view_module": "@jupyter-widgets/base",
            "_view_module_version": "1.2.0",
            "_view_name": "LayoutView",
            "align_content": null,
            "align_items": null,
            "align_self": null,
            "border": null,
            "bottom": null,
            "display": null,
            "flex": null,
            "flex_flow": null,
            "grid_area": null,
            "grid_auto_columns": null,
            "grid_auto_flow": null,
            "grid_auto_rows": null,
            "grid_column": null,
            "grid_gap": null,
            "grid_row": null,
            "grid_template_areas": null,
            "grid_template_columns": null,
            "grid_template_rows": null,
            "height": null,
            "justify_content": null,
            "justify_items": null,
            "left": null,
            "margin": null,
            "max_height": null,
            "max_width": null,
            "min_height": null,
            "min_width": null,
            "object_fit": null,
            "object_position": null,
            "order": null,
            "overflow": null,
            "overflow_x": null,
            "overflow_y": null,
            "padding": null,
            "right": null,
            "top": null,
            "visibility": null,
            "width": null
          }
        },
        "fdcb99406c9b4de1a00008692482df8c": {
          "model_module": "@jupyter-widgets/controls",
          "model_name": "DescriptionStyleModel",
          "model_module_version": "1.5.0",
          "state": {
            "_model_module": "@jupyter-widgets/controls",
            "_model_module_version": "1.5.0",
            "_model_name": "DescriptionStyleModel",
            "_view_count": null,
            "_view_module": "@jupyter-widgets/base",
            "_view_module_version": "1.2.0",
            "_view_name": "StyleView",
            "description_width": ""
          }
        },
        "5e997bcfc04843ab8f8c6f2590d2f298": {
          "model_module": "@jupyter-widgets/controls",
          "model_name": "HBoxModel",
          "model_module_version": "1.5.0",
          "state": {
            "_dom_classes": [],
            "_model_module": "@jupyter-widgets/controls",
            "_model_module_version": "1.5.0",
            "_model_name": "HBoxModel",
            "_view_count": null,
            "_view_module": "@jupyter-widgets/controls",
            "_view_module_version": "1.5.0",
            "_view_name": "HBoxView",
            "box_style": "",
            "children": [
              "IPY_MODEL_19da55e9b0b44bd3934b81e2cbd2e240",
              "IPY_MODEL_956738df64b44cfb9fc95418448e2828",
              "IPY_MODEL_0154e76dc9364021810d639fa64f66c7"
            ],
            "layout": "IPY_MODEL_5afeb2de4bdf4bb6a20d09e0159565a8"
          }
        },
        "19da55e9b0b44bd3934b81e2cbd2e240": {
          "model_module": "@jupyter-widgets/controls",
          "model_name": "HTMLModel",
          "model_module_version": "1.5.0",
          "state": {
            "_dom_classes": [],
            "_model_module": "@jupyter-widgets/controls",
            "_model_module_version": "1.5.0",
            "_model_name": "HTMLModel",
            "_view_count": null,
            "_view_module": "@jupyter-widgets/controls",
            "_view_module_version": "1.5.0",
            "_view_name": "HTMLView",
            "description": "",
            "description_tooltip": null,
            "layout": "IPY_MODEL_18fa17d060d04189812427fb8712410a",
            "placeholder": "​",
            "style": "IPY_MODEL_fb07a55a52364419939e88ea3ed72efe",
            "value": "100%"
          }
        },
        "956738df64b44cfb9fc95418448e2828": {
          "model_module": "@jupyter-widgets/controls",
          "model_name": "FloatProgressModel",
          "model_module_version": "1.5.0",
          "state": {
            "_dom_classes": [],
            "_model_module": "@jupyter-widgets/controls",
            "_model_module_version": "1.5.0",
            "_model_name": "FloatProgressModel",
            "_view_count": null,
            "_view_module": "@jupyter-widgets/controls",
            "_view_module_version": "1.5.0",
            "_view_name": "ProgressView",
            "bar_style": "success",
            "description": "",
            "description_tooltip": null,
            "layout": "IPY_MODEL_95eda05df2e5414f8fafa745f4c7f53d",
            "max": 28881,
            "min": 0,
            "orientation": "horizontal",
            "style": "IPY_MODEL_9693c9c6733f43dbb08a29a500deda07",
            "value": 28881
          }
        },
        "0154e76dc9364021810d639fa64f66c7": {
          "model_module": "@jupyter-widgets/controls",
          "model_name": "HTMLModel",
          "model_module_version": "1.5.0",
          "state": {
            "_dom_classes": [],
            "_model_module": "@jupyter-widgets/controls",
            "_model_module_version": "1.5.0",
            "_model_name": "HTMLModel",
            "_view_count": null,
            "_view_module": "@jupyter-widgets/controls",
            "_view_module_version": "1.5.0",
            "_view_name": "HTMLView",
            "description": "",
            "description_tooltip": null,
            "layout": "IPY_MODEL_1d9206d53ac947ee8d950e748dd60eea",
            "placeholder": "​",
            "style": "IPY_MODEL_e813d540e947499f8c40e75ce8548ddb",
            "value": " 28881/28881 [00:00&lt;00:00, 360950.45it/s]"
          }
        },
        "5afeb2de4bdf4bb6a20d09e0159565a8": {
          "model_module": "@jupyter-widgets/base",
          "model_name": "LayoutModel",
          "model_module_version": "1.2.0",
          "state": {
            "_model_module": "@jupyter-widgets/base",
            "_model_module_version": "1.2.0",
            "_model_name": "LayoutModel",
            "_view_count": null,
            "_view_module": "@jupyter-widgets/base",
            "_view_module_version": "1.2.0",
            "_view_name": "LayoutView",
            "align_content": null,
            "align_items": null,
            "align_self": null,
            "border": null,
            "bottom": null,
            "display": null,
            "flex": null,
            "flex_flow": null,
            "grid_area": null,
            "grid_auto_columns": null,
            "grid_auto_flow": null,
            "grid_auto_rows": null,
            "grid_column": null,
            "grid_gap": null,
            "grid_row": null,
            "grid_template_areas": null,
            "grid_template_columns": null,
            "grid_template_rows": null,
            "height": null,
            "justify_content": null,
            "justify_items": null,
            "left": null,
            "margin": null,
            "max_height": null,
            "max_width": null,
            "min_height": null,
            "min_width": null,
            "object_fit": null,
            "object_position": null,
            "order": null,
            "overflow": null,
            "overflow_x": null,
            "overflow_y": null,
            "padding": null,
            "right": null,
            "top": null,
            "visibility": null,
            "width": null
          }
        },
        "18fa17d060d04189812427fb8712410a": {
          "model_module": "@jupyter-widgets/base",
          "model_name": "LayoutModel",
          "model_module_version": "1.2.0",
          "state": {
            "_model_module": "@jupyter-widgets/base",
            "_model_module_version": "1.2.0",
            "_model_name": "LayoutModel",
            "_view_count": null,
            "_view_module": "@jupyter-widgets/base",
            "_view_module_version": "1.2.0",
            "_view_name": "LayoutView",
            "align_content": null,
            "align_items": null,
            "align_self": null,
            "border": null,
            "bottom": null,
            "display": null,
            "flex": null,
            "flex_flow": null,
            "grid_area": null,
            "grid_auto_columns": null,
            "grid_auto_flow": null,
            "grid_auto_rows": null,
            "grid_column": null,
            "grid_gap": null,
            "grid_row": null,
            "grid_template_areas": null,
            "grid_template_columns": null,
            "grid_template_rows": null,
            "height": null,
            "justify_content": null,
            "justify_items": null,
            "left": null,
            "margin": null,
            "max_height": null,
            "max_width": null,
            "min_height": null,
            "min_width": null,
            "object_fit": null,
            "object_position": null,
            "order": null,
            "overflow": null,
            "overflow_x": null,
            "overflow_y": null,
            "padding": null,
            "right": null,
            "top": null,
            "visibility": null,
            "width": null
          }
        },
        "fb07a55a52364419939e88ea3ed72efe": {
          "model_module": "@jupyter-widgets/controls",
          "model_name": "DescriptionStyleModel",
          "model_module_version": "1.5.0",
          "state": {
            "_model_module": "@jupyter-widgets/controls",
            "_model_module_version": "1.5.0",
            "_model_name": "DescriptionStyleModel",
            "_view_count": null,
            "_view_module": "@jupyter-widgets/base",
            "_view_module_version": "1.2.0",
            "_view_name": "StyleView",
            "description_width": ""
          }
        },
        "95eda05df2e5414f8fafa745f4c7f53d": {
          "model_module": "@jupyter-widgets/base",
          "model_name": "LayoutModel",
          "model_module_version": "1.2.0",
          "state": {
            "_model_module": "@jupyter-widgets/base",
            "_model_module_version": "1.2.0",
            "_model_name": "LayoutModel",
            "_view_count": null,
            "_view_module": "@jupyter-widgets/base",
            "_view_module_version": "1.2.0",
            "_view_name": "LayoutView",
            "align_content": null,
            "align_items": null,
            "align_self": null,
            "border": null,
            "bottom": null,
            "display": null,
            "flex": null,
            "flex_flow": null,
            "grid_area": null,
            "grid_auto_columns": null,
            "grid_auto_flow": null,
            "grid_auto_rows": null,
            "grid_column": null,
            "grid_gap": null,
            "grid_row": null,
            "grid_template_areas": null,
            "grid_template_columns": null,
            "grid_template_rows": null,
            "height": null,
            "justify_content": null,
            "justify_items": null,
            "left": null,
            "margin": null,
            "max_height": null,
            "max_width": null,
            "min_height": null,
            "min_width": null,
            "object_fit": null,
            "object_position": null,
            "order": null,
            "overflow": null,
            "overflow_x": null,
            "overflow_y": null,
            "padding": null,
            "right": null,
            "top": null,
            "visibility": null,
            "width": null
          }
        },
        "9693c9c6733f43dbb08a29a500deda07": {
          "model_module": "@jupyter-widgets/controls",
          "model_name": "ProgressStyleModel",
          "model_module_version": "1.5.0",
          "state": {
            "_model_module": "@jupyter-widgets/controls",
            "_model_module_version": "1.5.0",
            "_model_name": "ProgressStyleModel",
            "_view_count": null,
            "_view_module": "@jupyter-widgets/base",
            "_view_module_version": "1.2.0",
            "_view_name": "StyleView",
            "bar_color": null,
            "description_width": ""
          }
        },
        "1d9206d53ac947ee8d950e748dd60eea": {
          "model_module": "@jupyter-widgets/base",
          "model_name": "LayoutModel",
          "model_module_version": "1.2.0",
          "state": {
            "_model_module": "@jupyter-widgets/base",
            "_model_module_version": "1.2.0",
            "_model_name": "LayoutModel",
            "_view_count": null,
            "_view_module": "@jupyter-widgets/base",
            "_view_module_version": "1.2.0",
            "_view_name": "LayoutView",
            "align_content": null,
            "align_items": null,
            "align_self": null,
            "border": null,
            "bottom": null,
            "display": null,
            "flex": null,
            "flex_flow": null,
            "grid_area": null,
            "grid_auto_columns": null,
            "grid_auto_flow": null,
            "grid_auto_rows": null,
            "grid_column": null,
            "grid_gap": null,
            "grid_row": null,
            "grid_template_areas": null,
            "grid_template_columns": null,
            "grid_template_rows": null,
            "height": null,
            "justify_content": null,
            "justify_items": null,
            "left": null,
            "margin": null,
            "max_height": null,
            "max_width": null,
            "min_height": null,
            "min_width": null,
            "object_fit": null,
            "object_position": null,
            "order": null,
            "overflow": null,
            "overflow_x": null,
            "overflow_y": null,
            "padding": null,
            "right": null,
            "top": null,
            "visibility": null,
            "width": null
          }
        },
        "e813d540e947499f8c40e75ce8548ddb": {
          "model_module": "@jupyter-widgets/controls",
          "model_name": "DescriptionStyleModel",
          "model_module_version": "1.5.0",
          "state": {
            "_model_module": "@jupyter-widgets/controls",
            "_model_module_version": "1.5.0",
            "_model_name": "DescriptionStyleModel",
            "_view_count": null,
            "_view_module": "@jupyter-widgets/base",
            "_view_module_version": "1.2.0",
            "_view_name": "StyleView",
            "description_width": ""
          }
        },
        "289f83c0692045d39fdb57d11d361cf9": {
          "model_module": "@jupyter-widgets/controls",
          "model_name": "HBoxModel",
          "model_module_version": "1.5.0",
          "state": {
            "_dom_classes": [],
            "_model_module": "@jupyter-widgets/controls",
            "_model_module_version": "1.5.0",
            "_model_name": "HBoxModel",
            "_view_count": null,
            "_view_module": "@jupyter-widgets/controls",
            "_view_module_version": "1.5.0",
            "_view_name": "HBoxView",
            "box_style": "",
            "children": [
              "IPY_MODEL_6bb2181c2976468b8b7aaf94caae787e",
              "IPY_MODEL_d8958a602ea74cb7a5036257078a9e72",
              "IPY_MODEL_3cd46dcae633474794b156c59b0dea8d"
            ],
            "layout": "IPY_MODEL_a46c6597dab14c27a87ca2e982d00f08"
          }
        },
        "6bb2181c2976468b8b7aaf94caae787e": {
          "model_module": "@jupyter-widgets/controls",
          "model_name": "HTMLModel",
          "model_module_version": "1.5.0",
          "state": {
            "_dom_classes": [],
            "_model_module": "@jupyter-widgets/controls",
            "_model_module_version": "1.5.0",
            "_model_name": "HTMLModel",
            "_view_count": null,
            "_view_module": "@jupyter-widgets/controls",
            "_view_module_version": "1.5.0",
            "_view_name": "HTMLView",
            "description": "",
            "description_tooltip": null,
            "layout": "IPY_MODEL_863fd04df1884a938acdfca36c2ee39d",
            "placeholder": "​",
            "style": "IPY_MODEL_4ff6c26f90764c249aab86ce8cb2b193",
            "value": "100%"
          }
        },
        "d8958a602ea74cb7a5036257078a9e72": {
          "model_module": "@jupyter-widgets/controls",
          "model_name": "FloatProgressModel",
          "model_module_version": "1.5.0",
          "state": {
            "_dom_classes": [],
            "_model_module": "@jupyter-widgets/controls",
            "_model_module_version": "1.5.0",
            "_model_name": "FloatProgressModel",
            "_view_count": null,
            "_view_module": "@jupyter-widgets/controls",
            "_view_module_version": "1.5.0",
            "_view_name": "ProgressView",
            "bar_style": "success",
            "description": "",
            "description_tooltip": null,
            "layout": "IPY_MODEL_b198a032e3734dda897c3cc3c13d78c0",
            "max": 1648877,
            "min": 0,
            "orientation": "horizontal",
            "style": "IPY_MODEL_61af9071d18c4c91803f0ed0fa1cae02",
            "value": 1648877
          }
        },
        "3cd46dcae633474794b156c59b0dea8d": {
          "model_module": "@jupyter-widgets/controls",
          "model_name": "HTMLModel",
          "model_module_version": "1.5.0",
          "state": {
            "_dom_classes": [],
            "_model_module": "@jupyter-widgets/controls",
            "_model_module_version": "1.5.0",
            "_model_name": "HTMLModel",
            "_view_count": null,
            "_view_module": "@jupyter-widgets/controls",
            "_view_module_version": "1.5.0",
            "_view_name": "HTMLView",
            "description": "",
            "description_tooltip": null,
            "layout": "IPY_MODEL_0dd59d21e03d4031b5d6bb78192a25ba",
            "placeholder": "​",
            "style": "IPY_MODEL_2057893df7354b1db82e1279f554b43b",
            "value": " 1648877/1648877 [00:00&lt;00:00, 23690238.74it/s]"
          }
        },
        "a46c6597dab14c27a87ca2e982d00f08": {
          "model_module": "@jupyter-widgets/base",
          "model_name": "LayoutModel",
          "model_module_version": "1.2.0",
          "state": {
            "_model_module": "@jupyter-widgets/base",
            "_model_module_version": "1.2.0",
            "_model_name": "LayoutModel",
            "_view_count": null,
            "_view_module": "@jupyter-widgets/base",
            "_view_module_version": "1.2.0",
            "_view_name": "LayoutView",
            "align_content": null,
            "align_items": null,
            "align_self": null,
            "border": null,
            "bottom": null,
            "display": null,
            "flex": null,
            "flex_flow": null,
            "grid_area": null,
            "grid_auto_columns": null,
            "grid_auto_flow": null,
            "grid_auto_rows": null,
            "grid_column": null,
            "grid_gap": null,
            "grid_row": null,
            "grid_template_areas": null,
            "grid_template_columns": null,
            "grid_template_rows": null,
            "height": null,
            "justify_content": null,
            "justify_items": null,
            "left": null,
            "margin": null,
            "max_height": null,
            "max_width": null,
            "min_height": null,
            "min_width": null,
            "object_fit": null,
            "object_position": null,
            "order": null,
            "overflow": null,
            "overflow_x": null,
            "overflow_y": null,
            "padding": null,
            "right": null,
            "top": null,
            "visibility": null,
            "width": null
          }
        },
        "863fd04df1884a938acdfca36c2ee39d": {
          "model_module": "@jupyter-widgets/base",
          "model_name": "LayoutModel",
          "model_module_version": "1.2.0",
          "state": {
            "_model_module": "@jupyter-widgets/base",
            "_model_module_version": "1.2.0",
            "_model_name": "LayoutModel",
            "_view_count": null,
            "_view_module": "@jupyter-widgets/base",
            "_view_module_version": "1.2.0",
            "_view_name": "LayoutView",
            "align_content": null,
            "align_items": null,
            "align_self": null,
            "border": null,
            "bottom": null,
            "display": null,
            "flex": null,
            "flex_flow": null,
            "grid_area": null,
            "grid_auto_columns": null,
            "grid_auto_flow": null,
            "grid_auto_rows": null,
            "grid_column": null,
            "grid_gap": null,
            "grid_row": null,
            "grid_template_areas": null,
            "grid_template_columns": null,
            "grid_template_rows": null,
            "height": null,
            "justify_content": null,
            "justify_items": null,
            "left": null,
            "margin": null,
            "max_height": null,
            "max_width": null,
            "min_height": null,
            "min_width": null,
            "object_fit": null,
            "object_position": null,
            "order": null,
            "overflow": null,
            "overflow_x": null,
            "overflow_y": null,
            "padding": null,
            "right": null,
            "top": null,
            "visibility": null,
            "width": null
          }
        },
        "4ff6c26f90764c249aab86ce8cb2b193": {
          "model_module": "@jupyter-widgets/controls",
          "model_name": "DescriptionStyleModel",
          "model_module_version": "1.5.0",
          "state": {
            "_model_module": "@jupyter-widgets/controls",
            "_model_module_version": "1.5.0",
            "_model_name": "DescriptionStyleModel",
            "_view_count": null,
            "_view_module": "@jupyter-widgets/base",
            "_view_module_version": "1.2.0",
            "_view_name": "StyleView",
            "description_width": ""
          }
        },
        "b198a032e3734dda897c3cc3c13d78c0": {
          "model_module": "@jupyter-widgets/base",
          "model_name": "LayoutModel",
          "model_module_version": "1.2.0",
          "state": {
            "_model_module": "@jupyter-widgets/base",
            "_model_module_version": "1.2.0",
            "_model_name": "LayoutModel",
            "_view_count": null,
            "_view_module": "@jupyter-widgets/base",
            "_view_module_version": "1.2.0",
            "_view_name": "LayoutView",
            "align_content": null,
            "align_items": null,
            "align_self": null,
            "border": null,
            "bottom": null,
            "display": null,
            "flex": null,
            "flex_flow": null,
            "grid_area": null,
            "grid_auto_columns": null,
            "grid_auto_flow": null,
            "grid_auto_rows": null,
            "grid_column": null,
            "grid_gap": null,
            "grid_row": null,
            "grid_template_areas": null,
            "grid_template_columns": null,
            "grid_template_rows": null,
            "height": null,
            "justify_content": null,
            "justify_items": null,
            "left": null,
            "margin": null,
            "max_height": null,
            "max_width": null,
            "min_height": null,
            "min_width": null,
            "object_fit": null,
            "object_position": null,
            "order": null,
            "overflow": null,
            "overflow_x": null,
            "overflow_y": null,
            "padding": null,
            "right": null,
            "top": null,
            "visibility": null,
            "width": null
          }
        },
        "61af9071d18c4c91803f0ed0fa1cae02": {
          "model_module": "@jupyter-widgets/controls",
          "model_name": "ProgressStyleModel",
          "model_module_version": "1.5.0",
          "state": {
            "_model_module": "@jupyter-widgets/controls",
            "_model_module_version": "1.5.0",
            "_model_name": "ProgressStyleModel",
            "_view_count": null,
            "_view_module": "@jupyter-widgets/base",
            "_view_module_version": "1.2.0",
            "_view_name": "StyleView",
            "bar_color": null,
            "description_width": ""
          }
        },
        "0dd59d21e03d4031b5d6bb78192a25ba": {
          "model_module": "@jupyter-widgets/base",
          "model_name": "LayoutModel",
          "model_module_version": "1.2.0",
          "state": {
            "_model_module": "@jupyter-widgets/base",
            "_model_module_version": "1.2.0",
            "_model_name": "LayoutModel",
            "_view_count": null,
            "_view_module": "@jupyter-widgets/base",
            "_view_module_version": "1.2.0",
            "_view_name": "LayoutView",
            "align_content": null,
            "align_items": null,
            "align_self": null,
            "border": null,
            "bottom": null,
            "display": null,
            "flex": null,
            "flex_flow": null,
            "grid_area": null,
            "grid_auto_columns": null,
            "grid_auto_flow": null,
            "grid_auto_rows": null,
            "grid_column": null,
            "grid_gap": null,
            "grid_row": null,
            "grid_template_areas": null,
            "grid_template_columns": null,
            "grid_template_rows": null,
            "height": null,
            "justify_content": null,
            "justify_items": null,
            "left": null,
            "margin": null,
            "max_height": null,
            "max_width": null,
            "min_height": null,
            "min_width": null,
            "object_fit": null,
            "object_position": null,
            "order": null,
            "overflow": null,
            "overflow_x": null,
            "overflow_y": null,
            "padding": null,
            "right": null,
            "top": null,
            "visibility": null,
            "width": null
          }
        },
        "2057893df7354b1db82e1279f554b43b": {
          "model_module": "@jupyter-widgets/controls",
          "model_name": "DescriptionStyleModel",
          "model_module_version": "1.5.0",
          "state": {
            "_model_module": "@jupyter-widgets/controls",
            "_model_module_version": "1.5.0",
            "_model_name": "DescriptionStyleModel",
            "_view_count": null,
            "_view_module": "@jupyter-widgets/base",
            "_view_module_version": "1.2.0",
            "_view_name": "StyleView",
            "description_width": ""
          }
        },
        "8ac66cc16b5246f8b6bf660a195d01a3": {
          "model_module": "@jupyter-widgets/controls",
          "model_name": "HBoxModel",
          "model_module_version": "1.5.0",
          "state": {
            "_dom_classes": [],
            "_model_module": "@jupyter-widgets/controls",
            "_model_module_version": "1.5.0",
            "_model_name": "HBoxModel",
            "_view_count": null,
            "_view_module": "@jupyter-widgets/controls",
            "_view_module_version": "1.5.0",
            "_view_name": "HBoxView",
            "box_style": "",
            "children": [
              "IPY_MODEL_ad9a2512b1b94b1ea5d32446afab5177",
              "IPY_MODEL_439f957e49a14eba87a575ef82cea136",
              "IPY_MODEL_338d5f2bdc674ffb8e0cdba9cc879fb1"
            ],
            "layout": "IPY_MODEL_872cc8e49b854693abc9dc1491138946"
          }
        },
        "ad9a2512b1b94b1ea5d32446afab5177": {
          "model_module": "@jupyter-widgets/controls",
          "model_name": "HTMLModel",
          "model_module_version": "1.5.0",
          "state": {
            "_dom_classes": [],
            "_model_module": "@jupyter-widgets/controls",
            "_model_module_version": "1.5.0",
            "_model_name": "HTMLModel",
            "_view_count": null,
            "_view_module": "@jupyter-widgets/controls",
            "_view_module_version": "1.5.0",
            "_view_name": "HTMLView",
            "description": "",
            "description_tooltip": null,
            "layout": "IPY_MODEL_d8bb74e120dd4a98a8434500f63a4cf3",
            "placeholder": "​",
            "style": "IPY_MODEL_a9726b800405447dacd296f2daf76413",
            "value": "100%"
          }
        },
        "439f957e49a14eba87a575ef82cea136": {
          "model_module": "@jupyter-widgets/controls",
          "model_name": "FloatProgressModel",
          "model_module_version": "1.5.0",
          "state": {
            "_dom_classes": [],
            "_model_module": "@jupyter-widgets/controls",
            "_model_module_version": "1.5.0",
            "_model_name": "FloatProgressModel",
            "_view_count": null,
            "_view_module": "@jupyter-widgets/controls",
            "_view_module_version": "1.5.0",
            "_view_name": "ProgressView",
            "bar_style": "success",
            "description": "",
            "description_tooltip": null,
            "layout": "IPY_MODEL_e8bbad86c41149e1aa9ff3c63acf5a80",
            "max": 4542,
            "min": 0,
            "orientation": "horizontal",
            "style": "IPY_MODEL_b1dc625acd6a4a26aab1c07f3456dd66",
            "value": 4542
          }
        },
        "338d5f2bdc674ffb8e0cdba9cc879fb1": {
          "model_module": "@jupyter-widgets/controls",
          "model_name": "HTMLModel",
          "model_module_version": "1.5.0",
          "state": {
            "_dom_classes": [],
            "_model_module": "@jupyter-widgets/controls",
            "_model_module_version": "1.5.0",
            "_model_name": "HTMLModel",
            "_view_count": null,
            "_view_module": "@jupyter-widgets/controls",
            "_view_module_version": "1.5.0",
            "_view_name": "HTMLView",
            "description": "",
            "description_tooltip": null,
            "layout": "IPY_MODEL_27fea9b2ea23448f8c7eaa482fc0fb0a",
            "placeholder": "​",
            "style": "IPY_MODEL_789a04ecba5d4704ad4aa8394f5b0c43",
            "value": " 4542/4542 [00:00&lt;00:00, 164636.03it/s]"
          }
        },
        "872cc8e49b854693abc9dc1491138946": {
          "model_module": "@jupyter-widgets/base",
          "model_name": "LayoutModel",
          "model_module_version": "1.2.0",
          "state": {
            "_model_module": "@jupyter-widgets/base",
            "_model_module_version": "1.2.0",
            "_model_name": "LayoutModel",
            "_view_count": null,
            "_view_module": "@jupyter-widgets/base",
            "_view_module_version": "1.2.0",
            "_view_name": "LayoutView",
            "align_content": null,
            "align_items": null,
            "align_self": null,
            "border": null,
            "bottom": null,
            "display": null,
            "flex": null,
            "flex_flow": null,
            "grid_area": null,
            "grid_auto_columns": null,
            "grid_auto_flow": null,
            "grid_auto_rows": null,
            "grid_column": null,
            "grid_gap": null,
            "grid_row": null,
            "grid_template_areas": null,
            "grid_template_columns": null,
            "grid_template_rows": null,
            "height": null,
            "justify_content": null,
            "justify_items": null,
            "left": null,
            "margin": null,
            "max_height": null,
            "max_width": null,
            "min_height": null,
            "min_width": null,
            "object_fit": null,
            "object_position": null,
            "order": null,
            "overflow": null,
            "overflow_x": null,
            "overflow_y": null,
            "padding": null,
            "right": null,
            "top": null,
            "visibility": null,
            "width": null
          }
        },
        "d8bb74e120dd4a98a8434500f63a4cf3": {
          "model_module": "@jupyter-widgets/base",
          "model_name": "LayoutModel",
          "model_module_version": "1.2.0",
          "state": {
            "_model_module": "@jupyter-widgets/base",
            "_model_module_version": "1.2.0",
            "_model_name": "LayoutModel",
            "_view_count": null,
            "_view_module": "@jupyter-widgets/base",
            "_view_module_version": "1.2.0",
            "_view_name": "LayoutView",
            "align_content": null,
            "align_items": null,
            "align_self": null,
            "border": null,
            "bottom": null,
            "display": null,
            "flex": null,
            "flex_flow": null,
            "grid_area": null,
            "grid_auto_columns": null,
            "grid_auto_flow": null,
            "grid_auto_rows": null,
            "grid_column": null,
            "grid_gap": null,
            "grid_row": null,
            "grid_template_areas": null,
            "grid_template_columns": null,
            "grid_template_rows": null,
            "height": null,
            "justify_content": null,
            "justify_items": null,
            "left": null,
            "margin": null,
            "max_height": null,
            "max_width": null,
            "min_height": null,
            "min_width": null,
            "object_fit": null,
            "object_position": null,
            "order": null,
            "overflow": null,
            "overflow_x": null,
            "overflow_y": null,
            "padding": null,
            "right": null,
            "top": null,
            "visibility": null,
            "width": null
          }
        },
        "a9726b800405447dacd296f2daf76413": {
          "model_module": "@jupyter-widgets/controls",
          "model_name": "DescriptionStyleModel",
          "model_module_version": "1.5.0",
          "state": {
            "_model_module": "@jupyter-widgets/controls",
            "_model_module_version": "1.5.0",
            "_model_name": "DescriptionStyleModel",
            "_view_count": null,
            "_view_module": "@jupyter-widgets/base",
            "_view_module_version": "1.2.0",
            "_view_name": "StyleView",
            "description_width": ""
          }
        },
        "e8bbad86c41149e1aa9ff3c63acf5a80": {
          "model_module": "@jupyter-widgets/base",
          "model_name": "LayoutModel",
          "model_module_version": "1.2.0",
          "state": {
            "_model_module": "@jupyter-widgets/base",
            "_model_module_version": "1.2.0",
            "_model_name": "LayoutModel",
            "_view_count": null,
            "_view_module": "@jupyter-widgets/base",
            "_view_module_version": "1.2.0",
            "_view_name": "LayoutView",
            "align_content": null,
            "align_items": null,
            "align_self": null,
            "border": null,
            "bottom": null,
            "display": null,
            "flex": null,
            "flex_flow": null,
            "grid_area": null,
            "grid_auto_columns": null,
            "grid_auto_flow": null,
            "grid_auto_rows": null,
            "grid_column": null,
            "grid_gap": null,
            "grid_row": null,
            "grid_template_areas": null,
            "grid_template_columns": null,
            "grid_template_rows": null,
            "height": null,
            "justify_content": null,
            "justify_items": null,
            "left": null,
            "margin": null,
            "max_height": null,
            "max_width": null,
            "min_height": null,
            "min_width": null,
            "object_fit": null,
            "object_position": null,
            "order": null,
            "overflow": null,
            "overflow_x": null,
            "overflow_y": null,
            "padding": null,
            "right": null,
            "top": null,
            "visibility": null,
            "width": null
          }
        },
        "b1dc625acd6a4a26aab1c07f3456dd66": {
          "model_module": "@jupyter-widgets/controls",
          "model_name": "ProgressStyleModel",
          "model_module_version": "1.5.0",
          "state": {
            "_model_module": "@jupyter-widgets/controls",
            "_model_module_version": "1.5.0",
            "_model_name": "ProgressStyleModel",
            "_view_count": null,
            "_view_module": "@jupyter-widgets/base",
            "_view_module_version": "1.2.0",
            "_view_name": "StyleView",
            "bar_color": null,
            "description_width": ""
          }
        },
        "27fea9b2ea23448f8c7eaa482fc0fb0a": {
          "model_module": "@jupyter-widgets/base",
          "model_name": "LayoutModel",
          "model_module_version": "1.2.0",
          "state": {
            "_model_module": "@jupyter-widgets/base",
            "_model_module_version": "1.2.0",
            "_model_name": "LayoutModel",
            "_view_count": null,
            "_view_module": "@jupyter-widgets/base",
            "_view_module_version": "1.2.0",
            "_view_name": "LayoutView",
            "align_content": null,
            "align_items": null,
            "align_self": null,
            "border": null,
            "bottom": null,
            "display": null,
            "flex": null,
            "flex_flow": null,
            "grid_area": null,
            "grid_auto_columns": null,
            "grid_auto_flow": null,
            "grid_auto_rows": null,
            "grid_column": null,
            "grid_gap": null,
            "grid_row": null,
            "grid_template_areas": null,
            "grid_template_columns": null,
            "grid_template_rows": null,
            "height": null,
            "justify_content": null,
            "justify_items": null,
            "left": null,
            "margin": null,
            "max_height": null,
            "max_width": null,
            "min_height": null,
            "min_width": null,
            "object_fit": null,
            "object_position": null,
            "order": null,
            "overflow": null,
            "overflow_x": null,
            "overflow_y": null,
            "padding": null,
            "right": null,
            "top": null,
            "visibility": null,
            "width": null
          }
        },
        "789a04ecba5d4704ad4aa8394f5b0c43": {
          "model_module": "@jupyter-widgets/controls",
          "model_name": "DescriptionStyleModel",
          "model_module_version": "1.5.0",
          "state": {
            "_model_module": "@jupyter-widgets/controls",
            "_model_module_version": "1.5.0",
            "_model_name": "DescriptionStyleModel",
            "_view_count": null,
            "_view_module": "@jupyter-widgets/base",
            "_view_module_version": "1.2.0",
            "_view_name": "StyleView",
            "description_width": ""
          }
        }
      }
    }
  },
  "cells": [
    {
      "cell_type": "code",
      "execution_count": 1,
      "metadata": {
        "colab": {
          "base_uri": "https://localhost:8080/"
        },
        "id": "pTp9yso9anE2",
        "outputId": "4e3c68a2-3310-4b70-b6c3-7581fcf41460"
      },
      "outputs": [
        {
          "output_type": "stream",
          "name": "stdout",
          "text": [
            "Collecting torch==1.13.1\n",
            "  Downloading torch-1.13.1-cp310-cp310-manylinux1_x86_64.whl (887.5 MB)\n",
            "\u001b[2K     \u001b[90m━━━━━━━━━━━━━━━━━━━━━━━━━━━━━━━━━━━━━━━━\u001b[0m \u001b[32m887.5/887.5 MB\u001b[0m \u001b[31m616.5 kB/s\u001b[0m eta \u001b[36m0:00:00\u001b[0m\n",
            "\u001b[?25hCollecting torchvision==0.14.1\n",
            "  Downloading torchvision-0.14.1-cp310-cp310-manylinux1_x86_64.whl (24.2 MB)\n",
            "\u001b[2K     \u001b[90m━━━━━━━━━━━━━━━━━━━━━━━━━━━━━━━━━━━━━━━━\u001b[0m \u001b[32m24.2/24.2 MB\u001b[0m \u001b[31m36.7 MB/s\u001b[0m eta \u001b[36m0:00:00\u001b[0m\n",
            "\u001b[?25hRequirement already satisfied: typing-extensions in /usr/local/lib/python3.10/dist-packages (from torch==1.13.1) (4.5.0)\n",
            "Collecting nvidia-cuda-runtime-cu11==11.7.99 (from torch==1.13.1)\n",
            "  Downloading nvidia_cuda_runtime_cu11-11.7.99-py3-none-manylinux1_x86_64.whl (849 kB)\n",
            "\u001b[2K     \u001b[90m━━━━━━━━━━━━━━━━━━━━━━━━━━━━━━━━━━━━━━━━\u001b[0m \u001b[32m849.3/849.3 kB\u001b[0m \u001b[31m58.7 MB/s\u001b[0m eta \u001b[36m0:00:00\u001b[0m\n",
            "\u001b[?25hCollecting nvidia-cudnn-cu11==8.5.0.96 (from torch==1.13.1)\n",
            "  Downloading nvidia_cudnn_cu11-8.5.0.96-2-py3-none-manylinux1_x86_64.whl (557.1 MB)\n",
            "\u001b[2K     \u001b[90m━━━━━━━━━━━━━━━━━━━━━━━━━━━━━━━━━━━━━━━━\u001b[0m \u001b[32m557.1/557.1 MB\u001b[0m \u001b[31m2.1 MB/s\u001b[0m eta \u001b[36m0:00:00\u001b[0m\n",
            "\u001b[?25hCollecting nvidia-cublas-cu11==11.10.3.66 (from torch==1.13.1)\n",
            "  Downloading nvidia_cublas_cu11-11.10.3.66-py3-none-manylinux1_x86_64.whl (317.1 MB)\n",
            "\u001b[2K     \u001b[90m━━━━━━━━━━━━━━━━━━━━━━━━━━━━━━━━━━━━━━━━\u001b[0m \u001b[32m317.1/317.1 MB\u001b[0m \u001b[31m2.6 MB/s\u001b[0m eta \u001b[36m0:00:00\u001b[0m\n",
            "\u001b[?25hCollecting nvidia-cuda-nvrtc-cu11==11.7.99 (from torch==1.13.1)\n",
            "  Downloading nvidia_cuda_nvrtc_cu11-11.7.99-2-py3-none-manylinux1_x86_64.whl (21.0 MB)\n",
            "\u001b[2K     \u001b[90m━━━━━━━━━━━━━━━━━━━━━━━━━━━━━━━━━━━━━━━━\u001b[0m \u001b[32m21.0/21.0 MB\u001b[0m \u001b[31m52.3 MB/s\u001b[0m eta \u001b[36m0:00:00\u001b[0m\n",
            "\u001b[?25hRequirement already satisfied: numpy in /usr/local/lib/python3.10/dist-packages (from torchvision==0.14.1) (1.23.5)\n",
            "Requirement already satisfied: requests in /usr/local/lib/python3.10/dist-packages (from torchvision==0.14.1) (2.31.0)\n",
            "Requirement already satisfied: pillow!=8.3.*,>=5.3.0 in /usr/local/lib/python3.10/dist-packages (from torchvision==0.14.1) (9.4.0)\n",
            "Requirement already satisfied: setuptools in /usr/local/lib/python3.10/dist-packages (from nvidia-cublas-cu11==11.10.3.66->torch==1.13.1) (67.7.2)\n",
            "Requirement already satisfied: wheel in /usr/local/lib/python3.10/dist-packages (from nvidia-cublas-cu11==11.10.3.66->torch==1.13.1) (0.41.2)\n",
            "Requirement already satisfied: charset-normalizer<4,>=2 in /usr/local/lib/python3.10/dist-packages (from requests->torchvision==0.14.1) (3.3.0)\n",
            "Requirement already satisfied: idna<4,>=2.5 in /usr/local/lib/python3.10/dist-packages (from requests->torchvision==0.14.1) (3.4)\n",
            "Requirement already satisfied: urllib3<3,>=1.21.1 in /usr/local/lib/python3.10/dist-packages (from requests->torchvision==0.14.1) (2.0.7)\n",
            "Requirement already satisfied: certifi>=2017.4.17 in /usr/local/lib/python3.10/dist-packages (from requests->torchvision==0.14.1) (2023.7.22)\n",
            "Installing collected packages: nvidia-cuda-runtime-cu11, nvidia-cuda-nvrtc-cu11, nvidia-cublas-cu11, nvidia-cudnn-cu11, torch, torchvision\n",
            "  Attempting uninstall: torch\n",
            "    Found existing installation: torch 2.1.0+cu118\n",
            "    Uninstalling torch-2.1.0+cu118:\n",
            "      Successfully uninstalled torch-2.1.0+cu118\n",
            "  Attempting uninstall: torchvision\n",
            "    Found existing installation: torchvision 0.16.0+cu118\n",
            "    Uninstalling torchvision-0.16.0+cu118:\n",
            "      Successfully uninstalled torchvision-0.16.0+cu118\n",
            "\u001b[31mERROR: pip's dependency resolver does not currently take into account all the packages that are installed. This behaviour is the source of the following dependency conflicts.\n",
            "torchaudio 2.1.0+cu118 requires torch==2.1.0, but you have torch 1.13.1 which is incompatible.\n",
            "torchdata 0.7.0 requires torch==2.1.0, but you have torch 1.13.1 which is incompatible.\n",
            "torchtext 0.16.0 requires torch==2.1.0, but you have torch 1.13.1 which is incompatible.\u001b[0m\u001b[31m\n",
            "\u001b[0mSuccessfully installed nvidia-cublas-cu11-11.10.3.66 nvidia-cuda-nvrtc-cu11-11.7.99 nvidia-cuda-runtime-cu11-11.7.99 nvidia-cudnn-cu11-8.5.0.96 torch-1.13.1 torchvision-0.14.1\n"
          ]
        }
      ],
      "source": [
        "!pip install torch==1.13.1 torchvision==0.14.1"
      ]
    },
    {
      "cell_type": "code",
      "source": [
        "import torch"
      ],
      "metadata": {
        "id": "jndegMZjcdMF"
      },
      "execution_count": 2,
      "outputs": []
    },
    {
      "cell_type": "code",
      "source": [
        "import torchvision"
      ],
      "metadata": {
        "id": "7HX-4oEPcfxx"
      },
      "execution_count": 3,
      "outputs": []
    },
    {
      "cell_type": "code",
      "source": [
        "!pip install pandas"
      ],
      "metadata": {
        "colab": {
          "base_uri": "https://localhost:8080/"
        },
        "id": "aNr_UBw8cmZJ",
        "outputId": "c5075807-934a-41fa-e94e-9e694f1e4692"
      },
      "execution_count": 4,
      "outputs": [
        {
          "output_type": "stream",
          "name": "stdout",
          "text": [
            "Requirement already satisfied: pandas in /usr/local/lib/python3.10/dist-packages (1.5.3)\n",
            "Requirement already satisfied: python-dateutil>=2.8.1 in /usr/local/lib/python3.10/dist-packages (from pandas) (2.8.2)\n",
            "Requirement already satisfied: pytz>=2020.1 in /usr/local/lib/python3.10/dist-packages (from pandas) (2023.3.post1)\n",
            "Requirement already satisfied: numpy>=1.21.0 in /usr/local/lib/python3.10/dist-packages (from pandas) (1.23.5)\n",
            "Requirement already satisfied: six>=1.5 in /usr/local/lib/python3.10/dist-packages (from python-dateutil>=2.8.1->pandas) (1.16.0)\n"
          ]
        }
      ]
    },
    {
      "cell_type": "code",
      "source": [
        "!pip install sklearn"
      ],
      "metadata": {
        "colab": {
          "base_uri": "https://localhost:8080/"
        },
        "id": "jTX8n63gcrzZ",
        "outputId": "83e32f83-44e7-4112-b384-30b3de69e475"
      },
      "execution_count": 5,
      "outputs": [
        {
          "output_type": "stream",
          "name": "stdout",
          "text": [
            "Collecting sklearn\n",
            "  Downloading sklearn-0.0.post10.tar.gz (3.6 kB)\n",
            "  Preparing metadata (setup.py) ... \u001b[?25l\u001b[?25hdone\n",
            "Building wheels for collected packages: sklearn\n",
            "  Building wheel for sklearn (setup.py) ... \u001b[?25l\u001b[?25hdone\n",
            "  Created wheel for sklearn: filename=sklearn-0.0.post10-py3-none-any.whl size=2959 sha256=19cacd4fb887a1e470ddc1182e306e61ee4e9adaf54dcbb9aa508b9935b04696\n",
            "  Stored in directory: /root/.cache/pip/wheels/5b/f6/92/0173054cc528db7ffe7b0c7652a96c3102aab156a6da960387\n",
            "Successfully built sklearn\n",
            "Installing collected packages: sklearn\n",
            "Successfully installed sklearn-0.0.post10\n"
          ]
        }
      ]
    },
    {
      "cell_type": "code",
      "source": [
        "import torch\n",
        "from torchvision.datasets import MNIST"
      ],
      "metadata": {
        "id": "L8NNRnPGdJkT"
      },
      "execution_count": 6,
      "outputs": []
    },
    {
      "cell_type": "code",
      "source": [
        "ds = MNIST (root = \"data\", train =True, download =True)\n",
        "test_ds = MNIST (root= \"data\", train=False, download= True)"
      ],
      "metadata": {
        "colab": {
          "base_uri": "https://localhost:8080/",
          "height": 423,
          "referenced_widgets": [
            "601a2b7436a84ac9b474b01b8abdc036",
            "757100f98e5145d58b3e5141b760436d",
            "bc3c4981c793465baf0de6946265f5cb",
            "f264d6a52c0e4724a5f1e020b3839df3",
            "cc0920b2da6849808ce07ea2cf004ddb",
            "4b134a537c4a464f815b309cd50c37c5",
            "acce0766c3a340478e35aebdce244c16",
            "e0e81177094f4945b3254038734ffcbe",
            "bcabf729736e4da89224ecb01d8f0bdf",
            "b143f0ac7cac464e942568e5908ea3fc",
            "fdcb99406c9b4de1a00008692482df8c",
            "5e997bcfc04843ab8f8c6f2590d2f298",
            "19da55e9b0b44bd3934b81e2cbd2e240",
            "956738df64b44cfb9fc95418448e2828",
            "0154e76dc9364021810d639fa64f66c7",
            "5afeb2de4bdf4bb6a20d09e0159565a8",
            "18fa17d060d04189812427fb8712410a",
            "fb07a55a52364419939e88ea3ed72efe",
            "95eda05df2e5414f8fafa745f4c7f53d",
            "9693c9c6733f43dbb08a29a500deda07",
            "1d9206d53ac947ee8d950e748dd60eea",
            "e813d540e947499f8c40e75ce8548ddb",
            "289f83c0692045d39fdb57d11d361cf9",
            "6bb2181c2976468b8b7aaf94caae787e",
            "d8958a602ea74cb7a5036257078a9e72",
            "3cd46dcae633474794b156c59b0dea8d",
            "a46c6597dab14c27a87ca2e982d00f08",
            "863fd04df1884a938acdfca36c2ee39d",
            "4ff6c26f90764c249aab86ce8cb2b193",
            "b198a032e3734dda897c3cc3c13d78c0",
            "61af9071d18c4c91803f0ed0fa1cae02",
            "0dd59d21e03d4031b5d6bb78192a25ba",
            "2057893df7354b1db82e1279f554b43b",
            "8ac66cc16b5246f8b6bf660a195d01a3",
            "ad9a2512b1b94b1ea5d32446afab5177",
            "439f957e49a14eba87a575ef82cea136",
            "338d5f2bdc674ffb8e0cdba9cc879fb1",
            "872cc8e49b854693abc9dc1491138946",
            "d8bb74e120dd4a98a8434500f63a4cf3",
            "a9726b800405447dacd296f2daf76413",
            "e8bbad86c41149e1aa9ff3c63acf5a80",
            "b1dc625acd6a4a26aab1c07f3456dd66",
            "27fea9b2ea23448f8c7eaa482fc0fb0a",
            "789a04ecba5d4704ad4aa8394f5b0c43"
          ]
        },
        "id": "95qEcbkidNNa",
        "outputId": "c5ebb955-861a-4286-afae-0c035087bbde"
      },
      "execution_count": 7,
      "outputs": [
        {
          "output_type": "stream",
          "name": "stdout",
          "text": [
            "Downloading http://yann.lecun.com/exdb/mnist/train-images-idx3-ubyte.gz\n",
            "Downloading http://yann.lecun.com/exdb/mnist/train-images-idx3-ubyte.gz to data/MNIST/raw/train-images-idx3-ubyte.gz\n"
          ]
        },
        {
          "output_type": "display_data",
          "data": {
            "text/plain": [
              "  0%|          | 0/9912422 [00:00<?, ?it/s]"
            ],
            "application/vnd.jupyter.widget-view+json": {
              "version_major": 2,
              "version_minor": 0,
              "model_id": "601a2b7436a84ac9b474b01b8abdc036"
            }
          },
          "metadata": {}
        },
        {
          "output_type": "stream",
          "name": "stdout",
          "text": [
            "Extracting data/MNIST/raw/train-images-idx3-ubyte.gz to data/MNIST/raw\n",
            "\n",
            "Downloading http://yann.lecun.com/exdb/mnist/train-labels-idx1-ubyte.gz\n",
            "Downloading http://yann.lecun.com/exdb/mnist/train-labels-idx1-ubyte.gz to data/MNIST/raw/train-labels-idx1-ubyte.gz\n"
          ]
        },
        {
          "output_type": "display_data",
          "data": {
            "text/plain": [
              "  0%|          | 0/28881 [00:00<?, ?it/s]"
            ],
            "application/vnd.jupyter.widget-view+json": {
              "version_major": 2,
              "version_minor": 0,
              "model_id": "5e997bcfc04843ab8f8c6f2590d2f298"
            }
          },
          "metadata": {}
        },
        {
          "output_type": "stream",
          "name": "stdout",
          "text": [
            "Extracting data/MNIST/raw/train-labels-idx1-ubyte.gz to data/MNIST/raw\n",
            "\n",
            "Downloading http://yann.lecun.com/exdb/mnist/t10k-images-idx3-ubyte.gz\n",
            "Downloading http://yann.lecun.com/exdb/mnist/t10k-images-idx3-ubyte.gz to data/MNIST/raw/t10k-images-idx3-ubyte.gz\n"
          ]
        },
        {
          "output_type": "display_data",
          "data": {
            "text/plain": [
              "  0%|          | 0/1648877 [00:00<?, ?it/s]"
            ],
            "application/vnd.jupyter.widget-view+json": {
              "version_major": 2,
              "version_minor": 0,
              "model_id": "289f83c0692045d39fdb57d11d361cf9"
            }
          },
          "metadata": {}
        },
        {
          "output_type": "stream",
          "name": "stdout",
          "text": [
            "Extracting data/MNIST/raw/t10k-images-idx3-ubyte.gz to data/MNIST/raw\n",
            "\n",
            "Downloading http://yann.lecun.com/exdb/mnist/t10k-labels-idx1-ubyte.gz\n",
            "Downloading http://yann.lecun.com/exdb/mnist/t10k-labels-idx1-ubyte.gz to data/MNIST/raw/t10k-labels-idx1-ubyte.gz\n"
          ]
        },
        {
          "output_type": "display_data",
          "data": {
            "text/plain": [
              "  0%|          | 0/4542 [00:00<?, ?it/s]"
            ],
            "application/vnd.jupyter.widget-view+json": {
              "version_major": 2,
              "version_minor": 0,
              "model_id": "8ac66cc16b5246f8b6bf660a195d01a3"
            }
          },
          "metadata": {}
        },
        {
          "output_type": "stream",
          "name": "stdout",
          "text": [
            "Extracting data/MNIST/raw/t10k-labels-idx1-ubyte.gz to data/MNIST/raw\n",
            "\n"
          ]
        }
      ]
    },
    {
      "cell_type": "code",
      "source": [
        "print(f\" Train datasetda {len(ds)}ta rasm bor.\")\n",
        "print(f\" Test datasetda {len(test_ds)}ta rasm bor.\")"
      ],
      "metadata": {
        "colab": {
          "base_uri": "https://localhost:8080/"
        },
        "id": "M6LeLky8dQIG",
        "outputId": "adc17fd5-aa81-40c2-9740-3c32706aeea8"
      },
      "execution_count": 8,
      "outputs": [
        {
          "output_type": "stream",
          "name": "stdout",
          "text": [
            " Train datasetda 60000ta rasm bor.\n",
            " Test datasetda 10000ta rasm bor.\n"
          ]
        }
      ]
    },
    {
      "cell_type": "code",
      "source": [
        "data = ds[9000]\n",
        "len(data)"
      ],
      "metadata": {
        "colab": {
          "base_uri": "https://localhost:8080/"
        },
        "id": "b4G9k8LLdSTB",
        "outputId": "ac6350e7-ebdd-4c9e-a3d3-9719f4fbd043"
      },
      "execution_count": 9,
      "outputs": [
        {
          "output_type": "execute_result",
          "data": {
            "text/plain": [
              "2"
            ]
          },
          "metadata": {},
          "execution_count": 9
        }
      ]
    },
    {
      "cell_type": "code",
      "source": [
        "type(data[0])"
      ],
      "metadata": {
        "colab": {
          "base_uri": "https://localhost:8080/"
        },
        "id": "qtmreg_1dUEQ",
        "outputId": "fcbbbcfb-88a6-462d-f49f-f204ac4737bd"
      },
      "execution_count": 10,
      "outputs": [
        {
          "output_type": "execute_result",
          "data": {
            "text/plain": [
              "PIL.Image.Image"
            ]
          },
          "metadata": {},
          "execution_count": 10
        }
      ]
    },
    {
      "cell_type": "code",
      "source": [
        "type(data[1])"
      ],
      "metadata": {
        "colab": {
          "base_uri": "https://localhost:8080/"
        },
        "id": "r_WBMRQidWF8",
        "outputId": "c3a66a5e-593e-4de6-daeb-41803dbf7196"
      },
      "execution_count": 11,
      "outputs": [
        {
          "output_type": "execute_result",
          "data": {
            "text/plain": [
              "int"
            ]
          },
          "metadata": {},
          "execution_count": 11
        }
      ]
    },
    {
      "cell_type": "code",
      "source": [
        "rasm, raqam = data[0], data[1]\n",
        "print(rasm.size)\n",
        "print(raqam)"
      ],
      "metadata": {
        "colab": {
          "base_uri": "https://localhost:8080/"
        },
        "id": "HHWReXDvdX-U",
        "outputId": "34be4685-1d5c-4c28-f9c2-3368c1e0eacc"
      },
      "execution_count": 12,
      "outputs": [
        {
          "output_type": "stream",
          "name": "stdout",
          "text": [
            "(28, 28)\n",
            "6\n"
          ]
        }
      ]
    },
    {
      "cell_type": "code",
      "source": [
        "display(rasm)"
      ],
      "metadata": {
        "colab": {
          "base_uri": "https://localhost:8080/",
          "height": 45
        },
        "id": "s0JSAy7cdZa0",
        "outputId": "f1d5f9b9-840c-4549-f269-dd4375b4b16d"
      },
      "execution_count": 13,
      "outputs": [
        {
          "output_type": "display_data",
          "data": {
            "text/plain": [
              "<PIL.Image.Image image mode=L size=28x28>"
            ],
            "image/png": "[encoded data removed]"
          },
          "metadata": {}
        }
      ]
    },
    {
      "cell_type": "code",
      "source": [
        "import numpy as np\n",
        "rasm_array = np.array(rasm)\n",
        "rasm_array"
      ],
      "metadata": {
        "colab": {
          "base_uri": "https://localhost:8080/"
        },
        "id": "pe18Ys1edbWP",
        "outputId": "5d8720a8-95c2-46bb-a6d7-7d5c46ac3872"
      },
      "execution_count": 14,
      "outputs": [
        {
          "output_type": "execute_result",
          "data": {
            "text/plain": [
              "array([[  0,   0,   0,   0,   0,   0,   0,   0,   0,   0,   0,   0,   0,\n",
              "          0,   0,   0,   0,   0,   0,   0,   0,   0,   0,   0,   0,   0,\n",
              "          0,   0],\n",
              "       [  0,   0,   0,   0,   0,   0,   0,   0,   0,   0,   0,   0,   0,\n",
              "          0,   0,   0,   0,   0,   0,   0,   0,   0,   0,   0,   0,   0,\n",
              "          0,   0],\n",
              "       [  0,   0,   0,   0,   0,   0,   0,   0,   0,   0,   0,   0,   0,\n",
              "          0,   0,   0,   0,   0,   0,   0,   0,   0,   0,   0,   0,   0,\n",
              "          0,   0],\n",
              "       [  0,   0,   0,   0,   0,   0,   0,   0,   0,   0,   0,   0,   0,\n",
              "          0,   0,   0,   0,   0,   0,   0,   0,   0,   0,   0,   0,   0,\n",
              "          0,   0],\n",
              "       [  0,   0,   0,   0,   0,   0,   0,   0,  41, 239, 253, 253, 253,\n",
              "        174,   0,   0,   0,   0,   0,   0,   0,   0,   0,   0,   0,   0,\n",
              "          0,   0],\n",
              "       [  0,   0,   0,   0,   0,   0,   0,   0, 175, 251, 251, 251, 251,\n",
              "        173,   0,   0,   0,   0,   0,   0,   0,   0,   0,   0,   0,   0,\n",
              "          0,   0],\n",
              "       [  0,   0,   0,   0,   0,   0,   0,  82, 228, 251, 251, 251, 251,\n",
              "        173,   0,   0,   0,   0,   0,   0,   0,   0,   0,   0,   0,   0,\n",
              "          0,   0],\n",
              "       [  0,   0,   0,   0,   0,   0,  10, 137, 251, 251, 236,  92,  18,\n",
              "         13,   0,   0,   0,   0,   0,   0,   0,   0,   0,   0,   0,   0,\n",
              "          0,   0],\n",
              "       [  0,   0,   0,   0,   0,   0,  59, 251, 251, 251, 153,   0,   0,\n",
              "          0,   0,   0,   0,   0,   0,   0,   0,   0,   0,   0,   0,   0,\n",
              "          0,   0],\n",
              "       [  0,   0,   0,   0,   0,   0,  59, 251, 251, 226,  59,   0,   0,\n",
              "          0,   0,   0,   0,   0, 109, 155,  96,   0,   0,   0,   0,   0,\n",
              "          0,   0],\n",
              "       [  0,   0,   0,   0,   0,   0,  59, 251, 251, 212,   0,   0,   0,\n",
              "          0,   0,  16, 215, 214, 239, 251, 236, 214,  47,   0,   0,   0,\n",
              "          0,   0],\n",
              "       [  0,   0,   0,   0,   0,   0, 119, 251, 251, 212,   0,   0,   0,\n",
              "         25,  78, 212, 253, 251, 251, 251, 251, 251, 237,  54,   0,   0,\n",
              "          0,   0],\n",
              "       [  0,   0,   0,   0,   0,   0, 253, 251, 251, 212,   0,   0,   0,\n",
              "         78, 251, 251, 253, 251, 251, 251, 251, 251, 251, 215,  63,   0,\n",
              "          0,   0],\n",
              "       [  0,   0,   0,   0,   0,   0, 253, 251, 251, 212,   0,   0,  16,\n",
              "        212, 251, 251, 253, 251, 251, 220, 131, 251, 251, 251, 220,  44,\n",
              "          0,   0],\n",
              "       [  0,   0,   0,   0,   0,   0, 255, 253, 253, 213,   0,  37, 224,\n",
              "        253, 253, 253, 150,   0,   0,   0,   0,   0, 215, 253, 253,  57,\n",
              "          0,   0],\n",
              "       [  0,   0,   0,   0,   0,   0, 253, 251, 251, 212,   0, 155, 251,\n",
              "        251, 251, 160,   0,   0,   0,   0,   0,   0, 214, 251, 251,  57,\n",
              "          0,   0],\n",
              "       [  0,   0,   0,   0,   0,   0, 253, 251, 251, 239, 175, 222, 251,\n",
              "        251, 251,  57,   0,   0,   0,   0,   0, 109, 239, 251, 156,  18,\n",
              "          0,   0],\n",
              "       [  0,   0,   0,   0,   0,   0, 222, 251, 251, 251, 251, 251, 251,\n",
              "        239, 107,   4,   0,   0,   0,  37, 115, 244, 251, 239,  98,   0,\n",
              "          0,   0],\n",
              "       [  0,   0,   0,   0,   0,   0,  59, 251, 251, 251, 251, 251, 251,\n",
              "        173,   0,   0,  23,  98,  98, 240, 251, 251, 243, 107,   0,   0,\n",
              "          0,   0],\n",
              "       [  0,   0,   0,   0,   0,   0,  59, 251, 251, 251, 251, 251, 251,\n",
              "        221, 155, 155, 179, 251, 251, 251, 251, 251, 231,   0,   0,   0,\n",
              "          0,   0],\n",
              "       [  0,   0,   0,   0,   0,   0,   9,  37, 172, 249, 251, 251, 251,\n",
              "        251, 251, 251, 253, 251, 237, 231, 156,  37,  35,   0,   0,   0,\n",
              "          0,   0],\n",
              "       [  0,   0,   0,   0,   0,   0,   0,   0,   0, 161, 203, 251, 251,\n",
              "        251, 251, 251, 174, 173,  53,   0,   0,   0,   0,   0,   0,   0,\n",
              "          0,   0],\n",
              "       [  0,   0,   0,   0,   0,   0,   0,   0,   0,   0,  45, 199, 251,\n",
              "        251, 251, 145,   0,   0,   0,   0,   0,   0,   0,   0,   0,   0,\n",
              "          0,   0],\n",
              "       [  0,   0,   0,   0,   0,   0,   0,   0,   0,   0,   0,  36,  72,\n",
              "        190,  57,  13,   0,   0,   0,   0,   0,   0,   0,   0,   0,   0,\n",
              "          0,   0],\n",
              "       [  0,   0,   0,   0,   0,   0,   0,   0,   0,   0,   0,   0,   0,\n",
              "          0,   0,   0,   0,   0,   0,   0,   0,   0,   0,   0,   0,   0,\n",
              "          0,   0],\n",
              "       [  0,   0,   0,   0,   0,   0,   0,   0,   0,   0,   0,   0,   0,\n",
              "          0,   0,   0,   0,   0,   0,   0,   0,   0,   0,   0,   0,   0,\n",
              "          0,   0],\n",
              "       [  0,   0,   0,   0,   0,   0,   0,   0,   0,   0,   0,   0,   0,\n",
              "          0,   0,   0,   0,   0,   0,   0,   0,   0,   0,   0,   0,   0,\n",
              "          0,   0],\n",
              "       [  0,   0,   0,   0,   0,   0,   0,   0,   0,   0,   0,   0,   0,\n",
              "          0,   0,   0,   0,   0,   0,   0,   0,   0,   0,   0,   0,   0,\n",
              "          0,   0]], dtype=uint8)"
            ]
          },
          "metadata": {},
          "execution_count": 14
        }
      ]
    },
    {
      "cell_type": "code",
      "source": [
        "from matplotlib import pyplot as plt\n",
        "plt.imshow(rasm, cmap = \"gray\")"
      ],
      "metadata": {
        "colab": {
          "base_uri": "https://localhost:8080/",
          "height": 447
        },
        "id": "qEGTK-Bsdc_i",
        "outputId": "b80275c1-0afe-4327-e006-5347e261d904"
      },
      "execution_count": 15,
      "outputs": [
        {
          "output_type": "execute_result",
          "data": {
            "text/plain": [
              "<matplotlib.image.AxesImage at 0x7c0ec9f280a0>"
            ]
          },
          "metadata": {},
          "execution_count": 15
        },
        {
          "output_type": "display_data",
          "data": {
            "text/plain": [
              "<Figure size 640x480 with 1 Axes>"
            ],
            "image/png": "[encoded data removed]"
          },
          "metadata": {}
        }
      ]
    },
    {
      "cell_type": "code",
      "source": [
        "from torchvision import transforms as tfs\n",
        "tr_ts = tfs.Compose([tfs.Grayscale(num_output_channels=3),\n",
        "                     tfs.ToTensor(),\n",
        "  tfs.Normalize(0.5, 0.5)])\n",
        "\n",
        "\n",
        "\n",
        "test_ts = tfs.Compose([tfs.Grayscale(num_output_channels=3),\n",
        "                       tfs.ToTensor(),\n",
        "                       tfs.Normalize(0.5, 0.5)])\n",
        "\n",
        "\n",
        "ds = MNIST (root=\"data\", train= True, transform= tr_ts, download = True)\n",
        "test_ds = MNIST(root= \"data\", train= False, transform= test_ts, download=True)"
      ],
      "metadata": {
        "id": "3flwI79Cdfgd"
      },
      "execution_count": 16,
      "outputs": []
    },
    {
      "cell_type": "code",
      "source": [
        "data = ds[2500]\n",
        "rasm, raqam = data[0], data[1]\n",
        "torch.unique(rasm)"
      ],
      "metadata": {
        "colab": {
          "base_uri": "https://localhost:8080/"
        },
        "id": "OvJRkbnDdiXV",
        "outputId": "58656b85-8841-4cab-d9fa-da6f31bba4c8"
      },
      "execution_count": 17,
      "outputs": [
        {
          "output_type": "execute_result",
          "data": {
            "text/plain": [
              "tensor([-1.0000, -0.9765, -0.9529, -0.9451, -0.9373, -0.9137, -0.9059, -0.8980,\n",
              "        -0.8902, -0.8745, -0.8353, -0.8275, -0.8196, -0.7725, -0.7333, -0.6784,\n",
              "        -0.6627, -0.6471, -0.6235, -0.6157, -0.6000, -0.5608, -0.5294, -0.5216,\n",
              "        -0.5059, -0.4431, -0.4353, -0.3961, -0.3725, -0.3569, -0.3412, -0.3176,\n",
              "        -0.3020, -0.2941, -0.2706, -0.2471, -0.2314, -0.2235, -0.1922, -0.1843,\n",
              "        -0.1137, -0.0824, -0.0588, -0.0275, -0.0118,  0.0824,  0.1059,  0.1294,\n",
              "         0.1451,  0.1765,  0.2000,  0.2157,  0.3412,  0.3569,  0.3961,  0.4039,\n",
              "         0.4824,  0.5451,  0.5686,  0.5843,  0.6235,  0.6706,  0.6784,  0.6863,\n",
              "         0.7020,  0.7255,  0.7412,  0.7490,  0.7882,  0.7961,  0.8118,  0.8353,\n",
              "         0.8431,  0.8588,  0.8745,  0.8824,  0.8902,  0.9137,  0.9451,  0.9608,\n",
              "         0.9843,  0.9922])"
            ]
          },
          "metadata": {},
          "execution_count": 17
        }
      ]
    },
    {
      "cell_type": "code",
      "source": [
        "from utils import visualize\n",
        "visualize(data = ds, rasmlar_soni = 20, qatorlar = 4, cmap = 'gray')"
      ],
      "metadata": {
        "colab": {
          "base_uri": "https://localhost:8080/",
          "height": 727
        },
        "id": "-4stumIAdkTk",
        "outputId": "e22ad57d-f3c6-498f-c308-7908e21b2a9c"
      },
      "execution_count": 19,
      "outputs": [
        {
          "output_type": "display_data",
          "data": {
            "text/plain": [
              "<Figure size 2000x1000 with 20 Axes>"
            ],
            "image/png": "[encoded data removed]"
          },
          "metadata": {}
        }
      ]
    },
    {
      "cell_type": "code",
      "source": [
        "from torch.utils.data import random_split, DataLoader\n",
        "\n",
        "tr_length = int(len(ds) * 0.9 )\n",
        "tr_ds, val_ds = random_split(dataset= ds, lengths = [tr_length, len(ds) - tr_length])\n",
        "print(f\"Train datasetda {len(tr_ds)} ta batch bor.\")\n",
        "print(f\"Validation datasetda {len(val_ds)} ta batch bor.\")\n",
        "print(f\"Train datasetda {len(test_ds)} ta batch bor.\")"
      ],
      "metadata": {
        "colab": {
          "base_uri": "https://localhost:8080/"
        },
        "id": "qVrakfgYeEGJ",
        "outputId": "f00b4551-5428-46bd-efe6-64b7f94bee6f"
      },
      "execution_count": 20,
      "outputs": [
        {
          "output_type": "stream",
          "name": "stdout",
          "text": [
            "Train datasetda 54000 ta batch bor.\n",
            "Validation datasetda 6000 ta batch bor.\n",
            "Train datasetda 10000 ta batch bor.\n"
          ]
        }
      ]
    },
    {
      "cell_type": "code",
      "source": [
        "bs = 128 # 2ning darajasi sifatida ishlatiladi\n",
        "tr_dl = DataLoader(dataset = tr_ds, batch_size = bs, shuffle = True, num_workers = 4, drop_last = False) # cpu lar soni\n",
        "val_dl = DataLoader(dataset = val_ds, batch_size = bs, shuffle = False, num_workers = 4)\n",
        "test_dl = DataLoader(dataset = test_ds, batch_size = bs, shuffle = False, num_workers = 4)\n",
        "print(f\"Train dataloader {len(tr_dl)}ta batch bor.\")\n",
        "print(f\"Validation dataloaderda {len(val_dl)}ta batch bor.\")\n",
        "print(f\"Test dataloaderda {len(test_dl)}ta batch bor.\")"
      ],
      "metadata": {
        "colab": {
          "base_uri": "https://localhost:8080/"
        },
        "id": "meyPuSEZaA6C",
        "outputId": "b3df9854-34a9-4546-a237-b0e5a19e7bbd"
      },
      "execution_count": 21,
      "outputs": [
        {
          "output_type": "stream",
          "name": "stdout",
          "text": [
            "Train dataloader 422ta batch bor.\n",
            "Validation dataloaderda 47ta batch bor.\n",
            "Test dataloaderda 79ta batch bor.\n"
          ]
        },
        {
          "output_type": "stream",
          "name": "stderr",
          "text": [
            "/usr/local/lib/python3.10/dist-packages/torch/utils/data/dataloader.py:554: UserWarning: This DataLoader will create 4 worker processes in total. Our suggested max number of worker in current system is 2, which is smaller than what this DataLoader is going to create. Please be aware that excessive worker creation might get DataLoader running slow or even freeze, lower the worker number to avoid potential slowness/freeze if necessary.\n",
            "  warnings.warn(_create_warning_msg(\n"
          ]
        }
      ]
    },
    {
      "cell_type": "code",
      "source": [
        "from torch import nn"
      ],
      "metadata": {
        "id": "xugu1GDOMoIF"
      },
      "execution_count": 22,
      "outputs": []
    },
    {
      "cell_type": "code",
      "source": [
        "import torch\n",
        "from torch import nn\n",
        "\n",
        "\n",
        "class Model(nn.Module):\n",
        "\n",
        "\n",
        "\n",
        "    def __init__(self, in_chs, out_chs,in_fs, ks,s, p, n_cls) :\n",
        "        super().__init__()\n",
        "\n",
        "        self.conv_1 = nn.Conv2d(in_channels=in_chs, out_channels = out_chs, kernel_size=ks, stride= s, padding = p)\n",
        "        self.conv_2 = nn.Conv2d(in_channels=out_chs, out_channels = out_chs*2, kernel_size=ks, stride= s, padding = p)\n",
        "\n",
        "        self.linear_1 = nn.Linear(in_features=in_fs, out_features= in_fs // 2)\n",
        "        self.linear_2 = nn.Linear(in_features=in_fs //2 , out_features= n_cls)\n",
        "        self.act = nn.ReLU()\n",
        "        self.mp = nn.MaxPool2d(kernel_size =2, stride = 2)\n",
        "\n",
        "\n",
        "    def forward(self, inp):\n",
        "\n",
        "      out = self.conv_1(inp)\n",
        "      out = self.act(out)\n",
        "      out = self.mp(out)\n",
        "\n",
        "      out = self.conv_2(out)\n",
        "      out = self.act(out)\n",
        "      out = self.mp(out)\n",
        "      print(out.shape)\n",
        "\n",
        "      bs= inp.shape[0]\n",
        "      out = out.view(bs, -1)\n",
        "\n",
        "      out= self.linear_1(out)\n",
        "      out = self.act(out)\n",
        "      out = self.linear_2(out)\n",
        "\n",
        "      return out\n",
        "\n",
        "rasm = torch.rand(1, 3, 28, 28)\n",
        "model = Model(in_chs = 3, out_chs=8, in_fs= 784 , ks=3 , s=1, p=1, n_cls=10)\n",
        "model(rasm).shape"
      ],
      "metadata": {
        "colab": {
          "base_uri": "https://localhost:8080/"
        },
        "id": "Dftrl1t-NdyM",
        "outputId": "6300d6b2-5f71-4a83-f001-76a578163bc1"
      },
      "execution_count": 23,
      "outputs": [
        {
          "output_type": "stream",
          "name": "stdout",
          "text": [
            "torch.Size([1, 16, 7, 7])\n"
          ]
        },
        {
          "output_type": "execute_result",
          "data": {
            "text/plain": [
              "torch.Size([1, 10])"
            ]
          },
          "metadata": {},
          "execution_count": 23
        }
      ]
    },
    {
      "cell_type": "code",
      "source": [
        "import torch\n",
        "inp = torch.rand (1, 3, 28, 28)\n",
        "model.eval()\n",
        "model(inp)"
      ],
      "metadata": {
        "colab": {
          "base_uri": "https://localhost:8080/"
        },
        "id": "Y2pE93G9FBG-",
        "outputId": "1e244c09-c737-41ee-e648-b6193c86a927"
      },
      "execution_count": 24,
      "outputs": [
        {
          "output_type": "stream",
          "name": "stdout",
          "text": [
            "torch.Size([1, 16, 7, 7])\n"
          ]
        },
        {
          "output_type": "execute_result",
          "data": {
            "text/plain": [
              "tensor([[-0.0932,  0.0272,  0.0056, -0.0167,  0.0085,  0.0336,  0.0330, -0.0325,\n",
              "          0.0281, -0.0008]], grad_fn=<AddmmBackward0>)"
            ]
          },
          "metadata": {},
          "execution_count": 24
        }
      ]
    },
    {
      "cell_type": "code",
      "source": [
        "epochs = 2\n",
        "device = \"cpu\"\n",
        "model.to(device)\n",
        "model.train()\n",
        "loss_fn = torch.nn.CrossEntropyLoss()\n",
        "optimizer = torch.optim.Adam(params = model.parameters(), lr = 0.001)\n"
      ],
      "metadata": {
        "id": "r0G2barFF3wd"
      },
      "execution_count": 25,
      "outputs": []
    },
    {
      "cell_type": "code",
      "source": [
        "import os"
      ],
      "metadata": {
        "id": "D5i2QcHNR3ee"
      },
      "execution_count": 26,
      "outputs": []
    },
    {
      "cell_type": "code",
      "source": [
        "from tqdm import tqdm\n",
        "import os\n",
        "\n",
        "best_acc = 0\n",
        "prefix = \"MNIST\"\n",
        "\n",
        "\n",
        "for epoch in range (epochs):\n",
        "\n",
        "  model.train()\n",
        "  print(f\"{epoch +1}- epoch jarayonlari boshlandi\")\n",
        "\n",
        "  epoch_loss, epoch_acc, total = 0, 0, 0\n",
        "\n",
        "  for idx, batch in tqdm(enumerate(tr_dl)):\n",
        "    rasm, gts = batch\n",
        "    rasm, gts = rasm.to(device), gts.to(device)\n",
        "    total += rasm.shape[0]\n",
        "\n",
        "    preds = model(rasm)\n",
        "    loss = loss_fn(preds,gts)\n",
        "    pred_cls = torch.argmax(preds.data, dim = 1)\n",
        "    epoch_acc +=(pred_cls == gts).sum().item()\n",
        "    epoch_loss += loss.item()\n",
        "\n",
        "    optimizer.zero_grad()\n",
        "    loss.backward()\n",
        "    optimizer.step()\n",
        "\n",
        "  print(\"\\n ~~~~~~~~~~~~~~~~~~~~~~~~~~~~~~~~~~~~~~~~~~~~~~~~~~~~~~~~~~\\n\")\n",
        "  print(f\"{epoch +1 }- epoch train jarayoni natijalari :\")\n",
        "  print(f\" {epoch +1}- epochdagi train loss     -> {(epoch_loss / len(tr_dl)):.3f}\")\n",
        "  print(f\" {epoch +1}- epochdagi train accuracy     -> {(epoch_acc / total):.3f}\")\n",
        "\n",
        "\n",
        "  model.eval()\n",
        "  with torch.no_grad():\n",
        "      val_epoch_loss, val_epoch_acc, val_total = 0, 0, 0\n",
        "\n",
        "      for idx, batch in tqdm(enumerate(val_dl)):\n",
        "        rasm, gts = batch\n",
        "        rasm, gts = rasm.to(device),  gts.to(device)\n",
        "        val_total += rasm.shape[0]\n",
        "\n",
        "        preds = model(rasm)\n",
        "        loss = loss_fn(preds, gts)\n",
        "        pred_cls = torch.argmax(preds.data, dim =1)\n",
        "\n",
        "        val_epoch_acc += (pred_cls == gts).sum().item()\n",
        "        val_epoch_loss += loss.item()\n",
        "\n",
        "        val_acc = val_epoch_acc / val_total\n",
        "\n",
        "\n",
        "\n",
        "        print(\"\\n ~~~~~~~~~~~~~~~~~~~~~~~~~~~~~~~~~~~~~~~~~~~~~~~~~~~~~~~~~~\\n\")\n",
        "        print(f\"{epoch +1 }- epoch train jarayoni natijalari :\")\n",
        "        print(f\" {epoch +1}- epochdagi train loss     -> {(val_epoch_loss / len(val_dl)):.3f}\")\n",
        "        print(f\" {epoch +1}- epochdagi train accuracy     -> {(val_acc):.3f}\")\n",
        "\n",
        "\n",
        "        if val_acc > best_acc:\n",
        "          os.makedirs(\"modellar\", exist_ok=True)\n",
        "          best_acc = val_acc\n",
        "          torch.save(model.state_dict(), f\"modellar/{prefix}_best_model.pth\")\n",
        "\n",
        "\n",
        "\n",
        "\n",
        "\n",
        "\n",
        "\n",
        "\n",
        "\n",
        "\n",
        "\n",
        "\n",
        "\n",
        "\n",
        "\n"
      ],
      "metadata": {
        "colab": {
          "base_uri": "https://localhost:8080/"
        },
        "id": "RdpcY2HWK2ZA",
        "outputId": "4173bf83-82d2-4f91-f5e3-aa82f9d6f359"
      },
      "execution_count": 27,
      "outputs": [
        {
          "output_type": "stream",
          "name": "stdout",
          "text": [
            "1- epoch jarayonlari boshlandi\n"
          ]
        },
        {
          "output_type": "stream",
          "name": "stderr",
          "text": [
            "1it [00:00,  2.60it/s]"
          ]
        },
        {
          "output_type": "stream",
          "name": "stdout",
          "text": [
            "torch.Size([128, 16, 7, 7])\n",
            "torch.Size([128, 16, 7, 7])\n"
          ]
        },
        {
          "output_type": "stream",
          "name": "stderr",
          "text": [
            "4it [00:00,  6.83it/s]"
          ]
        },
        {
          "output_type": "stream",
          "name": "stdout",
          "text": [
            "torch.Size([128, 16, 7, 7])\n",
            "torch.Size([128, 16, 7, 7])\n"
          ]
        },
        {
          "output_type": "stream",
          "name": "stderr",
          "text": [
            "\r5it [00:00,  7.18it/s]"
          ]
        },
        {
          "output_type": "stream",
          "name": "stdout",
          "text": [
            "torch.Size([128, 16, 7, 7])\n",
            "torch.Size([128, 16, 7, 7])\n"
          ]
        },
        {
          "output_type": "stream",
          "name": "stderr",
          "text": [
            "8it [00:01,  7.53it/s]"
          ]
        },
        {
          "output_type": "stream",
          "name": "stdout",
          "text": [
            "torch.Size([128, 16, 7, 7])\n",
            "torch.Size([128, 16, 7, 7])\n"
          ]
        },
        {
          "output_type": "stream",
          "name": "stderr",
          "text": [
            "10it [00:01,  7.89it/s]"
          ]
        },
        {
          "output_type": "stream",
          "name": "stdout",
          "text": [
            "torch.Size([128, 16, 7, 7])\n",
            "torch.Size([128, 16, 7, 7])\n"
          ]
        },
        {
          "output_type": "stream",
          "name": "stderr",
          "text": [
            "12it [00:01,  7.75it/s]"
          ]
        },
        {
          "output_type": "stream",
          "name": "stdout",
          "text": [
            "torch.Size([128, 16, 7, 7])\n",
            "torch.Size([128, 16, 7, 7])\n"
          ]
        },
        {
          "output_type": "stream",
          "name": "stderr",
          "text": [
            "14it [00:01,  7.71it/s]"
          ]
        },
        {
          "output_type": "stream",
          "name": "stdout",
          "text": [
            "torch.Size([128, 16, 7, 7])\n",
            "torch.Size([128, 16, 7, 7])\n"
          ]
        },
        {
          "output_type": "stream",
          "name": "stderr",
          "text": [
            "\r15it [00:02,  7.68it/s]"
          ]
        },
        {
          "output_type": "stream",
          "name": "stdout",
          "text": [
            "torch.Size([128, 16, 7, 7])\n",
            "torch.Size([128, 16, 7, 7])\n"
          ]
        },
        {
          "output_type": "stream",
          "name": "stderr",
          "text": [
            "18it [00:02,  8.33it/s]"
          ]
        },
        {
          "output_type": "stream",
          "name": "stdout",
          "text": [
            "torch.Size([128, 16, 7, 7])\n",
            "torch.Size([128, 16, 7, 7])\n"
          ]
        },
        {
          "output_type": "stream",
          "name": "stderr",
          "text": [
            "\r19it [00:02,  8.16it/s]"
          ]
        },
        {
          "output_type": "stream",
          "name": "stdout",
          "text": [
            "torch.Size([128, 16, 7, 7])\n",
            "torch.Size([128, 16, 7, 7])\n",
            "torch.Size([128, 16, 7, 7])\n"
          ]
        },
        {
          "output_type": "stream",
          "name": "stderr",
          "text": [
            "22it [00:02,  8.76it/s]"
          ]
        },
        {
          "output_type": "stream",
          "name": "stdout",
          "text": [
            "torch.Size([128, 16, 7, 7])\n",
            "torch.Size([128, 16, 7, 7])\n"
          ]
        },
        {
          "output_type": "stream",
          "name": "stderr",
          "text": [
            "25it [00:03,  8.27it/s]"
          ]
        },
        {
          "output_type": "stream",
          "name": "stdout",
          "text": [
            "torch.Size([128, 16, 7, 7])\n",
            "torch.Size([128, 16, 7, 7])\n",
            "torch.Size([128, 16, 7, 7])\n"
          ]
        },
        {
          "output_type": "stream",
          "name": "stderr",
          "text": [
            "28it [00:03,  8.82it/s]"
          ]
        },
        {
          "output_type": "stream",
          "name": "stdout",
          "text": [
            "torch.Size([128, 16, 7, 7])\n",
            "torch.Size([128, 16, 7, 7])\n"
          ]
        },
        {
          "output_type": "stream",
          "name": "stderr",
          "text": [
            "\r30it [00:03,  8.72it/s]"
          ]
        },
        {
          "output_type": "stream",
          "name": "stdout",
          "text": [
            "torch.Size([128, 16, 7, 7])\n",
            "torch.Size([128, 16, 7, 7])\n"
          ]
        },
        {
          "output_type": "stream",
          "name": "stderr",
          "text": [
            "32it [00:04,  8.44it/s]"
          ]
        },
        {
          "output_type": "stream",
          "name": "stdout",
          "text": [
            "torch.Size([128, 16, 7, 7])\n",
            "torch.Size([128, 16, 7, 7])\n"
          ]
        },
        {
          "output_type": "stream",
          "name": "stderr",
          "text": [
            "\r34it [00:04,  8.97it/s]"
          ]
        },
        {
          "output_type": "stream",
          "name": "stdout",
          "text": [
            "torch.Size([128, 16, 7, 7])\n",
            "torch.Size([128, 16, 7, 7])\n",
            "torch.Size([128, 16, 7, 7])\n"
          ]
        },
        {
          "output_type": "stream",
          "name": "stderr",
          "text": [
            "37it [00:04,  8.85it/s]"
          ]
        },
        {
          "output_type": "stream",
          "name": "stdout",
          "text": [
            "torch.Size([128, 16, 7, 7])\n",
            "torch.Size([128, 16, 7, 7])\n"
          ]
        },
        {
          "output_type": "stream",
          "name": "stderr",
          "text": [
            "\r38it [00:04,  8.79it/s]"
          ]
        },
        {
          "output_type": "stream",
          "name": "stdout",
          "text": [
            "torch.Size([128, 16, 7, 7])\n",
            "torch.Size([128, 16, 7, 7])\n",
            "torch.Size([128, 16, 7, 7])\n"
          ]
        },
        {
          "output_type": "stream",
          "name": "stderr",
          "text": [
            "42it [00:05,  8.74it/s]"
          ]
        },
        {
          "output_type": "stream",
          "name": "stdout",
          "text": [
            "torch.Size([128, 16, 7, 7])\n",
            "torch.Size([128, 16, 7, 7])\n"
          ]
        },
        {
          "output_type": "stream",
          "name": "stderr",
          "text": [
            "\r44it [00:05,  9.79it/s]"
          ]
        },
        {
          "output_type": "stream",
          "name": "stdout",
          "text": [
            "torch.Size([128, 16, 7, 7])\n",
            "torch.Size([128, 16, 7, 7])\n"
          ]
        },
        {
          "output_type": "stream",
          "name": "stderr",
          "text": [
            "46it [00:05,  8.79it/s]"
          ]
        },
        {
          "output_type": "stream",
          "name": "stdout",
          "text": [
            "torch.Size([128, 16, 7, 7])\n",
            "torch.Size([128, 16, 7, 7])\n"
          ]
        },
        {
          "output_type": "stream",
          "name": "stderr",
          "text": [
            "48it [00:05,  8.71it/s]"
          ]
        },
        {
          "output_type": "stream",
          "name": "stdout",
          "text": [
            "torch.Size([128, 16, 7, 7])\n",
            "torch.Size([128, 16, 7, 7])\n"
          ]
        },
        {
          "output_type": "stream",
          "name": "stderr",
          "text": [
            "\r49it [00:05,  8.26it/s]"
          ]
        },
        {
          "output_type": "stream",
          "name": "stdout",
          "text": [
            "torch.Size([128, 16, 7, 7])\n",
            "torch.Size([128, 16, 7, 7])\n"
          ]
        },
        {
          "output_type": "stream",
          "name": "stderr",
          "text": [
            "52it [00:06,  8.18it/s]"
          ]
        },
        {
          "output_type": "stream",
          "name": "stdout",
          "text": [
            "torch.Size([128, 16, 7, 7])\n",
            "torch.Size([128, 16, 7, 7])\n"
          ]
        },
        {
          "output_type": "stream",
          "name": "stderr",
          "text": [
            "\r54it [00:06,  8.47it/s]"
          ]
        },
        {
          "output_type": "stream",
          "name": "stdout",
          "text": [
            "torch.Size([128, 16, 7, 7])\n",
            "torch.Size([128, 16, 7, 7])\n"
          ]
        },
        {
          "output_type": "stream",
          "name": "stderr",
          "text": [
            "56it [00:06,  8.08it/s]"
          ]
        },
        {
          "output_type": "stream",
          "name": "stdout",
          "text": [
            "torch.Size([128, 16, 7, 7])\n",
            "torch.Size([128, 16, 7, 7])\n"
          ]
        },
        {
          "output_type": "stream",
          "name": "stderr",
          "text": [
            "\r58it [00:06,  9.43it/s]"
          ]
        },
        {
          "output_type": "stream",
          "name": "stdout",
          "text": [
            "torch.Size([128, 16, 7, 7])\n",
            "torch.Size([128, 16, 7, 7])\n",
            "torch.Size([128, 16, 7, 7])\n",
            "torch.Size([128, 16, 7, 7])\n"
          ]
        },
        {
          "output_type": "stream",
          "name": "stderr",
          "text": [
            "62it [00:07, 12.46it/s]"
          ]
        },
        {
          "output_type": "stream",
          "name": "stdout",
          "text": [
            "torch.Size([128, 16, 7, 7])\n",
            "torch.Size([128, 16, 7, 7])\n",
            "torch.Size([128, 16, 7, 7])\n"
          ]
        },
        {
          "output_type": "stream",
          "name": "stderr",
          "text": [
            "66it [00:07, 15.07it/s]"
          ]
        },
        {
          "output_type": "stream",
          "name": "stdout",
          "text": [
            "torch.Size([128, 16, 7, 7])\n",
            "torch.Size([128, 16, 7, 7])\n",
            "torch.Size([128, 16, 7, 7])\n",
            "torch.Size([128, 16, 7, 7])\n"
          ]
        },
        {
          "output_type": "stream",
          "name": "stderr",
          "text": [
            "70it [00:07, 14.13it/s]"
          ]
        },
        {
          "output_type": "stream",
          "name": "stdout",
          "text": [
            "torch.Size([128, 16, 7, 7])\n",
            "torch.Size([128, 16, 7, 7])\n",
            "torch.Size([128, 16, 7, 7])\n"
          ]
        },
        {
          "output_type": "stream",
          "name": "stderr",
          "text": [
            "\r72it [00:07, 15.11it/s]"
          ]
        },
        {
          "output_type": "stream",
          "name": "stdout",
          "text": [
            "torch.Size([128, 16, 7, 7])\n",
            "torch.Size([128, 16, 7, 7])\n",
            "torch.Size([128, 16, 7, 7])\n",
            "torch.Size([128, 16, 7, 7])\n"
          ]
        },
        {
          "output_type": "stream",
          "name": "stderr",
          "text": [
            "76it [00:08, 14.67it/s]"
          ]
        },
        {
          "output_type": "stream",
          "name": "stdout",
          "text": [
            "torch.Size([128, 16, 7, 7])\n",
            "torch.Size([128, 16, 7, 7])\n",
            "torch.Size([128, 16, 7, 7])\n"
          ]
        },
        {
          "output_type": "stream",
          "name": "stderr",
          "text": [
            "80it [00:08, 14.68it/s]"
          ]
        },
        {
          "output_type": "stream",
          "name": "stdout",
          "text": [
            "torch.Size([128, 16, 7, 7])\n",
            "torch.Size([128, 16, 7, 7])\n",
            "torch.Size([128, 16, 7, 7])\n",
            "torch.Size([128, 16, 7, 7])\n"
          ]
        },
        {
          "output_type": "stream",
          "name": "stderr",
          "text": [
            "84it [00:08, 15.25it/s]"
          ]
        },
        {
          "output_type": "stream",
          "name": "stdout",
          "text": [
            "torch.Size([128, 16, 7, 7])\n",
            "torch.Size([128, 16, 7, 7])\n",
            "torch.Size([128, 16, 7, 7])\n",
            "torch.Size([128, 16, 7, 7])\n"
          ]
        },
        {
          "output_type": "stream",
          "name": "stderr",
          "text": [
            "88it [00:08, 15.52it/s]"
          ]
        },
        {
          "output_type": "stream",
          "name": "stdout",
          "text": [
            "torch.Size([128, 16, 7, 7])\n",
            "torch.Size([128, 16, 7, 7])\n",
            "torch.Size([128, 16, 7, 7])\n"
          ]
        },
        {
          "output_type": "stream",
          "name": "stderr",
          "text": [
            "\r90it [00:09, 14.78it/s]"
          ]
        },
        {
          "output_type": "stream",
          "name": "stdout",
          "text": [
            "torch.Size([128, 16, 7, 7])\n",
            "torch.Size([128, 16, 7, 7])\n",
            "torch.Size([128, 16, 7, 7])\n",
            "torch.Size([128, 16, 7, 7])\n"
          ]
        },
        {
          "output_type": "stream",
          "name": "stderr",
          "text": [
            "94it [00:09, 15.05it/s]"
          ]
        },
        {
          "output_type": "stream",
          "name": "stdout",
          "text": [
            "torch.Size([128, 16, 7, 7])\n",
            "torch.Size([128, 16, 7, 7])\n",
            "torch.Size([128, 16, 7, 7])\n",
            "torch.Size([128, 16, 7, 7])\n"
          ]
        },
        {
          "output_type": "stream",
          "name": "stderr",
          "text": [
            "100it [00:09, 16.10it/s]"
          ]
        },
        {
          "output_type": "stream",
          "name": "stdout",
          "text": [
            "torch.Size([128, 16, 7, 7])\n",
            "torch.Size([128, 16, 7, 7])\n",
            "torch.Size([128, 16, 7, 7])\n",
            "torch.Size([128, 16, 7, 7])\n"
          ]
        },
        {
          "output_type": "stream",
          "name": "stderr",
          "text": [
            "\r102it [00:09, 15.83it/s]"
          ]
        },
        {
          "output_type": "stream",
          "name": "stdout",
          "text": [
            "torch.Size([128, 16, 7, 7])\n",
            "torch.Size([128, 16, 7, 7])\n",
            "torch.Size([128, 16, 7, 7])\n",
            "torch.Size([128, 16, 7, 7])\n"
          ]
        },
        {
          "output_type": "stream",
          "name": "stderr",
          "text": [
            "108it [00:10, 15.50it/s]"
          ]
        },
        {
          "output_type": "stream",
          "name": "stdout",
          "text": [
            "torch.Size([128, 16, 7, 7])\n",
            "torch.Size([128, 16, 7, 7])\n",
            "torch.Size([128, 16, 7, 7])\n",
            "torch.Size([128, 16, 7, 7])\n"
          ]
        },
        {
          "output_type": "stream",
          "name": "stderr",
          "text": [
            "112it [00:10, 16.30it/s]"
          ]
        },
        {
          "output_type": "stream",
          "name": "stdout",
          "text": [
            "torch.Size([128, 16, 7, 7])\n",
            "torch.Size([128, 16, 7, 7])\n",
            "torch.Size([128, 16, 7, 7])\n",
            "torch.Size([128, 16, 7, 7])\n"
          ]
        },
        {
          "output_type": "stream",
          "name": "stderr",
          "text": [
            "\r114it [00:10, 15.50it/s]"
          ]
        },
        {
          "output_type": "stream",
          "name": "stdout",
          "text": [
            "torch.Size([128, 16, 7, 7])\n",
            "torch.Size([128, 16, 7, 7])\n",
            "torch.Size([128, 16, 7, 7])\n",
            "torch.Size([128, 16, 7, 7])\n"
          ]
        },
        {
          "output_type": "stream",
          "name": "stderr",
          "text": [
            "118it [00:10, 15.77it/s]"
          ]
        },
        {
          "output_type": "stream",
          "name": "stdout",
          "text": [
            "torch.Size([128, 16, 7, 7])\n",
            "torch.Size([128, 16, 7, 7])\n",
            "torch.Size([128, 16, 7, 7])\n",
            "torch.Size([128, 16, 7, 7])\n"
          ]
        },
        {
          "output_type": "stream",
          "name": "stderr",
          "text": [
            "124it [00:11, 16.07it/s]"
          ]
        },
        {
          "output_type": "stream",
          "name": "stdout",
          "text": [
            "torch.Size([128, 16, 7, 7])\n",
            "torch.Size([128, 16, 7, 7])\n",
            "torch.Size([128, 16, 7, 7])\n",
            "torch.Size([128, 16, 7, 7])\n"
          ]
        },
        {
          "output_type": "stream",
          "name": "stderr",
          "text": [
            "\r126it [00:11, 15.75it/s]"
          ]
        },
        {
          "output_type": "stream",
          "name": "stdout",
          "text": [
            "torch.Size([128, 16, 7, 7])\n",
            "torch.Size([128, 16, 7, 7])\n",
            "torch.Size([128, 16, 7, 7])\n",
            "torch.Size([128, 16, 7, 7])\n"
          ]
        },
        {
          "output_type": "stream",
          "name": "stderr",
          "text": [
            "130it [00:11, 15.68it/s]"
          ]
        },
        {
          "output_type": "stream",
          "name": "stdout",
          "text": [
            "torch.Size([128, 16, 7, 7])\n",
            "torch.Size([128, 16, 7, 7])\n",
            "torch.Size([128, 16, 7, 7])\n",
            "torch.Size([128, 16, 7, 7])\n"
          ]
        },
        {
          "output_type": "stream",
          "name": "stderr",
          "text": [
            "136it [00:12, 16.24it/s]"
          ]
        },
        {
          "output_type": "stream",
          "name": "stdout",
          "text": [
            "torch.Size([128, 16, 7, 7])\n",
            "torch.Size([128, 16, 7, 7])\n",
            "torch.Size([128, 16, 7, 7])\n",
            "torch.Size([128, 16, 7, 7])\n"
          ]
        },
        {
          "output_type": "stream",
          "name": "stderr",
          "text": [
            "\r138it [00:12, 14.69it/s]"
          ]
        },
        {
          "output_type": "stream",
          "name": "stdout",
          "text": [
            "torch.Size([128, 16, 7, 7])\n",
            "torch.Size([128, 16, 7, 7])\n",
            "torch.Size([128, 16, 7, 7])\n",
            "torch.Size([128, 16, 7, 7])\n"
          ]
        },
        {
          "output_type": "stream",
          "name": "stderr",
          "text": [
            "142it [00:12, 15.81it/s]"
          ]
        },
        {
          "output_type": "stream",
          "name": "stdout",
          "text": [
            "torch.Size([128, 16, 7, 7])\n",
            "torch.Size([128, 16, 7, 7])\n",
            "torch.Size([128, 16, 7, 7])\n",
            "torch.Size([128, 16, 7, 7])\n"
          ]
        },
        {
          "output_type": "stream",
          "name": "stderr",
          "text": [
            "146it [00:12, 15.93it/s]"
          ]
        },
        {
          "output_type": "stream",
          "name": "stdout",
          "text": [
            "torch.Size([128, 16, 7, 7])\n",
            "torch.Size([128, 16, 7, 7])\n",
            "torch.Size([128, 16, 7, 7])\n"
          ]
        },
        {
          "output_type": "stream",
          "name": "stderr",
          "text": [
            "150it [00:13, 13.33it/s]"
          ]
        },
        {
          "output_type": "stream",
          "name": "stdout",
          "text": [
            "torch.Size([128, 16, 7, 7])\n",
            "torch.Size([128, 16, 7, 7])\n",
            "torch.Size([128, 16, 7, 7])\n"
          ]
        },
        {
          "output_type": "stream",
          "name": "stderr",
          "text": [
            "\r152it [00:13, 13.62it/s]"
          ]
        },
        {
          "output_type": "stream",
          "name": "stdout",
          "text": [
            "torch.Size([128, 16, 7, 7])\n",
            "torch.Size([128, 16, 7, 7])\n",
            "torch.Size([128, 16, 7, 7])\n",
            "torch.Size([128, 16, 7, 7])\n"
          ]
        },
        {
          "output_type": "stream",
          "name": "stderr",
          "text": [
            "156it [00:13, 14.55it/s]"
          ]
        },
        {
          "output_type": "stream",
          "name": "stdout",
          "text": [
            "torch.Size([128, 16, 7, 7])\n",
            "torch.Size([128, 16, 7, 7])\n",
            "torch.Size([128, 16, 7, 7])\n",
            "torch.Size([128, 16, 7, 7])\n"
          ]
        },
        {
          "output_type": "stream",
          "name": "stderr",
          "text": [
            "160it [00:13, 14.83it/s]"
          ]
        },
        {
          "output_type": "stream",
          "name": "stdout",
          "text": [
            "torch.Size([128, 16, 7, 7])\n",
            "torch.Size([128, 16, 7, 7])\n",
            "torch.Size([128, 16, 7, 7])\n"
          ]
        },
        {
          "output_type": "stream",
          "name": "stderr",
          "text": [
            "164it [00:13, 15.24it/s]"
          ]
        },
        {
          "output_type": "stream",
          "name": "stdout",
          "text": [
            "torch.Size([128, 16, 7, 7])\n",
            "torch.Size([128, 16, 7, 7])\n",
            "torch.Size([128, 16, 7, 7])\n",
            "torch.Size([128, 16, 7, 7])\n"
          ]
        },
        {
          "output_type": "stream",
          "name": "stderr",
          "text": [
            "168it [00:14, 15.51it/s]"
          ]
        },
        {
          "output_type": "stream",
          "name": "stdout",
          "text": [
            "torch.Size([128, 16, 7, 7])\n",
            "torch.Size([128, 16, 7, 7])\n",
            "torch.Size([128, 16, 7, 7])\n",
            "torch.Size([128, 16, 7, 7])\n"
          ]
        },
        {
          "output_type": "stream",
          "name": "stderr",
          "text": [
            "172it [00:14, 15.74it/s]"
          ]
        },
        {
          "output_type": "stream",
          "name": "stdout",
          "text": [
            "torch.Size([128, 16, 7, 7])\n",
            "torch.Size([128, 16, 7, 7])\n",
            "torch.Size([128, 16, 7, 7])\n",
            "torch.Size([128, 16, 7, 7])\n"
          ]
        },
        {
          "output_type": "stream",
          "name": "stderr",
          "text": [
            "176it [00:14, 15.61it/s]"
          ]
        },
        {
          "output_type": "stream",
          "name": "stdout",
          "text": [
            "torch.Size([128, 16, 7, 7])\n",
            "torch.Size([128, 16, 7, 7])\n",
            "torch.Size([128, 16, 7, 7])\n",
            "torch.Size([128, 16, 7, 7])\n"
          ]
        },
        {
          "output_type": "stream",
          "name": "stderr",
          "text": [
            "180it [00:14, 16.01it/s]"
          ]
        },
        {
          "output_type": "stream",
          "name": "stdout",
          "text": [
            "torch.Size([128, 16, 7, 7])\n",
            "torch.Size([128, 16, 7, 7])\n",
            "torch.Size([128, 16, 7, 7])\n",
            "torch.Size([128, 16, 7, 7])\n"
          ]
        },
        {
          "output_type": "stream",
          "name": "stderr",
          "text": [
            "184it [00:15, 15.32it/s]"
          ]
        },
        {
          "output_type": "stream",
          "name": "stdout",
          "text": [
            "torch.Size([128, 16, 7, 7])\n",
            "torch.Size([128, 16, 7, 7])\n",
            "torch.Size([128, 16, 7, 7])\n"
          ]
        },
        {
          "output_type": "stream",
          "name": "stderr",
          "text": [
            "\r186it [00:15, 15.46it/s]"
          ]
        },
        {
          "output_type": "stream",
          "name": "stdout",
          "text": [
            "torch.Size([128, 16, 7, 7])\n",
            "torch.Size([128, 16, 7, 7])\n",
            "torch.Size([128, 16, 7, 7])\n",
            "torch.Size([128, 16, 7, 7])\n"
          ]
        },
        {
          "output_type": "stream",
          "name": "stderr",
          "text": [
            "191it [00:15, 16.33it/s]"
          ]
        },
        {
          "output_type": "stream",
          "name": "stdout",
          "text": [
            "torch.Size([128, 16, 7, 7])\n",
            "torch.Size([128, 16, 7, 7])\n",
            "torch.Size([128, 16, 7, 7])\n",
            "torch.Size([128, 16, 7, 7])\n"
          ]
        },
        {
          "output_type": "stream",
          "name": "stderr",
          "text": [
            "195it [00:15, 16.45it/s]"
          ]
        },
        {
          "output_type": "stream",
          "name": "stdout",
          "text": [
            "torch.Size([128, 16, 7, 7])\n",
            "torch.Size([128, 16, 7, 7])\n",
            "torch.Size([128, 16, 7, 7])\n",
            "torch.Size([128, 16, 7, 7])\n"
          ]
        },
        {
          "output_type": "stream",
          "name": "stderr",
          "text": [
            "199it [00:16, 15.97it/s]"
          ]
        },
        {
          "output_type": "stream",
          "name": "stdout",
          "text": [
            "torch.Size([128, 16, 7, 7])\n",
            "torch.Size([128, 16, 7, 7])\n",
            "torch.Size([128, 16, 7, 7])\n",
            "torch.Size([128, 16, 7, 7])\n"
          ]
        },
        {
          "output_type": "stream",
          "name": "stderr",
          "text": [
            "203it [00:16, 15.61it/s]"
          ]
        },
        {
          "output_type": "stream",
          "name": "stdout",
          "text": [
            "torch.Size([128, 16, 7, 7])\n",
            "torch.Size([128, 16, 7, 7])\n",
            "torch.Size([128, 16, 7, 7])\n",
            "torch.Size([128, 16, 7, 7])\n"
          ]
        },
        {
          "output_type": "stream",
          "name": "stderr",
          "text": [
            "207it [00:16, 15.96it/s]"
          ]
        },
        {
          "output_type": "stream",
          "name": "stdout",
          "text": [
            "torch.Size([128, 16, 7, 7])\n",
            "torch.Size([128, 16, 7, 7])\n",
            "torch.Size([128, 16, 7, 7])\n",
            "torch.Size([128, 16, 7, 7])\n"
          ]
        },
        {
          "output_type": "stream",
          "name": "stderr",
          "text": [
            "211it [00:16, 16.15it/s]"
          ]
        },
        {
          "output_type": "stream",
          "name": "stdout",
          "text": [
            "torch.Size([128, 16, 7, 7])\n",
            "torch.Size([128, 16, 7, 7])\n",
            "torch.Size([128, 16, 7, 7])\n",
            "torch.Size([128, 16, 7, 7])\n"
          ]
        },
        {
          "output_type": "stream",
          "name": "stderr",
          "text": [
            "\r213it [00:17, 13.84it/s]"
          ]
        },
        {
          "output_type": "stream",
          "name": "stdout",
          "text": [
            "torch.Size([128, 16, 7, 7])\n",
            "torch.Size([128, 16, 7, 7])\n"
          ]
        },
        {
          "output_type": "stream",
          "name": "stderr",
          "text": [
            "\r215it [00:17, 11.57it/s]"
          ]
        },
        {
          "output_type": "stream",
          "name": "stdout",
          "text": [
            "torch.Size([128, 16, 7, 7])\n",
            "torch.Size([128, 16, 7, 7])\n"
          ]
        },
        {
          "output_type": "stream",
          "name": "stderr",
          "text": [
            "\r217it [00:17, 11.15it/s]"
          ]
        },
        {
          "output_type": "stream",
          "name": "stdout",
          "text": [
            "torch.Size([128, 16, 7, 7])\n",
            "torch.Size([128, 16, 7, 7])\n",
            "torch.Size([128, 16, 7, 7])\n"
          ]
        },
        {
          "output_type": "stream",
          "name": "stderr",
          "text": [
            "221it [00:17,  9.74it/s]"
          ]
        },
        {
          "output_type": "stream",
          "name": "stdout",
          "text": [
            "torch.Size([128, 16, 7, 7])\n",
            "torch.Size([128, 16, 7, 7])\n"
          ]
        },
        {
          "output_type": "stream",
          "name": "stderr",
          "text": [
            "\r223it [00:18,  9.99it/s]"
          ]
        },
        {
          "output_type": "stream",
          "name": "stdout",
          "text": [
            "torch.Size([128, 16, 7, 7])\n",
            "torch.Size([128, 16, 7, 7])\n",
            "torch.Size([128, 16, 7, 7])\n"
          ]
        },
        {
          "output_type": "stream",
          "name": "stderr",
          "text": [
            "226it [00:18,  8.92it/s]"
          ]
        },
        {
          "output_type": "stream",
          "name": "stdout",
          "text": [
            "torch.Size([128, 16, 7, 7])\n",
            "torch.Size([128, 16, 7, 7])\n"
          ]
        },
        {
          "output_type": "stream",
          "name": "stderr",
          "text": [
            "228it [00:18,  8.61it/s]"
          ]
        },
        {
          "output_type": "stream",
          "name": "stdout",
          "text": [
            "torch.Size([128, 16, 7, 7])\n",
            "torch.Size([128, 16, 7, 7])\n"
          ]
        },
        {
          "output_type": "stream",
          "name": "stderr",
          "text": [
            "230it [00:19,  8.48it/s]"
          ]
        },
        {
          "output_type": "stream",
          "name": "stdout",
          "text": [
            "torch.Size([128, 16, 7, 7])\n",
            "torch.Size([128, 16, 7, 7])\n"
          ]
        },
        {
          "output_type": "stream",
          "name": "stderr",
          "text": [
            "\r231it [00:19,  8.82it/s]"
          ]
        },
        {
          "output_type": "stream",
          "name": "stdout",
          "text": [
            "torch.Size([128, 16, 7, 7])\n",
            "torch.Size([128, 16, 7, 7])\n",
            "torch.Size([128, 16, 7, 7])\n"
          ]
        },
        {
          "output_type": "stream",
          "name": "stderr",
          "text": [
            "235it [00:19,  8.76it/s]"
          ]
        },
        {
          "output_type": "stream",
          "name": "stdout",
          "text": [
            "torch.Size([128, 16, 7, 7])\n",
            "torch.Size([128, 16, 7, 7])\n"
          ]
        },
        {
          "output_type": "stream",
          "name": "stderr",
          "text": [
            "\r236it [00:19,  8.40it/s]"
          ]
        },
        {
          "output_type": "stream",
          "name": "stdout",
          "text": [
            "torch.Size([128, 16, 7, 7])\n",
            "torch.Size([128, 16, 7, 7])\n"
          ]
        },
        {
          "output_type": "stream",
          "name": "stderr",
          "text": [
            "239it [00:20,  8.89it/s]"
          ]
        },
        {
          "output_type": "stream",
          "name": "stdout",
          "text": [
            "torch.Size([128, 16, 7, 7])\n",
            "torch.Size([128, 16, 7, 7])\n",
            "torch.Size([128, 16, 7, 7])\n"
          ]
        },
        {
          "output_type": "stream",
          "name": "stderr",
          "text": [
            "242it [00:20,  9.03it/s]"
          ]
        },
        {
          "output_type": "stream",
          "name": "stdout",
          "text": [
            "torch.Size([128, 16, 7, 7])\n",
            "torch.Size([128, 16, 7, 7])\n"
          ]
        },
        {
          "output_type": "stream",
          "name": "stderr",
          "text": [
            "244it [00:20,  8.77it/s]"
          ]
        },
        {
          "output_type": "stream",
          "name": "stdout",
          "text": [
            "torch.Size([128, 16, 7, 7])\n",
            "torch.Size([128, 16, 7, 7])\n"
          ]
        },
        {
          "output_type": "stream",
          "name": "stderr",
          "text": [
            "\r246it [00:20,  9.33it/s]"
          ]
        },
        {
          "output_type": "stream",
          "name": "stdout",
          "text": [
            "torch.Size([128, 16, 7, 7])\n",
            "torch.Size([128, 16, 7, 7])\n"
          ]
        },
        {
          "output_type": "stream",
          "name": "stderr",
          "text": [
            "248it [00:21,  8.70it/s]"
          ]
        },
        {
          "output_type": "stream",
          "name": "stdout",
          "text": [
            "torch.Size([128, 16, 7, 7])\n",
            "torch.Size([128, 16, 7, 7])\n"
          ]
        },
        {
          "output_type": "stream",
          "name": "stderr",
          "text": [
            "250it [00:21,  8.70it/s]"
          ]
        },
        {
          "output_type": "stream",
          "name": "stdout",
          "text": [
            "torch.Size([128, 16, 7, 7])\n",
            "torch.Size([128, 16, 7, 7])\n"
          ]
        },
        {
          "output_type": "stream",
          "name": "stderr",
          "text": [
            "\r251it [00:21,  8.91it/s]"
          ]
        },
        {
          "output_type": "stream",
          "name": "stdout",
          "text": [
            "torch.Size([128, 16, 7, 7])\n",
            "torch.Size([128, 16, 7, 7])\n"
          ]
        },
        {
          "output_type": "stream",
          "name": "stderr",
          "text": [
            "254it [00:21,  8.49it/s]"
          ]
        },
        {
          "output_type": "stream",
          "name": "stdout",
          "text": [
            "torch.Size([128, 16, 7, 7])\n",
            "torch.Size([128, 16, 7, 7])\n"
          ]
        },
        {
          "output_type": "stream",
          "name": "stderr",
          "text": [
            "\r256it [00:21,  9.53it/s]"
          ]
        },
        {
          "output_type": "stream",
          "name": "stdout",
          "text": [
            "torch.Size([128, 16, 7, 7])\n",
            "torch.Size([128, 16, 7, 7])\n"
          ]
        },
        {
          "output_type": "stream",
          "name": "stderr",
          "text": [
            "\r257it [00:22,  8.49it/s]"
          ]
        },
        {
          "output_type": "stream",
          "name": "stdout",
          "text": [
            "torch.Size([128, 16, 7, 7])\n",
            "torch.Size([128, 16, 7, 7])\n",
            "torch.Size([128, 16, 7, 7])\n"
          ]
        },
        {
          "output_type": "stream",
          "name": "stderr",
          "text": [
            "261it [00:22,  9.85it/s]"
          ]
        },
        {
          "output_type": "stream",
          "name": "stdout",
          "text": [
            "torch.Size([128, 16, 7, 7])\n",
            "torch.Size([128, 16, 7, 7])\n",
            "torch.Size([128, 16, 7, 7])\n"
          ]
        },
        {
          "output_type": "stream",
          "name": "stderr",
          "text": [
            "264it [00:22,  9.71it/s]"
          ]
        },
        {
          "output_type": "stream",
          "name": "stdout",
          "text": [
            "torch.Size([128, 16, 7, 7])\n",
            "torch.Size([128, 16, 7, 7])\n"
          ]
        },
        {
          "output_type": "stream",
          "name": "stderr",
          "text": [
            "\r265it [00:22,  8.90it/s]"
          ]
        },
        {
          "output_type": "stream",
          "name": "stdout",
          "text": [
            "torch.Size([128, 16, 7, 7])\n",
            "torch.Size([128, 16, 7, 7])\n"
          ]
        },
        {
          "output_type": "stream",
          "name": "stderr",
          "text": [
            "268it [00:23, 10.30it/s]"
          ]
        },
        {
          "output_type": "stream",
          "name": "stdout",
          "text": [
            "torch.Size([128, 16, 7, 7])\n",
            "torch.Size([128, 16, 7, 7])\n",
            "torch.Size([128, 16, 7, 7])\n",
            "torch.Size([128, 16, 7, 7])\n"
          ]
        },
        {
          "output_type": "stream",
          "name": "stderr",
          "text": [
            "272it [00:23, 12.76it/s]"
          ]
        },
        {
          "output_type": "stream",
          "name": "stdout",
          "text": [
            "torch.Size([128, 16, 7, 7])\n",
            "torch.Size([128, 16, 7, 7])\n",
            "torch.Size([128, 16, 7, 7])\n",
            "torch.Size([128, 16, 7, 7])\n"
          ]
        },
        {
          "output_type": "stream",
          "name": "stderr",
          "text": [
            "276it [00:23, 14.05it/s]"
          ]
        },
        {
          "output_type": "stream",
          "name": "stdout",
          "text": [
            "torch.Size([128, 16, 7, 7])\n",
            "torch.Size([128, 16, 7, 7])\n",
            "torch.Size([128, 16, 7, 7])\n",
            "torch.Size([128, 16, 7, 7])\n"
          ]
        },
        {
          "output_type": "stream",
          "name": "stderr",
          "text": [
            "280it [00:23, 14.71it/s]"
          ]
        },
        {
          "output_type": "stream",
          "name": "stdout",
          "text": [
            "torch.Size([128, 16, 7, 7])\n",
            "torch.Size([128, 16, 7, 7])\n",
            "torch.Size([128, 16, 7, 7])\n",
            "torch.Size([128, 16, 7, 7])\n"
          ]
        },
        {
          "output_type": "stream",
          "name": "stderr",
          "text": [
            "284it [00:24, 15.90it/s]"
          ]
        },
        {
          "output_type": "stream",
          "name": "stdout",
          "text": [
            "torch.Size([128, 16, 7, 7])\n",
            "torch.Size([128, 16, 7, 7])\n",
            "torch.Size([128, 16, 7, 7])\n",
            "torch.Size([128, 16, 7, 7])\n"
          ]
        },
        {
          "output_type": "stream",
          "name": "stderr",
          "text": [
            "288it [00:24, 15.64it/s]"
          ]
        },
        {
          "output_type": "stream",
          "name": "stdout",
          "text": [
            "torch.Size([128, 16, 7, 7])\n",
            "torch.Size([128, 16, 7, 7])\n",
            "torch.Size([128, 16, 7, 7])\n",
            "torch.Size([128, 16, 7, 7])\n"
          ]
        },
        {
          "output_type": "stream",
          "name": "stderr",
          "text": [
            "292it [00:24, 15.49it/s]"
          ]
        },
        {
          "output_type": "stream",
          "name": "stdout",
          "text": [
            "torch.Size([128, 16, 7, 7])\n",
            "torch.Size([128, 16, 7, 7])\n",
            "torch.Size([128, 16, 7, 7])\n",
            "torch.Size([128, 16, 7, 7])\n"
          ]
        },
        {
          "output_type": "stream",
          "name": "stderr",
          "text": [
            "296it [00:24, 14.44it/s]"
          ]
        },
        {
          "output_type": "stream",
          "name": "stdout",
          "text": [
            "torch.Size([128, 16, 7, 7])\n",
            "torch.Size([128, 16, 7, 7])\n",
            "torch.Size([128, 16, 7, 7])\n"
          ]
        },
        {
          "output_type": "stream",
          "name": "stderr",
          "text": [
            "300it [00:25, 15.07it/s]"
          ]
        },
        {
          "output_type": "stream",
          "name": "stdout",
          "text": [
            "torch.Size([128, 16, 7, 7])\n",
            "torch.Size([128, 16, 7, 7])\n",
            "torch.Size([128, 16, 7, 7])\n",
            "torch.Size([128, 16, 7, 7])\n"
          ]
        },
        {
          "output_type": "stream",
          "name": "stderr",
          "text": [
            "304it [00:25, 15.44it/s]"
          ]
        },
        {
          "output_type": "stream",
          "name": "stdout",
          "text": [
            "torch.Size([128, 16, 7, 7])\n",
            "torch.Size([128, 16, 7, 7])\n",
            "torch.Size([128, 16, 7, 7])\n",
            "torch.Size([128, 16, 7, 7])\n"
          ]
        },
        {
          "output_type": "stream",
          "name": "stderr",
          "text": [
            "308it [00:25, 15.09it/s]"
          ]
        },
        {
          "output_type": "stream",
          "name": "stdout",
          "text": [
            "torch.Size([128, 16, 7, 7])\n",
            "torch.Size([128, 16, 7, 7])\n",
            "torch.Size([128, 16, 7, 7])\n"
          ]
        },
        {
          "output_type": "stream",
          "name": "stderr",
          "text": [
            "\r310it [00:25, 15.59it/s]"
          ]
        },
        {
          "output_type": "stream",
          "name": "stdout",
          "text": [
            "torch.Size([128, 16, 7, 7])\n",
            "torch.Size([128, 16, 7, 7])\n",
            "torch.Size([128, 16, 7, 7])\n",
            "torch.Size([128, 16, 7, 7])\n"
          ]
        },
        {
          "output_type": "stream",
          "name": "stderr",
          "text": [
            "314it [00:26, 15.42it/s]"
          ]
        },
        {
          "output_type": "stream",
          "name": "stdout",
          "text": [
            "torch.Size([128, 16, 7, 7])\n",
            "torch.Size([128, 16, 7, 7])\n",
            "torch.Size([128, 16, 7, 7])\n",
            "torch.Size([128, 16, 7, 7])\n"
          ]
        },
        {
          "output_type": "stream",
          "name": "stderr",
          "text": [
            "318it [00:26, 15.41it/s]"
          ]
        },
        {
          "output_type": "stream",
          "name": "stdout",
          "text": [
            "torch.Size([128, 16, 7, 7])\n",
            "torch.Size([128, 16, 7, 7])\n",
            "torch.Size([128, 16, 7, 7])\n",
            "torch.Size([128, 16, 7, 7])\n"
          ]
        },
        {
          "output_type": "stream",
          "name": "stderr",
          "text": [
            "323it [00:26, 15.92it/s]"
          ]
        },
        {
          "output_type": "stream",
          "name": "stdout",
          "text": [
            "torch.Size([128, 16, 7, 7])\n",
            "torch.Size([128, 16, 7, 7])\n",
            "torch.Size([128, 16, 7, 7])\n",
            "torch.Size([128, 16, 7, 7])\n"
          ]
        },
        {
          "output_type": "stream",
          "name": "stderr",
          "text": [
            "327it [00:26, 15.33it/s]"
          ]
        },
        {
          "output_type": "stream",
          "name": "stdout",
          "text": [
            "torch.Size([128, 16, 7, 7])\n",
            "torch.Size([128, 16, 7, 7])\n",
            "torch.Size([128, 16, 7, 7])\n"
          ]
        },
        {
          "output_type": "stream",
          "name": "stderr",
          "text": [
            "\r329it [00:27, 15.72it/s]"
          ]
        },
        {
          "output_type": "stream",
          "name": "stdout",
          "text": [
            "torch.Size([128, 16, 7, 7])\n",
            "torch.Size([128, 16, 7, 7])\n",
            "torch.Size([128, 16, 7, 7])\n",
            "torch.Size([128, 16, 7, 7])\n"
          ]
        },
        {
          "output_type": "stream",
          "name": "stderr",
          "text": [
            "333it [00:27, 15.85it/s]"
          ]
        },
        {
          "output_type": "stream",
          "name": "stdout",
          "text": [
            "torch.Size([128, 16, 7, 7])\n",
            "torch.Size([128, 16, 7, 7])\n",
            "torch.Size([128, 16, 7, 7])\n",
            "torch.Size([128, 16, 7, 7])\n"
          ]
        },
        {
          "output_type": "stream",
          "name": "stderr",
          "text": [
            "337it [00:27, 15.44it/s]"
          ]
        },
        {
          "output_type": "stream",
          "name": "stdout",
          "text": [
            "torch.Size([128, 16, 7, 7])\n",
            "torch.Size([128, 16, 7, 7])\n",
            "torch.Size([128, 16, 7, 7])\n",
            "torch.Size([128, 16, 7, 7])\n"
          ]
        },
        {
          "output_type": "stream",
          "name": "stderr",
          "text": [
            "341it [00:27, 15.03it/s]"
          ]
        },
        {
          "output_type": "stream",
          "name": "stdout",
          "text": [
            "torch.Size([128, 16, 7, 7])\n",
            "torch.Size([128, 16, 7, 7])\n",
            "torch.Size([128, 16, 7, 7])\n",
            "torch.Size([128, 16, 7, 7])"
          ]
        },
        {
          "output_type": "stream",
          "name": "stderr",
          "text": [
            "345it [00:28, 15.68it/s]"
          ]
        },
        {
          "output_type": "stream",
          "name": "stdout",
          "text": [
            "\n",
            "torch.Size([128, 16, 7, 7])\n",
            "torch.Size([128, 16, 7, 7])\n",
            "torch.Size([128, 16, 7, 7])\n"
          ]
        },
        {
          "output_type": "stream",
          "name": "stderr",
          "text": [
            "349it [00:28, 15.07it/s]"
          ]
        },
        {
          "output_type": "stream",
          "name": "stdout",
          "text": [
            "torch.Size([128, 16, 7, 7])\n",
            "torch.Size([128, 16, 7, 7])\n",
            "torch.Size([128, 16, 7, 7])\n",
            "torch.Size([128, 16, 7, 7])\n"
          ]
        },
        {
          "output_type": "stream",
          "name": "stderr",
          "text": [
            "353it [00:28, 14.92it/s]"
          ]
        },
        {
          "output_type": "stream",
          "name": "stdout",
          "text": [
            "torch.Size([128, 16, 7, 7])\n",
            "torch.Size([128, 16, 7, 7])\n",
            "torch.Size([128, 16, 7, 7])\n"
          ]
        },
        {
          "output_type": "stream",
          "name": "stderr",
          "text": [
            "\r355it [00:28, 15.92it/s]"
          ]
        },
        {
          "output_type": "stream",
          "name": "stdout",
          "text": [
            "torch.Size([128, 16, 7, 7])\n",
            "torch.Size([128, 16, 7, 7])\n",
            "torch.Size([128, 16, 7, 7])\n"
          ]
        },
        {
          "output_type": "stream",
          "name": "stderr",
          "text": [
            "359it [00:29, 14.80it/s]"
          ]
        },
        {
          "output_type": "stream",
          "name": "stdout",
          "text": [
            "torch.Size([128, 16, 7, 7])\n",
            "torch.Size([128, 16, 7, 7])\n",
            "torch.Size([128, 16, 7, 7])\n",
            "torch.Size([128, 16, 7, 7])\n"
          ]
        },
        {
          "output_type": "stream",
          "name": "stderr",
          "text": [
            "\r361it [00:29, 15.19it/s]"
          ]
        },
        {
          "output_type": "stream",
          "name": "stdout",
          "text": [
            "torch.Size([128, 16, 7, 7])\n",
            "torch.Size([128, 16, 7, 7])\n",
            "torch.Size([128, 16, 7, 7])\n"
          ]
        },
        {
          "output_type": "stream",
          "name": "stderr",
          "text": [
            "365it [00:29, 15.64it/s]"
          ]
        },
        {
          "output_type": "stream",
          "name": "stdout",
          "text": [
            "torch.Size([128, 16, 7, 7])\n",
            "torch.Size([128, 16, 7, 7])\n",
            "torch.Size([128, 16, 7, 7])\n",
            "torch.Size([128, 16, 7, 7])\n"
          ]
        },
        {
          "output_type": "stream",
          "name": "stderr",
          "text": [
            "369it [00:29, 15.48it/s]"
          ]
        },
        {
          "output_type": "stream",
          "name": "stdout",
          "text": [
            "torch.Size([128, 16, 7, 7])\n",
            "torch.Size([128, 16, 7, 7])\n",
            "torch.Size([128, 16, 7, 7])\n",
            "torch.Size([128, 16, 7, 7])\n"
          ]
        },
        {
          "output_type": "stream",
          "name": "stderr",
          "text": [
            "373it [00:29, 15.20it/s]"
          ]
        },
        {
          "output_type": "stream",
          "name": "stdout",
          "text": [
            "torch.Size([128, 16, 7, 7])\n",
            "torch.Size([128, 16, 7, 7])\n",
            "torch.Size([128, 16, 7, 7])\n",
            "torch.Size([128, 16, 7, 7])\n"
          ]
        },
        {
          "output_type": "stream",
          "name": "stderr",
          "text": [
            "377it [00:30, 15.32it/s]"
          ]
        },
        {
          "output_type": "stream",
          "name": "stdout",
          "text": [
            "torch.Size([128, 16, 7, 7])\n",
            "torch.Size([128, 16, 7, 7])\n",
            "torch.Size([128, 16, 7, 7])\n",
            "torch.Size([128, 16, 7, 7])\n"
          ]
        },
        {
          "output_type": "stream",
          "name": "stderr",
          "text": [
            "383it [00:30, 15.62it/s]"
          ]
        },
        {
          "output_type": "stream",
          "name": "stdout",
          "text": [
            "torch.Size([128, 16, 7, 7])\n",
            "torch.Size([128, 16, 7, 7])\n",
            "torch.Size([128, 16, 7, 7])\n",
            "torch.Size([128, 16, 7, 7])\n"
          ]
        },
        {
          "output_type": "stream",
          "name": "stderr",
          "text": [
            "\r385it [00:30, 15.75it/s]"
          ]
        },
        {
          "output_type": "stream",
          "name": "stdout",
          "text": [
            "torch.Size([128, 16, 7, 7])\n",
            "torch.Size([128, 16, 7, 7])\n",
            "torch.Size([128, 16, 7, 7])\n",
            "torch.Size([128, 16, 7, 7])\n"
          ]
        },
        {
          "output_type": "stream",
          "name": "stderr",
          "text": [
            "389it [00:31, 14.89it/s]"
          ]
        },
        {
          "output_type": "stream",
          "name": "stdout",
          "text": [
            "torch.Size([128, 16, 7, 7])\n",
            "torch.Size([128, 16, 7, 7])\n",
            "torch.Size([128, 16, 7, 7])\n",
            "torch.Size([128, 16, 7, 7])\n"
          ]
        },
        {
          "output_type": "stream",
          "name": "stderr",
          "text": [
            "393it [00:31, 14.80it/s]"
          ]
        },
        {
          "output_type": "stream",
          "name": "stdout",
          "text": [
            "torch.Size([128, 16, 7, 7])\n",
            "torch.Size([128, 16, 7, 7])\n",
            "torch.Size([128, 16, 7, 7])\n",
            "torch.Size([128, 16, 7, 7])\n"
          ]
        },
        {
          "output_type": "stream",
          "name": "stderr",
          "text": [
            "397it [00:31, 15.89it/s]"
          ]
        },
        {
          "output_type": "stream",
          "name": "stdout",
          "text": [
            "torch.Size([128, 16, 7, 7])\n",
            "torch.Size([128, 16, 7, 7])\n",
            "torch.Size([128, 16, 7, 7])\n",
            "torch.Size([128, 16, 7, 7])\n"
          ]
        },
        {
          "output_type": "stream",
          "name": "stderr",
          "text": [
            "401it [00:31, 15.43it/s]"
          ]
        },
        {
          "output_type": "stream",
          "name": "stdout",
          "text": [
            "torch.Size([128, 16, 7, 7])\n",
            "torch.Size([128, 16, 7, 7])\n",
            "torch.Size([128, 16, 7, 7])\n"
          ]
        },
        {
          "output_type": "stream",
          "name": "stderr",
          "text": [
            "405it [00:32, 15.17it/s]"
          ]
        },
        {
          "output_type": "stream",
          "name": "stdout",
          "text": [
            "torch.Size([128, 16, 7, 7])\n",
            "torch.Size([128, 16, 7, 7])\n",
            "torch.Size([128, 16, 7, 7])\n"
          ]
        },
        {
          "output_type": "stream",
          "name": "stderr",
          "text": [
            "\r407it [00:32, 15.58it/s]"
          ]
        },
        {
          "output_type": "stream",
          "name": "stdout",
          "text": [
            "torch.Size([128, 16, 7, 7])\n",
            "torch.Size([128, 16, 7, 7])\n",
            "torch.Size([128, 16, 7, 7])\n",
            "torch.Size([128, 16, 7, 7])\n"
          ]
        },
        {
          "output_type": "stream",
          "name": "stderr",
          "text": [
            "411it [00:32, 15.50it/s]"
          ]
        },
        {
          "output_type": "stream",
          "name": "stdout",
          "text": [
            "torch.Size([128, 16, 7, 7])\n",
            "torch.Size([128, 16, 7, 7])\n",
            "torch.Size([128, 16, 7, 7])\n",
            "torch.Size([128, 16, 7, 7])\n"
          ]
        },
        {
          "output_type": "stream",
          "name": "stderr",
          "text": [
            "418it [00:32, 19.17it/s]"
          ]
        },
        {
          "output_type": "stream",
          "name": "stdout",
          "text": [
            "torch.Size([128, 16, 7, 7])\n",
            "torch.Size([128, 16, 7, 7])\n",
            "torch.Size([128, 16, 7, 7])\n",
            "torch.Size([128, 16, 7, 7])\n",
            "torch.Size([128, 16, 7, 7])\n",
            "torch.Size([128, 16, 7, 7])\n"
          ]
        },
        {
          "output_type": "stream",
          "name": "stderr",
          "text": [
            "422it [00:32, 12.79it/s]"
          ]
        },
        {
          "output_type": "stream",
          "name": "stdout",
          "text": [
            "torch.Size([128, 16, 7, 7])\n",
            "torch.Size([128, 16, 7, 7])\n",
            "torch.Size([112, 16, 7, 7])\n",
            "\n",
            " ~~~~~~~~~~~~~~~~~~~~~~~~~~~~~~~~~~~~~~~~~~~~~~~~~~~~~~~~~~\n",
            "\n",
            "1- epoch train jarayoni natijalari :\n",
            " 1- epochdagi train loss     -> 0.270\n",
            " 1- epochdagi train accuracy     -> 0.925\n"
          ]
        },
        {
          "output_type": "stream",
          "name": "stderr",
          "text": [
            "\n",
            "2it [00:00,  3.78it/s]"
          ]
        },
        {
          "output_type": "stream",
          "name": "stdout",
          "text": [
            "torch.Size([128, 16, 7, 7])\n",
            "\n",
            " ~~~~~~~~~~~~~~~~~~~~~~~~~~~~~~~~~~~~~~~~~~~~~~~~~~~~~~~~~~\n",
            "\n",
            "1- epoch train jarayoni natijalari :\n",
            " 1- epochdagi train loss     -> 0.001\n",
            " 1- epochdagi train accuracy     -> 0.992\n",
            "torch.Size([128, 16, 7, 7])\n",
            "\n",
            " ~~~~~~~~~~~~~~~~~~~~~~~~~~~~~~~~~~~~~~~~~~~~~~~~~~~~~~~~~~\n",
            "\n",
            "1- epoch train jarayoni natijalari :\n",
            " 1- epochdagi train loss     -> 0.003\n",
            " 1- epochdagi train accuracy     -> 0.973\n"
          ]
        },
        {
          "output_type": "stream",
          "name": "stderr",
          "text": [
            "4it [00:00,  6.43it/s]"
          ]
        },
        {
          "output_type": "stream",
          "name": "stdout",
          "text": [
            "torch.Size([128, 16, 7, 7])\n",
            "\n",
            " ~~~~~~~~~~~~~~~~~~~~~~~~~~~~~~~~~~~~~~~~~~~~~~~~~~~~~~~~~~\n",
            "\n",
            "1- epoch train jarayoni natijalari :\n",
            " 1- epochdagi train loss     -> 0.004\n",
            " 1- epochdagi train accuracy     -> 0.974\n",
            "torch.Size([128, 16, 7, 7])\n",
            "\n",
            " ~~~~~~~~~~~~~~~~~~~~~~~~~~~~~~~~~~~~~~~~~~~~~~~~~~~~~~~~~~\n",
            "\n",
            "1- epoch train jarayoni natijalari :\n",
            " 1- epochdagi train loss     -> 0.007\n",
            " 1- epochdagi train accuracy     -> 0.967\n"
          ]
        },
        {
          "output_type": "stream",
          "name": "stderr",
          "text": [
            "6it [00:01,  7.08it/s]"
          ]
        },
        {
          "output_type": "stream",
          "name": "stdout",
          "text": [
            "torch.Size([128, 16, 7, 7])\n",
            "\n",
            " ~~~~~~~~~~~~~~~~~~~~~~~~~~~~~~~~~~~~~~~~~~~~~~~~~~~~~~~~~~\n",
            "\n",
            "1- epoch train jarayoni natijalari :\n",
            " 1- epochdagi train loss     -> 0.008\n",
            " 1- epochdagi train accuracy     -> 0.973\n",
            "torch.Size([128, 16, 7, 7])\n",
            "\n",
            " ~~~~~~~~~~~~~~~~~~~~~~~~~~~~~~~~~~~~~~~~~~~~~~~~~~~~~~~~~~\n",
            "\n",
            "1- epoch train jarayoni natijalari :\n",
            " 1- epochdagi train loss     -> 0.010\n",
            " 1- epochdagi train accuracy     -> 0.971\n"
          ]
        },
        {
          "output_type": "stream",
          "name": "stderr",
          "text": [
            "8it [00:01,  7.88it/s]"
          ]
        },
        {
          "output_type": "stream",
          "name": "stdout",
          "text": [
            "torch.Size([128, 16, 7, 7])\n",
            "\n",
            " ~~~~~~~~~~~~~~~~~~~~~~~~~~~~~~~~~~~~~~~~~~~~~~~~~~~~~~~~~~\n",
            "\n",
            "1- epoch train jarayoni natijalari :\n",
            " 1- epochdagi train loss     -> 0.012\n",
            " 1- epochdagi train accuracy     -> 0.972\n",
            "torch.Size([128, 16, 7, 7])\n",
            "\n",
            " ~~~~~~~~~~~~~~~~~~~~~~~~~~~~~~~~~~~~~~~~~~~~~~~~~~~~~~~~~~\n",
            "\n",
            "1- epoch train jarayoni natijalari :\n",
            " 1- epochdagi train loss     -> 0.015\n",
            " 1- epochdagi train accuracy     -> 0.968\n",
            "torch.Size([128, 16, 7, 7])\n",
            "\n",
            " ~~~~~~~~~~~~~~~~~~~~~~~~~~~~~~~~~~~~~~~~~~~~~~~~~~~~~~~~~~\n"
          ]
        },
        {
          "output_type": "stream",
          "name": "stderr",
          "text": [
            "\r10it [00:01,  9.47it/s]"
          ]
        },
        {
          "output_type": "stream",
          "name": "stdout",
          "text": [
            "\n",
            "1- epoch train jarayoni natijalari :\n",
            " 1- epochdagi train loss     -> 0.017\n",
            " 1- epochdagi train accuracy     -> 0.969\n",
            "torch.Size([128, 16, 7, 7])\n",
            "\n",
            " ~~~~~~~~~~~~~~~~~~~~~~~~~~~~~~~~~~~~~~~~~~~~~~~~~~~~~~~~~~\n",
            "\n",
            "1- epoch train jarayoni natijalari :\n",
            " 1- epochdagi train loss     -> 0.018\n",
            " 1- epochdagi train accuracy     -> 0.970\n",
            "torch.Size([128, 16, 7, 7])\n",
            "\n",
            " ~~~~~~~~~~~~~~~~~~~~~~~~~~~~~~~~~~~~~~~~~~~~~~~~~~~~~~~~~~\n"
          ]
        },
        {
          "output_type": "stream",
          "name": "stderr",
          "text": [
            "12it [00:01,  9.00it/s]"
          ]
        },
        {
          "output_type": "stream",
          "name": "stdout",
          "text": [
            "\n",
            "1- epoch train jarayoni natijalari :\n",
            " 1- epochdagi train loss     -> 0.019\n",
            " 1- epochdagi train accuracy     -> 0.971\n",
            "torch.Size([128, 16, 7, 7])\n",
            "\n",
            " ~~~~~~~~~~~~~~~~~~~~~~~~~~~~~~~~~~~~~~~~~~~~~~~~~~~~~~~~~~\n",
            "\n",
            "1- epoch train jarayoni natijalari :\n",
            " 1- epochdagi train loss     -> 0.020\n",
            " 1- epochdagi train accuracy     -> 0.971\n"
          ]
        },
        {
          "output_type": "stream",
          "name": "stderr",
          "text": [
            "\r13it [00:01,  8.67it/s]"
          ]
        },
        {
          "output_type": "stream",
          "name": "stdout",
          "text": [
            "torch.Size([128, 16, 7, 7])\n",
            "\n",
            " ~~~~~~~~~~~~~~~~~~~~~~~~~~~~~~~~~~~~~~~~~~~~~~~~~~~~~~~~~~\n",
            "\n",
            "1- epoch train jarayoni natijalari :\n",
            " 1- epochdagi train loss     -> 0.024\n",
            " 1- epochdagi train accuracy     -> 0.971\n",
            "torch.Size([128, 16, 7, 7])\n",
            "\n",
            " ~~~~~~~~~~~~~~~~~~~~~~~~~~~~~~~~~~~~~~~~~~~~~~~~~~~~~~~~~~\n",
            "\n",
            "1- epoch train jarayoni natijalari :\n",
            " 1- epochdagi train loss     -> 0.025\n",
            " 1- epochdagi train accuracy     -> 0.972\n",
            "torch.Size([128, 16, 7, 7])\n",
            "\n",
            " ~~~~~~~~~~~~~~~~~~~~~~~~~~~~~~~~~~~~~~~~~~~~~~~~~~~~~~~~~~\n"
          ]
        },
        {
          "output_type": "stream",
          "name": "stderr",
          "text": [
            "16it [00:02,  9.35it/s]"
          ]
        },
        {
          "output_type": "stream",
          "name": "stdout",
          "text": [
            "\n",
            "1- epoch train jarayoni natijalari :\n",
            " 1- epochdagi train loss     -> 0.027\n",
            " 1- epochdagi train accuracy     -> 0.971\n",
            "torch.Size([128, 16, 7, 7])\n",
            "\n",
            " ~~~~~~~~~~~~~~~~~~~~~~~~~~~~~~~~~~~~~~~~~~~~~~~~~~~~~~~~~~\n",
            "\n",
            "1- epoch train jarayoni natijalari :\n",
            " 1- epochdagi train loss     -> 0.028\n",
            " 1- epochdagi train accuracy     -> 0.972\n"
          ]
        },
        {
          "output_type": "stream",
          "name": "stderr",
          "text": [
            "18it [00:02,  9.26it/s]"
          ]
        },
        {
          "output_type": "stream",
          "name": "stdout",
          "text": [
            "torch.Size([128, 16, 7, 7])\n",
            "\n",
            " ~~~~~~~~~~~~~~~~~~~~~~~~~~~~~~~~~~~~~~~~~~~~~~~~~~~~~~~~~~\n",
            "\n",
            "1- epoch train jarayoni natijalari :\n",
            " 1- epochdagi train loss     -> 0.031\n",
            " 1- epochdagi train accuracy     -> 0.972\n",
            "torch.Size([128, 16, 7, 7])\n",
            "\n",
            " ~~~~~~~~~~~~~~~~~~~~~~~~~~~~~~~~~~~~~~~~~~~~~~~~~~~~~~~~~~\n",
            "\n",
            "1- epoch train jarayoni natijalari :\n",
            " 1- epochdagi train loss     -> 0.033\n",
            " 1- epochdagi train accuracy     -> 0.971\n",
            "torch.Size([128, 16, 7, 7])\n",
            "\n",
            " ~~~~~~~~~~~~~~~~~~~~~~~~~~~~~~~~~~~~~~~~~~~~~~~~~~~~~~~~~~\n",
            "\n",
            "1- epoch train jarayoni natijalari :\n",
            " 1- epochdagi train loss     -> 0.036\n",
            " 1- epochdagi train accuracy     -> 0.970\n"
          ]
        },
        {
          "output_type": "stream",
          "name": "stderr",
          "text": [
            "\r20it [00:02, 10.44it/s]"
          ]
        },
        {
          "output_type": "stream",
          "name": "stdout",
          "text": [
            "torch.Size([128, 16, 7, 7])\n",
            "\n",
            " ~~~~~~~~~~~~~~~~~~~~~~~~~~~~~~~~~~~~~~~~~~~~~~~~~~~~~~~~~~\n",
            "\n",
            "1- epoch train jarayoni natijalari :\n",
            " 1- epochdagi train loss     -> 0.039\n",
            " 1- epochdagi train accuracy     -> 0.970\n",
            "torch.Size([128, 16, 7, 7])\n",
            "\n",
            " ~~~~~~~~~~~~~~~~~~~~~~~~~~~~~~~~~~~~~~~~~~~~~~~~~~~~~~~~~~\n",
            "\n",
            "1- epoch train jarayoni natijalari :\n",
            " 1- epochdagi train loss     -> 0.039\n",
            " 1- epochdagi train accuracy     -> 0.971\n"
          ]
        },
        {
          "output_type": "stream",
          "name": "stderr",
          "text": [
            "24it [00:02, 10.08it/s]"
          ]
        },
        {
          "output_type": "stream",
          "name": "stdout",
          "text": [
            "torch.Size([128, 16, 7, 7])\n",
            "\n",
            " ~~~~~~~~~~~~~~~~~~~~~~~~~~~~~~~~~~~~~~~~~~~~~~~~~~~~~~~~~~\n",
            "\n",
            "1- epoch train jarayoni natijalari :\n",
            " 1- epochdagi train loss     -> 0.041\n",
            " 1- epochdagi train accuracy     -> 0.971\n",
            "torch.Size([128, 16, 7, 7])\n",
            "\n",
            " ~~~~~~~~~~~~~~~~~~~~~~~~~~~~~~~~~~~~~~~~~~~~~~~~~~~~~~~~~~\n",
            "\n",
            "1- epoch train jarayoni natijalari :\n",
            " 1- epochdagi train loss     -> 0.043\n",
            " 1- epochdagi train accuracy     -> 0.971\n",
            "torch.Size([128, 16, 7, 7])\n",
            "\n",
            " ~~~~~~~~~~~~~~~~~~~~~~~~~~~~~~~~~~~~~~~~~~~~~~~~~~~~~~~~~~\n",
            "\n",
            "1- epoch train jarayoni natijalari :\n",
            " 1- epochdagi train loss     -> 0.046\n",
            " 1- epochdagi train accuracy     -> 0.971\n"
          ]
        },
        {
          "output_type": "stream",
          "name": "stderr",
          "text": [
            "\r26it [00:03, 10.56it/s]"
          ]
        },
        {
          "output_type": "stream",
          "name": "stdout",
          "text": [
            "torch.Size([128, 16, 7, 7])\n",
            "\n",
            " ~~~~~~~~~~~~~~~~~~~~~~~~~~~~~~~~~~~~~~~~~~~~~~~~~~~~~~~~~~\n",
            "\n",
            "1- epoch train jarayoni natijalari :\n",
            " 1- epochdagi train loss     -> 0.049\n",
            " 1- epochdagi train accuracy     -> 0.971\n",
            "torch.Size([128, 16, 7, 7])\n",
            "\n",
            " ~~~~~~~~~~~~~~~~~~~~~~~~~~~~~~~~~~~~~~~~~~~~~~~~~~~~~~~~~~\n",
            "\n",
            "1- epoch train jarayoni natijalari :\n",
            " 1- epochdagi train loss     -> 0.053\n",
            " 1- epochdagi train accuracy     -> 0.970\n",
            "torch.Size([128, 16, 7, 7])\n"
          ]
        },
        {
          "output_type": "stream",
          "name": "stderr",
          "text": [
            "\r28it [00:03,  9.78it/s]"
          ]
        },
        {
          "output_type": "stream",
          "name": "stdout",
          "text": [
            "\n",
            " ~~~~~~~~~~~~~~~~~~~~~~~~~~~~~~~~~~~~~~~~~~~~~~~~~~~~~~~~~~\n",
            "\n",
            "1- epoch train jarayoni natijalari :\n",
            " 1- epochdagi train loss     -> 0.056\n",
            " 1- epochdagi train accuracy     -> 0.969\n",
            "torch.Size([128, 16, 7, 7])\n",
            "\n",
            " ~~~~~~~~~~~~~~~~~~~~~~~~~~~~~~~~~~~~~~~~~~~~~~~~~~~~~~~~~~\n",
            "\n",
            "1- epoch train jarayoni natijalari :\n",
            " 1- epochdagi train loss     -> 0.058\n",
            " 1- epochdagi train accuracy     -> 0.969\n",
            "torch.Size([128, 16, 7, 7])\n",
            "\n",
            " ~~~~~~~~~~~~~~~~~~~~~~~~~~~~~~~~~~~~~~~~~~~~~~~~~~~~~~~~~~\n",
            "\n",
            "1- epoch train jarayoni natijalari :\n",
            " 1- epochdagi train loss     -> 0.064\n",
            " 1- epochdagi train accuracy     -> 0.967\n"
          ]
        },
        {
          "output_type": "stream",
          "name": "stderr",
          "text": [
            "32it [00:03, 10.84it/s]"
          ]
        },
        {
          "output_type": "stream",
          "name": "stdout",
          "text": [
            "torch.Size([128, 16, 7, 7])\n",
            "\n",
            " ~~~~~~~~~~~~~~~~~~~~~~~~~~~~~~~~~~~~~~~~~~~~~~~~~~~~~~~~~~\n",
            "\n",
            "1- epoch train jarayoni natijalari :\n",
            " 1- epochdagi train loss     -> 0.067\n",
            " 1- epochdagi train accuracy     -> 0.967\n",
            "torch.Size([128, 16, 7, 7])\n",
            "\n",
            " ~~~~~~~~~~~~~~~~~~~~~~~~~~~~~~~~~~~~~~~~~~~~~~~~~~~~~~~~~~\n",
            "\n",
            "1- epoch train jarayoni natijalari :\n",
            " 1- epochdagi train loss     -> 0.069\n",
            " 1- epochdagi train accuracy     -> 0.967\n",
            "torch.Size([128, 16, 7, 7])\n",
            "\n",
            " ~~~~~~~~~~~~~~~~~~~~~~~~~~~~~~~~~~~~~~~~~~~~~~~~~~~~~~~~~~\n",
            "\n",
            "1- epoch train jarayoni natijalari :\n",
            " 1- epochdagi train loss     -> 0.070\n",
            " 1- epochdagi train accuracy     -> 0.968\n"
          ]
        },
        {
          "output_type": "stream",
          "name": "stderr",
          "text": [
            "\r34it [00:03, 10.95it/s]"
          ]
        },
        {
          "output_type": "stream",
          "name": "stdout",
          "text": [
            "torch.Size([128, 16, 7, 7])\n",
            "\n",
            " ~~~~~~~~~~~~~~~~~~~~~~~~~~~~~~~~~~~~~~~~~~~~~~~~~~~~~~~~~~\n",
            "\n",
            "1- epoch train jarayoni natijalari :\n",
            " 1- epochdagi train loss     -> 0.072\n",
            " 1- epochdagi train accuracy     -> 0.968\n",
            "torch.Size([128, 16, 7, 7])\n",
            "\n",
            " ~~~~~~~~~~~~~~~~~~~~~~~~~~~~~~~~~~~~~~~~~~~~~~~~~~~~~~~~~~\n",
            "\n",
            "1- epoch train jarayoni natijalari :\n",
            " 1- epochdagi train loss     -> 0.073\n",
            " 1- epochdagi train accuracy     -> 0.968\n",
            "torch.Size([128, 16, 7, 7])\n"
          ]
        },
        {
          "output_type": "stream",
          "name": "stderr",
          "text": [
            "\r36it [00:04, 10.65it/s]"
          ]
        },
        {
          "output_type": "stream",
          "name": "stdout",
          "text": [
            "\n",
            " ~~~~~~~~~~~~~~~~~~~~~~~~~~~~~~~~~~~~~~~~~~~~~~~~~~~~~~~~~~\n",
            "\n",
            "1- epoch train jarayoni natijalari :\n",
            " 1- epochdagi train loss     -> 0.075\n",
            " 1- epochdagi train accuracy     -> 0.968\n",
            "torch.Size([128, 16, 7, 7])\n",
            "\n",
            " ~~~~~~~~~~~~~~~~~~~~~~~~~~~~~~~~~~~~~~~~~~~~~~~~~~~~~~~~~~\n",
            "\n",
            "1- epoch train jarayoni natijalari :\n",
            " 1- epochdagi train loss     -> 0.078\n",
            " 1- epochdagi train accuracy     -> 0.967\n",
            "torch.Size([128, 16, 7, 7])\n",
            "\n",
            " ~~~~~~~~~~~~~~~~~~~~~~~~~~~~~~~~~~~~~~~~~~~~~~~~~~~~~~~~~~\n",
            "\n",
            "1- epoch train jarayoni natijalari :\n",
            " 1- epochdagi train loss     -> 0.080\n",
            " 1- epochdagi train accuracy     -> 0.968\n"
          ]
        },
        {
          "output_type": "stream",
          "name": "stderr",
          "text": [
            "40it [00:04, 12.37it/s]"
          ]
        },
        {
          "output_type": "stream",
          "name": "stdout",
          "text": [
            "torch.Size([128, 16, 7, 7])\n",
            "\n",
            " ~~~~~~~~~~~~~~~~~~~~~~~~~~~~~~~~~~~~~~~~~~~~~~~~~~~~~~~~~~\n",
            "\n",
            "1- epoch train jarayoni natijalari :\n",
            " 1- epochdagi train loss     -> 0.084\n",
            " 1- epochdagi train accuracy     -> 0.967\n",
            "torch.Size([128, 16, 7, 7])\n",
            "\n",
            " ~~~~~~~~~~~~~~~~~~~~~~~~~~~~~~~~~~~~~~~~~~~~~~~~~~~~~~~~~~\n",
            "\n",
            "1- epoch train jarayoni natijalari :\n",
            " 1- epochdagi train loss     -> 0.085\n",
            " 1- epochdagi train accuracy     -> 0.967\n",
            "torch.Size([128, 16, 7, 7])\n",
            "\n",
            " ~~~~~~~~~~~~~~~~~~~~~~~~~~~~~~~~~~~~~~~~~~~~~~~~~~~~~~~~~~\n",
            "\n",
            "1- epoch train jarayoni natijalari :\n",
            " 1- epochdagi train loss     -> 0.087\n",
            " 1- epochdagi train accuracy     -> 0.967\n",
            "torch.Size([128, 16, 7, 7])\n",
            "\n",
            " ~~~~~~~~~~~~~~~~~~~~~~~~~~~~~~~~~~~~~~~~~~~~~~~~~~~~~~~~~~\n",
            "\n",
            "1- epoch train jarayoni natijalari :\n",
            " 1- epochdagi train loss     -> 0.088\n",
            " 1- epochdagi train accuracy     -> 0.968\n",
            "torch.Size([128, 16, 7, 7])\n",
            "\n",
            " ~~~~~~~~~~~~~~~~~~~~~~~~~~~~~~~~~~~~~~~~~~~~~~~~~~~~~~~~~~\n",
            "\n",
            "1- epoch train jarayoni natijalari :\n",
            " 1- epochdagi train loss     -> 0.089"
          ]
        },
        {
          "output_type": "stream",
          "name": "stderr",
          "text": [
            "47it [00:04, 20.77it/s]"
          ]
        },
        {
          "output_type": "stream",
          "name": "stdout",
          "text": [
            "\n",
            " 1- epochdagi train accuracy     -> 0.968\n",
            "torch.Size([128, 16, 7, 7])\n",
            "\n",
            " ~~~~~~~~~~~~~~~~~~~~~~~~~~~~~~~~~~~~~~~~~~~~~~~~~~~~~~~~~~\n",
            "\n",
            "1- epoch train jarayoni natijalari :\n",
            " 1- epochdagi train loss     -> 0.091\n",
            " 1- epochdagi train accuracy     -> 0.968\n",
            "torch.Size([128, 16, 7, 7])\n",
            "\n",
            " ~~~~~~~~~~~~~~~~~~~~~~~~~~~~~~~~~~~~~~~~~~~~~~~~~~~~~~~~~~\n",
            "\n",
            "1- epoch train jarayoni natijalari :\n",
            " 1- epochdagi train loss     -> 0.093\n",
            " 1- epochdagi train accuracy     -> 0.969\n",
            "torch.Size([128, 16, 7, 7])\n",
            "\n",
            " ~~~~~~~~~~~~~~~~~~~~~~~~~~~~~~~~~~~~~~~~~~~~~~~~~~~~~~~~~~\n",
            "\n",
            "1- epoch train jarayoni natijalari :\n",
            " 1- epochdagi train loss     -> 0.094\n",
            " 1- epochdagi train accuracy     -> 0.969\n",
            "torch.Size([128, 16, 7, 7])\n",
            "\n",
            " ~~~~~~~~~~~~~~~~~~~~~~~~~~~~~~~~~~~~~~~~~~~~~~~~~~~~~~~~~~\n",
            "\n",
            "1- epoch train jarayoni natijalari :\n",
            " 1- epochdagi train loss     -> 0.097\n",
            " 1- epochdagi train accuracy     -> 0.969\n",
            "torch.Size([112, 16, 7, 7])\n",
            "\n",
            " ~~~~~~~~~~~~~~~~~~~~~~~~~~~~~~~~~~~~~~~~~~~~~~~~~~~~~~~~~~\n",
            "\n",
            "1- epoch train jarayoni natijalari :\n",
            " 1- epochdagi train loss     -> 0.098\n",
            " 1- epochdagi train accuracy     -> 0.969\n"
          ]
        },
        {
          "output_type": "stream",
          "name": "stderr",
          "text": [
            "\r47it [00:04, 10.19it/s]"
          ]
        },
        {
          "output_type": "stream",
          "name": "stdout",
          "text": [
            "2- epoch jarayonlari boshlandi\n"
          ]
        },
        {
          "output_type": "stream",
          "name": "stderr",
          "text": [
            "\n",
            "1it [00:00,  1.90it/s]"
          ]
        },
        {
          "output_type": "stream",
          "name": "stdout",
          "text": [
            "torch.Size([128, 16, 7, 7])\n",
            "torch.Size([128, 16, 7, 7])\n"
          ]
        },
        {
          "output_type": "stream",
          "name": "stderr",
          "text": [
            "3it [00:00,  4.13it/s]"
          ]
        },
        {
          "output_type": "stream",
          "name": "stdout",
          "text": [
            "torch.Size([128, 16, 7, 7])\n",
            "torch.Size([128, 16, 7, 7])\n"
          ]
        },
        {
          "output_type": "stream",
          "name": "stderr",
          "text": [
            "5it [00:01,  5.30it/s]"
          ]
        },
        {
          "output_type": "stream",
          "name": "stdout",
          "text": [
            "torch.Size([128, 16, 7, 7])\n",
            "torch.Size([128, 16, 7, 7])\n",
            "torch.Size([128, 16, 7, 7])\n"
          ]
        },
        {
          "output_type": "stream",
          "name": "stderr",
          "text": [
            "8it [00:01,  7.48it/s]"
          ]
        },
        {
          "output_type": "stream",
          "name": "stdout",
          "text": [
            "torch.Size([128, 16, 7, 7])\n",
            "torch.Size([128, 16, 7, 7])\n",
            "torch.Size([128, 16, 7, 7])\n"
          ]
        },
        {
          "output_type": "stream",
          "name": "stderr",
          "text": [
            "12it [00:01, 10.26it/s]"
          ]
        },
        {
          "output_type": "stream",
          "name": "stdout",
          "text": [
            "torch.Size([128, 16, 7, 7])\n",
            "torch.Size([128, 16, 7, 7])\n",
            "torch.Size([128, 16, 7, 7])\n",
            "torch.Size([128, 16, 7, 7])\n"
          ]
        },
        {
          "output_type": "stream",
          "name": "stderr",
          "text": [
            "16it [00:02, 12.97it/s]"
          ]
        },
        {
          "output_type": "stream",
          "name": "stdout",
          "text": [
            "torch.Size([128, 16, 7, 7])\n",
            "torch.Size([128, 16, 7, 7])\n",
            "torch.Size([128, 16, 7, 7])\n",
            "torch.Size([128, 16, 7, 7])\n"
          ]
        },
        {
          "output_type": "stream",
          "name": "stderr",
          "text": [
            "20it [00:02, 13.03it/s]"
          ]
        },
        {
          "output_type": "stream",
          "name": "stdout",
          "text": [
            "torch.Size([128, 16, 7, 7])\n",
            "torch.Size([128, 16, 7, 7])\n",
            "torch.Size([128, 16, 7, 7])\n"
          ]
        },
        {
          "output_type": "stream",
          "name": "stderr",
          "text": [
            "25it [00:02, 15.35it/s]"
          ]
        },
        {
          "output_type": "stream",
          "name": "stdout",
          "text": [
            "torch.Size([128, 16, 7, 7])\n",
            "torch.Size([128, 16, 7, 7])\n",
            "torch.Size([128, 16, 7, 7])\n",
            "torch.Size([128, 16, 7, 7])\n"
          ]
        },
        {
          "output_type": "stream",
          "name": "stderr",
          "text": [
            "\r27it [00:02, 14.11it/s]"
          ]
        },
        {
          "output_type": "stream",
          "name": "stdout",
          "text": [
            "torch.Size([128, 16, 7, 7])\n",
            "torch.Size([128, 16, 7, 7])\n",
            "torch.Size([128, 16, 7, 7])\n"
          ]
        },
        {
          "output_type": "stream",
          "name": "stderr",
          "text": [
            "31it [00:03, 15.14it/s]"
          ]
        },
        {
          "output_type": "stream",
          "name": "stdout",
          "text": [
            "torch.Size([128, 16, 7, 7])\n",
            "torch.Size([128, 16, 7, 7])\n",
            "torch.Size([128, 16, 7, 7])\n",
            "torch.Size([128, 16, 7, 7])\n"
          ]
        },
        {
          "output_type": "stream",
          "name": "stderr",
          "text": [
            "35it [00:03, 15.15it/s]"
          ]
        },
        {
          "output_type": "stream",
          "name": "stdout",
          "text": [
            "torch.Size([128, 16, 7, 7])\n",
            "torch.Size([128, 16, 7, 7])\n",
            "torch.Size([128, 16, 7, 7])\n"
          ]
        },
        {
          "output_type": "stream",
          "name": "stderr",
          "text": [
            "\r37it [00:03, 14.22it/s]"
          ]
        },
        {
          "output_type": "stream",
          "name": "stdout",
          "text": [
            "torch.Size([128, 16, 7, 7])\n",
            "torch.Size([128, 16, 7, 7])\n",
            "torch.Size([128, 16, 7, 7])\n",
            "torch.Size([128, 16, 7, 7])\n"
          ]
        },
        {
          "output_type": "stream",
          "name": "stderr",
          "text": [
            "41it [00:03, 15.54it/s]"
          ]
        },
        {
          "output_type": "stream",
          "name": "stdout",
          "text": [
            "torch.Size([128, 16, 7, 7])\n",
            "torch.Size([128, 16, 7, 7])\n",
            "torch.Size([128, 16, 7, 7])\n",
            "torch.Size([128, 16, 7, 7])\n"
          ]
        },
        {
          "output_type": "stream",
          "name": "stderr",
          "text": [
            "45it [00:03, 15.06it/s]"
          ]
        },
        {
          "output_type": "stream",
          "name": "stdout",
          "text": [
            "torch.Size([128, 16, 7, 7])\n",
            "torch.Size([128, 16, 7, 7])\n",
            "torch.Size([128, 16, 7, 7])\n",
            "torch.Size([128, 16, 7, 7])\n"
          ]
        },
        {
          "output_type": "stream",
          "name": "stderr",
          "text": [
            "49it [00:04, 14.79it/s]"
          ]
        },
        {
          "output_type": "stream",
          "name": "stdout",
          "text": [
            "torch.Size([128, 16, 7, 7])\n",
            "torch.Size([128, 16, 7, 7])\n",
            "torch.Size([128, 16, 7, 7])\n",
            "torch.Size([128, 16, 7, 7])\n"
          ]
        },
        {
          "output_type": "stream",
          "name": "stderr",
          "text": [
            "53it [00:04, 14.90it/s]"
          ]
        },
        {
          "output_type": "stream",
          "name": "stdout",
          "text": [
            "torch.Size([128, 16, 7, 7])\n",
            "torch.Size([128, 16, 7, 7])\n",
            "torch.Size([128, 16, 7, 7])\n",
            "torch.Size([128, 16, 7, 7])\n"
          ]
        },
        {
          "output_type": "stream",
          "name": "stderr",
          "text": [
            "57it [00:04, 14.06it/s]"
          ]
        },
        {
          "output_type": "stream",
          "name": "stdout",
          "text": [
            "torch.Size([128, 16, 7, 7])\n",
            "torch.Size([128, 16, 7, 7])\n",
            "torch.Size([128, 16, 7, 7])\n"
          ]
        },
        {
          "output_type": "stream",
          "name": "stderr",
          "text": [
            "\r59it [00:04, 15.13it/s]"
          ]
        },
        {
          "output_type": "stream",
          "name": "stdout",
          "text": [
            "torch.Size([128, 16, 7, 7])\n",
            "torch.Size([128, 16, 7, 7])\n",
            "torch.Size([128, 16, 7, 7])\n"
          ]
        },
        {
          "output_type": "stream",
          "name": "stderr",
          "text": [
            "63it [00:05, 12.15it/s]"
          ]
        },
        {
          "output_type": "stream",
          "name": "stdout",
          "text": [
            "torch.Size([128, 16, 7, 7])\n",
            "torch.Size([128, 16, 7, 7])\n",
            "torch.Size([128, 16, 7, 7])\n"
          ]
        },
        {
          "output_type": "stream",
          "name": "stderr",
          "text": [
            "67it [00:05, 13.14it/s]"
          ]
        },
        {
          "output_type": "stream",
          "name": "stdout",
          "text": [
            "torch.Size([128, 16, 7, 7])\n",
            "torch.Size([128, 16, 7, 7])\n",
            "torch.Size([128, 16, 7, 7])\n"
          ]
        },
        {
          "output_type": "stream",
          "name": "stderr",
          "text": [
            "\r69it [00:05, 13.56it/s]"
          ]
        },
        {
          "output_type": "stream",
          "name": "stdout",
          "text": [
            "torch.Size([128, 16, 7, 7])\n",
            "torch.Size([128, 16, 7, 7])\n",
            "torch.Size([128, 16, 7, 7])\n",
            "torch.Size([128, 16, 7, 7])\n"
          ]
        },
        {
          "output_type": "stream",
          "name": "stderr",
          "text": [
            "73it [00:06, 14.30it/s]"
          ]
        },
        {
          "output_type": "stream",
          "name": "stdout",
          "text": [
            "torch.Size([128, 16, 7, 7])\n",
            "torch.Size([128, 16, 7, 7])\n",
            "torch.Size([128, 16, 7, 7])\n"
          ]
        },
        {
          "output_type": "stream",
          "name": "stderr",
          "text": [
            "77it [00:06, 14.50it/s]"
          ]
        },
        {
          "output_type": "stream",
          "name": "stdout",
          "text": [
            "torch.Size([128, 16, 7, 7])\n",
            "torch.Size([128, 16, 7, 7])\n",
            "torch.Size([128, 16, 7, 7])\n",
            "torch.Size([128, 16, 7, 7])\n"
          ]
        },
        {
          "output_type": "stream",
          "name": "stderr",
          "text": [
            "81it [00:06, 14.93it/s]"
          ]
        },
        {
          "output_type": "stream",
          "name": "stdout",
          "text": [
            "torch.Size([128, 16, 7, 7])\n",
            "torch.Size([128, 16, 7, 7])\n",
            "torch.Size([128, 16, 7, 7])\n"
          ]
        },
        {
          "output_type": "stream",
          "name": "stderr",
          "text": [
            "\r83it [00:06, 14.44it/s]"
          ]
        },
        {
          "output_type": "stream",
          "name": "stdout",
          "text": [
            "torch.Size([128, 16, 7, 7])\n",
            "torch.Size([128, 16, 7, 7])\n",
            "torch.Size([128, 16, 7, 7])\n",
            "torch.Size([128, 16, 7, 7])\n"
          ]
        },
        {
          "output_type": "stream",
          "name": "stderr",
          "text": [
            "87it [00:06, 14.73it/s]"
          ]
        },
        {
          "output_type": "stream",
          "name": "stdout",
          "text": [
            "torch.Size([128, 16, 7, 7])\n",
            "torch.Size([128, 16, 7, 7])\n",
            "torch.Size([128, 16, 7, 7])\n",
            "torch.Size([128, 16, 7, 7])\n"
          ]
        },
        {
          "output_type": "stream",
          "name": "stderr",
          "text": [
            "91it [00:07, 15.09it/s]"
          ]
        },
        {
          "output_type": "stream",
          "name": "stdout",
          "text": [
            "torch.Size([128, 16, 7, 7])\n",
            "torch.Size([128, 16, 7, 7])\n",
            "torch.Size([128, 16, 7, 7])\n",
            "torch.Size([128, 16, 7, 7])\n"
          ]
        },
        {
          "output_type": "stream",
          "name": "stderr",
          "text": [
            "95it [00:07, 15.90it/s]"
          ]
        },
        {
          "output_type": "stream",
          "name": "stdout",
          "text": [
            "torch.Size([128, 16, 7, 7])\n",
            "torch.Size([128, 16, 7, 7])\n",
            "torch.Size([128, 16, 7, 7])\n",
            "torch.Size([128, 16, 7, 7])\n"
          ]
        },
        {
          "output_type": "stream",
          "name": "stderr",
          "text": [
            "99it [00:07, 14.92it/s]"
          ]
        },
        {
          "output_type": "stream",
          "name": "stdout",
          "text": [
            "torch.Size([128, 16, 7, 7])\n",
            "torch.Size([128, 16, 7, 7])\n",
            "torch.Size([128, 16, 7, 7])\n"
          ]
        },
        {
          "output_type": "stream",
          "name": "stderr",
          "text": [
            "103it [00:08, 14.53it/s]"
          ]
        },
        {
          "output_type": "stream",
          "name": "stdout",
          "text": [
            "torch.Size([128, 16, 7, 7])\n",
            "torch.Size([128, 16, 7, 7])\n",
            "torch.Size([128, 16, 7, 7])\n",
            "torch.Size([128, 16, 7, 7])\n"
          ]
        },
        {
          "output_type": "stream",
          "name": "stderr",
          "text": [
            "107it [00:08, 14.46it/s]"
          ]
        },
        {
          "output_type": "stream",
          "name": "stdout",
          "text": [
            "torch.Size([128, 16, 7, 7])\n",
            "torch.Size([128, 16, 7, 7])\n",
            "torch.Size([128, 16, 7, 7])\n"
          ]
        },
        {
          "output_type": "stream",
          "name": "stderr",
          "text": [
            "\r109it [00:08, 14.65it/s]"
          ]
        },
        {
          "output_type": "stream",
          "name": "stdout",
          "text": [
            "torch.Size([128, 16, 7, 7])\n",
            "torch.Size([128, 16, 7, 7])\n",
            "torch.Size([128, 16, 7, 7])\n",
            "torch.Size([128, 16, 7, 7])\n"
          ]
        },
        {
          "output_type": "stream",
          "name": "stderr",
          "text": [
            "113it [00:08, 14.57it/s]"
          ]
        },
        {
          "output_type": "stream",
          "name": "stdout",
          "text": [
            "torch.Size([128, 16, 7, 7])\n",
            "torch.Size([128, 16, 7, 7])\n",
            "torch.Size([128, 16, 7, 7])\n"
          ]
        },
        {
          "output_type": "stream",
          "name": "stderr",
          "text": [
            "117it [00:09, 15.02it/s]"
          ]
        },
        {
          "output_type": "stream",
          "name": "stdout",
          "text": [
            "torch.Size([128, 16, 7, 7])\n",
            "torch.Size([128, 16, 7, 7])\n",
            "torch.Size([128, 16, 7, 7])\n",
            "torch.Size([128, 16, 7, 7])\n"
          ]
        },
        {
          "output_type": "stream",
          "name": "stderr",
          "text": [
            "121it [00:09, 14.97it/s]"
          ]
        },
        {
          "output_type": "stream",
          "name": "stdout",
          "text": [
            "torch.Size([128, 16, 7, 7])\n",
            "torch.Size([128, 16, 7, 7])\n",
            "torch.Size([128, 16, 7, 7])\n",
            "torch.Size([128, 16, 7, 7])\n"
          ]
        },
        {
          "output_type": "stream",
          "name": "stderr",
          "text": [
            "125it [00:09, 15.08it/s]"
          ]
        },
        {
          "output_type": "stream",
          "name": "stdout",
          "text": [
            "torch.Size([128, 16, 7, 7])\n",
            "torch.Size([128, 16, 7, 7])\n",
            "torch.Size([128, 16, 7, 7])\n",
            "torch.Size([128, 16, 7, 7])\n"
          ]
        },
        {
          "output_type": "stream",
          "name": "stderr",
          "text": [
            "129it [00:09, 14.98it/s]"
          ]
        },
        {
          "output_type": "stream",
          "name": "stdout",
          "text": [
            "torch.Size([128, 16, 7, 7])\n",
            "torch.Size([128, 16, 7, 7])\n",
            "torch.Size([128, 16, 7, 7])\n"
          ]
        },
        {
          "output_type": "stream",
          "name": "stderr",
          "text": [
            "133it [00:10, 15.54it/s]"
          ]
        },
        {
          "output_type": "stream",
          "name": "stdout",
          "text": [
            "torch.Size([128, 16, 7, 7])\n",
            "torch.Size([128, 16, 7, 7])\n",
            "torch.Size([128, 16, 7, 7])\n",
            "torch.Size([128, 16, 7, 7])\n"
          ]
        },
        {
          "output_type": "stream",
          "name": "stderr",
          "text": [
            "\r135it [00:10, 15.37it/s]"
          ]
        },
        {
          "output_type": "stream",
          "name": "stdout",
          "text": [
            "torch.Size([128, 16, 7, 7])\n",
            "torch.Size([128, 16, 7, 7])\n",
            "torch.Size([128, 16, 7, 7])\n"
          ]
        },
        {
          "output_type": "stream",
          "name": "stderr",
          "text": [
            "139it [00:10, 14.98it/s]"
          ]
        },
        {
          "output_type": "stream",
          "name": "stdout",
          "text": [
            "torch.Size([128, 16, 7, 7])\n",
            "torch.Size([128, 16, 7, 7])\n",
            "torch.Size([128, 16, 7, 7])\n",
            "torch.Size([128, 16, 7, 7])\n"
          ]
        },
        {
          "output_type": "stream",
          "name": "stderr",
          "text": [
            "143it [00:10, 14.25it/s]"
          ]
        },
        {
          "output_type": "stream",
          "name": "stdout",
          "text": [
            "torch.Size([128, 16, 7, 7])\n",
            "torch.Size([128, 16, 7, 7])\n",
            "torch.Size([128, 16, 7, 7])\n"
          ]
        },
        {
          "output_type": "stream",
          "name": "stderr",
          "text": [
            "\r145it [00:10, 13.87it/s]"
          ]
        },
        {
          "output_type": "stream",
          "name": "stdout",
          "text": [
            "torch.Size([128, 16, 7, 7])\n",
            "torch.Size([128, 16, 7, 7])\n",
            "torch.Size([128, 16, 7, 7])\n",
            "torch.Size([128, 16, 7, 7])\n"
          ]
        },
        {
          "output_type": "stream",
          "name": "stderr",
          "text": [
            "149it [00:11, 14.51it/s]"
          ]
        },
        {
          "output_type": "stream",
          "name": "stdout",
          "text": [
            "torch.Size([128, 16, 7, 7])\n",
            "torch.Size([128, 16, 7, 7])\n",
            "torch.Size([128, 16, 7, 7])\n",
            "torch.Size([128, 16, 7, 7])\n"
          ]
        },
        {
          "output_type": "stream",
          "name": "stderr",
          "text": [
            "153it [00:11, 15.03it/s]"
          ]
        },
        {
          "output_type": "stream",
          "name": "stdout",
          "text": [
            "torch.Size([128, 16, 7, 7])\n",
            "torch.Size([128, 16, 7, 7])\n",
            "torch.Size([128, 16, 7, 7])\n",
            "torch.Size([128, 16, 7, 7])\n"
          ]
        },
        {
          "output_type": "stream",
          "name": "stderr",
          "text": [
            "157it [00:11, 13.25it/s]"
          ]
        },
        {
          "output_type": "stream",
          "name": "stdout",
          "text": [
            "torch.Size([128, 16, 7, 7])\n",
            "torch.Size([128, 16, 7, 7])\n",
            "torch.Size([128, 16, 7, 7])\n"
          ]
        },
        {
          "output_type": "stream",
          "name": "stderr",
          "text": [
            "\r159it [00:11, 11.87it/s]"
          ]
        },
        {
          "output_type": "stream",
          "name": "stdout",
          "text": [
            "torch.Size([128, 16, 7, 7])\n",
            "torch.Size([128, 16, 7, 7])\n"
          ]
        },
        {
          "output_type": "stream",
          "name": "stderr",
          "text": [
            "\r161it [00:12, 11.34it/s]"
          ]
        },
        {
          "output_type": "stream",
          "name": "stdout",
          "text": [
            "torch.Size([128, 16, 7, 7])\n",
            "torch.Size([128, 16, 7, 7])\n"
          ]
        },
        {
          "output_type": "stream",
          "name": "stderr",
          "text": [
            "\r163it [00:12, 10.73it/s]"
          ]
        },
        {
          "output_type": "stream",
          "name": "stdout",
          "text": [
            "torch.Size([128, 16, 7, 7])\n",
            "torch.Size([128, 16, 7, 7])\n",
            "torch.Size([128, 16, 7, 7])\n"
          ]
        },
        {
          "output_type": "stream",
          "name": "stderr",
          "text": [
            "167it [00:12, 10.17it/s]"
          ]
        },
        {
          "output_type": "stream",
          "name": "stdout",
          "text": [
            "torch.Size([128, 16, 7, 7])\n",
            "torch.Size([128, 16, 7, 7])\n",
            "torch.Size([128, 16, 7, 7])\n"
          ]
        },
        {
          "output_type": "stream",
          "name": "stderr",
          "text": [
            "\r169it [00:13, 10.02it/s]"
          ]
        },
        {
          "output_type": "stream",
          "name": "stdout",
          "text": [
            "torch.Size([128, 16, 7, 7])\n",
            "torch.Size([128, 16, 7, 7])\n"
          ]
        },
        {
          "output_type": "stream",
          "name": "stderr",
          "text": [
            "172it [00:13,  9.36it/s]"
          ]
        },
        {
          "output_type": "stream",
          "name": "stdout",
          "text": [
            "torch.Size([128, 16, 7, 7])\n",
            "torch.Size([128, 16, 7, 7])\n"
          ]
        },
        {
          "output_type": "stream",
          "name": "stderr",
          "text": [
            "174it [00:13,  8.78it/s]"
          ]
        },
        {
          "output_type": "stream",
          "name": "stdout",
          "text": [
            "torch.Size([128, 16, 7, 7])\n",
            "torch.Size([128, 16, 7, 7])\n"
          ]
        },
        {
          "output_type": "stream",
          "name": "stderr",
          "text": [
            "\r175it [00:13,  9.03it/s]"
          ]
        },
        {
          "output_type": "stream",
          "name": "stdout",
          "text": [
            "torch.Size([128, 16, 7, 7])\n",
            "torch.Size([128, 16, 7, 7])\n"
          ]
        },
        {
          "output_type": "stream",
          "name": "stderr",
          "text": [
            "178it [00:14,  8.76it/s]"
          ]
        },
        {
          "output_type": "stream",
          "name": "stdout",
          "text": [
            "torch.Size([128, 16, 7, 7])\n",
            "torch.Size([128, 16, 7, 7])\n"
          ]
        },
        {
          "output_type": "stream",
          "name": "stderr",
          "text": [
            "180it [00:14,  8.61it/s]"
          ]
        },
        {
          "output_type": "stream",
          "name": "stdout",
          "text": [
            "torch.Size([128, 16, 7, 7])\n",
            "torch.Size([128, 16, 7, 7])\n"
          ]
        },
        {
          "output_type": "stream",
          "name": "stderr",
          "text": [
            "182it [00:14,  8.69it/s]"
          ]
        },
        {
          "output_type": "stream",
          "name": "stdout",
          "text": [
            "torch.Size([128, 16, 7, 7])\n",
            "torch.Size([128, 16, 7, 7])\n"
          ]
        },
        {
          "output_type": "stream",
          "name": "stderr",
          "text": [
            "184it [00:14,  8.46it/s]"
          ]
        },
        {
          "output_type": "stream",
          "name": "stdout",
          "text": [
            "torch.Size([128, 16, 7, 7])\n",
            "torch.Size([128, 16, 7, 7])\n"
          ]
        },
        {
          "output_type": "stream",
          "name": "stderr",
          "text": [
            "186it [00:15,  8.28it/s]"
          ]
        },
        {
          "output_type": "stream",
          "name": "stdout",
          "text": [
            "torch.Size([128, 16, 7, 7])\n",
            "torch.Size([128, 16, 7, 7])\n"
          ]
        },
        {
          "output_type": "stream",
          "name": "stderr",
          "text": [
            "188it [00:15,  8.01it/s]"
          ]
        },
        {
          "output_type": "stream",
          "name": "stdout",
          "text": [
            "torch.Size([128, 16, 7, 7])\n",
            "torch.Size([128, 16, 7, 7])\n"
          ]
        },
        {
          "output_type": "stream",
          "name": "stderr",
          "text": [
            "\r189it [00:15,  7.92it/s]"
          ]
        },
        {
          "output_type": "stream",
          "name": "stdout",
          "text": [
            "torch.Size([128, 16, 7, 7])\n",
            "torch.Size([128, 16, 7, 7])\n",
            "torch.Size([128, 16, 7, 7])\n"
          ]
        },
        {
          "output_type": "stream",
          "name": "stderr",
          "text": [
            "193it [00:15,  8.65it/s]"
          ]
        },
        {
          "output_type": "stream",
          "name": "stdout",
          "text": [
            "torch.Size([128, 16, 7, 7])\n",
            "torch.Size([128, 16, 7, 7])\n"
          ]
        },
        {
          "output_type": "stream",
          "name": "stderr",
          "text": [
            "195it [00:16,  9.01it/s]"
          ]
        },
        {
          "output_type": "stream",
          "name": "stdout",
          "text": [
            "torch.Size([128, 16, 7, 7])\n",
            "torch.Size([128, 16, 7, 7])\n"
          ]
        },
        {
          "output_type": "stream",
          "name": "stderr",
          "text": [
            "197it [00:16,  8.32it/s]"
          ]
        },
        {
          "output_type": "stream",
          "name": "stdout",
          "text": [
            "torch.Size([128, 16, 7, 7])\n",
            "torch.Size([128, 16, 7, 7])\n"
          ]
        },
        {
          "output_type": "stream",
          "name": "stderr",
          "text": [
            "\r198it [00:16,  8.34it/s]"
          ]
        },
        {
          "output_type": "stream",
          "name": "stdout",
          "text": [
            "torch.Size([128, 16, 7, 7])\n",
            "torch.Size([128, 16, 7, 7])\n"
          ]
        },
        {
          "output_type": "stream",
          "name": "stderr",
          "text": [
            "\r200it [00:16,  8.18it/s]"
          ]
        },
        {
          "output_type": "stream",
          "name": "stdout",
          "text": [
            "torch.Size([128, 16, 7, 7])\n",
            "torch.Size([128, 16, 7, 7])\n",
            "torch.Size([128, 16, 7, 7])\n"
          ]
        },
        {
          "output_type": "stream",
          "name": "stderr",
          "text": [
            "204it [00:17,  8.77it/s]"
          ]
        },
        {
          "output_type": "stream",
          "name": "stdout",
          "text": [
            "torch.Size([128, 16, 7, 7])\n",
            "torch.Size([128, 16, 7, 7])\n"
          ]
        },
        {
          "output_type": "stream",
          "name": "stderr",
          "text": [
            "206it [00:17,  8.29it/s]"
          ]
        },
        {
          "output_type": "stream",
          "name": "stdout",
          "text": [
            "torch.Size([128, 16, 7, 7])\n",
            "torch.Size([128, 16, 7, 7])\n"
          ]
        },
        {
          "output_type": "stream",
          "name": "stderr",
          "text": [
            "\r208it [00:17,  8.52it/s]"
          ]
        },
        {
          "output_type": "stream",
          "name": "stdout",
          "text": [
            "torch.Size([128, 16, 7, 7])\n",
            "torch.Size([128, 16, 7, 7])\n"
          ]
        },
        {
          "output_type": "stream",
          "name": "stderr",
          "text": [
            "\r209it [00:17,  8.43it/s]"
          ]
        },
        {
          "output_type": "stream",
          "name": "stdout",
          "text": [
            "torch.Size([128, 16, 7, 7])\n",
            "torch.Size([128, 16, 7, 7])\n"
          ]
        },
        {
          "output_type": "stream",
          "name": "stderr",
          "text": [
            "213it [00:18, 10.22it/s]"
          ]
        },
        {
          "output_type": "stream",
          "name": "stdout",
          "text": [
            "torch.Size([128, 16, 7, 7])\n",
            "torch.Size([128, 16, 7, 7])\n",
            "torch.Size([128, 16, 7, 7])\n"
          ]
        },
        {
          "output_type": "stream",
          "name": "stderr",
          "text": [
            "\r215it [00:18, 11.00it/s]"
          ]
        },
        {
          "output_type": "stream",
          "name": "stdout",
          "text": [
            "torch.Size([128, 16, 7, 7])\n",
            "torch.Size([128, 16, 7, 7])\n",
            "torch.Size([128, 16, 7, 7])\n",
            "torch.Size([128, 16, 7, 7])\n"
          ]
        },
        {
          "output_type": "stream",
          "name": "stderr",
          "text": [
            "219it [00:18, 12.40it/s]"
          ]
        },
        {
          "output_type": "stream",
          "name": "stdout",
          "text": [
            "torch.Size([128, 16, 7, 7])\n",
            "torch.Size([128, 16, 7, 7])\n",
            "torch.Size([128, 16, 7, 7])\n"
          ]
        },
        {
          "output_type": "stream",
          "name": "stderr",
          "text": [
            "223it [00:18, 13.45it/s]"
          ]
        },
        {
          "output_type": "stream",
          "name": "stdout",
          "text": [
            "torch.Size([128, 16, 7, 7])\n",
            "torch.Size([128, 16, 7, 7])\n",
            "torch.Size([128, 16, 7, 7])\n",
            "torch.Size([128, 16, 7, 7])\n"
          ]
        },
        {
          "output_type": "stream",
          "name": "stderr",
          "text": [
            "227it [00:19, 14.36it/s]"
          ]
        },
        {
          "output_type": "stream",
          "name": "stdout",
          "text": [
            "torch.Size([128, 16, 7, 7])\n",
            "torch.Size([128, 16, 7, 7])\n",
            "torch.Size([128, 16, 7, 7])\n",
            "torch.Size([128, 16, 7, 7])\n"
          ]
        },
        {
          "output_type": "stream",
          "name": "stderr",
          "text": [
            "231it [00:19, 14.20it/s]"
          ]
        },
        {
          "output_type": "stream",
          "name": "stdout",
          "text": [
            "torch.Size([128, 16, 7, 7])\n",
            "torch.Size([128, 16, 7, 7])\n",
            "torch.Size([128, 16, 7, 7])\n"
          ]
        },
        {
          "output_type": "stream",
          "name": "stderr",
          "text": [
            "\r233it [00:19, 15.06it/s]"
          ]
        },
        {
          "output_type": "stream",
          "name": "stdout",
          "text": [
            "torch.Size([128, 16, 7, 7])\n",
            "torch.Size([128, 16, 7, 7])\n",
            "torch.Size([128, 16, 7, 7])\n"
          ]
        },
        {
          "output_type": "stream",
          "name": "stderr",
          "text": [
            "237it [00:19, 15.66it/s]"
          ]
        },
        {
          "output_type": "stream",
          "name": "stdout",
          "text": [
            "torch.Size([128, 16, 7, 7])\n",
            "torch.Size([128, 16, 7, 7])\n",
            "torch.Size([128, 16, 7, 7])\n",
            "torch.Size([128, 16, 7, 7])\n"
          ]
        },
        {
          "output_type": "stream",
          "name": "stderr",
          "text": [
            "241it [00:20, 15.39it/s]"
          ]
        },
        {
          "output_type": "stream",
          "name": "stdout",
          "text": [
            "torch.Size([128, 16, 7, 7])\n",
            "torch.Size([128, 16, 7, 7])\n",
            "torch.Size([128, 16, 7, 7])\n",
            "torch.Size([128, 16, 7, 7])\n"
          ]
        },
        {
          "output_type": "stream",
          "name": "stderr",
          "text": [
            "245it [00:20, 14.73it/s]"
          ]
        },
        {
          "output_type": "stream",
          "name": "stdout",
          "text": [
            "torch.Size([128, 16, 7, 7])\n",
            "torch.Size([128, 16, 7, 7])\n",
            "torch.Size([128, 16, 7, 7])\n",
            "torch.Size([128, 16, 7, 7])\n"
          ]
        },
        {
          "output_type": "stream",
          "name": "stderr",
          "text": [
            "249it [00:20, 14.42it/s]"
          ]
        },
        {
          "output_type": "stream",
          "name": "stdout",
          "text": [
            "torch.Size([128, 16, 7, 7])\n",
            "torch.Size([128, 16, 7, 7])\n",
            "torch.Size([128, 16, 7, 7])\n",
            "torch.Size([128, 16, 7, 7])\n"
          ]
        },
        {
          "output_type": "stream",
          "name": "stderr",
          "text": [
            "253it [00:20, 14.76it/s]"
          ]
        },
        {
          "output_type": "stream",
          "name": "stdout",
          "text": [
            "torch.Size([128, 16, 7, 7])\n",
            "torch.Size([128, 16, 7, 7])\n",
            "torch.Size([128, 16, 7, 7])\n",
            "torch.Size([128, 16, 7, 7])\n"
          ]
        },
        {
          "output_type": "stream",
          "name": "stderr",
          "text": [
            "257it [00:21, 15.19it/s]"
          ]
        },
        {
          "output_type": "stream",
          "name": "stdout",
          "text": [
            "torch.Size([128, 16, 7, 7])\n",
            "torch.Size([128, 16, 7, 7])\n",
            "torch.Size([128, 16, 7, 7])\n"
          ]
        },
        {
          "output_type": "stream",
          "name": "stderr",
          "text": [
            "\r259it [00:21, 15.06it/s]"
          ]
        },
        {
          "output_type": "stream",
          "name": "stdout",
          "text": [
            "torch.Size([128, 16, 7, 7])\n",
            "torch.Size([128, 16, 7, 7])\n",
            "torch.Size([128, 16, 7, 7])\n",
            "torch.Size([128, 16, 7, 7])\n"
          ]
        },
        {
          "output_type": "stream",
          "name": "stderr",
          "text": [
            "263it [00:21, 14.58it/s]"
          ]
        },
        {
          "output_type": "stream",
          "name": "stdout",
          "text": [
            "torch.Size([128, 16, 7, 7])\n",
            "torch.Size([128, 16, 7, 7])\n",
            "torch.Size([128, 16, 7, 7])\n",
            "torch.Size([128, 16, 7, 7])\n"
          ]
        },
        {
          "output_type": "stream",
          "name": "stderr",
          "text": [
            "267it [00:21, 15.10it/s]"
          ]
        },
        {
          "output_type": "stream",
          "name": "stdout",
          "text": [
            "torch.Size([128, 16, 7, 7])\n",
            "torch.Size([128, 16, 7, 7])\n",
            "torch.Size([128, 16, 7, 7])\n",
            "torch.Size([128, 16, 7, 7])\n"
          ]
        },
        {
          "output_type": "stream",
          "name": "stderr",
          "text": [
            "271it [00:22, 14.81it/s]"
          ]
        },
        {
          "output_type": "stream",
          "name": "stdout",
          "text": [
            "torch.Size([128, 16, 7, 7])\n",
            "torch.Size([128, 16, 7, 7])\n",
            "torch.Size([128, 16, 7, 7])\n",
            "torch.Size([128, 16, 7, 7])\n"
          ]
        },
        {
          "output_type": "stream",
          "name": "stderr",
          "text": [
            "275it [00:22, 15.21it/s]"
          ]
        },
        {
          "output_type": "stream",
          "name": "stdout",
          "text": [
            "torch.Size([128, 16, 7, 7])\n",
            "torch.Size([128, 16, 7, 7])\n",
            "torch.Size([128, 16, 7, 7])\n",
            "torch.Size([128, 16, 7, 7])\n"
          ]
        },
        {
          "output_type": "stream",
          "name": "stderr",
          "text": [
            "279it [00:22, 14.52it/s]"
          ]
        },
        {
          "output_type": "stream",
          "name": "stdout",
          "text": [
            "torch.Size([128, 16, 7, 7])\n",
            "torch.Size([128, 16, 7, 7])\n",
            "torch.Size([128, 16, 7, 7])\n"
          ]
        },
        {
          "output_type": "stream",
          "name": "stderr",
          "text": [
            "283it [00:22, 14.73it/s]"
          ]
        },
        {
          "output_type": "stream",
          "name": "stdout",
          "text": [
            "torch.Size([128, 16, 7, 7])\n",
            "torch.Size([128, 16, 7, 7])\n",
            "torch.Size([128, 16, 7, 7])\n",
            "torch.Size([128, 16, 7, 7])\n"
          ]
        },
        {
          "output_type": "stream",
          "name": "stderr",
          "text": [
            "287it [00:23, 14.86it/s]"
          ]
        },
        {
          "output_type": "stream",
          "name": "stdout",
          "text": [
            "torch.Size([128, 16, 7, 7])\n",
            "torch.Size([128, 16, 7, 7])\n",
            "torch.Size([128, 16, 7, 7])\n",
            "torch.Size([128, 16, 7, 7])\n"
          ]
        },
        {
          "output_type": "stream",
          "name": "stderr",
          "text": [
            "\r289it [00:23, 15.30it/s]"
          ]
        },
        {
          "output_type": "stream",
          "name": "stdout",
          "text": [
            "torch.Size([128, 16, 7, 7])\n",
            "torch.Size([128, 16, 7, 7])\n",
            "torch.Size([128, 16, 7, 7])\n"
          ]
        },
        {
          "output_type": "stream",
          "name": "stderr",
          "text": [
            "293it [00:23, 14.50it/s]"
          ]
        },
        {
          "output_type": "stream",
          "name": "stdout",
          "text": [
            "torch.Size([128, 16, 7, 7])\n",
            "torch.Size([128, 16, 7, 7])\n",
            "torch.Size([128, 16, 7, 7])\n"
          ]
        },
        {
          "output_type": "stream",
          "name": "stderr",
          "text": [
            "297it [00:23, 14.86it/s]"
          ]
        },
        {
          "output_type": "stream",
          "name": "stdout",
          "text": [
            "torch.Size([128, 16, 7, 7])\n",
            "torch.Size([128, 16, 7, 7])\n",
            "torch.Size([128, 16, 7, 7])\n"
          ]
        },
        {
          "output_type": "stream",
          "name": "stderr",
          "text": [
            "\r299it [00:23, 14.89it/s]"
          ]
        },
        {
          "output_type": "stream",
          "name": "stdout",
          "text": [
            "torch.Size([128, 16, 7, 7])\n",
            "torch.Size([128, 16, 7, 7])\n",
            "torch.Size([128, 16, 7, 7])\n",
            "torch.Size([128, 16, 7, 7])\n"
          ]
        },
        {
          "output_type": "stream",
          "name": "stderr",
          "text": [
            "303it [00:24, 15.16it/s]"
          ]
        },
        {
          "output_type": "stream",
          "name": "stdout",
          "text": [
            "torch.Size([128, 16, 7, 7])\n",
            "torch.Size([128, 16, 7, 7])\n",
            "torch.Size([128, 16, 7, 7])\n",
            "torch.Size([128, 16, 7, 7])\n"
          ]
        },
        {
          "output_type": "stream",
          "name": "stderr",
          "text": [
            "307it [00:24, 14.65it/s]"
          ]
        },
        {
          "output_type": "stream",
          "name": "stdout",
          "text": [
            "torch.Size([128, 16, 7, 7])\n",
            "torch.Size([128, 16, 7, 7])\n",
            "torch.Size([128, 16, 7, 7])\n"
          ]
        },
        {
          "output_type": "stream",
          "name": "stderr",
          "text": [
            "311it [00:24, 14.78it/s]"
          ]
        },
        {
          "output_type": "stream",
          "name": "stdout",
          "text": [
            "torch.Size([128, 16, 7, 7])\n",
            "torch.Size([128, 16, 7, 7])\n",
            "torch.Size([128, 16, 7, 7])\n",
            "torch.Size([128, 16, 7, 7])\n"
          ]
        },
        {
          "output_type": "stream",
          "name": "stderr",
          "text": [
            "315it [00:25, 14.60it/s]"
          ]
        },
        {
          "output_type": "stream",
          "name": "stdout",
          "text": [
            "torch.Size([128, 16, 7, 7])\n",
            "torch.Size([128, 16, 7, 7])\n",
            "torch.Size([128, 16, 7, 7])\n"
          ]
        },
        {
          "output_type": "stream",
          "name": "stderr",
          "text": [
            "\r317it [00:25, 15.72it/s]"
          ]
        },
        {
          "output_type": "stream",
          "name": "stdout",
          "text": [
            "torch.Size([128, 16, 7, 7])\n",
            "torch.Size([128, 16, 7, 7])\n",
            "torch.Size([128, 16, 7, 7])\n"
          ]
        },
        {
          "output_type": "stream",
          "name": "stderr",
          "text": [
            "321it [00:25, 14.54it/s]"
          ]
        },
        {
          "output_type": "stream",
          "name": "stdout",
          "text": [
            "torch.Size([128, 16, 7, 7])\n",
            "torch.Size([128, 16, 7, 7])\n",
            "torch.Size([128, 16, 7, 7])\n"
          ]
        },
        {
          "output_type": "stream",
          "name": "stderr",
          "text": [
            "\r323it [00:25, 14.24it/s]"
          ]
        },
        {
          "output_type": "stream",
          "name": "stdout",
          "text": [
            "torch.Size([128, 16, 7, 7])\n",
            "torch.Size([128, 16, 7, 7])\n",
            "torch.Size([128, 16, 7, 7])\n",
            "torch.Size([128, 16, 7, 7])\n"
          ]
        },
        {
          "output_type": "stream",
          "name": "stderr",
          "text": [
            "328it [00:25, 15.10it/s]"
          ]
        },
        {
          "output_type": "stream",
          "name": "stdout",
          "text": [
            "torch.Size([128, 16, 7, 7])\n",
            "torch.Size([128, 16, 7, 7])\n",
            "torch.Size([128, 16, 7, 7])\n"
          ]
        },
        {
          "output_type": "stream",
          "name": "stderr",
          "text": [
            "\r330it [00:26, 15.47it/s]"
          ]
        },
        {
          "output_type": "stream",
          "name": "stdout",
          "text": [
            "torch.Size([128, 16, 7, 7])\n",
            "torch.Size([128, 16, 7, 7])\n",
            "torch.Size([128, 16, 7, 7])\n"
          ]
        },
        {
          "output_type": "stream",
          "name": "stderr",
          "text": [
            "334it [00:26, 14.82it/s]"
          ]
        },
        {
          "output_type": "stream",
          "name": "stdout",
          "text": [
            "torch.Size([128, 16, 7, 7])\n",
            "torch.Size([128, 16, 7, 7])\n",
            "torch.Size([128, 16, 7, 7])\n",
            "torch.Size([128, 16, 7, 7])\n"
          ]
        },
        {
          "output_type": "stream",
          "name": "stderr",
          "text": [
            "338it [00:26, 14.51it/s]"
          ]
        },
        {
          "output_type": "stream",
          "name": "stdout",
          "text": [
            "torch.Size([128, 16, 7, 7])\n",
            "torch.Size([128, 16, 7, 7])\n",
            "torch.Size([128, 16, 7, 7])\n"
          ]
        },
        {
          "output_type": "stream",
          "name": "stderr",
          "text": [
            "\r340it [00:26, 14.50it/s]"
          ]
        },
        {
          "output_type": "stream",
          "name": "stdout",
          "text": [
            "torch.Size([128, 16, 7, 7])\n",
            "torch.Size([128, 16, 7, 7])\n",
            "torch.Size([128, 16, 7, 7])\n",
            "torch.Size([128, 16, 7, 7])\n"
          ]
        },
        {
          "output_type": "stream",
          "name": "stderr",
          "text": [
            "344it [00:26, 14.90it/s]"
          ]
        },
        {
          "output_type": "stream",
          "name": "stdout",
          "text": [
            "torch.Size([128, 16, 7, 7])\n",
            "torch.Size([128, 16, 7, 7])\n",
            "torch.Size([128, 16, 7, 7])\n",
            "torch.Size([128, 16, 7, 7])\n"
          ]
        },
        {
          "output_type": "stream",
          "name": "stderr",
          "text": [
            "348it [00:27, 15.07it/s]"
          ]
        },
        {
          "output_type": "stream",
          "name": "stdout",
          "text": [
            "torch.Size([128, 16, 7, 7])\n",
            "torch.Size([128, 16, 7, 7])\n",
            "torch.Size([128, 16, 7, 7])\n",
            "torch.Size([128, 16, 7, 7])\n"
          ]
        },
        {
          "output_type": "stream",
          "name": "stderr",
          "text": [
            "352it [00:27, 14.85it/s]"
          ]
        },
        {
          "output_type": "stream",
          "name": "stdout",
          "text": [
            "torch.Size([128, 16, 7, 7])\n",
            "torch.Size([128, 16, 7, 7])\n",
            "torch.Size([128, 16, 7, 7])\n"
          ]
        },
        {
          "output_type": "stream",
          "name": "stderr",
          "text": [
            "356it [00:27, 14.67it/s]"
          ]
        },
        {
          "output_type": "stream",
          "name": "stdout",
          "text": [
            "torch.Size([128, 16, 7, 7])\n",
            "torch.Size([128, 16, 7, 7])\n",
            "torch.Size([128, 16, 7, 7])\n",
            "torch.Size([128, 16, 7, 7])\n"
          ]
        },
        {
          "output_type": "stream",
          "name": "stderr",
          "text": [
            "\r358it [00:27, 14.56it/s]"
          ]
        },
        {
          "output_type": "stream",
          "name": "stdout",
          "text": [
            "torch.Size([128, 16, 7, 7])\n",
            "torch.Size([128, 16, 7, 7])\n",
            "torch.Size([128, 16, 7, 7])\n"
          ]
        },
        {
          "output_type": "stream",
          "name": "stderr",
          "text": [
            "362it [00:28, 11.93it/s]"
          ]
        },
        {
          "output_type": "stream",
          "name": "stdout",
          "text": [
            "torch.Size([128, 16, 7, 7])\n",
            "torch.Size([128, 16, 7, 7])\n"
          ]
        },
        {
          "output_type": "stream",
          "name": "stderr",
          "text": [
            "\r364it [00:28, 11.20it/s]"
          ]
        },
        {
          "output_type": "stream",
          "name": "stdout",
          "text": [
            "torch.Size([128, 16, 7, 7])\n",
            "torch.Size([128, 16, 7, 7])\n",
            "torch.Size([128, 16, 7, 7])\n",
            "torch.Size([128, 16, 7, 7])\n"
          ]
        },
        {
          "output_type": "stream",
          "name": "stderr",
          "text": [
            "368it [00:29,  8.80it/s]"
          ]
        },
        {
          "output_type": "stream",
          "name": "stdout",
          "text": [
            "torch.Size([128, 16, 7, 7])\n",
            "torch.Size([128, 16, 7, 7])\n"
          ]
        },
        {
          "output_type": "stream",
          "name": "stderr",
          "text": [
            "370it [00:29,  8.56it/s]"
          ]
        },
        {
          "output_type": "stream",
          "name": "stdout",
          "text": [
            "torch.Size([128, 16, 7, 7])\n",
            "torch.Size([128, 16, 7, 7])\n"
          ]
        },
        {
          "output_type": "stream",
          "name": "stderr",
          "text": [
            "372it [00:29,  8.19it/s]"
          ]
        },
        {
          "output_type": "stream",
          "name": "stdout",
          "text": [
            "torch.Size([128, 16, 7, 7])\n",
            "torch.Size([128, 16, 7, 7])\n"
          ]
        },
        {
          "output_type": "stream",
          "name": "stderr",
          "text": [
            "374it [00:29,  7.85it/s]"
          ]
        },
        {
          "output_type": "stream",
          "name": "stdout",
          "text": [
            "torch.Size([128, 16, 7, 7])\n",
            "torch.Size([128, 16, 7, 7])\n"
          ]
        },
        {
          "output_type": "stream",
          "name": "stderr",
          "text": [
            "376it [00:30,  7.63it/s]"
          ]
        },
        {
          "output_type": "stream",
          "name": "stdout",
          "text": [
            "torch.Size([128, 16, 7, 7])\n",
            "torch.Size([128, 16, 7, 7])\n"
          ]
        },
        {
          "output_type": "stream",
          "name": "stderr",
          "text": [
            "\r378it [00:30,  8.03it/s]"
          ]
        },
        {
          "output_type": "stream",
          "name": "stdout",
          "text": [
            "torch.Size([128, 16, 7, 7])\n",
            "torch.Size([128, 16, 7, 7])\n"
          ]
        },
        {
          "output_type": "stream",
          "name": "stderr",
          "text": [
            "380it [00:30,  7.64it/s]"
          ]
        },
        {
          "output_type": "stream",
          "name": "stdout",
          "text": [
            "torch.Size([128, 16, 7, 7])\n",
            "torch.Size([128, 16, 7, 7])\n"
          ]
        },
        {
          "output_type": "stream",
          "name": "stderr",
          "text": [
            "382it [00:30,  8.14it/s]"
          ]
        },
        {
          "output_type": "stream",
          "name": "stdout",
          "text": [
            "torch.Size([128, 16, 7, 7])\n",
            "torch.Size([128, 16, 7, 7])\n"
          ]
        },
        {
          "output_type": "stream",
          "name": "stderr",
          "text": [
            "384it [00:31,  8.33it/s]"
          ]
        },
        {
          "output_type": "stream",
          "name": "stdout",
          "text": [
            "torch.Size([128, 16, 7, 7])\n",
            "torch.Size([128, 16, 7, 7])\n"
          ]
        },
        {
          "output_type": "stream",
          "name": "stderr",
          "text": [
            "\r385it [00:31,  8.24it/s]"
          ]
        },
        {
          "output_type": "stream",
          "name": "stdout",
          "text": [
            "torch.Size([128, 16, 7, 7])\n",
            "torch.Size([128, 16, 7, 7])\n",
            "torch.Size([128, 16, 7, 7])\n"
          ]
        },
        {
          "output_type": "stream",
          "name": "stderr",
          "text": [
            "389it [00:31,  9.19it/s]"
          ]
        },
        {
          "output_type": "stream",
          "name": "stdout",
          "text": [
            "torch.Size([128, 16, 7, 7])\n",
            "torch.Size([128, 16, 7, 7])\n",
            "torch.Size([128, 16, 7, 7])\n"
          ]
        },
        {
          "output_type": "stream",
          "name": "stderr",
          "text": [
            "\r391it [00:31,  9.53it/s]"
          ]
        },
        {
          "output_type": "stream",
          "name": "stdout",
          "text": [
            "torch.Size([128, 16, 7, 7])\n",
            "torch.Size([128, 16, 7, 7])\n"
          ]
        },
        {
          "output_type": "stream",
          "name": "stderr",
          "text": [
            "394it [00:32,  8.52it/s]"
          ]
        },
        {
          "output_type": "stream",
          "name": "stdout",
          "text": [
            "torch.Size([128, 16, 7, 7])\n",
            "torch.Size([128, 16, 7, 7])\n"
          ]
        },
        {
          "output_type": "stream",
          "name": "stderr",
          "text": [
            "\r395it [00:32,  8.09it/s]"
          ]
        },
        {
          "output_type": "stream",
          "name": "stdout",
          "text": [
            "torch.Size([128, 16, 7, 7])\n",
            "torch.Size([128, 16, 7, 7])\n"
          ]
        },
        {
          "output_type": "stream",
          "name": "stderr",
          "text": [
            "398it [00:32,  8.32it/s]"
          ]
        },
        {
          "output_type": "stream",
          "name": "stdout",
          "text": [
            "torch.Size([128, 16, 7, 7])\n",
            "torch.Size([128, 16, 7, 7])\n"
          ]
        },
        {
          "output_type": "stream",
          "name": "stderr",
          "text": [
            "\r399it [00:32,  7.88it/s]"
          ]
        },
        {
          "output_type": "stream",
          "name": "stdout",
          "text": [
            "torch.Size([128, 16, 7, 7])\n",
            "torch.Size([128, 16, 7, 7])\n"
          ]
        },
        {
          "output_type": "stream",
          "name": "stderr",
          "text": [
            "402it [00:33,  7.99it/s]"
          ]
        },
        {
          "output_type": "stream",
          "name": "stdout",
          "text": [
            "torch.Size([128, 16, 7, 7])\n",
            "torch.Size([128, 16, 7, 7])\n"
          ]
        },
        {
          "output_type": "stream",
          "name": "stderr",
          "text": [
            "\r403it [00:33,  7.52it/s]"
          ]
        },
        {
          "output_type": "stream",
          "name": "stdout",
          "text": [
            "torch.Size([128, 16, 7, 7])\n",
            "torch.Size([128, 16, 7, 7])\n"
          ]
        },
        {
          "output_type": "stream",
          "name": "stderr",
          "text": [
            "406it [00:33,  7.85it/s]"
          ]
        },
        {
          "output_type": "stream",
          "name": "stdout",
          "text": [
            "torch.Size([128, 16, 7, 7])\n",
            "torch.Size([128, 16, 7, 7])\n"
          ]
        },
        {
          "output_type": "stream",
          "name": "stderr",
          "text": [
            "409it [00:34,  9.92it/s]"
          ]
        },
        {
          "output_type": "stream",
          "name": "stdout",
          "text": [
            "torch.Size([128, 16, 7, 7])\n",
            "torch.Size([128, 16, 7, 7])\n",
            "torch.Size([128, 16, 7, 7])\n"
          ]
        },
        {
          "output_type": "stream",
          "name": "stderr",
          "text": [
            "\r411it [00:34, 11.48it/s]"
          ]
        },
        {
          "output_type": "stream",
          "name": "stdout",
          "text": [
            "torch.Size([128, 16, 7, 7])\n",
            "torch.Size([128, 16, 7, 7])\n",
            "torch.Size([128, 16, 7, 7])\n",
            "torch.Size([128, 16, 7, 7])\n"
          ]
        },
        {
          "output_type": "stream",
          "name": "stderr",
          "text": [
            "418it [00:34, 16.83it/s]"
          ]
        },
        {
          "output_type": "stream",
          "name": "stdout",
          "text": [
            "torch.Size([128, 16, 7, 7])\n",
            "torch.Size([128, 16, 7, 7])\n",
            "torch.Size([128, 16, 7, 7])\n",
            "torch.Size([128, 16, 7, 7])\n",
            "torch.Size([128, 16, 7, 7])\n",
            "torch.Size([128, 16, 7, 7])\n"
          ]
        },
        {
          "output_type": "stream",
          "name": "stderr",
          "text": [
            "422it [00:34, 12.14it/s]"
          ]
        },
        {
          "output_type": "stream",
          "name": "stdout",
          "text": [
            "torch.Size([128, 16, 7, 7])\n",
            "torch.Size([128, 16, 7, 7])\n",
            "torch.Size([112, 16, 7, 7])\n",
            "\n",
            " ~~~~~~~~~~~~~~~~~~~~~~~~~~~~~~~~~~~~~~~~~~~~~~~~~~~~~~~~~~\n",
            "\n",
            "2- epoch train jarayoni natijalari :\n",
            " 2- epochdagi train loss     -> 0.068\n",
            " 2- epochdagi train accuracy     -> 0.979\n"
          ]
        },
        {
          "output_type": "stream",
          "name": "stderr",
          "text": [
            "\n",
            "3it [00:00,  6.79it/s]"
          ]
        },
        {
          "output_type": "stream",
          "name": "stdout",
          "text": [
            "torch.Size([128, 16, 7, 7])\n",
            "\n",
            " ~~~~~~~~~~~~~~~~~~~~~~~~~~~~~~~~~~~~~~~~~~~~~~~~~~~~~~~~~~\n",
            "\n",
            "2- epoch train jarayoni natijalari :\n",
            " 2- epochdagi train loss     -> 0.001\n",
            " 2- epochdagi train accuracy     -> 0.992\n",
            "torch.Size([128, 16, 7, 7])\n",
            "\n",
            " ~~~~~~~~~~~~~~~~~~~~~~~~~~~~~~~~~~~~~~~~~~~~~~~~~~~~~~~~~~\n",
            "\n",
            "2- epoch train jarayoni natijalari :\n",
            " 2- epochdagi train loss     -> 0.002\n",
            " 2- epochdagi train accuracy     -> 0.984\n",
            "torch.Size([128, 16, 7, 7])\n",
            "\n",
            " ~~~~~~~~~~~~~~~~~~~~~~~~~~~~~~~~~~~~~~~~~~~~~~~~~~~~~~~~~~\n",
            "\n",
            "2- epoch train jarayoni natijalari :\n",
            " 2- epochdagi train loss     -> 0.002\n",
            " 2- epochdagi train accuracy     -> 0.990\n"
          ]
        },
        {
          "output_type": "stream",
          "name": "stderr",
          "text": [
            "5it [00:00,  8.07it/s]"
          ]
        },
        {
          "output_type": "stream",
          "name": "stdout",
          "text": [
            "torch.Size([128, 16, 7, 7])\n",
            "\n",
            " ~~~~~~~~~~~~~~~~~~~~~~~~~~~~~~~~~~~~~~~~~~~~~~~~~~~~~~~~~~\n",
            "\n",
            "2- epoch train jarayoni natijalari :\n",
            " 2- epochdagi train loss     -> 0.004\n",
            " 2- epochdagi train accuracy     -> 0.986\n",
            "torch.Size([128, 16, 7, 7])\n",
            "\n",
            " ~~~~~~~~~~~~~~~~~~~~~~~~~~~~~~~~~~~~~~~~~~~~~~~~~~~~~~~~~~\n",
            "\n",
            "2- epoch train jarayoni natijalari :\n",
            " 2- epochdagi train loss     -> 0.004\n",
            " 2- epochdagi train accuracy     -> 0.989\n",
            "torch.Size([128, 16, 7, 7])\n"
          ]
        },
        {
          "output_type": "stream",
          "name": "stderr",
          "text": [
            "9it [00:00, 12.29it/s]"
          ]
        },
        {
          "output_type": "stream",
          "name": "stdout",
          "text": [
            "\n",
            " ~~~~~~~~~~~~~~~~~~~~~~~~~~~~~~~~~~~~~~~~~~~~~~~~~~~~~~~~~~\n",
            "\n",
            "2- epoch train jarayoni natijalari :\n",
            " 2- epochdagi train loss     -> 0.005\n",
            " 2- epochdagi train accuracy     -> 0.988\n",
            "torch.Size([128, 16, 7, 7])\n",
            "\n",
            " ~~~~~~~~~~~~~~~~~~~~~~~~~~~~~~~~~~~~~~~~~~~~~~~~~~~~~~~~~~\n",
            "\n",
            "2- epoch train jarayoni natijalari :\n",
            " 2- epochdagi train loss     -> 0.006\n",
            " 2- epochdagi train accuracy     -> 0.985\n",
            "torch.Size([128, 16, 7, 7])\n",
            "\n",
            " ~~~~~~~~~~~~~~~~~~~~~~~~~~~~~~~~~~~~~~~~~~~~~~~~~~~~~~~~~~\n",
            "\n",
            "2- epoch train jarayoni natijalari :\n",
            " 2- epochdagi train loss     -> 0.008\n",
            " 2- epochdagi train accuracy     -> 0.983\n",
            "torch.Size([128, 16, 7, 7])\n",
            "\n",
            " ~~~~~~~~~~~~~~~~~~~~~~~~~~~~~~~~~~~~~~~~~~~~~~~~~~~~~~~~~~\n",
            "\n",
            "2- epoch train jarayoni natijalari :\n",
            " 2- epochdagi train loss     -> 0.009\n",
            " 2- epochdagi train accuracy     -> 0.984\n"
          ]
        },
        {
          "output_type": "stream",
          "name": "stderr",
          "text": [
            "13it [00:01, 14.04it/s]"
          ]
        },
        {
          "output_type": "stream",
          "name": "stdout",
          "text": [
            "torch.Size([128, 16, 7, 7])\n",
            "\n",
            " ~~~~~~~~~~~~~~~~~~~~~~~~~~~~~~~~~~~~~~~~~~~~~~~~~~~~~~~~~~\n",
            "\n",
            "2- epoch train jarayoni natijalari :\n",
            " 2- epochdagi train loss     -> 0.009\n",
            " 2- epochdagi train accuracy     -> 0.984\n",
            "torch.Size([128, 16, 7, 7])\n",
            "\n",
            " ~~~~~~~~~~~~~~~~~~~~~~~~~~~~~~~~~~~~~~~~~~~~~~~~~~~~~~~~~~\n",
            "\n",
            "2- epoch train jarayoni natijalari :\n",
            " 2- epochdagi train loss     -> 0.010\n",
            " 2- epochdagi train accuracy     -> 0.985\n",
            "torch.Size([128, 16, 7, 7])\n",
            "\n",
            " ~~~~~~~~~~~~~~~~~~~~~~~~~~~~~~~~~~~~~~~~~~~~~~~~~~~~~~~~~~\n",
            "\n",
            "2- epoch train jarayoni natijalari :\n",
            " 2- epochdagi train loss     -> 0.010\n",
            " 2- epochdagi train accuracy     -> 0.986\n",
            "torch.Size([128, 16, 7, 7])\n",
            "\n",
            " ~~~~~~~~~~~~~~~~~~~~~~~~~~~~~~~~~~~~~~~~~~~~~~~~~~~~~~~~~~\n",
            "\n",
            "2- epoch train jarayoni natijalari :\n",
            " 2- epochdagi train loss     -> 0.012\n",
            " 2- epochdagi train accuracy     -> 0.985\n"
          ]
        },
        {
          "output_type": "stream",
          "name": "stderr",
          "text": [
            "17it [00:01, 15.96it/s]"
          ]
        },
        {
          "output_type": "stream",
          "name": "stdout",
          "text": [
            "torch.Size([128, 16, 7, 7])\n",
            "\n",
            " ~~~~~~~~~~~~~~~~~~~~~~~~~~~~~~~~~~~~~~~~~~~~~~~~~~~~~~~~~~\n",
            "\n",
            "2- epoch train jarayoni natijalari :\n",
            " 2- epochdagi train loss     -> 0.013\n",
            " 2- epochdagi train accuracy     -> 0.985\n",
            "torch.Size([128, 16, 7, 7])\n",
            "\n",
            " ~~~~~~~~~~~~~~~~~~~~~~~~~~~~~~~~~~~~~~~~~~~~~~~~~~~~~~~~~~\n",
            "\n",
            "2- epoch train jarayoni natijalari :\n",
            " 2- epochdagi train loss     -> 0.014\n",
            " 2- epochdagi train accuracy     -> 0.984\n",
            "torch.Size([128, 16, 7, 7])\n",
            "\n",
            " ~~~~~~~~~~~~~~~~~~~~~~~~~~~~~~~~~~~~~~~~~~~~~~~~~~~~~~~~~~\n",
            "\n",
            "2- epoch train jarayoni natijalari :\n",
            " 2- epochdagi train loss     -> 0.015\n",
            " 2- epochdagi train accuracy     -> 0.985\n",
            "torch.Size([128, 16, 7, 7])\n",
            "\n",
            " ~~~~~~~~~~~~~~~~~~~~~~~~~~~~~~~~~~~~~~~~~~~~~~~~~~~~~~~~~~\n",
            "\n",
            "2- epoch train jarayoni natijalari :\n",
            " 2- epochdagi train loss     -> 0.016\n",
            " 2- epochdagi train accuracy     -> 0.985\n"
          ]
        },
        {
          "output_type": "stream",
          "name": "stderr",
          "text": [
            "21it [00:01, 17.42it/s]"
          ]
        },
        {
          "output_type": "stream",
          "name": "stdout",
          "text": [
            "torch.Size([128, 16, 7, 7])\n",
            "\n",
            " ~~~~~~~~~~~~~~~~~~~~~~~~~~~~~~~~~~~~~~~~~~~~~~~~~~~~~~~~~~\n",
            "\n",
            "2- epoch train jarayoni natijalari :\n",
            " 2- epochdagi train loss     -> 0.019\n",
            " 2- epochdagi train accuracy     -> 0.984\n",
            "torch.Size([128, 16, 7, 7])\n",
            "\n",
            " ~~~~~~~~~~~~~~~~~~~~~~~~~~~~~~~~~~~~~~~~~~~~~~~~~~~~~~~~~~\n",
            "\n",
            "2- epoch train jarayoni natijalari :\n",
            " 2- epochdagi train loss     -> 0.020\n",
            " 2- epochdagi train accuracy     -> 0.983\n",
            "torch.Size([128, 16, 7, 7])\n",
            "\n",
            " ~~~~~~~~~~~~~~~~~~~~~~~~~~~~~~~~~~~~~~~~~~~~~~~~~~~~~~~~~~\n",
            "\n",
            "2- epoch train jarayoni natijalari :\n",
            " 2- epochdagi train loss     -> 0.022\n",
            " 2- epochdagi train accuracy     -> 0.982\n",
            "torch.Size([128, 16, 7, 7])\n",
            "\n",
            " ~~~~~~~~~~~~~~~~~~~~~~~~~~~~~~~~~~~~~~~~~~~~~~~~~~~~~~~~~~\n",
            "\n",
            "2- epoch train jarayoni natijalari :\n",
            " 2- epochdagi train loss     -> 0.023\n",
            " 2- epochdagi train accuracy     -> 0.983\n"
          ]
        },
        {
          "output_type": "stream",
          "name": "stderr",
          "text": [
            "26it [00:01, 18.84it/s]"
          ]
        },
        {
          "output_type": "stream",
          "name": "stdout",
          "text": [
            "torch.Size([128, 16, 7, 7])\n",
            "\n",
            " ~~~~~~~~~~~~~~~~~~~~~~~~~~~~~~~~~~~~~~~~~~~~~~~~~~~~~~~~~~\n",
            "\n",
            "2- epoch train jarayoni natijalari :\n",
            " 2- epochdagi train loss     -> 0.023\n",
            " 2- epochdagi train accuracy     -> 0.983\n",
            "torch.Size([128, 16, 7, 7])\n",
            "\n",
            " ~~~~~~~~~~~~~~~~~~~~~~~~~~~~~~~~~~~~~~~~~~~~~~~~~~~~~~~~~~\n",
            "\n",
            "2- epoch train jarayoni natijalari :\n",
            " 2- epochdagi train loss     -> 0.025\n",
            " 2- epochdagi train accuracy     -> 0.983\n",
            "torch.Size([128, 16, 7, 7])\n",
            "\n",
            " ~~~~~~~~~~~~~~~~~~~~~~~~~~~~~~~~~~~~~~~~~~~~~~~~~~~~~~~~~~\n",
            "\n",
            "2- epoch train jarayoni natijalari :\n",
            " 2- epochdagi train loss     -> 0.027\n",
            " 2- epochdagi train accuracy     -> 0.983\n",
            "torch.Size([128, 16, 7, 7])\n",
            "\n",
            " ~~~~~~~~~~~~~~~~~~~~~~~~~~~~~~~~~~~~~~~~~~~~~~~~~~~~~~~~~~\n",
            "\n",
            "2- epoch train jarayoni natijalari :\n",
            " 2- epochdagi train loss     -> 0.029\n",
            " 2- epochdagi train accuracy     -> 0.983\n",
            "torch.Size([128, 16, 7, 7])\n",
            "\n",
            " ~~~~~~~~~~~~~~~~~~~~~~~~~~~~~~~~~~~~~~~~~~~~~~~~~~~~~~~~~~\n",
            "\n",
            "2- epoch train jarayoni natijalari :\n",
            " 2- epochdagi train loss     -> 0.031\n",
            " 2- epochdagi train accuracy     -> 0.982\n"
          ]
        },
        {
          "output_type": "stream",
          "name": "stderr",
          "text": [
            "\r28it [00:02, 17.04it/s]"
          ]
        },
        {
          "output_type": "stream",
          "name": "stdout",
          "text": [
            "torch.Size([128, 16, 7, 7])\n",
            "\n",
            " ~~~~~~~~~~~~~~~~~~~~~~~~~~~~~~~~~~~~~~~~~~~~~~~~~~~~~~~~~~\n",
            "\n",
            "2- epoch train jarayoni natijalari :\n",
            " 2- epochdagi train loss     -> 0.033\n",
            " 2- epochdagi train accuracy     -> 0.981\n",
            "torch.Size([128, 16, 7, 7])\n",
            "\n",
            " ~~~~~~~~~~~~~~~~~~~~~~~~~~~~~~~~~~~~~~~~~~~~~~~~~~~~~~~~~~\n",
            "\n",
            "2- epoch train jarayoni natijalari :\n",
            " 2- epochdagi train loss     -> 0.035\n",
            " 2- epochdagi train accuracy     -> 0.981\n",
            "torch.Size([128, 16, 7, 7])\n",
            "\n",
            " ~~~~~~~~~~~~~~~~~~~~~~~~~~~~~~~~~~~~~~~~~~~~~~~~~~~~~~~~~~\n",
            "\n",
            "2- epoch train jarayoni natijalari :\n",
            " 2- epochdagi train loss     -> 0.039\n",
            " 2- epochdagi train accuracy     -> 0.980\n"
          ]
        },
        {
          "output_type": "stream",
          "name": "stderr",
          "text": [
            "32it [00:02, 16.61it/s]"
          ]
        },
        {
          "output_type": "stream",
          "name": "stdout",
          "text": [
            "torch.Size([128, 16, 7, 7])\n",
            "\n",
            " ~~~~~~~~~~~~~~~~~~~~~~~~~~~~~~~~~~~~~~~~~~~~~~~~~~~~~~~~~~\n",
            "\n",
            "2- epoch train jarayoni natijalari :\n",
            " 2- epochdagi train loss     -> 0.040\n",
            " 2- epochdagi train accuracy     -> 0.980\n",
            "torch.Size([128, 16, 7, 7])\n",
            "\n",
            " ~~~~~~~~~~~~~~~~~~~~~~~~~~~~~~~~~~~~~~~~~~~~~~~~~~~~~~~~~~\n",
            "\n",
            "2- epoch train jarayoni natijalari :\n",
            " 2- epochdagi train loss     -> 0.041\n",
            " 2- epochdagi train accuracy     -> 0.980\n",
            "torch.Size([128, 16, 7, 7])\n",
            "\n",
            " ~~~~~~~~~~~~~~~~~~~~~~~~~~~~~~~~~~~~~~~~~~~~~~~~~~~~~~~~~~\n",
            "\n",
            "2- epoch train jarayoni natijalari :\n",
            " 2- epochdagi train loss     -> 0.041\n",
            " 2- epochdagi train accuracy     -> 0.981\n",
            "torch.Size([128, 16, 7, 7])\n",
            "\n",
            " ~~~~~~~~~~~~~~~~~~~~~~~~~~~~~~~~~~~~~~~~~~~~~~~~~~~~~~~~~~\n",
            "\n",
            "2- epoch train jarayoni natijalari :\n",
            " 2- epochdagi train loss     -> 0.042\n",
            " 2- epochdagi train accuracy     -> 0.981\n"
          ]
        },
        {
          "output_type": "stream",
          "name": "stderr",
          "text": [
            "37it [00:02, 17.41it/s]"
          ]
        },
        {
          "output_type": "stream",
          "name": "stdout",
          "text": [
            "torch.Size([128, 16, 7, 7])\n",
            "\n",
            " ~~~~~~~~~~~~~~~~~~~~~~~~~~~~~~~~~~~~~~~~~~~~~~~~~~~~~~~~~~\n",
            "\n",
            "2- epoch train jarayoni natijalari :\n",
            " 2- epochdagi train loss     -> 0.044\n",
            " 2- epochdagi train accuracy     -> 0.981\n",
            "torch.Size([128, 16, 7, 7])\n",
            "\n",
            " ~~~~~~~~~~~~~~~~~~~~~~~~~~~~~~~~~~~~~~~~~~~~~~~~~~~~~~~~~~\n",
            "\n",
            "2- epoch train jarayoni natijalari :\n",
            " 2- epochdagi train loss     -> 0.044\n",
            " 2- epochdagi train accuracy     -> 0.981\n",
            "torch.Size([128, 16, 7, 7])\n",
            "\n",
            " ~~~~~~~~~~~~~~~~~~~~~~~~~~~~~~~~~~~~~~~~~~~~~~~~~~~~~~~~~~\n",
            "\n",
            "2- epoch train jarayoni natijalari :\n",
            " 2- epochdagi train loss     -> 0.048\n",
            " 2- epochdagi train accuracy     -> 0.981\n",
            "torch.Size([128, 16, 7, 7])\n",
            "\n",
            " ~~~~~~~~~~~~~~~~~~~~~~~~~~~~~~~~~~~~~~~~~~~~~~~~~~~~~~~~~~\n",
            "\n",
            "2- epoch train jarayoni natijalari :\n",
            " 2- epochdagi train loss     -> 0.048\n",
            " 2- epochdagi train accuracy     -> 0.981\n"
          ]
        },
        {
          "output_type": "stream",
          "name": "stderr",
          "text": [
            "43it [00:02, 22.45it/s]"
          ]
        },
        {
          "output_type": "stream",
          "name": "stdout",
          "text": [
            "torch.Size([128, 16, 7, 7])\n",
            "\n",
            " ~~~~~~~~~~~~~~~~~~~~~~~~~~~~~~~~~~~~~~~~~~~~~~~~~~~~~~~~~~\n",
            "\n",
            "2- epoch train jarayoni natijalari :\n",
            " 2- epochdagi train loss     -> 0.050\n",
            " 2- epochdagi train accuracy     -> 0.981\n",
            "torch.Size([128, 16, 7, 7])\n",
            "\n",
            " ~~~~~~~~~~~~~~~~~~~~~~~~~~~~~~~~~~~~~~~~~~~~~~~~~~~~~~~~~~\n",
            "\n",
            "2- epoch train jarayoni natijalari :\n",
            " 2- epochdagi train loss     -> 0.051\n",
            " 2- epochdagi train accuracy     -> 0.981\n",
            "torch.Size([128, 16, 7, 7])\n",
            "\n",
            " ~~~~~~~~~~~~~~~~~~~~~~~~~~~~~~~~~~~~~~~~~~~~~~~~~~~~~~~~~~\n",
            "\n",
            "2- epoch train jarayoni natijalari :\n",
            " 2- epochdagi train loss     -> 0.052\n",
            " 2- epochdagi train accuracy     -> 0.981\n",
            "torch.Size([128, 16, 7, 7])\n",
            "\n",
            " ~~~~~~~~~~~~~~~~~~~~~~~~~~~~~~~~~~~~~~~~~~~~~~~~~~~~~~~~~~\n",
            "\n",
            "2- epoch train jarayoni natijalari :\n",
            " 2- epochdagi train loss     -> 0.053\n",
            " 2- epochdagi train accuracy     -> 0.981\n",
            "torch.Size([128, 16, 7, 7])\n",
            "\n",
            " ~~~~~~~~~~~~~~~~~~~~~~~~~~~~~~~~~~~~~~~~~~~~~~~~~~~~~~~~~~\n",
            "\n",
            "2- epoch train jarayoni natijalari :\n",
            " 2- epochdagi train loss     -> 0.053\n",
            " 2- epochdagi train accuracy     -> 0.982\n",
            "torch.Size([128, 16, 7, 7])\n",
            "\n",
            " ~~~~~~~~~~~~~~~~~~~~~~~~~~~~~~~~~~~~~~~~~~~~~~~~~~~~~~~~~~\n",
            "\n",
            "2- epoch train jarayoni natijalari :\n",
            " 2- epochdagi train loss     -> 0.054\n",
            " 2- epochdagi train accuracy     -> 0.981\n",
            "torch.Size([128, 16, 7, 7])\n",
            "\n",
            " ~~~~~~~~~~~~~~~~~~~~~~~~~~~~~~~~~~~~~~~~~~~~~~~~~~~~~~~~~~\n",
            "\n",
            "2- epoch train jarayoni natijalari :\n",
            " 2- epochdagi train loss     -> 0.056\n",
            " 2- epochdagi train accuracy     -> 0.981\n",
            "torch.Size([128, 16, 7, 7])\n",
            "\n",
            " ~~~~~~~~~~~~~~~~~~~~~~~~~~~~~~~~~~~~~~~~~~~~~~~~~~~~~~~~~~\n",
            "\n",
            "2- epoch train jarayoni natijalari :\n",
            " 2- epochdagi train loss     -> 0.056\n",
            " 2- epochdagi train accuracy     -> 0.981\n"
          ]
        },
        {
          "output_type": "stream",
          "name": "stderr",
          "text": [
            "\r47it [00:02, 15.94it/s]"
          ]
        },
        {
          "output_type": "stream",
          "name": "stdout",
          "text": [
            "torch.Size([128, 16, 7, 7])\n",
            "\n",
            " ~~~~~~~~~~~~~~~~~~~~~~~~~~~~~~~~~~~~~~~~~~~~~~~~~~~~~~~~~~\n",
            "\n",
            "2- epoch train jarayoni natijalari :\n",
            " 2- epochdagi train loss     -> 0.058\n",
            " 2- epochdagi train accuracy     -> 0.981\n",
            "torch.Size([112, 16, 7, 7])\n",
            "\n",
            " ~~~~~~~~~~~~~~~~~~~~~~~~~~~~~~~~~~~~~~~~~~~~~~~~~~~~~~~~~~\n",
            "\n",
            "2- epoch train jarayoni natijalari :\n",
            " 2- epochdagi train loss     -> 0.059\n",
            " 2- epochdagi train accuracy     -> 0.981\n"
          ]
        },
        {
          "output_type": "stream",
          "name": "stderr",
          "text": [
            "\n"
          ]
        }
      ]
    },
    {
      "cell_type": "code",
      "source": [
        "rasm, gts = next(iter(test_dl))\n",
        "\n",
        "\n",
        "model.eval ()\n",
        "preds = []\n",
        "images = []\n",
        "lbls = []\n",
        "\n",
        "for rasm, gt in zip(rasm, gts):\n",
        "  rasm, gt = rasm.to(device), gt.to(device)\n",
        "  pred = model(rasm.unsqueeze(0))\n",
        "  pred_class = torch.argmax(pred, dim =1)\n",
        "  images.append(rasm)\n",
        "  lbls.append(gt)\n",
        "  preds.append(pred_class)\n",
        "print(len(preds))\n"
      ],
      "metadata": {
        "colab": {
          "base_uri": "https://localhost:8080/"
        },
        "id": "mDKkZ5EEgTxr",
        "outputId": "c424dcf9-4ea4-4c8c-8d00-4a2205c7f639"
      },
      "execution_count": 28,
      "outputs": [
        {
          "output_type": "stream",
          "name": "stdout",
          "text": [
            "torch.Size([1, 16, 7, 7])\n",
            "torch.Size([1, 16, 7, 7])\n",
            "torch.Size([1, 16, 7, 7])\n",
            "torch.Size([1, 16, 7, 7])\n",
            "torch.Size([1, 16, 7, 7])\n",
            "torch.Size([1, 16, 7, 7])\n",
            "torch.Size([1, 16, 7, 7])\n",
            "torch.Size([1, 16, 7, 7])\n",
            "torch.Size([1, 16, 7, 7])\n",
            "torch.Size([1, 16, 7, 7])\n",
            "torch.Size([1, 16, 7, 7])\n",
            "torch.Size([1, 16, 7, 7])\n",
            "torch.Size([1, 16, 7, 7])\n",
            "torch.Size([1, 16, 7, 7])\n",
            "torch.Size([1, 16, 7, 7])\n",
            "torch.Size([1, 16, 7, 7])\n",
            "torch.Size([1, 16, 7, 7])\n",
            "torch.Size([1, 16, 7, 7])\n",
            "torch.Size([1, 16, 7, 7])\n",
            "torch.Size([1, 16, 7, 7])\n",
            "torch.Size([1, 16, 7, 7])\n",
            "torch.Size([1, 16, 7, 7])\n",
            "torch.Size([1, 16, 7, 7])\n",
            "torch.Size([1, 16, 7, 7])\n",
            "torch.Size([1, 16, 7, 7])\n",
            "torch.Size([1, 16, 7, 7])\n",
            "torch.Size([1, 16, 7, 7])\n",
            "torch.Size([1, 16, 7, 7])\n",
            "torch.Size([1, 16, 7, 7])\n",
            "torch.Size([1, 16, 7, 7])\n",
            "torch.Size([1, 16, 7, 7])\n",
            "torch.Size([1, 16, 7, 7])\n",
            "torch.Size([1, 16, 7, 7])\n",
            "torch.Size([1, 16, 7, 7])\n",
            "torch.Size([1, 16, 7, 7])\n",
            "torch.Size([1, 16, 7, 7])\n",
            "torch.Size([1, 16, 7, 7])\n",
            "torch.Size([1, 16, 7, 7])\n",
            "torch.Size([1, 16, 7, 7])\n",
            "torch.Size([1, 16, 7, 7])\n",
            "torch.Size([1, 16, 7, 7])\n",
            "torch.Size([1, 16, 7, 7])\n",
            "torch.Size([1, 16, 7, 7])\n",
            "torch.Size([1, 16, 7, 7])\n",
            "torch.Size([1, 16, 7, 7])\n",
            "torch.Size([1, 16, 7, 7])\n",
            "torch.Size([1, 16, 7, 7])\n",
            "torch.Size([1, 16, 7, 7])\n",
            "torch.Size([1, 16, 7, 7])\n",
            "torch.Size([1, 16, 7, 7])\n",
            "torch.Size([1, 16, 7, 7])\n",
            "torch.Size([1, 16, 7, 7])\n",
            "torch.Size([1, 16, 7, 7])\n",
            "torch.Size([1, 16, 7, 7])\n",
            "torch.Size([1, 16, 7, 7])\n",
            "torch.Size([1, 16, 7, 7])\n",
            "torch.Size([1, 16, 7, 7])\n",
            "torch.Size([1, 16, 7, 7])\n",
            "torch.Size([1, 16, 7, 7])\n",
            "torch.Size([1, 16, 7, 7])\n",
            "torch.Size([1, 16, 7, 7])\n",
            "torch.Size([1, 16, 7, 7])\n",
            "torch.Size([1, 16, 7, 7])\n",
            "torch.Size([1, 16, 7, 7])\n",
            "torch.Size([1, 16, 7, 7])\n",
            "torch.Size([1, 16, 7, 7])\n",
            "torch.Size([1, 16, 7, 7])\n",
            "torch.Size([1, 16, 7, 7])\n",
            "torch.Size([1, 16, 7, 7])\n",
            "torch.Size([1, 16, 7, 7])\n",
            "torch.Size([1, 16, 7, 7])\n",
            "torch.Size([1, 16, 7, 7])\n",
            "torch.Size([1, 16, 7, 7])\n",
            "torch.Size([1, 16, 7, 7])\n",
            "torch.Size([1, 16, 7, 7])\n",
            "torch.Size([1, 16, 7, 7])\n",
            "torch.Size([1, 16, 7, 7])\n",
            "torch.Size([1, 16, 7, 7])\n",
            "torch.Size([1, 16, 7, 7])\n",
            "torch.Size([1, 16, 7, 7])\n",
            "torch.Size([1, 16, 7, 7])\n",
            "torch.Size([1, 16, 7, 7])\n",
            "torch.Size([1, 16, 7, 7])\n",
            "torch.Size([1, 16, 7, 7])\n",
            "torch.Size([1, 16, 7, 7])\n",
            "torch.Size([1, 16, 7, 7])\n",
            "torch.Size([1, 16, 7, 7])\n",
            "torch.Size([1, 16, 7, 7])\n",
            "torch.Size([1, 16, 7, 7])\n",
            "torch.Size([1, 16, 7, 7])\n",
            "torch.Size([1, 16, 7, 7])\n",
            "torch.Size([1, 16, 7, 7])\n",
            "torch.Size([1, 16, 7, 7])\n",
            "torch.Size([1, 16, 7, 7])\n",
            "torch.Size([1, 16, 7, 7])\n",
            "torch.Size([1, 16, 7, 7])\n",
            "torch.Size([1, 16, 7, 7])\n",
            "torch.Size([1, 16, 7, 7])\n",
            "torch.Size([1, 16, 7, 7])\n",
            "torch.Size([1, 16, 7, 7])\n",
            "torch.Size([1, 16, 7, 7])\n",
            "torch.Size([1, 16, 7, 7])\n",
            "torch.Size([1, 16, 7, 7])\n",
            "torch.Size([1, 16, 7, 7])\n",
            "torch.Size([1, 16, 7, 7])\n",
            "torch.Size([1, 16, 7, 7])\n",
            "torch.Size([1, 16, 7, 7])\n",
            "torch.Size([1, 16, 7, 7])\n",
            "torch.Size([1, 16, 7, 7])\n",
            "torch.Size([1, 16, 7, 7])\n",
            "torch.Size([1, 16, 7, 7])\n",
            "torch.Size([1, 16, 7, 7])\n",
            "torch.Size([1, 16, 7, 7])\n",
            "torch.Size([1, 16, 7, 7])\n",
            "torch.Size([1, 16, 7, 7])\n",
            "torch.Size([1, 16, 7, 7])\n",
            "torch.Size([1, 16, 7, 7])\n",
            "torch.Size([1, 16, 7, 7])\n",
            "torch.Size([1, 16, 7, 7])\n",
            "torch.Size([1, 16, 7, 7])\n",
            "torch.Size([1, 16, 7, 7])\n",
            "torch.Size([1, 16, 7, 7])\n",
            "torch.Size([1, 16, 7, 7])\n",
            "torch.Size([1, 16, 7, 7])\n",
            "torch.Size([1, 16, 7, 7])\n",
            "torch.Size([1, 16, 7, 7])\n",
            "torch.Size([1, 16, 7, 7])\n",
            "torch.Size([1, 16, 7, 7])\n",
            "128\n"
          ]
        }
      ]
    },
    {
      "cell_type": "code",
      "source": [
        "!pip install matplotlib\n",
        "import matplotlib.pyplot as plt\n",
        "\n"
      ],
      "metadata": {
        "colab": {
          "base_uri": "https://localhost:8080/"
        },
        "id": "j3JC0YCG1tuR",
        "outputId": "2323fcbf-9cfd-4d3f-93a7-1eb29e265571"
      },
      "execution_count": 29,
      "outputs": [
        {
          "output_type": "stream",
          "name": "stdout",
          "text": [
            "Requirement already satisfied: matplotlib in /usr/local/lib/python3.10/dist-packages (3.7.1)\n",
            "Requirement already satisfied: contourpy>=1.0.1 in /usr/local/lib/python3.10/dist-packages (from matplotlib) (1.1.1)\n",
            "Requirement already satisfied: cycler>=0.10 in /usr/local/lib/python3.10/dist-packages (from matplotlib) (0.12.1)\n",
            "Requirement already satisfied: fonttools>=4.22.0 in /usr/local/lib/python3.10/dist-packages (from matplotlib) (4.43.1)\n",
            "Requirement already satisfied: kiwisolver>=1.0.1 in /usr/local/lib/python3.10/dist-packages (from matplotlib) (1.4.5)\n",
            "Requirement already satisfied: numpy>=1.20 in /usr/local/lib/python3.10/dist-packages (from matplotlib) (1.23.5)\n",
            "Requirement already satisfied: packaging>=20.0 in /usr/local/lib/python3.10/dist-packages (from matplotlib) (23.2)\n",
            "Requirement already satisfied: pillow>=6.2.0 in /usr/local/lib/python3.10/dist-packages (from matplotlib) (9.4.0)\n",
            "Requirement already satisfied: pyparsing>=2.3.1 in /usr/local/lib/python3.10/dist-packages (from matplotlib) (3.1.1)\n",
            "Requirement already satisfied: python-dateutil>=2.7 in /usr/local/lib/python3.10/dist-packages (from matplotlib) (2.8.2)\n",
            "Requirement already satisfied: six>=1.5 in /usr/local/lib/python3.10/dist-packages (from python-dateutil>=2.7->matplotlib) (1.16.0)\n"
          ]
        }
      ]
    },
    {
      "cell_type": "code",
      "source": [
        "import matplotlib.pyplot as plt"
      ],
      "metadata": {
        "id": "7AZa2RFmBjeJ"
      },
      "execution_count": 30,
      "outputs": []
    },
    {
      "cell_type": "code",
      "source": [
        "\n",
        "import random\n",
        "def tensor_2_im(t, t_type = \"rgb\"):\n",
        "\n",
        "\n",
        "    gray_tfs = tfs.Compose([tfs.Normalize(mean = [  0., 0., 0. ], std = [1/0.5, 1/0.5, 1/0.5]), tfs.Normalize(mean = [-0.5, -0.5, -0.5], std = [1, 1, 1])])\n",
        "    rgb_tfs = tfs.Compose([tfs.Normalize(mean = [ 0., 0., 0. ], std = [ 1/0.229, 1/0.224, 1/0.225 ]), tfs.Normalize(mean = [ -0.485, -0.456, -0.406 ], std = [ 1., 1., 1. ])])\n",
        "\n",
        "    invTrans = gray_tfs if t_type == \"gray\" else rgb_tfs\n",
        "\n",
        "    return (invTrans(t) * 255).detach().cpu().permute(1,2,0).numpy().astype(np.uint8) if t_type == \"gray\" else (invTrans(t) * 255).detach().cpu().permute(1,2,0).numpy().astype(np.uint8)\n",
        "num_rasms, row =25, 5\n",
        "\n",
        "plt.figure(figsize = (20, 10))\n",
        "indekslar = [ random.randint(0, len(images) -1 ) for _ in range (num_rasms)]\n",
        "\n",
        "for idx , indeks in enumerate (indekslar):\n",
        "  rasm=images[indeks]\n",
        "  gt=lbls[indeks]\n",
        "  pred=preds[indeks]\n",
        "\n",
        "  plt.subplot(row, num_rasms // row, idx + 1)\n",
        "  plt.imshow(tensor_2_im(rasm, t_type = \"gray\"))\n",
        "  plt.axis(\"off\")\n",
        "  plt.title(f\"GT -> {gt} | Pred - > {pred.item()}\")"
      ],
      "metadata": {
        "colab": {
          "base_uri": "https://localhost:8080/",
          "height": 729
        },
        "id": "CTqnocdmkrcU",
        "outputId": "7adad278-9ad4-4e3b-920d-7853796cf9c4"
      },
      "execution_count": 31,
      "outputs": [
        {
          "output_type": "display_data",
          "data": {
            "text/plain": [
              "<Figure size 2000x1000 with 25 Axes>"
            ],
            "image/png": "[encoded data removed]"
          },
          "metadata": {}
        }
      ]
    },
    {
      "cell_type": "code",
      "source": [
        "from PIL import Image\n",
        "\n",
        "rasm = Image.open(\"1.png\")\n",
        "test_ts = tfs.Compose([tfs.Resize((28,28)),\n",
        "    tfs.Grayscale(num_output_channels=3),\n",
        "                       tfs.ToTensor(),\n",
        "                       tfs.Normalize(0.5, 0.5)])\n",
        "tensor_im = test_ts(rasm)\n",
        "tensor_im.shape"
      ],
      "metadata": {
        "colab": {
          "base_uri": "https://localhost:8080/"
        },
        "id": "IxjiO-Msz1qC",
        "outputId": "6bad20e3-8ffb-4fb7-9928-b02c56a3ede0"
      },
      "execution_count": 32,
      "outputs": [
        {
          "output_type": "execute_result",
          "data": {
            "text/plain": [
              "torch.Size([3, 28, 28])"
            ]
          },
          "metadata": {},
          "execution_count": 32
        }
      ]
    },
    {
      "cell_type": "code",
      "source": [
        "pred = model(tensor_im.unsqueeze(dim=0))\n",
        "pred_class = torch.argmax(pred, dim = 1)\n",
        "plt.imshow(tensor_2_im(tensor_im, t_type= \"rgb\"))\n",
        "plt.axis('off')\n",
        "plt.title(f\"Pred - > {pred_class.item()}\")"
      ],
      "metadata": {
        "colab": {
          "base_uri": "https://localhost:8080/",
          "height": 463
        },
        "id": "-OEcfuXBfkVb",
        "outputId": "362c8470-f8c5-448b-a625-6bc5bd16045e"
      },
      "execution_count": 34,
      "outputs": [
        {
          "output_type": "stream",
          "name": "stdout",
          "text": [
            "torch.Size([1, 16, 7, 7])\n"
          ]
        },
        {
          "output_type": "execute_result",
          "data": {
            "text/plain": [
              "Text(0.5, 1.0, 'Pred - > 7')"
            ]
          },
          "metadata": {},
          "execution_count": 34
        },
        {
          "output_type": "display_data",
          "data": {
            "text/plain": [
              "<Figure size 640x480 with 1 Axes>"
            ],
            "image/png": "[encoded data removed]"
          },
          "metadata": {}
        }
      ]
    },
    {
      "cell_type": "code",
      "source": [
        "from PIL import Image\n",
        "\n",
        "rasm = Image.open(\"5.png\")\n",
        "test_ts = tfs.Compose([tfs.Resize((28,28)),\n",
        "    tfs.Grayscale(num_output_channels=3),\n",
        "                       tfs.ToTensor(),\n",
        "                       tfs.Normalize(0.5, 0.5)])\n",
        "tensor_im = test_ts(rasm)\n",
        "tensor_im.shape"
      ],
      "metadata": {
        "colab": {
          "base_uri": "https://localhost:8080/"
        },
        "id": "X-L_OkHDgQPA",
        "outputId": "c71dc706-63b9-45dc-98d6-17289f8eb820"
      },
      "execution_count": 35,
      "outputs": [
        {
          "output_type": "execute_result",
          "data": {
            "text/plain": [
              "torch.Size([3, 28, 28])"
            ]
          },
          "metadata": {},
          "execution_count": 35
        }
      ]
    },
    {
      "cell_type": "code",
      "source": [
        "pred = model(tensor_im.unsqueeze(dim=0))\n",
        "pred_class = torch.argmax(pred, dim = 1)\n",
        "plt.imshow(tensor_2_im(tensor_im, t_type= \"gray\"))\n",
        "plt.axis('off')\n",
        "plt.title(f\"Pred - > {pred_class.item()}\")"
      ],
      "metadata": {
        "colab": {
          "base_uri": "https://localhost:8080/",
          "height": 463
        },
        "id": "Y8Qfv0nzr2Ex",
        "outputId": "e7ba01a8-7a84-4b70-c445-e1973978ef98"
      },
      "execution_count": 37,
      "outputs": [
        {
          "output_type": "stream",
          "name": "stdout",
          "text": [
            "torch.Size([1, 16, 7, 7])\n"
          ]
        },
        {
          "output_type": "execute_result",
          "data": {
            "text/plain": [
              "Text(0.5, 1.0, 'Pred - > 9')"
            ]
          },
          "metadata": {},
          "execution_count": 37
        },
        {
          "output_type": "display_data",
          "data": {
            "text/plain": [
              "<Figure size 640x480 with 1 Axes>"
            ],
            "image/png": "[encoded data removed]"
          },
          "metadata": {}
        }
      ]
    },
    {
      "cell_type": "code",
      "source": [
        "from PIL import Image\n",
        "\n",
        "rasm = Image.open(\"77.jpg\")\n",
        "test_ts = tfs.Compose([tfs.Resize((28,28)),\n",
        "    tfs.Grayscale(num_output_channels=3),\n",
        "                       tfs.ToTensor(),\n",
        "                       tfs.Normalize(0.5, 0.5)])\n",
        "tensor_im = test_ts(rasm)\n",
        "tensor_im.shape"
      ],
      "metadata": {
        "colab": {
          "base_uri": "https://localhost:8080/"
        },
        "id": "dm4wUcQqr9J1",
        "outputId": "cc5abe93-a0a5-4b4f-bfa6-28fbab4beaab"
      },
      "execution_count": 39,
      "outputs": [
        {
          "output_type": "execute_result",
          "data": {
            "text/plain": [
              "torch.Size([3, 28, 28])"
            ]
          },
          "metadata": {},
          "execution_count": 39
        }
      ]
    },
    {
      "cell_type": "code",
      "source": [
        "pred = model(tensor_im.unsqueeze(dim=0))\n",
        "pred_class = torch.argmax(pred, dim = 1)\n",
        "plt.imshow(tensor_2_im(tensor_im, t_type= \"gray\"))\n",
        "plt.axis('off')\n",
        "plt.title(f\"Pred - > {pred_class.item()}\")"
      ],
      "metadata": {
        "colab": {
          "base_uri": "https://localhost:8080/",
          "height": 463
        },
        "id": "Yb7jKWdIsClO",
        "outputId": "4c099f4b-92ab-46a4-e40d-9eb4cf36aa88"
      },
      "execution_count": 40,
      "outputs": [
        {
          "output_type": "stream",
          "name": "stdout",
          "text": [
            "torch.Size([1, 16, 7, 7])\n"
          ]
        },
        {
          "output_type": "execute_result",
          "data": {
            "text/plain": [
              "Text(0.5, 1.0, 'Pred - > 7')"
            ]
          },
          "metadata": {},
          "execution_count": 40
        },
        {
          "output_type": "display_data",
          "data": {
            "text/plain": [
              "<Figure size 640x480 with 1 Axes>"
            ],
            "image/png": "[encoded data removed]"
          },
          "metadata": {}
        }
      ]
    },
    {
      "cell_type": "code",
      "source": [
        "from PIL import Image\n",
        "\n",
        "rasm = Image.open(\"5-raqam.jpg\")\n",
        "test_ts = tfs.Compose([tfs.Resize((28,28)),\n",
        "    tfs.Grayscale(num_output_channels=3),\n",
        "                       tfs.ToTensor(),\n",
        "                       tfs.Normalize(0.5, 0.5)])\n",
        "tensor_im = test_ts(rasm)\n",
        "tensor_im.shape"
      ],
      "metadata": {
        "colab": {
          "base_uri": "https://localhost:8080/"
        },
        "id": "AvqeORKcxAAu",
        "outputId": "3c4c4b81-9044-444e-b7c0-935d3b65898d"
      },
      "execution_count": 42,
      "outputs": [
        {
          "output_type": "execute_result",
          "data": {
            "text/plain": [
              "torch.Size([3, 28, 28])"
            ]
          },
          "metadata": {},
          "execution_count": 42
        }
      ]
    },
    {
      "cell_type": "code",
      "source": [
        "pred = model(tensor_im.unsqueeze(dim=0))\n",
        "pred_class = torch.argmax(pred, dim = 1)\n",
        "plt.imshow(tensor_2_im(tensor_im, t_type= \"gray\"))\n",
        "plt.axis('off')\n",
        "plt.title(f\"Pred - > {pred_class.item()}\")"
      ],
      "metadata": {
        "colab": {
          "base_uri": "https://localhost:8080/",
          "height": 463
        },
        "id": "WI71cLKfxEzE",
        "outputId": "ab5209ec-26de-4b8a-d45a-a2db381430fc"
      },
      "execution_count": 43,
      "outputs": [
        {
          "output_type": "stream",
          "name": "stdout",
          "text": [
            "torch.Size([1, 16, 7, 7])\n"
          ]
        },
        {
          "output_type": "execute_result",
          "data": {
            "text/plain": [
              "Text(0.5, 1.0, 'Pred - > 8')"
            ]
          },
          "metadata": {},
          "execution_count": 43
        },
        {
          "output_type": "display_data",
          "data": {
            "text/plain": [
              "<Figure size 640x480 with 1 Axes>"
            ],
            "image/png": "[encoded data removed]"
          },
          "metadata": {}
        }
      ]
    },
    {
      "cell_type": "code",
      "source": [
        "from PIL import Image\n",
        "\n",
        "rasm = Image.open(\"1.png\")\n",
        "test_ts = tfs.Compose([tfs.Resize((28,28)),\n",
        "    tfs.Grayscale(num_output_channels=3),\n",
        "                       tfs.ToTensor(),\n",
        "                       tfs.Normalize(0.5, 0.5)])\n",
        "tensor_im = test_ts(rasm)\n",
        "tensor_im.shape"
      ],
      "metadata": {
        "colab": {
          "base_uri": "https://localhost:8080/"
        },
        "id": "HxW1QQB3xWQy",
        "outputId": "e8380305-2806-4c4e-80de-97f2779c160d"
      },
      "execution_count": 45,
      "outputs": [
        {
          "output_type": "execute_result",
          "data": {
            "text/plain": [
              "torch.Size([3, 28, 28])"
            ]
          },
          "metadata": {},
          "execution_count": 45
        }
      ]
    },
    {
      "cell_type": "code",
      "source": [
        "pred = model(tensor_im.unsqueeze(dim=0))\n",
        "pred_class = torch.argmax(pred, dim = 1)\n",
        "plt.imshow(tensor_2_im(tensor_im, t_type= \"gray\"))\n",
        "plt.axis('off')\n",
        "plt.title(f\"Pred - > {pred_class.item()}\")"
      ],
      "metadata": {
        "colab": {
          "base_uri": "https://localhost:8080/",
          "height": 463
        },
        "id": "kcNeMC5fxXwQ",
        "outputId": "27ea5b6c-0d72-4667-b7e1-c649c492ef1f"
      },
      "execution_count": 46,
      "outputs": [
        {
          "output_type": "stream",
          "name": "stdout",
          "text": [
            "torch.Size([1, 16, 7, 7])\n"
          ]
        },
        {
          "output_type": "execute_result",
          "data": {
            "text/plain": [
              "Text(0.5, 1.0, 'Pred - > 7')"
            ]
          },
          "metadata": {},
          "execution_count": 46
        },
        {
          "output_type": "display_data",
          "data": {
            "text/plain": [
              "<Figure size 640x480 with 1 Axes>"
            ],
            "image/png": "[encoded data removed]"
          },
          "metadata": {}
        }
      ]
    }
  ]
}